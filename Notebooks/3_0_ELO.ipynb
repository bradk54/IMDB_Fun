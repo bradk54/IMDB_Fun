{
 "cells": [
  {
   "cell_type": "markdown",
   "metadata": {},
   "source": [
    "# Load and Cleaning Data"
   ]
  },
  {
   "cell_type": "code",
   "execution_count": 1,
   "metadata": {},
   "outputs": [],
   "source": [
    "\n",
    "import pandas as pd\n",
    "import polars as pl\n",
    "import gzip\n",
    "import pyarrow\n",
    "import sys\n",
    "from pathlib import Path\n",
    "from tqdm import tqdm\n",
    "import os\n",
    "\n",
    "\n",
    "import matplotlib.pyplot as plt\n",
    "import seaborn as sns\n",
    "import sys\n",
    "from pathlib import Path\n",
    "\n",
    "# Add the `src` folder to Python's search path\n",
    "src_path = \"/Users/bradkittrell/Projects/imdb/IMDB_Fun/src\"\n",
    "sys.path.append(src_path)\n",
    "# load local src modules\n",
    "# TODO to do create an import python file to load and create requirements"
   ]
  },
  {
   "cell_type": "markdown",
   "metadata": {},
   "source": [
    "## Load Individual datasets "
   ]
  },
  {
   "cell_type": "markdown",
   "metadata": {},
   "source": [
    "### Load and quick clean / basic explore title.crew.tsv"
   ]
  },
  {
   "cell_type": "code",
   "execution_count": 2,
   "metadata": {},
   "outputs": [],
   "source": [
    "from data import generate_dataset\n",
    "from features import build_features\n",
    "import json\n",
    "\n",
    "# Load the JSON file\n",
    "with open(\"/Users/bradkittrell/Projects/imdb/IMDB_Fun/src/data/api_keys.json\", \"r\") as json_file:\n",
    "    config = json.load(json_file)\n",
    "\n",
    "omdb_key = config['OMDB_API_KEY']"
   ]
  },
  {
   "cell_type": "code",
   "execution_count": 3,
   "metadata": {},
   "outputs": [
    {
     "name": "stderr",
     "output_type": "stream",
     "text": [
      "INFO:root:No path provided. Using default path: /Users/bradkittrell/Projects/imdb/IMDB_Fun/Data/processed/name.parquet\n",
      "INFO:root:Successfully loaded data from /Users/bradkittrell/Projects/imdb/IMDB_Fun/Data/processed/name.parquet\n",
      "INFO:root:Filtered names data to include only rows where birthYear > 1899\n",
      "INFO:root:Dropped __index_level_0__ column\n",
      "INFO:root:No path provided. Using default path: /Users/bradkittrell/Projects/imdb/IMDB_Fun/Data/processed/title_crew.parquet\n",
      "INFO:root:Successfully loaded data from /Users/bradkittrell/Projects/imdb/IMDB_Fun/Data/processed/title_crew.parquet\n",
      "INFO:root:No path provided. Using default path: /Users/bradkittrell/Projects/imdb/IMDB_Fun/Data/processed/title_basics_movies.parquet\n",
      "INFO:root:Successfully loaded data from /Users/bradkittrell/Projects/imdb/IMDB_Fun/Data/processed/title_basics_movies.parquet\n",
      "INFO:root:Dropped __index_level_0__ column\n",
      "INFO:root:No path provided. Using default path: /Users/bradkittrell/Projects/imdb/IMDB_Fun/Data/processed/title_basics_movies.parquet\n",
      "INFO:root:Successfully loaded data from /Users/bradkittrell/Projects/imdb/IMDB_Fun/Data/processed/title_basics_movies.parquet\n",
      "INFO:root:Dropped __index_level_0__ column\n",
      "INFO:root:No path provided. Using default path: /Users/bradkittrell/Projects/imdb/IMDB_Fun/Data/processed/title_crew.parquet\n",
      "INFO:root:Successfully loaded data from /Users/bradkittrell/Projects/imdb/IMDB_Fun/Data/processed/title_crew.parquet\n"
     ]
    },
    {
     "data": {
      "text/html": [
       "<div><style>\n",
       ".dataframe > thead > tr,\n",
       ".dataframe > tbody > tr {\n",
       "  text-align: right;\n",
       "  white-space: pre-wrap;\n",
       "}\n",
       "</style>\n",
       "<small>shape: (5, 14)</small><table border=\"1\" class=\"dataframe\"><thead><tr><th>tconst</th><th>primaryTitle</th><th>originalTitle</th><th>startYear</th><th>runtimeMinutes</th><th>genres</th><th>directors</th><th>writers</th><th>num_films</th><th>primaryName</th><th>birthYear</th><th>deathYear</th><th>first_year</th><th>last_year</th></tr><tr><td>str</td><td>str</td><td>str</td><td>i64</td><td>i64</td><td>str</td><td>str</td><td>str</td><td>u32</td><td>str</td><td>i64</td><td>i64</td><td>i64</td><td>i64</td></tr></thead><tbody><tr><td>&quot;tt0025557&quot;</td><td>&quot;El negro que tenía el alma bla…</td><td>&quot;El negro que tenía el alma bla…</td><td>1951</td><td>87</td><td>&quot;Drama,Musical&quot;</td><td>&quot;nm0140459&quot;</td><td>&quot;nm0017046,nm0273236,nm0409404,…</td><td>13</td><td>&quot;Hugo del Carril&quot;</td><td>1912</td><td>1989</td><td>1951</td><td>1975</td></tr><tr><td>&quot;tt0031603&quot;</td><td>&quot;Made in Germany - Die dramatis…</td><td>&quot;Made in Germany&quot;</td><td>1957</td><td>97</td><td>&quot;Biography,Drama&quot;</td><td>&quot;nm0772191&quot;</td><td>&quot;nm0530752,nm0726114&quot;</td><td>24</td><td>&quot;Wolfgang Schleif&quot;</td><td>1912</td><td>1984</td><td>1953</td><td>1974</td></tr><tr><td>&quot;tt0032787&quot;</td><td>&quot;Mi noche triste&quot;</td><td>&quot;Mi noche triste&quot;</td><td>1952</td><td>92</td><td>&quot;Drama,Musical&quot;</td><td>&quot;nm0218119&quot;</td><td>&quot;nm1309659,nm0176570,nm0218119,…</td><td>21</td><td>&quot;Lucas Demare&quot;</td><td>1910</td><td>1981</td><td>1951</td><td>1977</td></tr><tr><td>&quot;tt0034683&quot;</td><td>&quot;Dramma sul Tevere&quot;</td><td>&quot;Dramma sul Tevere&quot;</td><td>1952</td><td>88</td><td>&quot;Drama&quot;</td><td>&quot;nm0090557&quot;</td><td>&quot;nm0090557,nm1590783,nm0606076&quot;</td><td>19</td><td>&quot;Tanio Boccia&quot;</td><td>1911</td><td>1982</td><td>1952</td><td>1981</td></tr><tr><td>&quot;tt0035423&quot;</td><td>&quot;Kate &amp; Leopold&quot;</td><td>&quot;Kate &amp; Leopold&quot;</td><td>2001</td><td>118</td><td>&quot;Comedy,Fantasy,Romance&quot;</td><td>&quot;nm0003506&quot;</td><td>&quot;nm0737216,nm0003506&quot;</td><td>12</td><td>&quot;James Mangold&quot;</td><td>1963</td><td>0</td><td>1995</td><td>2023</td></tr></tbody></table></div>"
      ],
      "text/plain": [
       "shape: (5, 14)\n",
       "┌───────────┬───────────┬───────────┬───────────┬───┬───────────┬───────────┬───────────┬──────────┐\n",
       "│ tconst    ┆ primaryTi ┆ originalT ┆ startYear ┆ … ┆ birthYear ┆ deathYear ┆ first_yea ┆ last_yea │\n",
       "│ ---       ┆ tle       ┆ itle      ┆ ---       ┆   ┆ ---       ┆ ---       ┆ r         ┆ r        │\n",
       "│ str       ┆ ---       ┆ ---       ┆ i64       ┆   ┆ i64       ┆ i64       ┆ ---       ┆ ---      │\n",
       "│           ┆ str       ┆ str       ┆           ┆   ┆           ┆           ┆ i64       ┆ i64      │\n",
       "╞═══════════╪═══════════╪═══════════╪═══════════╪═══╪═══════════╪═══════════╪═══════════╪══════════╡\n",
       "│ tt0025557 ┆ El negro  ┆ El negro  ┆ 1951      ┆ … ┆ 1912      ┆ 1989      ┆ 1951      ┆ 1975     │\n",
       "│           ┆ que tenía ┆ que tenía ┆           ┆   ┆           ┆           ┆           ┆          │\n",
       "│           ┆ el alma   ┆ el alma   ┆           ┆   ┆           ┆           ┆           ┆          │\n",
       "│           ┆ bla…      ┆ bla…      ┆           ┆   ┆           ┆           ┆           ┆          │\n",
       "│ tt0031603 ┆ Made in   ┆ Made in   ┆ 1957      ┆ … ┆ 1912      ┆ 1984      ┆ 1953      ┆ 1974     │\n",
       "│           ┆ Germany - ┆ Germany   ┆           ┆   ┆           ┆           ┆           ┆          │\n",
       "│           ┆ Die       ┆           ┆           ┆   ┆           ┆           ┆           ┆          │\n",
       "│           ┆ dramatis… ┆           ┆           ┆   ┆           ┆           ┆           ┆          │\n",
       "│ tt0032787 ┆ Mi noche  ┆ Mi noche  ┆ 1952      ┆ … ┆ 1910      ┆ 1981      ┆ 1951      ┆ 1977     │\n",
       "│           ┆ triste    ┆ triste    ┆           ┆   ┆           ┆           ┆           ┆          │\n",
       "│ tt0034683 ┆ Dramma    ┆ Dramma    ┆ 1952      ┆ … ┆ 1911      ┆ 1982      ┆ 1952      ┆ 1981     │\n",
       "│           ┆ sul       ┆ sul       ┆           ┆   ┆           ┆           ┆           ┆          │\n",
       "│           ┆ Tevere    ┆ Tevere    ┆           ┆   ┆           ┆           ┆           ┆          │\n",
       "│ tt0035423 ┆ Kate &    ┆ Kate &    ┆ 2001      ┆ … ┆ 1963      ┆ 0         ┆ 1995      ┆ 2023     │\n",
       "│           ┆ Leopold   ┆ Leopold   ┆           ┆   ┆           ┆           ┆           ┆          │\n",
       "└───────────┴───────────┴───────────┴───────────┴───┴───────────┴───────────┴───────────┴──────────┘"
      ]
     },
     "execution_count": 3,
     "metadata": {},
     "output_type": "execute_result"
    }
   ],
   "source": [
    "clean_director_films = generate_dataset.clean_imdb_director_films(\n",
    "    10)\n",
    "\n",
    "clean_director_films.head()"
   ]
  },
  {
   "cell_type": "code",
   "execution_count": null,
   "metadata": {},
   "outputs": [],
   "source": []
  },
  {
   "cell_type": "code",
   "execution_count": 4,
   "metadata": {},
   "outputs": [
    {
     "name": "stderr",
     "output_type": "stream",
     "text": [
      "INFO:root:No path provided. Using default path: /Users/bradkittrell/Projects/imdb/IMDB_Fun/Data/processed/name.parquet\n",
      "INFO:root:Successfully loaded data from /Users/bradkittrell/Projects/imdb/IMDB_Fun/Data/processed/name.parquet\n",
      "INFO:root:Filtered names data to include only rows where birthYear > 1899\n",
      "INFO:root:Dropped __index_level_0__ column\n"
     ]
    }
   ],
   "source": [
    "directors_yrly = build_features.normalized_yearly_directors(start_year=1950,\n",
    "                                                            end_year=2024,\n",
    "\n",
    "                                                            director_ids=list(set(clean_director_films['directors'].to_list())))\n",
    "\n",
    "directors_yrly = directors_yrly.join(clean_director_films, left_on=[\"nconst\", \"year\"],\n",
    "                                     right_on=[\"directors\", \"startYear\"], how=\"left\")"
   ]
  },
  {
   "cell_type": "code",
   "execution_count": 18,
   "metadata": {},
   "outputs": [
    {
     "name": "stderr",
     "output_type": "stream",
     "text": [
      "INFO:root:No path provided. Using default path: /Users/bradkittrell/Projects/imdb/IMDB_Fun/Data/processed/name.parquet\n",
      "INFO:root:Successfully loaded data from /Users/bradkittrell/Projects/imdb/IMDB_Fun/Data/processed/name.parquet\n",
      "INFO:root:Filtered names data to include only rows where birthYear > 1899\n",
      "INFO:root:Dropped __index_level_0__ column\n"
     ]
    },
    {
     "data": {
      "text/html": [
       "<div><style>\n",
       ".dataframe > thead > tr,\n",
       ".dataframe > tbody > tr {\n",
       "  text-align: right;\n",
       "  white-space: pre-wrap;\n",
       "}\n",
       "</style>\n",
       "<small>shape: (8, 22)</small><table border=\"1\" class=\"dataframe\"><thead><tr><th>director</th><th>nconst</th><th>deathYear</th><th>birthYear</th><th>year</th><th>tconst</th><th>primaryTitle</th><th>originalTitle</th><th>runtimeMinutes</th><th>genres</th><th>writers</th><th>num_films</th><th>primaryName</th><th>birthYear_right</th><th>deathYear_right</th><th>first_year</th><th>last_year</th><th>Film_lower</th><th>Film</th><th>Year</th><th>Nominations</th><th>Winner</th></tr><tr><td>str</td><td>str</td><td>i64</td><td>i64</td><td>i64</td><td>str</td><td>str</td><td>str</td><td>i64</td><td>str</td><td>str</td><td>u32</td><td>str</td><td>i64</td><td>i64</td><td>i64</td><td>i64</td><td>str</td><td>str</td><td>str</td><td>i64</td><td>i64</td></tr></thead><tbody><tr><td>&quot;Steven Spielberg&quot;</td><td>&quot;nm0000229&quot;</td><td>0</td><td>1946</td><td>1993</td><td>&quot;tt0107290&quot;</td><td>&quot;Jurassic Park&quot;</td><td>&quot;Jurassic Park&quot;</td><td>127</td><td>&quot;Action,Adventure,Sci-Fi&quot;</td><td>&quot;nm0000341,nm0462895&quot;</td><td>34</td><td>&quot;Steven Spielberg&quot;</td><td>1946</td><td>0</td><td>1964</td><td>2022</td><td>&quot;jurassicpark_1993&quot;</td><td>&quot;Jurassic Park&quot;</td><td>&quot;1993&quot;</td><td>3</td><td>3</td></tr><tr><td>&quot;Steven Spielberg&quot;</td><td>&quot;nm0000229&quot;</td><td>0</td><td>1946</td><td>1997</td><td>&quot;tt0119567&quot;</td><td>&quot;The Lost World: Jurassic Park&quot;</td><td>&quot;The Lost World: Jurassic Park&quot;</td><td>129</td><td>&quot;Action,Adventure,Sci-Fi&quot;</td><td>&quot;nm0000341,nm0462895&quot;</td><td>34</td><td>&quot;Steven Spielberg&quot;</td><td>1946</td><td>0</td><td>1964</td><td>2022</td><td>&quot;thelostworld:jurassicpark_1997&quot;</td><td>&quot;The Lost World: Jurassic Park&quot;</td><td>&quot;1997&quot;</td><td>1</td><td>0</td></tr><tr><td>&quot;Mark Polonia&quot;</td><td>&quot;nm0689789&quot;</td><td>0</td><td>1968</td><td>2015</td><td>&quot;tt3469284&quot;</td><td>&quot;Jurassic Prey&quot;</td><td>&quot;Jurassic Prey&quot;</td><td>87</td><td>&quot;Action,Adventure,Comedy&quot;</td><td>&quot;nm1141136&quot;</td><td>37</td><td>&quot;Mark Polonia&quot;</td><td>1968</td><td>0</td><td>1994</td><td>2024</td><td>&quot;jurassicprey_2015&quot;</td><td>null</td><td>null</td><td>null</td><td>null</td></tr><tr><td>&quot;Mark Polonia&quot;</td><td>&quot;nm0689789&quot;</td><td>0</td><td>1968</td><td>2021</td><td>&quot;tt14873410&quot;</td><td>&quot;Jurassic Shark 2: Aquapocalyps…</td><td>&quot;Jurassic Shark 2: Aquapocalyps…</td><td>71</td><td>&quot;Action,Adventure,Horror&quot;</td><td>&quot;nm12672128&quot;</td><td>37</td><td>&quot;Mark Polonia&quot;</td><td>1968</td><td>0</td><td>1994</td><td>2024</td><td>&quot;jurassicshark2:aquapocalypse_2…</td><td>null</td><td>null</td><td>null</td><td>null</td></tr><tr><td>&quot;Mark Polonia&quot;</td><td>&quot;nm0689789&quot;</td><td>0</td><td>1968</td><td>2023</td><td>&quot;tt27036477&quot;</td><td>&quot;Jurassic Shark 3: Seavenge&quot;</td><td>&quot;Jurassic Shark 3: Seavenge&quot;</td><td>74</td><td>&quot;Horror&quot;</td><td>&quot;nm12672128&quot;</td><td>37</td><td>&quot;Mark Polonia&quot;</td><td>1968</td><td>0</td><td>1994</td><td>2024</td><td>&quot;jurassicshark3:seavenge_2023&quot;</td><td>null</td><td>null</td><td>null</td><td>null</td></tr><tr><td>&quot;Mark Polonia&quot;</td><td>&quot;nm0689789&quot;</td><td>0</td><td>1968</td><td>2024</td><td>&quot;tt31311119&quot;</td><td>&quot;Jurassic Exorcist&quot;</td><td>&quot;Jurassic Exorcist&quot;</td><td>76</td><td>&quot;Action,Horror,Sci-Fi&quot;</td><td>&quot;nm1141136&quot;</td><td>37</td><td>&quot;Mark Polonia&quot;</td><td>1968</td><td>0</td><td>1994</td><td>2024</td><td>&quot;jurassicexorcist_2024&quot;</td><td>null</td><td>null</td><td>null</td><td>null</td></tr><tr><td>&quot;Brett Kelly&quot;</td><td>&quot;nm1448482&quot;</td><td>0</td><td>1972</td><td>2012</td><td>&quot;tt2071491&quot;</td><td>&quot;Jurassic Shark&quot;</td><td>&quot;Jurassic Shark&quot;</td><td>78</td><td>&quot;Action,Adventure,Comedy&quot;</td><td>&quot;nm1448482,nm2317419,nm2784796&quot;</td><td>22</td><td>&quot;Brett Kelly&quot;</td><td>1972</td><td>0</td><td>2006</td><td>2022</td><td>&quot;jurassicshark_2012&quot;</td><td>null</td><td>null</td><td>null</td><td>null</td></tr><tr><td>&quot;Andrew Jones&quot;</td><td>&quot;nm2096009&quot;</td><td>2023</td><td>1983</td><td>2018</td><td>&quot;tt5001456&quot;</td><td>&quot;Jurassic Predator&quot;</td><td>&quot;Jurassic Predator&quot;</td><td>90</td><td>&quot;Action,Adventure,Comedy&quot;</td><td>&quot;nm2096009,nm2886415&quot;</td><td>28</td><td>&quot;Andrew Jones&quot;</td><td>1983</td><td>2023</td><td>2006</td><td>2021</td><td>&quot;jurassicpredator_2018&quot;</td><td>null</td><td>null</td><td>null</td><td>null</td></tr></tbody></table></div>"
      ],
      "text/plain": [
       "shape: (8, 22)\n",
       "┌──────────────┬───────────┬───────────┬───────────┬───┬──────────┬──────┬─────────────┬────────┐\n",
       "│ director     ┆ nconst    ┆ deathYear ┆ birthYear ┆ … ┆ Film     ┆ Year ┆ Nominations ┆ Winner │\n",
       "│ ---          ┆ ---       ┆ ---       ┆ ---       ┆   ┆ ---      ┆ ---  ┆ ---         ┆ ---    │\n",
       "│ str          ┆ str       ┆ i64       ┆ i64       ┆   ┆ str      ┆ str  ┆ i64         ┆ i64    │\n",
       "╞══════════════╪═══════════╪═══════════╪═══════════╪═══╪══════════╪══════╪═════════════╪════════╡\n",
       "│ Steven       ┆ nm0000229 ┆ 0         ┆ 1946      ┆ … ┆ Jurassic ┆ 1993 ┆ 3           ┆ 3      │\n",
       "│ Spielberg    ┆           ┆           ┆           ┆   ┆ Park     ┆      ┆             ┆        │\n",
       "│ Steven       ┆ nm0000229 ┆ 0         ┆ 1946      ┆ … ┆ The Lost ┆ 1997 ┆ 1           ┆ 0      │\n",
       "│ Spielberg    ┆           ┆           ┆           ┆   ┆ World:   ┆      ┆             ┆        │\n",
       "│              ┆           ┆           ┆           ┆   ┆ Jurassic ┆      ┆             ┆        │\n",
       "│              ┆           ┆           ┆           ┆   ┆ Park     ┆      ┆             ┆        │\n",
       "│ Mark Polonia ┆ nm0689789 ┆ 0         ┆ 1968      ┆ … ┆ null     ┆ null ┆ null        ┆ null   │\n",
       "│ Mark Polonia ┆ nm0689789 ┆ 0         ┆ 1968      ┆ … ┆ null     ┆ null ┆ null        ┆ null   │\n",
       "│ Mark Polonia ┆ nm0689789 ┆ 0         ┆ 1968      ┆ … ┆ null     ┆ null ┆ null        ┆ null   │\n",
       "│ Mark Polonia ┆ nm0689789 ┆ 0         ┆ 1968      ┆ … ┆ null     ┆ null ┆ null        ┆ null   │\n",
       "│ Brett Kelly  ┆ nm1448482 ┆ 0         ┆ 1972      ┆ … ┆ null     ┆ null ┆ null        ┆ null   │\n",
       "│ Andrew Jones ┆ nm2096009 ┆ 2023      ┆ 1983      ┆ … ┆ null     ┆ null ┆ null        ┆ null   │\n",
       "└──────────────┴───────────┴───────────┴───────────┴───┴──────────┴──────┴─────────────┴────────┘"
      ]
     },
     "execution_count": 18,
     "metadata": {},
     "output_type": "execute_result"
    }
   ],
   "source": [
    "directors_yrly = build_features.normalized_yearly_directors(start_year=1950,\n",
    "                                                            end_year=2024,\n",
    "\n",
    "                                                            director_ids=list(set(clean_director_films['directors'].to_list())))\n",
    "\n",
    "directors_yrly = directors_yrly.join(clean_director_films, left_on=[\"nconst\", \"year\"],\n",
    "                                     right_on=[\"directors\", \"startYear\"], how=\"left\")\n",
    "\n",
    "oscars = pd.read_csv(\n",
    "    \"/Users/bradkittrell/Projects/imdb/IMDB_Fun/Data/external/oscars.csv\", delimiter='\\t', engine=\"python\")\n",
    "\n",
    "\n",
    "oscars_groupby_by_film = oscars[oscars['Ceremony'] > 23].groupby([\"Film\", \"Year\"]).agg({\"Class\": \"count\",\n",
    "                                                                                        \"Winner\": \"sum\"}).reset_index()\n",
    "oscars_groupby_by_film.rename(\n",
    "    columns={\"Class\": \"Nominations\"}, inplace=True)\n",
    "oscars_groupby_by_film['Winner'] = oscars_groupby_by_film['Winner'].fillna(\n",
    "    0).astype(int)\n",
    "oscars_groupby_by_film.head()\n",
    "\n",
    "oscars_groupby_by_film['Film_lower'] = oscars_groupby_by_film['Film'].str.lower(\n",
    ").str.replace(\" \", \"\").str.replace(\"'\", \"\") + \"_\" + oscars_groupby_by_film['Year'].astype(str)\n",
    "\n",
    "directors_yrly = directors_yrly.with_columns(\n",
    "    pl.concat_str([pl.col(\"primaryTitle\").str.to_lowercase().str.replace_all(\" \", \"\").str.replace_all(r\"'\", \"\").str.replace_all(r\"'\", \"\"),\n",
    "                   pl.col(\"year\")],\n",
    "                  separator=\"_\").alias('Film_lower'))\n",
    "\n",
    "\n",
    "directors_yrly = directors_yrly.join(\n",
    "    pl.from_dataframe(oscars_groupby_by_film), left_on=\"Film_lower\", right_on=\"Film_lower\", how=\"left\")\n",
    "\n",
    "directors_yrly = directors_yrly.filter((pl.col(\"year\") >= pl.col(\n",
    "    \"first_year\")) & (pl.col(\"year\") <= pl.col(\"last_year\")))\n",
    "# print(directors_yrly.shape)\n",
    "directors_yrly.filter(\n",
    "    pl.col(\"primaryTitle\").str.to_lowercase().str.contains(\"jurassic\", literal=True))\n",
    "# directors_yrly.head()"
   ]
  },
  {
   "cell_type": "code",
   "execution_count": 30,
   "metadata": {},
   "outputs": [
    {
     "data": {
      "text/html": [
       "<div>\n",
       "<style scoped>\n",
       "    .dataframe tbody tr th:only-of-type {\n",
       "        vertical-align: middle;\n",
       "    }\n",
       "\n",
       "    .dataframe tbody tr th {\n",
       "        vertical-align: top;\n",
       "    }\n",
       "\n",
       "    .dataframe thead th {\n",
       "        text-align: right;\n",
       "    }\n",
       "</style>\n",
       "<table border=\"1\" class=\"dataframe\">\n",
       "  <thead>\n",
       "    <tr style=\"text-align: right;\">\n",
       "      <th></th>\n",
       "      <th>nconst</th>\n",
       "      <th>primaryName</th>\n",
       "      <th>year</th>\n",
       "      <th>film_count</th>\n",
       "      <th>oscar_wins</th>\n",
       "      <th>oscar_noms</th>\n",
       "    </tr>\n",
       "  </thead>\n",
       "  <tbody>\n",
       "    <tr>\n",
       "      <th>0</th>\n",
       "      <td>nm0950109</td>\n",
       "      <td>Terence Young</td>\n",
       "      <td>1951</td>\n",
       "      <td>1</td>\n",
       "      <td>0</td>\n",
       "      <td>0</td>\n",
       "    </tr>\n",
       "    <tr>\n",
       "      <th>1</th>\n",
       "      <td>nm0830150</td>\n",
       "      <td>France Stiglic</td>\n",
       "      <td>1951</td>\n",
       "      <td>1</td>\n",
       "      <td>0</td>\n",
       "      <td>0</td>\n",
       "    </tr>\n",
       "    <tr>\n",
       "      <th>2</th>\n",
       "      <td>nm0463543</td>\n",
       "      <td>Eiichi Koishi</td>\n",
       "      <td>1951</td>\n",
       "      <td>4</td>\n",
       "      <td>0</td>\n",
       "      <td>0</td>\n",
       "    </tr>\n",
       "    <tr>\n",
       "      <th>3</th>\n",
       "      <td>nm0080615</td>\n",
       "      <td>Giorgio Bianchi</td>\n",
       "      <td>1951</td>\n",
       "      <td>2</td>\n",
       "      <td>0</td>\n",
       "      <td>0</td>\n",
       "    </tr>\n",
       "    <tr>\n",
       "      <th>4</th>\n",
       "      <td>nm0498306</td>\n",
       "      <td>Sun-Fung Lee</td>\n",
       "      <td>1951</td>\n",
       "      <td>1</td>\n",
       "      <td>0</td>\n",
       "      <td>0</td>\n",
       "    </tr>\n",
       "  </tbody>\n",
       "</table>\n",
       "</div>"
      ],
      "text/plain": [
       "      nconst      primaryName  year  film_count  oscar_wins  oscar_noms\n",
       "0  nm0950109    Terence Young  1951           1           0           0\n",
       "1  nm0830150   France Stiglic  1951           1           0           0\n",
       "2  nm0463543    Eiichi Koishi  1951           4           0           0\n",
       "3  nm0080615  Giorgio Bianchi  1951           2           0           0\n",
       "4  nm0498306     Sun-Fung Lee  1951           1           0           0"
      ]
     },
     "execution_count": 30,
     "metadata": {},
     "output_type": "execute_result"
    }
   ],
   "source": [
    "directors_yrly_grouped = directors_yrly.group_by([\"nconst\", 'primaryName', \"year\"]).agg([pl.count(\"primaryTitle\").alias(\n",
    "    \"film_count\"), pl.sum(\"Winner\").alias(\"oscar_wins\"), pl.sum(\"Nominations\").alias(\"oscar_noms\")]).sort(\"year\")\n",
    "\n",
    "directors_yrly_grouped = directors_yrly_grouped.to_pandas()\n",
    "\n",
    "directors_yrly_grouped.head()"
   ]
  },
  {
   "cell_type": "markdown",
   "metadata": {},
   "source": [
    "### Lets run a  long ELO"
   ]
  },
  {
   "cell_type": "code",
   "execution_count": 35,
   "metadata": {},
   "outputs": [
    {
     "name": "stderr",
     "output_type": "stream",
     "text": [
      "Updating ELOs:   1%|▏         | 1/73 [00:00<00:59,  1.21it/s]/var/folders/2y/ff9nvh415f39qp7gpf59jk440000gn/T/ipykernel_62146/2778400875.py:66: FutureWarning: Setting an item of incompatible dtype is deprecated and will raise an error in a future version of pandas. Value '1324.28' has dtype incompatible with int64, please explicitly cast to a compatible dtype first.\n",
      "  directors_yrly_grouped.at[row.Index, 'elo'] = new_elo\n",
      "Updating ELOs: 100%|██████████| 73/73 [01:23<00:00,  1.14s/it]\n"
     ]
    }
   ],
   "source": [
    "from hmac import new\n",
    "import numpy as np\n",
    "\n",
    "\n",
    "def update_elo_with_decay(person_id, nominations, wins, current_elo, competitors, last_active_year, current_year):\n",
    "    if current_elo > 2000:\n",
    "        k_factor = 2\n",
    "    else:\n",
    "        k_factor = 16  # Adjust impact size of changes\n",
    "\n",
    "    # Adjust for nominations (small boost)\n",
    "    nomination_bonus = 1 * nominations\n",
    "\n",
    "    # Adjust for wins (bigger boost)\n",
    "    win_bonus = 5 * wins\n",
    "\n",
    "    # Adjust based on competition strength (ELO difference matters)\n",
    "    avg_competitor_elo = np.mean(\n",
    "        [competitors.get(cid, 1500) for cid in competitors if cid != person_id])\n",
    "    # print(avg_competitor_elo)\n",
    "    expected_score = 1 / \\\n",
    "        (1 + (10 ** ((avg_competitor_elo - current_elo) / 200)))\n",
    "\n",
    "    # Time decay: Penalize inactivity over years\n",
    "    years_inactive = max(0, current_year - last_active_year)\n",
    "    decay_factor = 0.98 ** years_inactive  # 2% decay per inactive year\n",
    "\n",
    "    # Final ELO adjustment\n",
    "    new_elo = current_elo + k_factor * \\\n",
    "        (win_bonus + nomination_bonus - expected_score * k_factor)\n",
    "\n",
    "    # Apply decay factor\n",
    "    new_elo *= decay_factor\n",
    "\n",
    "    return round(new_elo, 2)\n",
    "\n",
    "\n",
    "directors_yrly_grouped['elo'] = 1500\n",
    "\n",
    "years = sorted(directors_yrly_grouped['year'].unique())[1:]\n",
    "# simulate ELO adjustments over an award season\n",
    "\n",
    "for year in tqdm(years, desc=\"Updating ELOs\"):\n",
    "    year_ = directors_yrly_grouped[directors_yrly_grouped['year'] == year]\n",
    "    # competitor_elos\n",
    "    previous_year = directors_yrly_grouped[directors_yrly_grouped['year'] == year - 1]\n",
    "    competitor_elos = {\n",
    "        row.nconst: row.elo for row in year_.itertuples()}\n",
    "\n",
    "    for row in year_.itertuples():\n",
    "        person_id = row.nconst\n",
    "        nominations = row.oscar_noms\n",
    "        wins = row.oscar_wins\n",
    "        if len(directors_yrly_grouped[(directors_yrly_grouped['nconst'] == person_id) & (\n",
    "                directors_yrly_grouped['year'] == year-1)]) == 0:\n",
    "            current_elo = 1500\n",
    "        else:\n",
    "            current_elo = directors_yrly_grouped[(directors_yrly_grouped['nconst'] == person_id) & (\n",
    "                directors_yrly_grouped['year'] == year-1)]['elo'].values[0]\n",
    "        last_active = directors_yrly_grouped[(directors_yrly_grouped['nconst'] == person_id) & (\n",
    "            directors_yrly_grouped['year'] <= year) & (directors_yrly_grouped['film_count'] > 0)]['year'].max()\n",
    "\n",
    "    # Update ELO\n",
    "        new_elo = update_elo_with_decay(person_id, nominations, wins,\n",
    "                                        current_elo, competitor_elos, last_active, year)\n",
    "        directors_yrly_grouped.at[row.Index, 'elo'] = new_elo"
   ]
  },
  {
   "cell_type": "markdown",
   "metadata": {},
   "source": [
    "#### Old"
   ]
  },
  {
   "cell_type": "code",
   "execution_count": 44,
   "metadata": {},
   "outputs": [
    {
     "data": {
      "text/html": [
       "<div>\n",
       "<style scoped>\n",
       "    .dataframe tbody tr th:only-of-type {\n",
       "        vertical-align: middle;\n",
       "    }\n",
       "\n",
       "    .dataframe tbody tr th {\n",
       "        vertical-align: top;\n",
       "    }\n",
       "\n",
       "    .dataframe thead th {\n",
       "        text-align: right;\n",
       "    }\n",
       "</style>\n",
       "<table border=\"1\" class=\"dataframe\">\n",
       "  <thead>\n",
       "    <tr style=\"text-align: right;\">\n",
       "      <th></th>\n",
       "      <th></th>\n",
       "      <th>elo</th>\n",
       "    </tr>\n",
       "    <tr>\n",
       "      <th>nconst</th>\n",
       "      <th>primaryName</th>\n",
       "      <th></th>\n",
       "    </tr>\n",
       "  </thead>\n",
       "  <tbody>\n",
       "    <tr>\n",
       "      <th>nm0001392</th>\n",
       "      <th>Peter Jackson</th>\n",
       "      <td>2704.99</td>\n",
       "    </tr>\n",
       "    <tr>\n",
       "      <th>nm0003593</th>\n",
       "      <th>Fred Zinnemann</th>\n",
       "      <td>2418.27</td>\n",
       "    </tr>\n",
       "    <tr>\n",
       "      <th>nm0000229</th>\n",
       "      <th>Steven Spielberg</th>\n",
       "      <td>2412.00</td>\n",
       "    </tr>\n",
       "    <tr>\n",
       "      <th>nm0943758</th>\n",
       "      <th>William Wyler</th>\n",
       "      <td>2343.76</td>\n",
       "    </tr>\n",
       "    <tr>\n",
       "      <th>nm0000934</th>\n",
       "      <th>Bernardo Bertolucci</th>\n",
       "      <td>2236.00</td>\n",
       "    </tr>\n",
       "    <tr>\n",
       "      <th>nm0000277</th>\n",
       "      <th>Richard Attenborough</th>\n",
       "      <td>2188.00</td>\n",
       "    </tr>\n",
       "    <tr>\n",
       "      <th>nm0001232</th>\n",
       "      <th>Milos Forman</th>\n",
       "      <td>2188.00</td>\n",
       "    </tr>\n",
       "    <tr>\n",
       "      <th>nm0001415</th>\n",
       "      <th>Elia Kazan</th>\n",
       "      <td>2178.96</td>\n",
       "    </tr>\n",
       "    <tr>\n",
       "      <th>nm0634240</th>\n",
       "      <th>Christopher Nolan</th>\n",
       "      <td>2140.00</td>\n",
       "    </tr>\n",
       "    <tr>\n",
       "      <th>nm0769874</th>\n",
       "      <th>Franklin J. Schaffner</th>\n",
       "      <td>2120.00</td>\n",
       "    </tr>\n",
       "    <tr>\n",
       "      <th>nm0006960</th>\n",
       "      <th>John Madden</th>\n",
       "      <td>2108.32</td>\n",
       "    </tr>\n",
       "    <tr>\n",
       "      <th>nm0001628</th>\n",
       "      <th>Sydney Pollack</th>\n",
       "      <td>2108.00</td>\n",
       "    </tr>\n",
       "    <tr>\n",
       "      <th>nm0000338</th>\n",
       "      <th>Francis Ford Coppola</th>\n",
       "      <td>2076.00</td>\n",
       "    </tr>\n",
       "    <tr>\n",
       "      <th>nm0000709</th>\n",
       "      <th>Robert Zemeckis</th>\n",
       "      <td>2060.00</td>\n",
       "    </tr>\n",
       "    <tr>\n",
       "      <th>nm0001351</th>\n",
       "      <th>George Roy Hill</th>\n",
       "      <td>2044.28</td>\n",
       "    </tr>\n",
       "    <tr>\n",
       "      <th>nm0715346</th>\n",
       "      <th>Carol Reed</th>\n",
       "      <td>2044.00</td>\n",
       "    </tr>\n",
       "    <tr>\n",
       "      <th>nm0001566</th>\n",
       "      <th>Mike Nichols</th>\n",
       "      <td>1980.00</td>\n",
       "    </tr>\n",
       "    <tr>\n",
       "      <th>nm0829038</th>\n",
       "      <th>Robert Stevenson</th>\n",
       "      <td>1980.00</td>\n",
       "    </tr>\n",
       "    <tr>\n",
       "      <th>nm0000631</th>\n",
       "      <th>Ridley Scott</th>\n",
       "      <td>1964.00</td>\n",
       "    </tr>\n",
       "    <tr>\n",
       "      <th>nm0000217</th>\n",
       "      <th>Martin Scorsese</th>\n",
       "      <td>1948.00</td>\n",
       "    </tr>\n",
       "    <tr>\n",
       "      <th>nm0000697</th>\n",
       "      <th>Billy Wilder</th>\n",
       "      <td>1945.51</td>\n",
       "    </tr>\n",
       "    <tr>\n",
       "      <th>nm0936404</th>\n",
       "      <th>Robert Wise</th>\n",
       "      <td>1932.00</td>\n",
       "    </tr>\n",
       "    <tr>\n",
       "      <th>nm0000914</th>\n",
       "      <th>Robert Benton</th>\n",
       "      <td>1916.00</td>\n",
       "    </tr>\n",
       "    <tr>\n",
       "      <th>nm0868219</th>\n",
       "      <th>Guillermo del Toro</th>\n",
       "      <td>1900.00</td>\n",
       "    </tr>\n",
       "    <tr>\n",
       "      <th>nm0001129</th>\n",
       "      <th>Jonathan Demme</th>\n",
       "      <td>1884.00</td>\n",
       "    </tr>\n",
       "    <tr>\n",
       "      <th>nm0000487</th>\n",
       "      <th>Ang Lee</th>\n",
       "      <td>1868.00</td>\n",
       "    </tr>\n",
       "    <tr>\n",
       "      <th>nm0591486</th>\n",
       "      <th>Vincente Minnelli</th>\n",
       "      <td>1868.00</td>\n",
       "    </tr>\n",
       "    <tr>\n",
       "      <th>nm0001752</th>\n",
       "      <th>Steven Soderbergh</th>\n",
       "      <td>1865.19</td>\n",
       "    </tr>\n",
       "    <tr>\n",
       "      <th>nm0001486</th>\n",
       "      <th>Sidney Lumet</th>\n",
       "      <td>1855.38</td>\n",
       "    </tr>\n",
       "    <tr>\n",
       "      <th>nm0001243</th>\n",
       "      <th>William Friedkin</th>\n",
       "      <td>1852.28</td>\n",
       "    </tr>\n",
       "    <tr>\n",
       "      <th>nm0000231</th>\n",
       "      <th>Oliver Stone</th>\n",
       "      <td>1852.00</td>\n",
       "    </tr>\n",
       "    <tr>\n",
       "      <th>nm0542702</th>\n",
       "      <th>Daniel Mann</th>\n",
       "      <td>1836.28</td>\n",
       "    </tr>\n",
       "    <tr>\n",
       "      <th>nm0000142</th>\n",
       "      <th>Clint Eastwood</th>\n",
       "      <td>1836.00</td>\n",
       "    </tr>\n",
       "    <tr>\n",
       "      <th>nm0000915</th>\n",
       "      <th>Bruce Beresford</th>\n",
       "      <td>1836.00</td>\n",
       "    </tr>\n",
       "    <tr>\n",
       "      <th>nm0027572</th>\n",
       "      <th>Wes Anderson</th>\n",
       "      <td>1836.00</td>\n",
       "    </tr>\n",
       "    <tr>\n",
       "      <th>nm0001587</th>\n",
       "      <th>Alan J. Pakula</th>\n",
       "      <td>1820.00</td>\n",
       "    </tr>\n",
       "    <tr>\n",
       "      <th>nm0542720</th>\n",
       "      <th>Delbert Mann</th>\n",
       "      <td>1820.00</td>\n",
       "    </tr>\n",
       "    <tr>\n",
       "      <th>nm0442241</th>\n",
       "      <th>Philip Kaufman</th>\n",
       "      <td>1820.00</td>\n",
       "    </tr>\n",
       "    <tr>\n",
       "      <th>nm0000040</th>\n",
       "      <th>Stanley Kubrick</th>\n",
       "      <td>1804.00</td>\n",
       "    </tr>\n",
       "    <tr>\n",
       "      <th>nm0422484</th>\n",
       "      <th>Norman Jewison</th>\n",
       "      <td>1802.72</td>\n",
       "    </tr>\n",
       "    <tr>\n",
       "      <th>nm0001469</th>\n",
       "      <th>Barry Levinson</th>\n",
       "      <td>1780.72</td>\n",
       "    </tr>\n",
       "    <tr>\n",
       "      <th>nm0000399</th>\n",
       "      <th>David Fincher</th>\n",
       "      <td>1772.28</td>\n",
       "    </tr>\n",
       "    <tr>\n",
       "      <th>nm0001741</th>\n",
       "      <th>Bryan Singer</th>\n",
       "      <td>1772.00</td>\n",
       "    </tr>\n",
       "    <tr>\n",
       "      <th>nm0000095</th>\n",
       "      <th>Woody Allen</th>\n",
       "      <td>1772.00</td>\n",
       "    </tr>\n",
       "    <tr>\n",
       "      <th>nm0041932</th>\n",
       "      <th>Mark Rydell</th>\n",
       "      <td>1772.00</td>\n",
       "    </tr>\n",
       "    <tr>\n",
       "      <th>nm0412465</th>\n",
       "      <th>James Ivory</th>\n",
       "      <td>1756.00</td>\n",
       "    </tr>\n",
       "    <tr>\n",
       "      <th>nm0000165</th>\n",
       "      <th>Ron Howard</th>\n",
       "      <td>1742.38</td>\n",
       "    </tr>\n",
       "    <tr>\n",
       "      <th>nm0724798</th>\n",
       "      <th>Tony Richardson</th>\n",
       "      <td>1741.64</td>\n",
       "    </tr>\n",
       "    <tr>\n",
       "      <th>nm0000797</th>\n",
       "      <th>Hal Ashby</th>\n",
       "      <td>1740.00</td>\n",
       "    </tr>\n",
       "    <tr>\n",
       "      <th>nm0000814</th>\n",
       "      <th>John G. Avildsen</th>\n",
       "      <td>1724.28</td>\n",
       "    </tr>\n",
       "  </tbody>\n",
       "</table>\n",
       "</div>"
      ],
      "text/plain": [
       "                                     elo\n",
       "nconst    primaryName                   \n",
       "nm0001392 Peter Jackson          2704.99\n",
       "nm0003593 Fred Zinnemann         2418.27\n",
       "nm0000229 Steven Spielberg       2412.00\n",
       "nm0943758 William Wyler          2343.76\n",
       "nm0000934 Bernardo Bertolucci    2236.00\n",
       "nm0000277 Richard Attenborough   2188.00\n",
       "nm0001232 Milos Forman           2188.00\n",
       "nm0001415 Elia Kazan             2178.96\n",
       "nm0634240 Christopher Nolan      2140.00\n",
       "nm0769874 Franklin J. Schaffner  2120.00\n",
       "nm0006960 John Madden            2108.32\n",
       "nm0001628 Sydney Pollack         2108.00\n",
       "nm0000338 Francis Ford Coppola   2076.00\n",
       "nm0000709 Robert Zemeckis        2060.00\n",
       "nm0001351 George Roy Hill        2044.28\n",
       "nm0715346 Carol Reed             2044.00\n",
       "nm0001566 Mike Nichols           1980.00\n",
       "nm0829038 Robert Stevenson       1980.00\n",
       "nm0000631 Ridley Scott           1964.00\n",
       "nm0000217 Martin Scorsese        1948.00\n",
       "nm0000697 Billy Wilder           1945.51\n",
       "nm0936404 Robert Wise            1932.00\n",
       "nm0000914 Robert Benton          1916.00\n",
       "nm0868219 Guillermo del Toro     1900.00\n",
       "nm0001129 Jonathan Demme         1884.00\n",
       "nm0000487 Ang Lee                1868.00\n",
       "nm0591486 Vincente Minnelli      1868.00\n",
       "nm0001752 Steven Soderbergh      1865.19\n",
       "nm0001486 Sidney Lumet           1855.38\n",
       "nm0001243 William Friedkin       1852.28\n",
       "nm0000231 Oliver Stone           1852.00\n",
       "nm0542702 Daniel Mann            1836.28\n",
       "nm0000142 Clint Eastwood         1836.00\n",
       "nm0000915 Bruce Beresford        1836.00\n",
       "nm0027572 Wes Anderson           1836.00\n",
       "nm0001587 Alan J. Pakula         1820.00\n",
       "nm0542720 Delbert Mann           1820.00\n",
       "nm0442241 Philip Kaufman         1820.00\n",
       "nm0000040 Stanley Kubrick        1804.00\n",
       "nm0422484 Norman Jewison         1802.72\n",
       "nm0001469 Barry Levinson         1780.72\n",
       "nm0000399 David Fincher          1772.28\n",
       "nm0001741 Bryan Singer           1772.00\n",
       "nm0000095 Woody Allen            1772.00\n",
       "nm0041932 Mark Rydell            1772.00\n",
       "nm0412465 James Ivory            1756.00\n",
       "nm0000165 Ron Howard             1742.38\n",
       "nm0724798 Tony Richardson        1741.64\n",
       "nm0000797 Hal Ashby              1740.00\n",
       "nm0000814 John G. Avildsen       1724.28"
      ]
     },
     "execution_count": 44,
     "metadata": {},
     "output_type": "execute_result"
    }
   ],
   "source": [
    "directors_yrly_grouped.groupby([\"nconst\", \"primaryName\"]).agg(\n",
    "    {\"elo\": \"max\"}).sort_values(\"elo\", ascending=False).head(50)"
   ]
  },
  {
   "cell_type": "code",
   "execution_count": 53,
   "metadata": {},
   "outputs": [
    {
     "data": {
      "text/plain": [
       "<Axes: xlabel='year', ylabel='elo'>"
      ]
     },
     "execution_count": 53,
     "metadata": {},
     "output_type": "execute_result"
    },
    {
     "data": {
      "image/png": "[encoded data removed]",
      "text/plain": [
       "<Figure size 640x480 with 1 Axes>"
      ]
     },
     "metadata": {},
     "output_type": "display_data"
    }
   ],
   "source": [
    "\n",
    "sns.lineplot(\n",
    "    data=directors_yrly_grouped[directors_yrly_grouped['nconst'] == 'nm0000217'], x=\"year\", y=\"elo\")"
   ]
  },
  {
   "cell_type": "code",
   "execution_count": 19,
   "metadata": {},
   "outputs": [],
   "source": [
    "principals = principals[principals['characters'].str.strip() != \"\"]"
   ]
  },
  {
   "cell_type": "code",
   "execution_count": 24,
   "metadata": {},
   "outputs": [],
   "source": [
    "principals.to_parquet(\n",
    "    \"/Users/bradkittrell/Projects/imdb/IMDB_Fun/Data/processed/title_principals.parquet\")"
   ]
  },
  {
   "cell_type": "code",
   "execution_count": 9,
   "metadata": {},
   "outputs": [],
   "source": [
    "# with open(file_path, 'r') as file:\n",
    "#     for line_num, line in enumerate(file):\n",
    "#         if '\"' in line and line.count('\"') % 2 != 0:\n",
    "#             print(f\"Problem in line {line_num + 1}: {line}\")\n",
    "\n",
    "with open(new_path, 'r') as infile, open(newer_path, 'w') as outfile:\n",
    "    for line in infile:\n",
    "        # Skip lines with mismatched quotes\n",
    "        if '\"' in line and line.count('\"') % 2 != 0:\n",
    "            continue  # Do not write this line to the output file\n",
    "\n",
    "        # Skip lines containing the specific phrase\n",
    "        if '\"Picturized By\", i.e., screenplay' in line:\n",
    "            continue  # Do not write this line to the output file\n",
    "        if 'When Knighthood Was in Flower' in line:\n",
    "            continue\n",
    "        # Write all other lines to the output file\n",
    "        outfile.write(line)"
   ]
  },
  {
   "cell_type": "code",
   "execution_count": 4,
   "metadata": {},
   "outputs": [],
   "source": [
    "new_path = \"/Users/bradkittrell/Projects/imdb/IMDB_Fun/Data/processed/title.principals.tsv\"\n",
    "with open(file_path, 'r') as infile, open(new_path, 'w') as outfile:\n",
    "    for line in infile:\n",
    "        # Fix mismatched quotes\n",
    "        if '\"' in line and line.count('\"') % 2 != 0:\n",
    "            line = line.replace('\"', '')  # Or implement a better custom fix\n",
    "        outfile.write(line)"
   ]
  },
  {
   "cell_type": "markdown",
   "metadata": {},
   "source": [
    "#### New"
   ]
  },
  {
   "cell_type": "code",
   "execution_count": 27,
   "metadata": {},
   "outputs": [
    {
     "data": {
      "text/html": [
       "<div><style>\n",
       ".dataframe > thead > tr,\n",
       ".dataframe > tbody > tr {\n",
       "  text-align: right;\n",
       "  white-space: pre-wrap;\n",
       "}\n",
       "</style>\n",
       "<small>shape: (5, 6)</small><table border=\"1\" class=\"dataframe\"><thead><tr><th>tconst</th><th>ordering</th><th>nconst</th><th>category</th><th>job</th><th>characters</th></tr><tr><td>str</td><td>i64</td><td>str</td><td>str</td><td>str</td><td>str</td></tr></thead><tbody><tr><td>&quot;tt0000001&quot;</td><td>1</td><td>&quot;nm1588970&quot;</td><td>&quot;self&quot;</td><td>&quot;\\N&quot;</td><td>&quot;[&quot;Self&quot;]&quot;</td></tr><tr><td>&quot;tt0000001&quot;</td><td>2</td><td>&quot;nm0005690&quot;</td><td>&quot;director&quot;</td><td>&quot;\\N&quot;</td><td>&quot;\\N&quot;</td></tr><tr><td>&quot;tt0000001&quot;</td><td>3</td><td>&quot;nm0005690&quot;</td><td>&quot;producer&quot;</td><td>&quot;producer&quot;</td><td>&quot;\\N&quot;</td></tr><tr><td>&quot;tt0000001&quot;</td><td>4</td><td>&quot;nm0374658&quot;</td><td>&quot;cinematographer&quot;</td><td>&quot;director of photography&quot;</td><td>&quot;\\N&quot;</td></tr><tr><td>&quot;tt0000002&quot;</td><td>1</td><td>&quot;nm0721526&quot;</td><td>&quot;director&quot;</td><td>&quot;\\N&quot;</td><td>&quot;\\N&quot;</td></tr></tbody></table></div>"
      ],
      "text/plain": [
       "shape: (5, 6)\n",
       "┌───────────┬──────────┬───────────┬─────────────────┬─────────────────────────┬────────────┐\n",
       "│ tconst    ┆ ordering ┆ nconst    ┆ category        ┆ job                     ┆ characters │\n",
       "│ ---       ┆ ---      ┆ ---       ┆ ---             ┆ ---                     ┆ ---        │\n",
       "│ str       ┆ i64      ┆ str       ┆ str             ┆ str                     ┆ str        │\n",
       "╞═══════════╪══════════╪═══════════╪═════════════════╪═════════════════════════╪════════════╡\n",
       "│ tt0000001 ┆ 1        ┆ nm1588970 ┆ self            ┆ \\N                      ┆ [\"Self\"]   │\n",
       "│ tt0000001 ┆ 2        ┆ nm0005690 ┆ director        ┆ \\N                      ┆ \\N         │\n",
       "│ tt0000001 ┆ 3        ┆ nm0005690 ┆ producer        ┆ producer                ┆ \\N         │\n",
       "│ tt0000001 ┆ 4        ┆ nm0374658 ┆ cinematographer ┆ director of photography ┆ \\N         │\n",
       "│ tt0000002 ┆ 1        ┆ nm0721526 ┆ director        ┆ \\N                      ┆ \\N         │\n",
       "└───────────┴──────────┴───────────┴─────────────────┴─────────────────────────┴────────────┘"
      ]
     },
     "execution_count": 27,
     "metadata": {},
     "output_type": "execute_result"
    }
   ],
   "source": [
    "principals.head()"
   ]
  },
  {
   "cell_type": "code",
   "execution_count": 6,
   "metadata": {},
   "outputs": [
    {
     "name": "stdout",
     "output_type": "stream",
     "text": [
      "Absolute Path to `src`: /Users/bradkittrell/Projects/imdb/IMDB_Fun/Notebooks/src/data\n"
     ]
    },
    {
     "data": {
      "text/plain": [
       "['1_0_load_data.ipynb']"
      ]
     },
     "execution_count": 6,
     "metadata": {},
     "output_type": "execute_result"
    }
   ],
   "source": [
    "# with open(file_path, 'r') as infile, open(new_path, 'w') as outfile:\n",
    "#     for line in infile:\n",
    "#         # Fix mismatched quotes\n",
    "#         # if '\"' in line and line.count('\"') % 2 != 0:\n",
    "#             line = line.replace('\"', '')  # Or implement a better custom fix\n",
    "#         outfile.write(line)\n",
    "import os\n",
    "\n",
    "# Get the absolute path to `src`\n",
    "src_path = os.path.abspath(\"src/data\")\n",
    "print(\"Absolute Path to `src`:\", src_path)\n",
    "\n",
    "# print(\"Directory contents:\", os.listdir(src_path))\n",
    "\n",
    "os.listdir()"
   ]
  },
  {
   "cell_type": "code",
   "execution_count": 101,
   "metadata": {},
   "outputs": [],
   "source": [
    "file_path = \"/Users/bradkittrell/Projects/imdb/IMDB_Fun/Data/raw/name.basics.tsv\"\n",
    "# cleaned_file_path = \"/Users/bradkittrell/Projects/imdb/IMDB_Fun/Data/raw/name.tsv\"\n",
    "new_path = \"/Users/bradkittrell/Projects/imdb/IMDB_Fun/Data/raw/name.tsv\"\n",
    "# load with pandas and clean out all \\N values for birth year but keep death year\n",
    "# with gzip.open(file_path, 'rt', encoding='utf-8') as gz_file:\n",
    "names = pd.read_csv(new_path, sep='\\t')\n",
    "names = names[names['birthYear'] != '\\\\N']\n",
    "\n",
    "names['deathYear'] = names['deathYear'].replace(r'\\\\N', '0', regex=True).astype(\n",
    "    int)\n",
    "names['birthYear'] = names['birthYear'].astype(int,)"
   ]
  },
  {
   "cell_type": "code",
   "execution_count": null,
   "metadata": {},
   "outputs": [
    {
     "name": "stdout",
     "output_type": "stream",
     "text": [
      "(625269, 7)\n"
     ]
    }
   ],
   "source": [
    "# lets analyze this names file a bit\n",
    "\n",
    "names = pl.read_parquet(\n",
    "    \"/Users/bradkittrell/Projects/imdb/IMDB_Fun/Data/processed/name.parquet\")\n",
    "\n",
    "print(names.shape)\n",
    "# how ever names gets loaded should have a filter at beggining dropping this\n",
    "names = names.filter(pl.col(\"birthYear\") > 1899)"
   ]
  },
  {
   "cell_type": "code",
   "execution_count": 10,
   "metadata": {},
   "outputs": [
    {
     "data": {
      "text/plain": [
       "<Axes: xlabel='birthYear', ylabel='count'>"
      ]
     },
     "execution_count": 10,
     "metadata": {},
     "output_type": "execute_result"
    },
    {
     "data": {
      "image/png": "[encoded data removed]",
      "text/plain": [
       "<Figure size 640x480 with 1 Axes>"
      ]
     },
     "metadata": {},
     "output_type": "display_data"
    }
   ],
   "source": [
    "# groupby birth year and count\n",
    "import matplotlib.pyplot as plt\n",
    "import seaborn as sns\n",
    "birth_yr_cnt = names.group_by('birthYear').agg(pl.count('birthYear').alias(\n",
    "    'count')).sort('birthYear')\n",
    "\n",
    "\n",
    "sns.lineplot(data=birth_yr_cnt.to_pandas(), x='birthYear', y='count')"
   ]
  },
  {
   "cell_type": "code",
   "execution_count": 8,
   "metadata": {},
   "outputs": [
    {
     "data": {
      "text/html": [
       "<div><style>\n",
       ".dataframe > thead > tr,\n",
       ".dataframe > tbody > tr {\n",
       "  text-align: right;\n",
       "  white-space: pre-wrap;\n",
       "}\n",
       "</style>\n",
       "<small>shape: (1, 7)</small><table border=\"1\" class=\"dataframe\"><thead><tr><th>nconst</th><th>primaryName</th><th>birthYear</th><th>deathYear</th><th>primaryProfession</th><th>knownForTitles</th><th>__index_level_0__</th></tr><tr><td>str</td><td>str</td><td>i64</td><td>i64</td><td>str</td><td>str</td><td>i64</td></tr></thead><tbody><tr><td>&quot;nm0000093&quot;</td><td>&quot;Brad Pitt&quot;</td><td>1963</td><td>0</td><td>&quot;producer,actor,executive&quot;</td><td>&quot;tt0137523,tt0356910,tt0114746,…</td><td>92</td></tr></tbody></table></div>"
      ],
      "text/plain": [
       "shape: (1, 7)\n",
       "┌───────────┬─────────────┬───────────┬───────────┬────────────────┬───────────────┬───────────────┐\n",
       "│ nconst    ┆ primaryName ┆ birthYear ┆ deathYear ┆ primaryProfess ┆ knownForTitle ┆ __index_level │\n",
       "│ ---       ┆ ---         ┆ ---       ┆ ---       ┆ ion            ┆ s             ┆ _0__          │\n",
       "│ str       ┆ str         ┆ i64       ┆ i64       ┆ ---            ┆ ---           ┆ ---           │\n",
       "│           ┆             ┆           ┆           ┆ str            ┆ str           ┆ i64           │\n",
       "╞═══════════╪═════════════╪═══════════╪═══════════╪════════════════╪═══════════════╪═══════════════╡\n",
       "│ nm0000093 ┆ Brad Pitt   ┆ 1963      ┆ 0         ┆ producer,actor ┆ tt0137523,tt0 ┆ 92            │\n",
       "│           ┆             ┆           ┆           ┆ ,executive     ┆ 356910,tt0114 ┆               │\n",
       "│           ┆             ┆           ┆           ┆                ┆ 746,…         ┆               │\n",
       "└───────────┴─────────────┴───────────┴───────────┴────────────────┴───────────────┴───────────────┘"
      ]
     },
     "execution_count": 8,
     "metadata": {},
     "output_type": "execute_result"
    }
   ],
   "source": [
    "names = names.filter(pl.col(\"primaryName\").str.contains(\"Brad\"))\n",
    "names"
   ]
  },
  {
   "cell_type": "markdown",
   "metadata": {},
   "source": [
    "## Ratings Analysis"
   ]
  },
  {
   "cell_type": "code",
   "execution_count": 5,
   "metadata": {},
   "outputs": [],
   "source": [
    "ratings_raw_path = \"/Users/bradkittrell/Projects/imdb/IMDB_Fun/Data/raw/title.ratings.tsv.gz\"\n",
    "with gzip.open(ratings_raw_path, 'rt', encoding='utf-8') as gz_file:\n",
    "    ratings = pl.read_csv(gz_file, separator=\"\\t\")"
   ]
  },
  {
   "cell_type": "code",
   "execution_count": 10,
   "metadata": {},
   "outputs": [
    {
     "data": {
      "text/html": [
       "<div><style>\n",
       ".dataframe > thead > tr,\n",
       ".dataframe > tbody > tr {\n",
       "  text-align: right;\n",
       "  white-space: pre-wrap;\n",
       "}\n",
       "</style>\n",
       "<small>shape: (9, 4)</small><table border=\"1\" class=\"dataframe\"><thead><tr><th>statistic</th><th>tconst</th><th>averageRating</th><th>numVotes</th></tr><tr><td>str</td><td>str</td><td>f64</td><td>f64</td></tr></thead><tbody><tr><td>&quot;count&quot;</td><td>&quot;1476218&quot;</td><td>1.476218e6</td><td>1.476218e6</td></tr><tr><td>&quot;null_count&quot;</td><td>&quot;0&quot;</td><td>0.0</td><td>0.0</td></tr><tr><td>&quot;mean&quot;</td><td>null</td><td>6.961667</td><td>1031.263322</td></tr><tr><td>&quot;std&quot;</td><td>null</td><td>1.378719</td><td>17751.222088</td></tr><tr><td>&quot;min&quot;</td><td>&quot;tt0000001&quot;</td><td>1.0</td><td>5.0</td></tr><tr><td>&quot;25%&quot;</td><td>null</td><td>6.2</td><td>11.0</td></tr><tr><td>&quot;50%&quot;</td><td>null</td><td>7.2</td><td>26.0</td></tr><tr><td>&quot;75%&quot;</td><td>null</td><td>7.9</td><td>101.0</td></tr><tr><td>&quot;max&quot;</td><td>&quot;tt9916880&quot;</td><td>10.0</td><td>2.939682e6</td></tr></tbody></table></div>"
      ],
      "text/plain": [
       "shape: (9, 4)\n",
       "┌────────────┬───────────┬───────────────┬──────────────┐\n",
       "│ statistic  ┆ tconst    ┆ averageRating ┆ numVotes     │\n",
       "│ ---        ┆ ---       ┆ ---           ┆ ---          │\n",
       "│ str        ┆ str       ┆ f64           ┆ f64          │\n",
       "╞════════════╪═══════════╪═══════════════╪══════════════╡\n",
       "│ count      ┆ 1476218   ┆ 1.476218e6    ┆ 1.476218e6   │\n",
       "│ null_count ┆ 0         ┆ 0.0           ┆ 0.0          │\n",
       "│ mean       ┆ null      ┆ 6.961667      ┆ 1031.263322  │\n",
       "│ std        ┆ null      ┆ 1.378719      ┆ 17751.222088 │\n",
       "│ min        ┆ tt0000001 ┆ 1.0           ┆ 5.0          │\n",
       "│ 25%        ┆ null      ┆ 6.2           ┆ 11.0         │\n",
       "│ 50%        ┆ null      ┆ 7.2           ┆ 26.0         │\n",
       "│ 75%        ┆ null      ┆ 7.9           ┆ 101.0        │\n",
       "│ max        ┆ tt9916880 ┆ 10.0          ┆ 2.939682e6   │\n",
       "└────────────┴───────────┴───────────────┴──────────────┘"
      ]
     },
     "execution_count": 10,
     "metadata": {},
     "output_type": "execute_result"
    }
   ],
   "source": [
    "ratings.describe()"
   ]
  },
  {
   "cell_type": "code",
   "execution_count": null,
   "metadata": {},
   "outputs": [
    {
     "data": {
      "text/plain": [
       "<seaborn.axisgrid.FacetGrid at 0x175f4ba90>"
      ]
     },
     "execution_count": 13,
     "metadata": {},
     "output_type": "execute_result"
    },
    {
     "data": {
      "image/png": "[encoded data removed]",
      "text/plain": [
       "<Figure size 500x500 with 1 Axes>"
      ]
     },
     "metadata": {},
     "output_type": "display_data"
    }
   ],
   "source": [
    "from statistics import kde\n",
    "\n",
    "\n",
    "sns.displot(data=ratings, x='averageRating',)"
   ]
  },
  {
   "cell_type": "code",
   "execution_count": 22,
   "metadata": {},
   "outputs": [
    {
     "data": {
      "text/plain": [
       "<seaborn.axisgrid.FacetGrid at 0x3c29a7f50>"
      ]
     },
     "execution_count": 22,
     "metadata": {},
     "output_type": "execute_result"
    },
    {
     "data": {
      "image/png": "[encoded data removed]",
      "text/plain": [
       "<Figure size 500x500 with 1 Axes>"
      ]
     },
     "metadata": {},
     "output_type": "display_data"
    }
   ],
   "source": [
    "sns.displot(data=ratings.filter(\n",
    "    pl.col('numVotes') > 1000), x='numVotes', bins=100)"
   ]
  },
  {
   "cell_type": "code",
   "execution_count": 31,
   "metadata": {},
   "outputs": [],
   "source": [
    "# relationship between num votes and rating?\n",
    "\n",
    "ratings.write_parquet(\n",
    "    \"/Users/bradkittrell/Projects/imdb/IMDB_Fun/Data/processed/title_ratings.parquet\")"
   ]
  },
  {
   "cell_type": "code",
   "execution_count": 66,
   "metadata": {},
   "outputs": [],
   "source": [
    "with open(title_basics_processed_path, 'r') as file:\n",
    "    for line_num, line in enumerate(file):\n",
    "        if '\"' in line and line.count('\"') % 2 != 0:\n",
    "            print(f\"Problem in line {line_num + 1}: {line}\")\n",
    "\n",
    "# with open(title_basics_processed_path, 'r') as file:\n",
    "#     for line_num, line in enumerate(file):\n",
    "#         if '\"Rome brûle\"' in line:\n",
    "#             print(f\"Problem in line {line_num + 1}: {line}\")\n",
    "\n",
    "\n",
    "# Open the input file for reading and the output file for writing\n",
    "with open(title_basics_raw_path, 'r') as infile, open(title_basics_processed_path, 'w') as outfile:\n",
    "    for line in infile:\n",
    "        # Skip lines with mismatched quotes\n",
    "        if '\"' in line and line.count('\"') % 2 != 0:\n",
    "            continue  # Do not write this line to the output file\n",
    "\n",
    "        # Skip lines containing the specific phrase\n",
    "        if '\"Rome brûle\" (Portrait de Shirley Clarke)' in line:\n",
    "            continue  # Do not write this line to the output file\n",
    "        if 'The New Mrs Saunders' in line:\n",
    "            continue\n",
    "        if 'Gates Ajar' in line:\n",
    "            continue\n",
    "        # Write all other lines to the output file\n",
    "        outfile.write(line)"
   ]
  },
  {
   "cell_type": "code",
   "execution_count": 59,
   "metadata": {},
   "outputs": [],
   "source": [
    "\n",
    "\n",
    "def clean_bad_tsv(path: str, output_dir):\n",
    "    \"\"\"_summary_\n",
    "\n",
    "    Args:\n",
    "        path (str): _description_\n",
    "    \"\"\"\n",
    "\n",
    "    with open(path, 'r') as infile, open(output_dir, 'w') as outfile:\n",
    "        for line in infile:\n",
    "            # Fix mismatched quotes\n",
    "            if '\"' in line and line.count('\"') % 2 != 0:\n",
    "                # Or implement a better custom fix\n",
    "                line = line.replace('\"', '')\n",
    "            outfile.write(line)\n",
    "\n",
    "    return\n",
    "\n",
    "\n",
    "title_basics_processed_path = \"/Users/bradkittrell/Projects/imdb/IMDB_Fun/Data/processed/title.basics.tsv\"\n",
    "clean_bad_tsv(title_basics_raw_path, output_dir=title_basics_processed_path)"
   ]
  },
  {
   "cell_type": "code",
   "execution_count": 97,
   "metadata": {},
   "outputs": [],
   "source": [
    "title_basics_processed_path = \"/Users/bradkittrell/Projects/imdb/IMDB_Fun/Data/processed/title_basics_movies.parquet\"\n",
    "\n",
    "title_basics = pl.read_parquet(title_basics_processed_path,\n",
    "                               )"
   ]
  },
  {
   "cell_type": "code",
   "execution_count": 99,
   "metadata": {},
   "outputs": [
    {
     "data": {
      "text/html": [
       "<div><style>\n",
       ".dataframe > thead > tr,\n",
       ".dataframe > tbody > tr {\n",
       "  text-align: right;\n",
       "  white-space: pre-wrap;\n",
       "}\n",
       "</style>\n",
       "<small>shape: (9, 11)</small><table border=\"1\" class=\"dataframe\"><thead><tr><th>statistic</th><th>tconst</th><th>titleType</th><th>primaryTitle</th><th>originalTitle</th><th>isAdult</th><th>startYear</th><th>endYear</th><th>runtimeMinutes</th><th>genres</th><th>__index_level_0__</th></tr><tr><td>str</td><td>str</td><td>str</td><td>str</td><td>str</td><td>f64</td><td>f64</td><td>f64</td><td>f64</td><td>str</td><td>f64</td></tr></thead><tbody><tr><td>&quot;count&quot;</td><td>&quot;518825&quot;</td><td>&quot;518825&quot;</td><td>&quot;518823&quot;</td><td>&quot;518823&quot;</td><td>518825.0</td><td>518825.0</td><td>518825.0</td><td>518825.0</td><td>&quot;518825&quot;</td><td>518825.0</td></tr><tr><td>&quot;null_count&quot;</td><td>&quot;0&quot;</td><td>&quot;0&quot;</td><td>&quot;2&quot;</td><td>&quot;2&quot;</td><td>0.0</td><td>0.0</td><td>0.0</td><td>0.0</td><td>&quot;0&quot;</td><td>0.0</td></tr><tr><td>&quot;mean&quot;</td><td>null</td><td>null</td><td>null</td><td>null</td><td>0.017584</td><td>2001.710004</td><td>0.0</td><td>68.480403</td><td>null</td><td>4.2714e6</td></tr><tr><td>&quot;std&quot;</td><td>null</td><td>null</td><td>null</td><td>null</td><td>0.131434</td><td>19.892149</td><td>0.0</td><td>142.539455</td><td>null</td><td>3.6399e6</td></tr><tr><td>&quot;min&quot;</td><td>&quot;tt0011801&quot;</td><td>&quot;movie&quot;</td><td>&quot;!Women Art Revolution&quot;</td><td>&quot;#&quot;</td><td>0.0</td><td>1951.0</td><td>0.0</td><td>0.0</td><td>&quot;Action&quot;</td><td>11632.0</td></tr><tr><td>&quot;25%&quot;</td><td>null</td><td>null</td><td>null</td><td>null</td><td>0.0</td><td>1988.0</td><td>0.0</td><td>45.0</td><td>null</td><td>338863.0</td></tr><tr><td>&quot;50%&quot;</td><td>null</td><td>null</td><td>null</td><td>null</td><td>0.0</td><td>2009.0</td><td>0.0</td><td>81.0</td><td>null</td><td>3.917664e6</td></tr><tr><td>&quot;75%&quot;</td><td>null</td><td>null</td><td>null</td><td>null</td><td>0.0</td><td>2017.0</td><td>0.0</td><td>96.0</td><td>null</td><td>7.660926e6</td></tr><tr><td>&quot;max&quot;</td><td>&quot;tt9916754&quot;</td><td>&quot;movie&quot;</td><td>&quot;Пожиратель&quot;</td><td>&quot;împetu&quot;</td><td>1.0</td><td>2031.0</td><td>0.0</td><td>59460.0</td><td>&quot;\\N&quot;</td><td>1.1076541e7</td></tr></tbody></table></div>"
      ],
      "text/plain": [
       "shape: (9, 11)\n",
       "┌────────────┬───────────┬───────────┬────────────┬───┬──────────┬────────────┬────────┬───────────┐\n",
       "│ statistic  ┆ tconst    ┆ titleType ┆ primaryTit ┆ … ┆ endYear  ┆ runtimeMin ┆ genres ┆ __index_l │\n",
       "│ ---        ┆ ---       ┆ ---       ┆ le         ┆   ┆ ---      ┆ utes       ┆ ---    ┆ evel_0__  │\n",
       "│ str        ┆ str       ┆ str       ┆ ---        ┆   ┆ f64      ┆ ---        ┆ str    ┆ ---       │\n",
       "│            ┆           ┆           ┆ str        ┆   ┆          ┆ f64        ┆        ┆ f64       │\n",
       "╞════════════╪═══════════╪═══════════╪════════════╪═══╪══════════╪════════════╪════════╪═══════════╡\n",
       "│ count      ┆ 518825    ┆ 518825    ┆ 518823     ┆ … ┆ 518825.0 ┆ 518825.0   ┆ 518825 ┆ 518825.0  │\n",
       "│ null_count ┆ 0         ┆ 0         ┆ 2          ┆ … ┆ 0.0      ┆ 0.0        ┆ 0      ┆ 0.0       │\n",
       "│ mean       ┆ null      ┆ null      ┆ null       ┆ … ┆ 0.0      ┆ 68.480403  ┆ null   ┆ 4.2714e6  │\n",
       "│ std        ┆ null      ┆ null      ┆ null       ┆ … ┆ 0.0      ┆ 142.539455 ┆ null   ┆ 3.6399e6  │\n",
       "│ min        ┆ tt0011801 ┆ movie     ┆ !Women Art ┆ … ┆ 0.0      ┆ 0.0        ┆ Action ┆ 11632.0   │\n",
       "│            ┆           ┆           ┆ Revolution ┆   ┆          ┆            ┆        ┆           │\n",
       "│ 25%        ┆ null      ┆ null      ┆ null       ┆ … ┆ 0.0      ┆ 45.0       ┆ null   ┆ 338863.0  │\n",
       "│ 50%        ┆ null      ┆ null      ┆ null       ┆ … ┆ 0.0      ┆ 81.0       ┆ null   ┆ 3.917664e │\n",
       "│            ┆           ┆           ┆            ┆   ┆          ┆            ┆        ┆ 6         │\n",
       "│ 75%        ┆ null      ┆ null      ┆ null       ┆ … ┆ 0.0      ┆ 96.0       ┆ null   ┆ 7.660926e │\n",
       "│            ┆           ┆           ┆            ┆   ┆          ┆            ┆        ┆ 6         │\n",
       "│ max        ┆ tt9916754 ┆ movie     ┆ Пожиратель ┆ … ┆ 0.0      ┆ 59460.0    ┆ \\N     ┆ 1.1076541 │\n",
       "│            ┆           ┆           ┆            ┆   ┆          ┆            ┆        ┆ e7        │\n",
       "└────────────┴───────────┴───────────┴────────────┴───┴──────────┴────────────┴────────┴───────────┘"
      ]
     },
     "execution_count": 99,
     "metadata": {},
     "output_type": "execute_result"
    }
   ],
   "source": [
    "title_basics.describe()"
   ]
  },
  {
   "cell_type": "code",
   "execution_count": 74,
   "metadata": {},
   "outputs": [
    {
     "data": {
      "text/html": [
       "<div>\n",
       "<style scoped>\n",
       "    .dataframe tbody tr th:only-of-type {\n",
       "        vertical-align: middle;\n",
       "    }\n",
       "\n",
       "    .dataframe tbody tr th {\n",
       "        vertical-align: top;\n",
       "    }\n",
       "\n",
       "    .dataframe thead th {\n",
       "        text-align: right;\n",
       "    }\n",
       "</style>\n",
       "<table border=\"1\" class=\"dataframe\">\n",
       "  <thead>\n",
       "    <tr style=\"text-align: right;\">\n",
       "      <th></th>\n",
       "      <th>startYear</th>\n",
       "      <th>endYear</th>\n",
       "    </tr>\n",
       "  </thead>\n",
       "  <tbody>\n",
       "    <tr>\n",
       "      <th>count</th>\n",
       "      <td>1.107659e+07</td>\n",
       "      <td>1.107659e+07</td>\n",
       "    </tr>\n",
       "    <tr>\n",
       "      <th>mean</th>\n",
       "      <td>1.749636e+03</td>\n",
       "      <td>2.347635e+01</td>\n",
       "    </tr>\n",
       "    <tr>\n",
       "      <th>std</th>\n",
       "      <td>6.698880e+02</td>\n",
       "      <td>2.158049e+02</td>\n",
       "    </tr>\n",
       "    <tr>\n",
       "      <th>min</th>\n",
       "      <td>0.000000e+00</td>\n",
       "      <td>0.000000e+00</td>\n",
       "    </tr>\n",
       "    <tr>\n",
       "      <th>25%</th>\n",
       "      <td>1.987000e+03</td>\n",
       "      <td>0.000000e+00</td>\n",
       "    </tr>\n",
       "    <tr>\n",
       "      <th>50%</th>\n",
       "      <td>2.011000e+03</td>\n",
       "      <td>0.000000e+00</td>\n",
       "    </tr>\n",
       "    <tr>\n",
       "      <th>75%</th>\n",
       "      <td>2.018000e+03</td>\n",
       "      <td>0.000000e+00</td>\n",
       "    </tr>\n",
       "    <tr>\n",
       "      <th>max</th>\n",
       "      <td>2.031000e+03</td>\n",
       "      <td>2.030000e+03</td>\n",
       "    </tr>\n",
       "  </tbody>\n",
       "</table>\n",
       "</div>"
      ],
      "text/plain": [
       "          startYear       endYear\n",
       "count  1.107659e+07  1.107659e+07\n",
       "mean   1.749636e+03  2.347635e+01\n",
       "std    6.698880e+02  2.158049e+02\n",
       "min    0.000000e+00  0.000000e+00\n",
       "25%    1.987000e+03  0.000000e+00\n",
       "50%    2.011000e+03  0.000000e+00\n",
       "75%    2.018000e+03  0.000000e+00\n",
       "max    2.031000e+03  2.030000e+03"
      ]
     },
     "execution_count": 74,
     "metadata": {},
     "output_type": "execute_result"
    }
   ],
   "source": [
    "title_basics['endYear'] = title_basics['endYear'].replace(r'\\\\N', '0', regex=True).astype(\n",
    "    int)\n",
    "\n",
    "title_basics['startYear'] = title_basics['startYear'].replace(r'\\\\N', '0', regex=True).astype(\n",
    "    int)\n",
    "\n",
    "title_basics.describe()"
   ]
  },
  {
   "cell_type": "code",
   "execution_count": 95,
   "metadata": {},
   "outputs": [
    {
     "name": "stdout",
     "output_type": "stream",
     "text": [
      "length overall 11076591\n",
      "length after 1950: 9450442\n"
     ]
    },
    {
     "name": "stderr",
     "output_type": "stream",
     "text": [
      "/var/folders/2y/ff9nvh415f39qp7gpf59jk440000gn/T/ipykernel_1862/1674133035.py:10: SettingWithCopyWarning: \n",
      "A value is trying to be set on a copy of a slice from a DataFrame.\n",
      "Try using .loc[row_indexer,col_indexer] = value instead\n",
      "\n",
      "See the caveats in the documentation: https://pandas.pydata.org/pandas-docs/stable/user_guide/indexing.html#returning-a-view-versus-a-copy\n",
      "  title_basics_cleaned['isAdult'] = title_basics_cleaned['isAdult'].astype(int)\n",
      "/var/folders/2y/ff9nvh415f39qp7gpf59jk440000gn/T/ipykernel_1862/1674133035.py:11: SettingWithCopyWarning: \n",
      "A value is trying to be set on a copy of a slice from a DataFrame.\n",
      "Try using .loc[row_indexer,col_indexer] = value instead\n",
      "\n",
      "See the caveats in the documentation: https://pandas.pydata.org/pandas-docs/stable/user_guide/indexing.html#returning-a-view-versus-a-copy\n",
      "  title_basics_cleaned['startYear'] = title_basics_cleaned['startYear'].astype(\n",
      "/var/folders/2y/ff9nvh415f39qp7gpf59jk440000gn/T/ipykernel_1862/1674133035.py:13: SettingWithCopyWarning: \n",
      "A value is trying to be set on a copy of a slice from a DataFrame.\n",
      "Try using .loc[row_indexer,col_indexer] = value instead\n",
      "\n",
      "See the caveats in the documentation: https://pandas.pydata.org/pandas-docs/stable/user_guide/indexing.html#returning-a-view-versus-a-copy\n",
      "  title_basics_cleaned['endYear'] = title_basics_cleaned['endYear'].astype(int)\n",
      "/var/folders/2y/ff9nvh415f39qp7gpf59jk440000gn/T/ipykernel_1862/1674133035.py:14: SettingWithCopyWarning: \n",
      "A value is trying to be set on a copy of a slice from a DataFrame.\n",
      "Try using .loc[row_indexer,col_indexer] = value instead\n",
      "\n",
      "See the caveats in the documentation: https://pandas.pydata.org/pandas-docs/stable/user_guide/indexing.html#returning-a-view-versus-a-copy\n",
      "  title_basics_cleaned['runtimeMinutes'] = title_basics_cleaned['runtimeMinutes'].replace(r'\\\\N', '0', regex=True).astype(\n"
     ]
    }
   ],
   "source": [
    "# drop anything before 1950\n",
    "print(f\"length overall {title_basics.shape[0]}\")\n",
    "\n",
    "print(\n",
    "    f\"length after 1950: {title_basics[title_basics['startYear']>1950].shape[0]}\")\n",
    "\n",
    "title_basics_cleaned = title_basics[(title_basics['startYear'] > 1950) & (\n",
    "    title_basics['titleType'] == 'movie')]\n",
    "\n",
    "title_basics_cleaned['isAdult'] = title_basics_cleaned['isAdult'].astype(int)\n",
    "title_basics_cleaned['startYear'] = title_basics_cleaned['startYear'].astype(\n",
    "    int)\n",
    "title_basics_cleaned['endYear'] = title_basics_cleaned['endYear'].astype(int)\n",
    "title_basics_cleaned['runtimeMinutes'] = title_basics_cleaned['runtimeMinutes'].replace(r'\\\\N', '0', regex=True).astype(\n",
    "    int)\n",
    "\n",
    "\n",
    "title_basics_cleaned.to_parquet(\n",
    "    \"/Users/bradkittrell/Projects/imdb/IMDB_Fun/Data/processed/title_basics_movies.parquet\")\n",
    "\n",
    "# title_basics_cleaned.isAdult.value_counts()"
   ]
  }
 ],
 "metadata": {
  "kernelspec": {
   "display_name": "data_science",
   "language": "python",
   "name": "python3"
  },
  "language_info": {
   "codemirror_mode": {
    "name": "ipython",
    "version": 3
   },
   "file_extension": ".py",
   "mimetype": "text/x-python",
   "name": "python",
   "nbconvert_exporter": "python",
   "pygments_lexer": "ipython3",
   "version": "3.11.8"
  }
 },
 "nbformat": 4,
 "nbformat_minor": 2
}
