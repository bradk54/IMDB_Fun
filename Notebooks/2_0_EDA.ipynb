{
 "cells": [
  {
   "cell_type": "markdown",
   "metadata": {},
   "source": [
    "# Exploratory Data Analysis with a small subset of data\n",
    "- Use a subset of major directors -> around 20\n",
    "- subset those directors to their films\n",
    "- subset ratings and etc\n",
    "- need to explor incorporting OMDB to get the ratings and view various ranking systems on good films\n"
   ]
  },
  {
   "cell_type": "markdown",
   "metadata": {},
   "source": [
    "#### Load Packages"
   ]
  },
  {
   "cell_type": "code",
   "execution_count": 1,
   "metadata": {},
   "outputs": [],
   "source": [
    "import pandas as pd\n",
    "import polars as pl\n",
    "import numpy as np\n",
    "import gzip\n",
    "import pyarrow\n",
    "import sys\n",
    "from pathlib import Path\n",
    "from tqdm import tqdm\n",
    "import os\n",
    "\n",
    "\n",
    "import matplotlib.pyplot as plt\n",
    "import seaborn as sns\n",
    "import sys\n",
    "from pathlib import Path\n",
    "\n",
    "sns.set_theme(style=\"darkgrid\")\n",
    "\n",
    "# Add the `src` folder to Python's search path\n",
    "src_path = \"/Users/bradkittrell/Projects/imdb/IMDB_Fun/src\"\n",
    "sys.path.append(src_path)"
   ]
  },
  {
   "cell_type": "code",
   "execution_count": 2,
   "metadata": {},
   "outputs": [],
   "source": [
    "from data import generate_dataset\n",
    "from features import build_features\n",
    "import json\n",
    "\n",
    "# Load the JSON file\n",
    "with open(\"/Users/bradkittrell/Projects/imdb/IMDB_Fun/src/data/api_keys.json\", \"r\") as json_file:\n",
    "    config = json.load(json_file)\n",
    "\n",
    "omdb_key = config['OMDB_API_KEY']"
   ]
  },
  {
   "cell_type": "markdown",
   "metadata": {},
   "source": [
    "## Load Data and merge"
   ]
  },
  {
   "cell_type": "code",
   "execution_count": 3,
   "metadata": {},
   "outputs": [
    {
     "name": "stderr",
     "output_type": "stream",
     "text": [
      "INFO:root:No path provided. Using default path: /Users/bradkittrell/Projects/imdb/IMDB_Fun/Data/processed/name.parquet\n",
      "INFO:root:Successfully loaded data from /Users/bradkittrell/Projects/imdb/IMDB_Fun/Data/processed/name.parquet\n",
      "INFO:root:Filtered names data to include only rows where birthYear > 1899\n",
      "INFO:root:Dropped __index_level_0__ column\n",
      "INFO:root:No path provided. Using default path: /Users/bradkittrell/Projects/imdb/IMDB_Fun/Data/processed/title_crew.parquet\n",
      "INFO:root:Successfully loaded data from /Users/bradkittrell/Projects/imdb/IMDB_Fun/Data/processed/title_crew.parquet\n",
      "INFO:root:No path provided. Using default path: /Users/bradkittrell/Projects/imdb/IMDB_Fun/Data/processed/title_basics_movies.parquet\n",
      "INFO:root:Successfully loaded data from /Users/bradkittrell/Projects/imdb/IMDB_Fun/Data/processed/title_basics_movies.parquet\n",
      "INFO:root:Dropped __index_level_0__ column\n"
     ]
    }
   ],
   "source": [
    "# going to use imdbs list of top 25 directors of all time\n",
    "\n",
    "names = generate_dataset.load_names(None)\n",
    "film_crew = generate_dataset.load_crew(None)\n",
    "films = generate_dataset.load_title_basics(None)"
   ]
  },
  {
   "cell_type": "code",
   "execution_count": 5,
   "metadata": {},
   "outputs": [],
   "source": [
    "\n",
    "top_n_directors = [\"Steven Spielberg\", \"Martin Scorsese\", \"Alfred Hitchcock\", \"Roman Polanksi\",\n",
    "                   \"John Ford\", \"Billy Wilder\", \"James Cameron\", \"Tim Burton\", \"Ridley Scott\", \"Joel Coen\", \"David Fincher\",\n",
    "                   \"Christopher Nolan\", \"Clint Eastwood\", \"David Lean\", \"Woody Allen\", \"Stanley Kubrick\", \"Danny Boyle\", \"George Lucas\", \"Peter Jackson\", \"Quentin Tarantino\",\n",
    "                   \"Fancis Ford Coppola\"]\n",
    "# lots of duplicate names or same names rather\n",
    "top_n_directors_names = names.filter((pl.col(\"primaryName\").is_in(\n",
    "    top_n_directors)) & (pl.col(\"nconst\") != \"nm13407303\") & (pl.col(\"nconst\") != \"nm0131607\") & (pl.col(\"nconst\") != \"nm0131609\") & (pl.col(\"nconst\") != \"nm7812401\"))[[\"nconst\", \"primaryName\"]]\n",
    "\n",
    "top_n_directors_names\n",
    "\n",
    "\n",
    "film_crew = film_crew.filter(\n",
    "    pl.col(\"directors\").is_in(top_n_directors_names[\"nconst\"]))\n",
    "\n",
    "top_n_directors_names_films = film_crew.join(top_n_directors_names, left_on=\"directors\",\n",
    "                                             right_on=\"nconst\", how=\"inner\")[[\"tconst\", \"primaryName\"]]\n",
    "\n",
    "top_n_directors_names_films = top_n_directors_names_films.join(\n",
    "    films, on=\"tconst\")"
   ]
  },
  {
   "cell_type": "code",
   "execution_count": 8,
   "metadata": {},
   "outputs": [
    {
     "name": "stderr",
     "output_type": "stream",
     "text": [
      "INFO:root:No path provided. Using default path: /Users/bradkittrell/Projects/imdb/IMDB_Fun/Data/external/omdb.csv\n"
     ]
    },
    {
     "name": "stdout",
     "output_type": "stream",
     "text": [
      "Fetching data for tt10548174...\n",
      "Fetching data for tt15047880...\n",
      "Fetching data for tt1757678...\n"
     ]
    },
    {
     "name": "stderr",
     "output_type": "stream",
     "text": [
      "INFO:root:No path provided. Using default path: /Users/bradkittrell/Projects/imdb/IMDB_Fun/Data/external/omdb.csv\n"
     ]
    },
    {
     "name": "stdout",
     "output_type": "stream",
     "text": [
      "Fetching data for tt3095356...\n",
      "Fetching data for tt5637536...\n",
      "Updated cache with 5 new entries.\n"
     ]
    },
    {
     "data": {
      "text/html": [
       "<div>\n",
       "<style scoped>\n",
       "    .dataframe tbody tr th:only-of-type {\n",
       "        vertical-align: middle;\n",
       "    }\n",
       "\n",
       "    .dataframe tbody tr th {\n",
       "        vertical-align: top;\n",
       "    }\n",
       "\n",
       "    .dataframe thead th {\n",
       "        text-align: right;\n",
       "    }\n",
       "</style>\n",
       "<table border=\"1\" class=\"dataframe\">\n",
       "  <thead>\n",
       "    <tr style=\"text-align: right;\">\n",
       "      <th></th>\n",
       "      <th>Title</th>\n",
       "      <th>Year</th>\n",
       "      <th>Rated</th>\n",
       "      <th>Released</th>\n",
       "      <th>Runtime</th>\n",
       "      <th>Genre</th>\n",
       "      <th>Director</th>\n",
       "      <th>Writer</th>\n",
       "      <th>Actors</th>\n",
       "      <th>Plot</th>\n",
       "      <th>...</th>\n",
       "      <th>imdbVotes</th>\n",
       "      <th>imdbID</th>\n",
       "      <th>Type</th>\n",
       "      <th>DVD</th>\n",
       "      <th>BoxOffice</th>\n",
       "      <th>Production</th>\n",
       "      <th>Website</th>\n",
       "      <th>Response</th>\n",
       "      <th>RatingSource</th>\n",
       "      <th>RatingValue</th>\n",
       "    </tr>\n",
       "  </thead>\n",
       "  <tbody>\n",
       "    <tr>\n",
       "      <th>0</th>\n",
       "      <td>Once Upon a Time... in Hollywood</td>\n",
       "      <td>2019</td>\n",
       "      <td>R</td>\n",
       "      <td>26 Jul 2019</td>\n",
       "      <td>161 min</td>\n",
       "      <td>Comedy, Drama</td>\n",
       "      <td>Quentin Tarantino</td>\n",
       "      <td>Quentin Tarantino</td>\n",
       "      <td>Leonardo DiCaprio, Brad Pitt, Margot Robbie</td>\n",
       "      <td>Quentin Tarantino's Once Upon a Time... in Hol...</td>\n",
       "      <td>...</td>\n",
       "      <td>882,682</td>\n",
       "      <td>tt7131622</td>\n",
       "      <td>movie</td>\n",
       "      <td>NaN</td>\n",
       "      <td>$142,502,728</td>\n",
       "      <td>NaN</td>\n",
       "      <td>NaN</td>\n",
       "      <td>True</td>\n",
       "      <td>Internet Movie Database</td>\n",
       "      <td>7.6/10</td>\n",
       "    </tr>\n",
       "    <tr>\n",
       "      <th>1</th>\n",
       "      <td>Once Upon a Time... in Hollywood</td>\n",
       "      <td>2019</td>\n",
       "      <td>R</td>\n",
       "      <td>26 Jul 2019</td>\n",
       "      <td>161 min</td>\n",
       "      <td>Comedy, Drama</td>\n",
       "      <td>Quentin Tarantino</td>\n",
       "      <td>Quentin Tarantino</td>\n",
       "      <td>Leonardo DiCaprio, Brad Pitt, Margot Robbie</td>\n",
       "      <td>Quentin Tarantino's Once Upon a Time... in Hol...</td>\n",
       "      <td>...</td>\n",
       "      <td>882,682</td>\n",
       "      <td>tt7131622</td>\n",
       "      <td>movie</td>\n",
       "      <td>NaN</td>\n",
       "      <td>$142,502,728</td>\n",
       "      <td>NaN</td>\n",
       "      <td>NaN</td>\n",
       "      <td>True</td>\n",
       "      <td>Rotten Tomatoes</td>\n",
       "      <td>86%</td>\n",
       "    </tr>\n",
       "    <tr>\n",
       "      <th>2</th>\n",
       "      <td>Once Upon a Time... in Hollywood</td>\n",
       "      <td>2019</td>\n",
       "      <td>R</td>\n",
       "      <td>26 Jul 2019</td>\n",
       "      <td>161 min</td>\n",
       "      <td>Comedy, Drama</td>\n",
       "      <td>Quentin Tarantino</td>\n",
       "      <td>Quentin Tarantino</td>\n",
       "      <td>Leonardo DiCaprio, Brad Pitt, Margot Robbie</td>\n",
       "      <td>Quentin Tarantino's Once Upon a Time... in Hol...</td>\n",
       "      <td>...</td>\n",
       "      <td>882,682</td>\n",
       "      <td>tt7131622</td>\n",
       "      <td>movie</td>\n",
       "      <td>NaN</td>\n",
       "      <td>$142,502,728</td>\n",
       "      <td>NaN</td>\n",
       "      <td>NaN</td>\n",
       "      <td>True</td>\n",
       "      <td>Metacritic</td>\n",
       "      <td>84/100</td>\n",
       "    </tr>\n",
       "    <tr>\n",
       "      <th>3</th>\n",
       "      <td>Ace in the Hole</td>\n",
       "      <td>1951</td>\n",
       "      <td>Approved</td>\n",
       "      <td>04 Jul 1951</td>\n",
       "      <td>111 min</td>\n",
       "      <td>Drama, Film-Noir</td>\n",
       "      <td>Billy Wilder</td>\n",
       "      <td>Billy Wilder, Lesser Samuels, Walter Newman</td>\n",
       "      <td>Kirk Douglas, Jan Sterling, Robert Arthur</td>\n",
       "      <td>Charles Tatum, a down-on-his-luck reporter, ta...</td>\n",
       "      <td>...</td>\n",
       "      <td>40,295</td>\n",
       "      <td>tt0043338</td>\n",
       "      <td>movie</td>\n",
       "      <td>NaN</td>\n",
       "      <td>NaN</td>\n",
       "      <td>NaN</td>\n",
       "      <td>NaN</td>\n",
       "      <td>True</td>\n",
       "      <td>Internet Movie Database</td>\n",
       "      <td>8.1/10</td>\n",
       "    </tr>\n",
       "    <tr>\n",
       "      <th>4</th>\n",
       "      <td>Ace in the Hole</td>\n",
       "      <td>1951</td>\n",
       "      <td>Approved</td>\n",
       "      <td>04 Jul 1951</td>\n",
       "      <td>111 min</td>\n",
       "      <td>Drama, Film-Noir</td>\n",
       "      <td>Billy Wilder</td>\n",
       "      <td>Billy Wilder, Lesser Samuels, Walter Newman</td>\n",
       "      <td>Kirk Douglas, Jan Sterling, Robert Arthur</td>\n",
       "      <td>Charles Tatum, a down-on-his-luck reporter, ta...</td>\n",
       "      <td>...</td>\n",
       "      <td>40,295</td>\n",
       "      <td>tt0043338</td>\n",
       "      <td>movie</td>\n",
       "      <td>NaN</td>\n",
       "      <td>NaN</td>\n",
       "      <td>NaN</td>\n",
       "      <td>NaN</td>\n",
       "      <td>True</td>\n",
       "      <td>Rotten Tomatoes</td>\n",
       "      <td>90%</td>\n",
       "    </tr>\n",
       "    <tr>\n",
       "      <th>...</th>\n",
       "      <td>...</td>\n",
       "      <td>...</td>\n",
       "      <td>...</td>\n",
       "      <td>...</td>\n",
       "      <td>...</td>\n",
       "      <td>...</td>\n",
       "      <td>...</td>\n",
       "      <td>...</td>\n",
       "      <td>...</td>\n",
       "      <td>...</td>\n",
       "      <td>...</td>\n",
       "      <td>...</td>\n",
       "      <td>...</td>\n",
       "      <td>...</td>\n",
       "      <td>...</td>\n",
       "      <td>...</td>\n",
       "      <td>...</td>\n",
       "      <td>...</td>\n",
       "      <td>...</td>\n",
       "      <td>...</td>\n",
       "      <td>...</td>\n",
       "    </tr>\n",
       "    <tr>\n",
       "      <th>914</th>\n",
       "      <td>Rifkin's Festival</td>\n",
       "      <td>2020</td>\n",
       "      <td>PG-13</td>\n",
       "      <td>02 Oct 2020</td>\n",
       "      <td>88 min</td>\n",
       "      <td>Comedy, Romance</td>\n",
       "      <td>Woody Allen</td>\n",
       "      <td>Woody Allen</td>\n",
       "      <td>Wallace Shawn, Damian Chapa, Bobby Slayton</td>\n",
       "      <td>The film tells the story of an American couple...</td>\n",
       "      <td>...</td>\n",
       "      <td>10,048</td>\n",
       "      <td>tt8593904</td>\n",
       "      <td>movie</td>\n",
       "      <td>NaN</td>\n",
       "      <td>NaN</td>\n",
       "      <td>NaN</td>\n",
       "      <td>NaN</td>\n",
       "      <td>True</td>\n",
       "      <td>Rotten Tomatoes</td>\n",
       "      <td>41%</td>\n",
       "    </tr>\n",
       "    <tr>\n",
       "      <th>915</th>\n",
       "      <td>Rifkin's Festival</td>\n",
       "      <td>2020</td>\n",
       "      <td>PG-13</td>\n",
       "      <td>02 Oct 2020</td>\n",
       "      <td>88 min</td>\n",
       "      <td>Comedy, Romance</td>\n",
       "      <td>Woody Allen</td>\n",
       "      <td>Woody Allen</td>\n",
       "      <td>Wallace Shawn, Damian Chapa, Bobby Slayton</td>\n",
       "      <td>The film tells the story of an American couple...</td>\n",
       "      <td>...</td>\n",
       "      <td>10,048</td>\n",
       "      <td>tt8593904</td>\n",
       "      <td>movie</td>\n",
       "      <td>NaN</td>\n",
       "      <td>NaN</td>\n",
       "      <td>NaN</td>\n",
       "      <td>NaN</td>\n",
       "      <td>True</td>\n",
       "      <td>Metacritic</td>\n",
       "      <td>44/100</td>\n",
       "    </tr>\n",
       "    <tr>\n",
       "      <th>916</th>\n",
       "      <td>Gladiator II</td>\n",
       "      <td>2024</td>\n",
       "      <td>R</td>\n",
       "      <td>22 Nov 2024</td>\n",
       "      <td>148 min</td>\n",
       "      <td>Action, Adventure, Drama</td>\n",
       "      <td>Ridley Scott</td>\n",
       "      <td>David Franzoni, Peter Craig, David Scarpa</td>\n",
       "      <td>Paul Mescal, Denzel Washington, Pedro Pascal</td>\n",
       "      <td>After his home is conquered by the tyrannical ...</td>\n",
       "      <td>...</td>\n",
       "      <td>172,374</td>\n",
       "      <td>tt9218128</td>\n",
       "      <td>movie</td>\n",
       "      <td>NaN</td>\n",
       "      <td>$172,118,000</td>\n",
       "      <td>NaN</td>\n",
       "      <td>NaN</td>\n",
       "      <td>True</td>\n",
       "      <td>Internet Movie Database</td>\n",
       "      <td>6.6/10</td>\n",
       "    </tr>\n",
       "    <tr>\n",
       "      <th>917</th>\n",
       "      <td>Gladiator II</td>\n",
       "      <td>2024</td>\n",
       "      <td>R</td>\n",
       "      <td>22 Nov 2024</td>\n",
       "      <td>148 min</td>\n",
       "      <td>Action, Adventure, Drama</td>\n",
       "      <td>Ridley Scott</td>\n",
       "      <td>David Franzoni, Peter Craig, David Scarpa</td>\n",
       "      <td>Paul Mescal, Denzel Washington, Pedro Pascal</td>\n",
       "      <td>After his home is conquered by the tyrannical ...</td>\n",
       "      <td>...</td>\n",
       "      <td>172,374</td>\n",
       "      <td>tt9218128</td>\n",
       "      <td>movie</td>\n",
       "      <td>NaN</td>\n",
       "      <td>$172,118,000</td>\n",
       "      <td>NaN</td>\n",
       "      <td>NaN</td>\n",
       "      <td>True</td>\n",
       "      <td>Rotten Tomatoes</td>\n",
       "      <td>71%</td>\n",
       "    </tr>\n",
       "    <tr>\n",
       "      <th>918</th>\n",
       "      <td>Gladiator II</td>\n",
       "      <td>2024</td>\n",
       "      <td>R</td>\n",
       "      <td>22 Nov 2024</td>\n",
       "      <td>148 min</td>\n",
       "      <td>Action, Adventure, Drama</td>\n",
       "      <td>Ridley Scott</td>\n",
       "      <td>David Franzoni, Peter Craig, David Scarpa</td>\n",
       "      <td>Paul Mescal, Denzel Washington, Pedro Pascal</td>\n",
       "      <td>After his home is conquered by the tyrannical ...</td>\n",
       "      <td>...</td>\n",
       "      <td>172,374</td>\n",
       "      <td>tt9218128</td>\n",
       "      <td>movie</td>\n",
       "      <td>NaN</td>\n",
       "      <td>$172,118,000</td>\n",
       "      <td>NaN</td>\n",
       "      <td>NaN</td>\n",
       "      <td>True</td>\n",
       "      <td>Metacritic</td>\n",
       "      <td>64/100</td>\n",
       "    </tr>\n",
       "  </tbody>\n",
       "</table>\n",
       "<p>919 rows × 27 columns</p>\n",
       "</div>"
      ],
      "text/plain": [
       "                                Title  Year     Rated     Released  Runtime  \\\n",
       "0    Once Upon a Time... in Hollywood  2019         R  26 Jul 2019  161 min   \n",
       "1    Once Upon a Time... in Hollywood  2019         R  26 Jul 2019  161 min   \n",
       "2    Once Upon a Time... in Hollywood  2019         R  26 Jul 2019  161 min   \n",
       "3                     Ace in the Hole  1951  Approved  04 Jul 1951  111 min   \n",
       "4                     Ace in the Hole  1951  Approved  04 Jul 1951  111 min   \n",
       "..                                ...   ...       ...          ...      ...   \n",
       "914                 Rifkin's Festival  2020     PG-13  02 Oct 2020   88 min   \n",
       "915                 Rifkin's Festival  2020     PG-13  02 Oct 2020   88 min   \n",
       "916                      Gladiator II  2024         R  22 Nov 2024  148 min   \n",
       "917                      Gladiator II  2024         R  22 Nov 2024  148 min   \n",
       "918                      Gladiator II  2024         R  22 Nov 2024  148 min   \n",
       "\n",
       "                        Genre           Director  \\\n",
       "0               Comedy, Drama  Quentin Tarantino   \n",
       "1               Comedy, Drama  Quentin Tarantino   \n",
       "2               Comedy, Drama  Quentin Tarantino   \n",
       "3            Drama, Film-Noir       Billy Wilder   \n",
       "4            Drama, Film-Noir       Billy Wilder   \n",
       "..                        ...                ...   \n",
       "914           Comedy, Romance        Woody Allen   \n",
       "915           Comedy, Romance        Woody Allen   \n",
       "916  Action, Adventure, Drama       Ridley Scott   \n",
       "917  Action, Adventure, Drama       Ridley Scott   \n",
       "918  Action, Adventure, Drama       Ridley Scott   \n",
       "\n",
       "                                          Writer  \\\n",
       "0                              Quentin Tarantino   \n",
       "1                              Quentin Tarantino   \n",
       "2                              Quentin Tarantino   \n",
       "3    Billy Wilder, Lesser Samuels, Walter Newman   \n",
       "4    Billy Wilder, Lesser Samuels, Walter Newman   \n",
       "..                                           ...   \n",
       "914                                  Woody Allen   \n",
       "915                                  Woody Allen   \n",
       "916    David Franzoni, Peter Craig, David Scarpa   \n",
       "917    David Franzoni, Peter Craig, David Scarpa   \n",
       "918    David Franzoni, Peter Craig, David Scarpa   \n",
       "\n",
       "                                           Actors  \\\n",
       "0     Leonardo DiCaprio, Brad Pitt, Margot Robbie   \n",
       "1     Leonardo DiCaprio, Brad Pitt, Margot Robbie   \n",
       "2     Leonardo DiCaprio, Brad Pitt, Margot Robbie   \n",
       "3       Kirk Douglas, Jan Sterling, Robert Arthur   \n",
       "4       Kirk Douglas, Jan Sterling, Robert Arthur   \n",
       "..                                            ...   \n",
       "914    Wallace Shawn, Damian Chapa, Bobby Slayton   \n",
       "915    Wallace Shawn, Damian Chapa, Bobby Slayton   \n",
       "916  Paul Mescal, Denzel Washington, Pedro Pascal   \n",
       "917  Paul Mescal, Denzel Washington, Pedro Pascal   \n",
       "918  Paul Mescal, Denzel Washington, Pedro Pascal   \n",
       "\n",
       "                                                  Plot  ... imdbVotes  \\\n",
       "0    Quentin Tarantino's Once Upon a Time... in Hol...  ...   882,682   \n",
       "1    Quentin Tarantino's Once Upon a Time... in Hol...  ...   882,682   \n",
       "2    Quentin Tarantino's Once Upon a Time... in Hol...  ...   882,682   \n",
       "3    Charles Tatum, a down-on-his-luck reporter, ta...  ...    40,295   \n",
       "4    Charles Tatum, a down-on-his-luck reporter, ta...  ...    40,295   \n",
       "..                                                 ...  ...       ...   \n",
       "914  The film tells the story of an American couple...  ...    10,048   \n",
       "915  The film tells the story of an American couple...  ...    10,048   \n",
       "916  After his home is conquered by the tyrannical ...  ...   172,374   \n",
       "917  After his home is conquered by the tyrannical ...  ...   172,374   \n",
       "918  After his home is conquered by the tyrannical ...  ...   172,374   \n",
       "\n",
       "        imdbID   Type  DVD     BoxOffice Production Website Response  \\\n",
       "0    tt7131622  movie  NaN  $142,502,728        NaN     NaN     True   \n",
       "1    tt7131622  movie  NaN  $142,502,728        NaN     NaN     True   \n",
       "2    tt7131622  movie  NaN  $142,502,728        NaN     NaN     True   \n",
       "3    tt0043338  movie  NaN           NaN        NaN     NaN     True   \n",
       "4    tt0043338  movie  NaN           NaN        NaN     NaN     True   \n",
       "..         ...    ...  ...           ...        ...     ...      ...   \n",
       "914  tt8593904  movie  NaN           NaN        NaN     NaN     True   \n",
       "915  tt8593904  movie  NaN           NaN        NaN     NaN     True   \n",
       "916  tt9218128  movie  NaN  $172,118,000        NaN     NaN     True   \n",
       "917  tt9218128  movie  NaN  $172,118,000        NaN     NaN     True   \n",
       "918  tt9218128  movie  NaN  $172,118,000        NaN     NaN     True   \n",
       "\n",
       "                RatingSource RatingValue  \n",
       "0    Internet Movie Database      7.6/10  \n",
       "1            Rotten Tomatoes         86%  \n",
       "2                 Metacritic      84/100  \n",
       "3    Internet Movie Database      8.1/10  \n",
       "4            Rotten Tomatoes         90%  \n",
       "..                       ...         ...  \n",
       "914          Rotten Tomatoes         41%  \n",
       "915               Metacritic      44/100  \n",
       "916  Internet Movie Database      6.6/10  \n",
       "917          Rotten Tomatoes         71%  \n",
       "918               Metacritic      64/100  \n",
       "\n",
       "[919 rows x 27 columns]"
      ]
     },
     "execution_count": 8,
     "metadata": {},
     "output_type": "execute_result"
    }
   ],
   "source": [
    "from sys import api_version\n",
    "\n",
    "\n",
    "top5 = top_n_directors_names_films['tconst'].to_list()\n",
    "\n",
    "\n",
    "# generate_dataset.fetch_movie_data(imdb_film_id=top5[0], api_key=\"95497563\")\n",
    "generate_dataset.process_omdb_ids(api_key=omdb_key, imdb_ids=top5)"
   ]
  },
  {
   "cell_type": "code",
   "execution_count": 9,
   "metadata": {},
   "outputs": [
    {
     "name": "stderr",
     "output_type": "stream",
     "text": [
      "INFO:root:No path provided. Using default path: /Users/bradkittrell/Projects/imdb/IMDB_Fun/Data/external/omdb.csv\n"
     ]
    },
    {
     "name": "stdout",
     "output_type": "stream",
     "text": [
      "Ratings Sources: \n",
      "RatingSource\n",
      "Internet Movie Database    317\n",
      "Rotten Tomatoes            312\n",
      "Metacritic                 290\n",
      "Name: count, dtype: int64\n"
     ]
    },
    {
     "data": {
      "image/png": "[encoded data removed]",
      "text/plain": [
       "<Figure size 721x500 with 1 Axes>"
      ]
     },
     "metadata": {},
     "output_type": "display_data"
    },
    {
     "data": {
      "text/plain": [
       "<Axes: xlabel='RatingSource', ylabel='RatingSource'>"
      ]
     },
     "execution_count": 9,
     "metadata": {},
     "output_type": "execute_result"
    },
    {
     "data": {
      "image/png": "[encoded data removed]",
      "text/plain": [
       "<Figure size 640x480 with 2 Axes>"
      ]
     },
     "metadata": {},
     "output_type": "display_data"
    }
   ],
   "source": [
    "film_data = generate_dataset.load_cached_omdb_data(None)\n",
    "# one question I have is on ratings lets get them all on the same scale\n",
    "print(f\"Ratings Sources: \\n{film_data['RatingSource'].value_counts()}\")\n",
    "\n",
    "\n",
    "def convert_rating(rating, source):\n",
    "    \"\"\"_summary_\n",
    "    Converts ratings from various sources to a common scale. used in a lambda function\n",
    "    Args:\n",
    "        rating (_type_): _description_\n",
    "        source (_type_): _description_\n",
    "\n",
    "    Returns:\n",
    "        _type_: _description_\n",
    "    \"\"\"\n",
    "    if source == \"Internet Movie Database\":\n",
    "        return float(rating.split(\"/\")[0])*10\n",
    "    elif source == \"Rotten Tomatoes\":\n",
    "        return float(rating.replace(\"%\", \"\"))\n",
    "    elif source == \"Metacritic\":\n",
    "        return float(rating.split(\"/\")[0])\n",
    "    else:\n",
    "        return float(rating)\n",
    "\n",
    "\n",
    "film_data['RatingValueNumeric'] = film_data.apply(lambda x: convert_rating(\n",
    "    x[\"RatingValue\"], x[\"RatingSource\"]), axis=1)\n",
    "\n",
    "ratings_wide = film_data[['RatingValueNumeric', 'RatingSource', 'imdbID']].pivot(\n",
    "    columns='RatingSource', values='RatingValueNumeric', index='imdbID')\n",
    "\n",
    "sns.displot(ratings_wide, kind=\"kde\")\n",
    "plt.show()\n",
    "\n",
    "sns.heatmap(ratings_wide.corr(), annot=True)"
   ]
  },
  {
   "cell_type": "code",
   "execution_count": 10,
   "metadata": {},
   "outputs": [
    {
     "data": {
      "image/png": "[encoded data removed]",
      "text/plain": [
       "<Figure size 640x480 with 1 Axes>"
      ]
     },
     "metadata": {},
     "output_type": "display_data"
    }
   ],
   "source": [
    "top_n_directors_names_ratings = top_n_directors_names_films.join(pl.from_pandas(\n",
    "    ratings_wide.reset_index()), left_on=\"tconst\", right_on=\"imdbID\", how=\"inner\")\n",
    "\n",
    "top_n_directors_names_ratings = top_n_directors_names_ratings.join(pl.from_pandas(\n",
    "    film_data[['imdbID', 'BoxOffice', 'Released']].drop_duplicates()), left_on=\"tconst\", right_on=\"imdbID\", how=\"inner\")\n",
    "\n",
    "mean_director_metacritic = top_n_directors_names_ratings.group_by(\n",
    "    \"primaryName\").agg(pl.col(\"Metacritic\").mean())\n",
    "\n",
    "top_n_directors_names_ratings = top_n_directors_names_ratings.with_columns(\n",
    "    pl.col(\"Released\").str.to_datetime(\"%d %b %Y\").alias(\"Released\")).drop_nulls()\n",
    "sns.barplot(mean_director_metacritic.sort(\"Metacritic\", descending=True), y=\"primaryName\",\n",
    "            x=\"Metacritic\", orient=\"h\")\n",
    "plt.show()"
   ]
  },
  {
   "cell_type": "code",
   "execution_count": 11,
   "metadata": {},
   "outputs": [
    {
     "data": {
      "application/vnd.plotly.v1+json": {
       "config": {
        "plotlyServerURL": "https://plot.ly"
       },
       "data": [
        {
         "hoverinfo": "x+y+name",
         "hovertemplate": "primaryName=David Lean<br>Release Year=%{x}<br>Metacritic Score=%{y}<extra></extra>",
         "legendgroup": "David Lean",
         "line": {
          "color": "#636efa",
          "dash": "solid"
         },
         "marker": {
          "symbol": "circle"
         },
         "mode": "lines+markers",
         "name": "David Lean",
         "orientation": "v",
         "showlegend": true,
         "type": "scatter",
         "x": [
          1957,
          1965,
          1985,
          2013
         ],
         "xaxis": "x",
         "y": [
          88,
          69,
          78,
          100
         ],
         "yaxis": "y"
        },
        {
         "hoverinfo": "x+y+name",
         "hovertemplate": "primaryName=Billy Wilder<br>Release Year=%{x}<br>Metacritic Score=%{y}<extra></extra>",
         "legendgroup": "Billy Wilder",
         "line": {
          "color": "#EF553B",
          "dash": "solid"
         },
         "marker": {
          "symbol": "circle"
         },
         "mode": "lines+markers",
         "name": "Billy Wilder",
         "orientation": "v",
         "showlegend": true,
         "type": "scatter",
         "x": [
          1960
         ],
         "xaxis": "x",
         "y": [
          94
         ],
         "yaxis": "y"
        },
        {
         "hoverinfo": "x+y+name",
         "hovertemplate": "primaryName=Stanley Kubrick<br>Release Year=%{x}<br>Metacritic Score=%{y}<extra></extra>",
         "legendgroup": "Stanley Kubrick",
         "line": {
          "color": "#00cc96",
          "dash": "solid"
         },
         "marker": {
          "symbol": "circle"
         },
         "mode": "lines+markers",
         "name": "Stanley Kubrick",
         "orientation": "v",
         "showlegend": true,
         "type": "scatter",
         "x": [
          1964,
          1968,
          1972,
          1980,
          1987,
          1999
         ],
         "xaxis": "x",
         "y": [
          97,
          84,
          77,
          68,
          78,
          69
         ],
         "yaxis": "y"
        },
        {
         "hoverinfo": "x+y+name",
         "hovertemplate": "primaryName=George Lucas<br>Release Year=%{x}<br>Metacritic Score=%{y}<extra></extra>",
         "legendgroup": "George Lucas",
         "line": {
          "color": "#ab63fa",
          "dash": "solid"
         },
         "marker": {
          "symbol": "circle"
         },
         "mode": "lines+markers",
         "name": "George Lucas",
         "orientation": "v",
         "showlegend": true,
         "type": "scatter",
         "x": [
          1971,
          1973,
          1977,
          1999,
          2002,
          2005
         ],
         "xaxis": "x",
         "y": [
          75,
          97,
          90,
          51,
          54,
          68
         ],
         "yaxis": "y"
        },
        {
         "hoverinfo": "x+y+name",
         "hovertemplate": "primaryName=Clint Eastwood<br>Release Year=%{x}<br>Metacritic Score=%{y}<extra></extra>",
         "legendgroup": "Clint Eastwood",
         "line": {
          "color": "#FFA15A",
          "dash": "solid"
         },
         "marker": {
          "symbol": "circle"
         },
         "mode": "lines+markers",
         "name": "Clint Eastwood",
         "orientation": "v",
         "showlegend": true,
         "type": "scatter",
         "x": [
          1971,
          1973,
          1975,
          1976,
          1977,
          1980,
          1982,
          1983,
          1985,
          1986,
          1988,
          1990,
          1992,
          1993,
          1995,
          1997,
          1999,
          2000,
          2002,
          2003,
          2005,
          2006,
          2007,
          2008,
          2009,
          2010,
          2011,
          2014,
          2015,
          2016,
          2018,
          2019,
          2021
         ],
         "xaxis": "x",
         "y": [
          78,
          69,
          61,
          69,
          59,
          66,
          47,
          52,
          61,
          53,
          78,
          53.5,
          85,
          71,
          69,
          54.5,
          65,
          73,
          64,
          84,
          86,
          79,
          89,
          63,
          73,
          56,
          59,
          54,
          73,
          74,
          51.5,
          68,
          58
         ],
         "yaxis": "y"
        },
        {
         "hoverinfo": "x+y+name",
         "hovertemplate": "primaryName=Woody Allen<br>Release Year=%{x}<br>Metacritic Score=%{y}<extra></extra>",
         "legendgroup": "Woody Allen",
         "line": {
          "color": "#19d3f3",
          "dash": "solid"
         },
         "marker": {
          "symbol": "circle"
         },
         "mode": "lines+markers",
         "name": "Woody Allen",
         "orientation": "v",
         "showlegend": true,
         "type": "scatter",
         "x": [
          1972,
          1973,
          1975,
          1977,
          1978,
          1979,
          1982,
          1984,
          1985,
          1986,
          1987,
          1989,
          1991,
          1992,
          1993,
          1995,
          1998,
          2000,
          2001,
          2002,
          2003,
          2005,
          2006,
          2008,
          2009,
          2010,
          2011,
          2012,
          2013,
          2014,
          2015,
          2016,
          2017
         ],
         "xaxis": "x",
         "y": [
          66,
          77,
          89,
          92,
          67,
          83,
          51,
          82,
          75,
          90,
          74,
          77,
          67,
          84,
          71,
          59,
          51.5,
          69.5,
          52,
          46,
          43,
          54,
          60,
          59.5,
          45,
          51,
          81,
          54,
          78,
          54,
          53,
          64,
          46
         ],
         "yaxis": "y"
        },
        {
         "hoverinfo": "x+y+name",
         "hovertemplate": "primaryName=Martin Scorsese<br>Release Year=%{x}<br>Metacritic Score=%{y}<extra></extra>",
         "legendgroup": "Martin Scorsese",
         "line": {
          "color": "#FF6692",
          "dash": "solid"
         },
         "marker": {
          "symbol": "circle"
         },
         "mode": "lines+markers",
         "name": "Martin Scorsese",
         "orientation": "v",
         "showlegend": true,
         "type": "scatter",
         "x": [
          1973,
          1975,
          1976,
          1977,
          1978,
          1980,
          1982,
          1985,
          1986,
          1988,
          1990,
          1991,
          1993,
          1995,
          1998,
          1999,
          2002,
          2004,
          2006,
          2010,
          2011,
          2013,
          2017,
          2023
         ],
         "xaxis": "x",
         "y": [
          96,
          78,
          94,
          64,
          84,
          90,
          73,
          89,
          77,
          80,
          92,
          73,
          90,
          73,
          74,
          72,
          81,
          77,
          85,
          63,
          83,
          75,
          79,
          89
         ],
         "yaxis": "y"
        },
        {
         "hoverinfo": "x+y+name",
         "hovertemplate": "primaryName=Steven Spielberg<br>Release Year=%{x}<br>Metacritic Score=%{y}<extra></extra>",
         "legendgroup": "Steven Spielberg",
         "line": {
          "color": "#B6E880",
          "dash": "solid"
         },
         "marker": {
          "symbol": "circle"
         },
         "mode": "lines+markers",
         "name": "Steven Spielberg",
         "orientation": "v",
         "showlegend": true,
         "type": "scatter",
         "x": [
          1974,
          1975,
          1977,
          1979,
          1981,
          1982,
          1984,
          1986,
          1987,
          1989,
          1991,
          1993,
          1994,
          1997,
          1998,
          2001,
          2002,
          2004,
          2005,
          2006,
          2008,
          2011,
          2012,
          2015,
          2016,
          2018,
          2021,
          2022
         ],
         "xaxis": "x",
         "y": [
          65,
          87,
          90,
          34,
          86,
          92,
          57,
          78,
          62,
          57.5,
          52,
          68,
          95,
          61,
          91,
          65,
          77.5,
          55,
          73,
          74,
          65,
          70,
          87,
          81,
          66,
          73.5,
          85,
          85
         ],
         "yaxis": "y"
        },
        {
         "hoverinfo": "x+y+name",
         "hovertemplate": "primaryName=Ridley Scott<br>Release Year=%{x}<br>Metacritic Score=%{y}<extra></extra>",
         "legendgroup": "Ridley Scott",
         "line": {
          "color": "#FF97FF",
          "dash": "solid"
         },
         "marker": {
          "symbol": "circle"
         },
         "mode": "lines+markers",
         "name": "Ridley Scott",
         "orientation": "v",
         "showlegend": true,
         "type": "scatter",
         "x": [
          1979,
          1982,
          1986,
          1987,
          1989,
          1991,
          1992,
          1996,
          1997,
          2000,
          2001,
          2002,
          2003,
          2005,
          2006,
          2007,
          2008,
          2010,
          2012,
          2013,
          2014,
          2015,
          2017,
          2021,
          2023,
          2024
         ],
         "xaxis": "x",
         "y": [
          89,
          84,
          30,
          55,
          56,
          89,
          47,
          53,
          62,
          67,
          57,
          74,
          61,
          63,
          47,
          76,
          57,
          53,
          64,
          48,
          52,
          80,
          68.5,
          63,
          64,
          64
         ],
         "yaxis": "y"
        },
        {
         "hoverinfo": "x+y+name",
         "hovertemplate": "primaryName=James Cameron<br>Release Year=%{x}<br>Metacritic Score=%{y}<extra></extra>",
         "legendgroup": "James Cameron",
         "line": {
          "color": "#FECB52",
          "dash": "solid"
         },
         "marker": {
          "symbol": "circle"
         },
         "mode": "lines+markers",
         "name": "James Cameron",
         "orientation": "v",
         "showlegend": true,
         "type": "scatter",
         "x": [
          1984,
          1986,
          1989,
          1991,
          1994,
          1997,
          2009,
          2022
         ],
         "xaxis": "x",
         "y": [
          84,
          84,
          62,
          75,
          63,
          75,
          83,
          67
         ],
         "yaxis": "y"
        },
        {
         "hoverinfo": "x+y+name",
         "hovertemplate": "primaryName=Tim Burton<br>Release Year=%{x}<br>Metacritic Score=%{y}<extra></extra>",
         "legendgroup": "Tim Burton",
         "line": {
          "color": "#636efa",
          "dash": "solid"
         },
         "marker": {
          "symbol": "circle"
         },
         "mode": "lines+markers",
         "name": "Tim Burton",
         "orientation": "v",
         "showlegend": true,
         "type": "scatter",
         "x": [
          1985,
          1988,
          1989,
          1990,
          1992,
          1994,
          1996,
          1999,
          2001,
          2004,
          2005,
          2007,
          2010,
          2012,
          2014,
          2016,
          2019,
          2024
         ],
         "xaxis": "x",
         "y": [
          47,
          71,
          69,
          74,
          68,
          71,
          52,
          65,
          50,
          58,
          72,
          83,
          53,
          64.5,
          62,
          57,
          51,
          62
         ],
         "yaxis": "y"
        },
        {
         "hoverinfo": "x+y+name",
         "hovertemplate": "primaryName=David Fincher<br>Release Year=%{x}<br>Metacritic Score=%{y}<extra></extra>",
         "legendgroup": "David Fincher",
         "line": {
          "color": "#EF553B",
          "dash": "solid"
         },
         "marker": {
          "symbol": "circle"
         },
         "mode": "lines+markers",
         "name": "David Fincher",
         "orientation": "v",
         "showlegend": true,
         "type": "scatter",
         "x": [
          1992,
          1995,
          1997,
          1999,
          2002,
          2007,
          2008,
          2010,
          2011,
          2014
         ],
         "xaxis": "x",
         "y": [
          59,
          65,
          63,
          67,
          65,
          79,
          70,
          95,
          71,
          79
         ],
         "yaxis": "y"
        },
        {
         "hoverinfo": "x+y+name",
         "hovertemplate": "primaryName=Quentin Tarantino<br>Release Year=%{x}<br>Metacritic Score=%{y}<extra></extra>",
         "legendgroup": "Quentin Tarantino",
         "line": {
          "color": "#00cc96",
          "dash": "solid"
         },
         "marker": {
          "symbol": "circle"
         },
         "mode": "lines+markers",
         "name": "Quentin Tarantino",
         "orientation": "v",
         "showlegend": true,
         "type": "scatter",
         "x": [
          1992,
          1994,
          1997,
          2003,
          2004,
          2009,
          2012,
          2015,
          2019
         ],
         "xaxis": "x",
         "y": [
          81,
          95,
          62,
          69,
          83,
          69,
          81,
          68,
          84
         ],
         "yaxis": "y"
        },
        {
         "hoverinfo": "x+y+name",
         "hovertemplate": "primaryName=Peter Jackson<br>Release Year=%{x}<br>Metacritic Score=%{y}<extra></extra>",
         "legendgroup": "Peter Jackson",
         "line": {
          "color": "#ab63fa",
          "dash": "solid"
         },
         "marker": {
          "symbol": "circle"
         },
         "mode": "lines+markers",
         "name": "Peter Jackson",
         "orientation": "v",
         "showlegend": true,
         "type": "scatter",
         "x": [
          1993,
          1994,
          1996,
          2001,
          2002,
          2003,
          2005,
          2010,
          2012,
          2013,
          2014
         ],
         "xaxis": "x",
         "y": [
          54,
          86,
          52,
          92,
          87,
          94,
          81,
          42,
          58,
          66,
          59
         ],
         "yaxis": "y"
        },
        {
         "hoverinfo": "x+y+name",
         "hovertemplate": "primaryName=Danny Boyle<br>Release Year=%{x}<br>Metacritic Score=%{y}<extra></extra>",
         "legendgroup": "Danny Boyle",
         "line": {
          "color": "#FFA15A",
          "dash": "solid"
         },
         "marker": {
          "symbol": "circle"
         },
         "mode": "lines+markers",
         "name": "Danny Boyle",
         "orientation": "v",
         "showlegend": true,
         "type": "scatter",
         "x": [
          1995,
          1996,
          1997,
          2000,
          2003,
          2005,
          2007,
          2011,
          2013,
          2015,
          2017,
          2019
         ],
         "xaxis": "x",
         "y": [
          69,
          83,
          37,
          43,
          73,
          74,
          64,
          82,
          61,
          82,
          67,
          55
         ],
         "yaxis": "y"
        },
        {
         "hoverinfo": "x+y+name",
         "hovertemplate": "primaryName=Christopher Nolan<br>Release Year=%{x}<br>Metacritic Score=%{y}<extra></extra>",
         "legendgroup": "Christopher Nolan",
         "line": {
          "color": "#19d3f3",
          "dash": "solid"
         },
         "marker": {
          "symbol": "circle"
         },
         "mode": "lines+markers",
         "name": "Christopher Nolan",
         "orientation": "v",
         "showlegend": true,
         "type": "scatter",
         "x": [
          1999,
          2001,
          2002,
          2005,
          2006,
          2008,
          2010,
          2012,
          2014,
          2017,
          2020,
          2023
         ],
         "xaxis": "x",
         "y": [
          60,
          83,
          78,
          70,
          66,
          84,
          74,
          78,
          74,
          94,
          69,
          90
         ],
         "yaxis": "y"
        },
        {
         "hoverinfo": "x+y+name",
         "hovertemplate": "primaryName=Joel Coen<br>Release Year=%{x}<br>Metacritic Score=%{y}<extra></extra>",
         "legendgroup": "Joel Coen",
         "line": {
          "color": "#FF6692",
          "dash": "solid"
         },
         "marker": {
          "symbol": "circle"
         },
         "mode": "lines+markers",
         "name": "Joel Coen",
         "orientation": "v",
         "showlegend": true,
         "type": "scatter",
         "x": [
          2001
         ],
         "xaxis": "x",
         "y": [
          73
         ],
         "yaxis": "y"
        }
       ],
       "layout": {
        "height": 600,
        "hovermode": "x unified",
        "legend": {
         "itemsizing": "constant",
         "title": {
          "text": "Select Director"
         },
         "tracegroupgap": 0
        },
        "template": {
         "data": {
          "bar": [
           {
            "error_x": {
             "color": "#2a3f5f"
            },
            "error_y": {
             "color": "#2a3f5f"
            },
            "marker": {
             "line": {
              "color": "#E5ECF6",
              "width": 0.5
             },
             "pattern": {
              "fillmode": "overlay",
              "size": 10,
              "solidity": 0.2
             }
            },
            "type": "bar"
           }
          ],
          "barpolar": [
           {
            "marker": {
             "line": {
              "color": "#E5ECF6",
              "width": 0.5
             },
             "pattern": {
              "fillmode": "overlay",
              "size": 10,
              "solidity": 0.2
             }
            },
            "type": "barpolar"
           }
          ],
          "carpet": [
           {
            "aaxis": {
             "endlinecolor": "#2a3f5f",
             "gridcolor": "white",
             "linecolor": "white",
             "minorgridcolor": "white",
             "startlinecolor": "#2a3f5f"
            },
            "baxis": {
             "endlinecolor": "#2a3f5f",
             "gridcolor": "white",
             "linecolor": "white",
             "minorgridcolor": "white",
             "startlinecolor": "#2a3f5f"
            },
            "type": "carpet"
           }
          ],
          "choropleth": [
           {
            "colorbar": {
             "outlinewidth": 0,
             "ticks": ""
            },
            "type": "choropleth"
           }
          ],
          "contour": [
           {
            "colorbar": {
             "outlinewidth": 0,
             "ticks": ""
            },
            "colorscale": [
             [
              0,
              "#0d0887"
             ],
             [
              0.1111111111111111,
              "#46039f"
             ],
             [
              0.2222222222222222,
              "#7201a8"
             ],
             [
              0.3333333333333333,
              "#9c179e"
             ],
             [
              0.4444444444444444,
              "#bd3786"
             ],
             [
              0.5555555555555556,
              "#d8576b"
             ],
             [
              0.6666666666666666,
              "#ed7953"
             ],
             [
              0.7777777777777778,
              "#fb9f3a"
             ],
             [
              0.8888888888888888,
              "#fdca26"
             ],
             [
              1,
              "#f0f921"
             ]
            ],
            "type": "contour"
           }
          ],
          "contourcarpet": [
           {
            "colorbar": {
             "outlinewidth": 0,
             "ticks": ""
            },
            "type": "contourcarpet"
           }
          ],
          "heatmap": [
           {
            "colorbar": {
             "outlinewidth": 0,
             "ticks": ""
            },
            "colorscale": [
             [
              0,
              "#0d0887"
             ],
             [
              0.1111111111111111,
              "#46039f"
             ],
             [
              0.2222222222222222,
              "#7201a8"
             ],
             [
              0.3333333333333333,
              "#9c179e"
             ],
             [
              0.4444444444444444,
              "#bd3786"
             ],
             [
              0.5555555555555556,
              "#d8576b"
             ],
             [
              0.6666666666666666,
              "#ed7953"
             ],
             [
              0.7777777777777778,
              "#fb9f3a"
             ],
             [
              0.8888888888888888,
              "#fdca26"
             ],
             [
              1,
              "#f0f921"
             ]
            ],
            "type": "heatmap"
           }
          ],
          "heatmapgl": [
           {
            "colorbar": {
             "outlinewidth": 0,
             "ticks": ""
            },
            "colorscale": [
             [
              0,
              "#0d0887"
             ],
             [
              0.1111111111111111,
              "#46039f"
             ],
             [
              0.2222222222222222,
              "#7201a8"
             ],
             [
              0.3333333333333333,
              "#9c179e"
             ],
             [
              0.4444444444444444,
              "#bd3786"
             ],
             [
              0.5555555555555556,
              "#d8576b"
             ],
             [
              0.6666666666666666,
              "#ed7953"
             ],
             [
              0.7777777777777778,
              "#fb9f3a"
             ],
             [
              0.8888888888888888,
              "#fdca26"
             ],
             [
              1,
              "#f0f921"
             ]
            ],
            "type": "heatmapgl"
           }
          ],
          "histogram": [
           {
            "marker": {
             "pattern": {
              "fillmode": "overlay",
              "size": 10,
              "solidity": 0.2
             }
            },
            "type": "histogram"
           }
          ],
          "histogram2d": [
           {
            "colorbar": {
             "outlinewidth": 0,
             "ticks": ""
            },
            "colorscale": [
             [
              0,
              "#0d0887"
             ],
             [
              0.1111111111111111,
              "#46039f"
             ],
             [
              0.2222222222222222,
              "#7201a8"
             ],
             [
              0.3333333333333333,
              "#9c179e"
             ],
             [
              0.4444444444444444,
              "#bd3786"
             ],
             [
              0.5555555555555556,
              "#d8576b"
             ],
             [
              0.6666666666666666,
              "#ed7953"
             ],
             [
              0.7777777777777778,
              "#fb9f3a"
             ],
             [
              0.8888888888888888,
              "#fdca26"
             ],
             [
              1,
              "#f0f921"
             ]
            ],
            "type": "histogram2d"
           }
          ],
          "histogram2dcontour": [
           {
            "colorbar": {
             "outlinewidth": 0,
             "ticks": ""
            },
            "colorscale": [
             [
              0,
              "#0d0887"
             ],
             [
              0.1111111111111111,
              "#46039f"
             ],
             [
              0.2222222222222222,
              "#7201a8"
             ],
             [
              0.3333333333333333,
              "#9c179e"
             ],
             [
              0.4444444444444444,
              "#bd3786"
             ],
             [
              0.5555555555555556,
              "#d8576b"
             ],
             [
              0.6666666666666666,
              "#ed7953"
             ],
             [
              0.7777777777777778,
              "#fb9f3a"
             ],
             [
              0.8888888888888888,
              "#fdca26"
             ],
             [
              1,
              "#f0f921"
             ]
            ],
            "type": "histogram2dcontour"
           }
          ],
          "mesh3d": [
           {
            "colorbar": {
             "outlinewidth": 0,
             "ticks": ""
            },
            "type": "mesh3d"
           }
          ],
          "parcoords": [
           {
            "line": {
             "colorbar": {
              "outlinewidth": 0,
              "ticks": ""
             }
            },
            "type": "parcoords"
           }
          ],
          "pie": [
           {
            "automargin": true,
            "type": "pie"
           }
          ],
          "scatter": [
           {
            "fillpattern": {
             "fillmode": "overlay",
             "size": 10,
             "solidity": 0.2
            },
            "type": "scatter"
           }
          ],
          "scatter3d": [
           {
            "line": {
             "colorbar": {
              "outlinewidth": 0,
              "ticks": ""
             }
            },
            "marker": {
             "colorbar": {
              "outlinewidth": 0,
              "ticks": ""
             }
            },
            "type": "scatter3d"
           }
          ],
          "scattercarpet": [
           {
            "marker": {
             "colorbar": {
              "outlinewidth": 0,
              "ticks": ""
             }
            },
            "type": "scattercarpet"
           }
          ],
          "scattergeo": [
           {
            "marker": {
             "colorbar": {
              "outlinewidth": 0,
              "ticks": ""
             }
            },
            "type": "scattergeo"
           }
          ],
          "scattergl": [
           {
            "marker": {
             "colorbar": {
              "outlinewidth": 0,
              "ticks": ""
             }
            },
            "type": "scattergl"
           }
          ],
          "scattermapbox": [
           {
            "marker": {
             "colorbar": {
              "outlinewidth": 0,
              "ticks": ""
             }
            },
            "type": "scattermapbox"
           }
          ],
          "scatterpolar": [
           {
            "marker": {
             "colorbar": {
              "outlinewidth": 0,
              "ticks": ""
             }
            },
            "type": "scatterpolar"
           }
          ],
          "scatterpolargl": [
           {
            "marker": {
             "colorbar": {
              "outlinewidth": 0,
              "ticks": ""
             }
            },
            "type": "scatterpolargl"
           }
          ],
          "scatterternary": [
           {
            "marker": {
             "colorbar": {
              "outlinewidth": 0,
              "ticks": ""
             }
            },
            "type": "scatterternary"
           }
          ],
          "surface": [
           {
            "colorbar": {
             "outlinewidth": 0,
             "ticks": ""
            },
            "colorscale": [
             [
              0,
              "#0d0887"
             ],
             [
              0.1111111111111111,
              "#46039f"
             ],
             [
              0.2222222222222222,
              "#7201a8"
             ],
             [
              0.3333333333333333,
              "#9c179e"
             ],
             [
              0.4444444444444444,
              "#bd3786"
             ],
             [
              0.5555555555555556,
              "#d8576b"
             ],
             [
              0.6666666666666666,
              "#ed7953"
             ],
             [
              0.7777777777777778,
              "#fb9f3a"
             ],
             [
              0.8888888888888888,
              "#fdca26"
             ],
             [
              1,
              "#f0f921"
             ]
            ],
            "type": "surface"
           }
          ],
          "table": [
           {
            "cells": {
             "fill": {
              "color": "#EBF0F8"
             },
             "line": {
              "color": "white"
             }
            },
            "header": {
             "fill": {
              "color": "#C8D4E3"
             },
             "line": {
              "color": "white"
             }
            },
            "type": "table"
           }
          ]
         },
         "layout": {
          "annotationdefaults": {
           "arrowcolor": "#2a3f5f",
           "arrowhead": 0,
           "arrowwidth": 1
          },
          "autotypenumbers": "strict",
          "coloraxis": {
           "colorbar": {
            "outlinewidth": 0,
            "ticks": ""
           }
          },
          "colorscale": {
           "diverging": [
            [
             0,
             "#8e0152"
            ],
            [
             0.1,
             "#c51b7d"
            ],
            [
             0.2,
             "#de77ae"
            ],
            [
             0.3,
             "#f1b6da"
            ],
            [
             0.4,
             "#fde0ef"
            ],
            [
             0.5,
             "#f7f7f7"
            ],
            [
             0.6,
             "#e6f5d0"
            ],
            [
             0.7,
             "#b8e186"
            ],
            [
             0.8,
             "#7fbc41"
            ],
            [
             0.9,
             "#4d9221"
            ],
            [
             1,
             "#276419"
            ]
           ],
           "sequential": [
            [
             0,
             "#0d0887"
            ],
            [
             0.1111111111111111,
             "#46039f"
            ],
            [
             0.2222222222222222,
             "#7201a8"
            ],
            [
             0.3333333333333333,
             "#9c179e"
            ],
            [
             0.4444444444444444,
             "#bd3786"
            ],
            [
             0.5555555555555556,
             "#d8576b"
            ],
            [
             0.6666666666666666,
             "#ed7953"
            ],
            [
             0.7777777777777778,
             "#fb9f3a"
            ],
            [
             0.8888888888888888,
             "#fdca26"
            ],
            [
             1,
             "#f0f921"
            ]
           ],
           "sequentialminus": [
            [
             0,
             "#0d0887"
            ],
            [
             0.1111111111111111,
             "#46039f"
            ],
            [
             0.2222222222222222,
             "#7201a8"
            ],
            [
             0.3333333333333333,
             "#9c179e"
            ],
            [
             0.4444444444444444,
             "#bd3786"
            ],
            [
             0.5555555555555556,
             "#d8576b"
            ],
            [
             0.6666666666666666,
             "#ed7953"
            ],
            [
             0.7777777777777778,
             "#fb9f3a"
            ],
            [
             0.8888888888888888,
             "#fdca26"
            ],
            [
             1,
             "#f0f921"
            ]
           ]
          },
          "colorway": [
           "#636efa",
           "#EF553B",
           "#00cc96",
           "#ab63fa",
           "#FFA15A",
           "#19d3f3",
           "#FF6692",
           "#B6E880",
           "#FF97FF",
           "#FECB52"
          ],
          "font": {
           "color": "#2a3f5f"
          },
          "geo": {
           "bgcolor": "white",
           "lakecolor": "white",
           "landcolor": "#E5ECF6",
           "showlakes": true,
           "showland": true,
           "subunitcolor": "white"
          },
          "hoverlabel": {
           "align": "left"
          },
          "hovermode": "closest",
          "mapbox": {
           "style": "light"
          },
          "paper_bgcolor": "white",
          "plot_bgcolor": "#E5ECF6",
          "polar": {
           "angularaxis": {
            "gridcolor": "white",
            "linecolor": "white",
            "ticks": ""
           },
           "bgcolor": "#E5ECF6",
           "radialaxis": {
            "gridcolor": "white",
            "linecolor": "white",
            "ticks": ""
           }
          },
          "scene": {
           "xaxis": {
            "backgroundcolor": "#E5ECF6",
            "gridcolor": "white",
            "gridwidth": 2,
            "linecolor": "white",
            "showbackground": true,
            "ticks": "",
            "zerolinecolor": "white"
           },
           "yaxis": {
            "backgroundcolor": "#E5ECF6",
            "gridcolor": "white",
            "gridwidth": 2,
            "linecolor": "white",
            "showbackground": true,
            "ticks": "",
            "zerolinecolor": "white"
           },
           "zaxis": {
            "backgroundcolor": "#E5ECF6",
            "gridcolor": "white",
            "gridwidth": 2,
            "linecolor": "white",
            "showbackground": true,
            "ticks": "",
            "zerolinecolor": "white"
           }
          },
          "shapedefaults": {
           "line": {
            "color": "#2a3f5f"
           }
          },
          "ternary": {
           "aaxis": {
            "gridcolor": "white",
            "linecolor": "white",
            "ticks": ""
           },
           "baxis": {
            "gridcolor": "white",
            "linecolor": "white",
            "ticks": ""
           },
           "bgcolor": "#E5ECF6",
           "caxis": {
            "gridcolor": "white",
            "linecolor": "white",
            "ticks": ""
           }
          },
          "title": {
           "x": 0.05
          },
          "xaxis": {
           "automargin": true,
           "gridcolor": "white",
           "linecolor": "white",
           "ticks": "",
           "title": {
            "standoff": 15
           },
           "zerolinecolor": "white",
           "zerolinewidth": 2
          },
          "yaxis": {
           "automargin": true,
           "gridcolor": "white",
           "linecolor": "white",
           "ticks": "",
           "title": {
            "standoff": 15
           },
           "zerolinecolor": "white",
           "zerolinewidth": 2
          }
         }
        },
        "title": {
         "text": "Director's Metacritic Scores Over Time",
         "x": 0.5
        },
        "xaxis": {
         "anchor": "y",
         "domain": [
          0,
          1
         ],
         "title": {
          "text": "Release Year"
         }
        },
        "yaxis": {
         "anchor": "x",
         "domain": [
          0,
          1
         ],
         "title": {
          "text": "Metacritic Score"
         }
        }
       }
      }
     },
     "metadata": {},
     "output_type": "display_data"
    }
   ],
   "source": [
    "\n",
    "from plotly import express as px\n",
    "\n",
    "top_n_directors_names_ratings = top_n_directors_names_ratings.with_columns(\n",
    "    pl.col(\"Released\").dt.year().alias(\"ReleasedYear\"))\n",
    "\n",
    "top_n_directors_names_ratings_time = top_n_directors_names_ratings.group_by(\"ReleasedYear\", \"primaryName\").agg(\n",
    "    pl.col(\"Metacritic\").mean()).sort(\"ReleasedYear\")\n",
    "\n",
    "\n",
    "fig = px.line(top_n_directors_names_ratings_time.to_pandas(),\n",
    "              x=\"ReleasedYear\",\n",
    "              y=\"Metacritic\",\n",
    "              color=\"primaryName\",\n",
    "              title=\"Director's Metacritic Scores Over Time\",\n",
    "              labels={\"Metacritic\": \"Metacritic Score\",\n",
    "                      \"ReleasedYear\": \"Release Year\"}\n",
    "              )\n",
    "\n",
    "# Add interactive hover and selection\n",
    "fig.update_traces(hoverinfo=\"x+y+name\", mode=\"lines+markers\")\n",
    "# fig.update_layout(\n",
    "#     width=900,  # Set width (in pixels)\n",
    "#     height=600  # Set height (in pixels)\n",
    "# )\n",
    "# Set layout to highlight selection\n",
    "fig.update_layout(\n",
    "    legend_title=\"Directors\",\n",
    "    hovermode=\"x unified\",\n",
    "    title_x=0.5,\n",
    "    height=600,\n",
    "    legend=dict(\n",
    "        title=\"Select Director\",\n",
    "        itemsizing=\"constant\"\n",
    "    )\n",
    ")\n",
    "\n",
    "# Show the plot\n",
    "fig.show()"
   ]
  },
  {
   "cell_type": "code",
   "execution_count": 12,
   "metadata": {},
   "outputs": [
    {
     "data": {
      "text/html": [
       "<div><style>\n",
       ".dataframe > thead > tr,\n",
       ".dataframe > tbody > tr {\n",
       "  text-align: right;\n",
       "  white-space: pre-wrap;\n",
       "}\n",
       "</style>\n",
       "<small>shape: (5, 2)</small><table border=\"1\" class=\"dataframe\"><thead><tr><th>observation_date</th><th>CPILFENS</th></tr><tr><td>date</td><td>f64</td></tr></thead><tbody><tr><td>1957-01-01</td><td>28.5</td></tr><tr><td>1957-02-01</td><td>28.5</td></tr><tr><td>1957-03-01</td><td>28.7</td></tr><tr><td>1957-04-01</td><td>28.8</td></tr><tr><td>1957-05-01</td><td>28.8</td></tr></tbody></table></div>"
      ],
      "text/plain": [
       "shape: (5, 2)\n",
       "┌──────────────────┬──────────┐\n",
       "│ observation_date ┆ CPILFENS │\n",
       "│ ---              ┆ ---      │\n",
       "│ date             ┆ f64      │\n",
       "╞══════════════════╪══════════╡\n",
       "│ 1957-01-01       ┆ 28.5     │\n",
       "│ 1957-02-01       ┆ 28.5     │\n",
       "│ 1957-03-01       ┆ 28.7     │\n",
       "│ 1957-04-01       ┆ 28.8     │\n",
       "│ 1957-05-01       ┆ 28.8     │\n",
       "└──────────────────┴──────────┘"
      ]
     },
     "execution_count": 12,
     "metadata": {},
     "output_type": "execute_result"
    }
   ],
   "source": [
    "cpi_data = pl.read_csv(\n",
    "    \"/Users/bradkittrell/Projects/imdb/IMDB_Fun/Data/external/CPILFENS.csv\")\n",
    "cpi_data = cpi_data.with_columns(\n",
    "    pl.col(\"observation_date\").str.strptime(pl.Date, \"%Y-%m-%d\"))\n",
    "\n",
    "cpi_data.head()"
   ]
  },
  {
   "cell_type": "code",
   "execution_count": 13,
   "metadata": {},
   "outputs": [
    {
     "data": {
      "text/plain": [
       "'1951'"
      ]
     },
     "execution_count": 13,
     "metadata": {},
     "output_type": "execute_result"
    }
   ],
   "source": [
    "film_data[\"Year\"].min()"
   ]
  },
  {
   "cell_type": "code",
   "execution_count": 14,
   "metadata": {},
   "outputs": [
    {
     "data": {
      "text/html": [
       "<div>\n",
       "<style scoped>\n",
       "    .dataframe tbody tr th:only-of-type {\n",
       "        vertical-align: middle;\n",
       "    }\n",
       "\n",
       "    .dataframe tbody tr th {\n",
       "        vertical-align: top;\n",
       "    }\n",
       "\n",
       "    .dataframe thead th {\n",
       "        text-align: right;\n",
       "    }\n",
       "</style>\n",
       "<table border=\"1\" class=\"dataframe\">\n",
       "  <thead>\n",
       "    <tr style=\"text-align: right;\">\n",
       "      <th></th>\n",
       "      <th>Film</th>\n",
       "      <th>Year</th>\n",
       "      <th>Nominations</th>\n",
       "      <th>Winner</th>\n",
       "    </tr>\n",
       "  </thead>\n",
       "  <tbody>\n",
       "    <tr>\n",
       "      <th>0</th>\n",
       "      <td>'38'</td>\n",
       "      <td>1986</td>\n",
       "      <td>1</td>\n",
       "      <td>0</td>\n",
       "    </tr>\n",
       "    <tr>\n",
       "      <th>1</th>\n",
       "      <td>'Crocodile' Dundee</td>\n",
       "      <td>1986</td>\n",
       "      <td>1</td>\n",
       "      <td>0</td>\n",
       "    </tr>\n",
       "    <tr>\n",
       "      <th>2</th>\n",
       "      <td>'Round Midnight</td>\n",
       "      <td>1986</td>\n",
       "      <td>2</td>\n",
       "      <td>1</td>\n",
       "    </tr>\n",
       "    <tr>\n",
       "      <th>3</th>\n",
       "      <td>(A) Torzija [(A) Torsion]</td>\n",
       "      <td>2003</td>\n",
       "      <td>1</td>\n",
       "      <td>0</td>\n",
       "    </tr>\n",
       "    <tr>\n",
       "      <th>4</th>\n",
       "      <td>...And Justice for All</td>\n",
       "      <td>1979</td>\n",
       "      <td>2</td>\n",
       "      <td>0</td>\n",
       "    </tr>\n",
       "    <tr>\n",
       "      <th>...</th>\n",
       "      <td>...</td>\n",
       "      <td>...</td>\n",
       "      <td>...</td>\n",
       "      <td>...</td>\n",
       "    </tr>\n",
       "    <tr>\n",
       "      <th>3881</th>\n",
       "      <td>the accountant</td>\n",
       "      <td>2001</td>\n",
       "      <td>1</td>\n",
       "      <td>1</td>\n",
       "    </tr>\n",
       "    <tr>\n",
       "      <th>3882</th>\n",
       "      <td>the end</td>\n",
       "      <td>1995</td>\n",
       "      <td>1</td>\n",
       "      <td>0</td>\n",
       "    </tr>\n",
       "    <tr>\n",
       "      <th>3883</th>\n",
       "      <td>tick, tick...BOOM!</td>\n",
       "      <td>2021</td>\n",
       "      <td>2</td>\n",
       "      <td>0</td>\n",
       "    </tr>\n",
       "    <tr>\n",
       "      <th>3884</th>\n",
       "      <td>Ådalen '31</td>\n",
       "      <td>1969</td>\n",
       "      <td>1</td>\n",
       "      <td>0</td>\n",
       "    </tr>\n",
       "    <tr>\n",
       "      <th>3885</th>\n",
       "      <td>Éramos Pocos (One Too Many)</td>\n",
       "      <td>2006</td>\n",
       "      <td>1</td>\n",
       "      <td>0</td>\n",
       "    </tr>\n",
       "  </tbody>\n",
       "</table>\n",
       "<p>3886 rows × 4 columns</p>\n",
       "</div>"
      ],
      "text/plain": [
       "                             Film  Year  Nominations  Winner\n",
       "0                            '38'  1986            1       0\n",
       "1              'Crocodile' Dundee  1986            1       0\n",
       "2                 'Round Midnight  1986            2       1\n",
       "3       (A) Torzija [(A) Torsion]  2003            1       0\n",
       "4          ...And Justice for All  1979            2       0\n",
       "...                           ...   ...          ...     ...\n",
       "3881               the accountant  2001            1       1\n",
       "3882                      the end  1995            1       0\n",
       "3883           tick, tick...BOOM!  2021            2       0\n",
       "3884                   Ådalen '31  1969            1       0\n",
       "3885  Éramos Pocos (One Too Many)  2006            1       0\n",
       "\n",
       "[3886 rows x 4 columns]"
      ]
     },
     "execution_count": 14,
     "metadata": {},
     "output_type": "execute_result"
    }
   ],
   "source": [
    "from polars import col\n",
    "\n",
    "\n",
    "oscars = pd.read_csv(\n",
    "    \"/Users/bradkittrell/Projects/imdb/IMDB_Fun/Data/external/oscars.csv\", delimiter='\\t', engine=\"python\")\n",
    "\n",
    "\n",
    "oscars_groupby_by_film = oscars[oscars['Ceremony'] > 23].groupby([\"Film\", \"Year\"]).agg({\"Class\": \"count\",\n",
    "                                                                                        \"Winner\": \"sum\"}).reset_index()\n",
    "oscars_groupby_by_film.rename(\n",
    "    columns={\"Class\": \"Nominations\"}, inplace=True)\n",
    "oscars_groupby_by_film['Winner'] = oscars_groupby_by_film['Winner'].fillna(\n",
    "    0).astype(int)\n",
    "oscars_groupby_by_film.head()\n",
    "oscars_groupby_by_film"
   ]
  },
  {
   "cell_type": "code",
   "execution_count": 12,
   "metadata": {},
   "outputs": [
    {
     "ename": "NameError",
     "evalue": "name 'elo_dataset' is not defined",
     "output_type": "error",
     "traceback": [
      "\u001b[0;31m---------------------------------------------------------------------------\u001b[0m",
      "\u001b[0;31mNameError\u001b[0m                                 Traceback (most recent call last)",
      "Cell \u001b[0;32mIn[12], line 1\u001b[0m\n\u001b[0;32m----> 1\u001b[0m \u001b[43melo_dataset\u001b[49m\u001b[38;5;241m.\u001b[39mat[row\u001b[38;5;241m.\u001b[39mIndex, \u001b[38;5;124m'\u001b[39m\u001b[38;5;124melo\u001b[39m\u001b[38;5;124m'\u001b[39m]\n",
      "\u001b[0;31mNameError\u001b[0m: name 'elo_dataset' is not defined"
     ]
    }
   ],
   "source": [
    "elo_dataset.at[row.Index, 'elo']"
   ]
  },
  {
   "cell_type": "markdown",
   "metadata": {},
   "source": [
    "# ELO Directors"
   ]
  },
  {
   "cell_type": "code",
   "execution_count": 14,
   "metadata": {},
   "outputs": [],
   "source": [
    "elo_dataset = film_data[[\"Title\", \"Year\", \"Director\"]].drop_duplicates().merge(oscars_groupby_by_film,\n",
    "                                                                               left_on=[\n",
    "                                                                                   \"Title\", \"Year\"],\n",
    "                                                                               right_on=[\"Film\", \"Year\"])\n",
    "\n",
    "elo_dataset['elo'] = 1500\n",
    "\n",
    "# Function to calculate ELO adjustments based on awards\n",
    "\n",
    "\n",
    "def update_elo(person_id, nominations, wins, current_elo, competitors):\n",
    "    k_factor = 32  # Adjust impact size of changes\n",
    "\n",
    "    # Adjust for nominations (small boost)\n",
    "    nomination_bonus = 10 * nominations  # Each nomination gives a small boost\n",
    "\n",
    "    # Adjust for wins (bigger boost)\n",
    "    win_bonus = 50 * wins  # Winning an award carries more weight\n",
    "\n",
    "    # Adjust based on competition strength (ELO difference matters)\n",
    "    avg_competitor_elo = np.mean(\n",
    "        [competitors.get(cid, 1500) for cid in competitors])\n",
    "    expected_score = 1 / (1 + 10 ** ((avg_competitor_elo - current_elo) / 400))\n",
    "\n",
    "    # Final ELO adjustment\n",
    "    new_elo = current_elo + k_factor * \\\n",
    "        (win_bonus + nomination_bonus - expected_score * k_factor)\n",
    "    return round(new_elo, 2)\n",
    "\n",
    "\n",
    "# Simulate ELO adjustments over an award season\n",
    "competitor_elos = {row.Director: row.elo for row in elo_dataset.itertuples()}\n",
    "\n",
    "for row in elo_dataset.itertuples():\n",
    "    person_id = row.Director\n",
    "    nominations = row.Nominations\n",
    "    wins = row.Winner\n",
    "    current_elo = row.elo\n",
    "\n",
    "    # Update ELO\n",
    "    new_elo = update_elo(person_id, nominations, wins,\n",
    "                         current_elo, competitor_elos)\n",
    "    elo_dataset.at[row.Index, 'elo'] = new_elo\n",
    "\n",
    "# # Display updated ELO scores\n",
    "# import ace_tools as tools\n",
    "# tools.display_dataframe_to_user(name=\"Updated ELO Rankings\", dataframe=people_data)"
   ]
  },
  {
   "cell_type": "markdown",
   "metadata": {},
   "source": [
    "### Better ELO dataset\n",
    "- need to have a way to normalize data year to year\n",
    "- include start year for director and last film date for director to have a decay effect\n",
    "- count of films directed for that year"
   ]
  },
  {
   "cell_type": "code",
   "execution_count": 199,
   "metadata": {},
   "outputs": [
    {
     "name": "stderr",
     "output_type": "stream",
     "text": [
      "INFO:root:No path provided. Using default path: /Users/bradkittrell/Projects/imdb/IMDB_Fun/Data/processed/name.parquet\n",
      "INFO:root:Successfully loaded data from /Users/bradkittrell/Projects/imdb/IMDB_Fun/Data/processed/name.parquet\n",
      "INFO:root:Filtered names data to include only rows where birthYear > 1899\n",
      "INFO:root:Dropped __index_level_0__ column\n"
     ]
    }
   ],
   "source": [
    "directors_yrly = build_features.normalized_yearly_directors(start_year=1950,\n",
    "                                                            end_year=2024,\n",
    "\n",
    "                                                            director_ids=top_n_directors_names['nconst'].to_list())\n",
    "\n",
    "# film_d.merge(oscars_groupby_by_film, left_on=\"Title\",\n",
    "#                 right_on=\"Film\", how=\"left\")\n",
    "\n",
    "# connect oscar data to film data\n",
    "# TODO I need ot verify how many of the films i'm dropping\n",
    "film_data['Title_lower'] = film_data['Title'].str.lower().str.replace(\" \", \"\")\n",
    "oscars_groupby_by_film['Film_lower'] = oscars_groupby_by_film['Film'].str.lower(\n",
    ").str.replace(\" \", \"\")\n",
    "\n",
    "\n",
    "film_data_oscars = pl.from_pandas(film_data.drop_duplicates(subset=\"Title\").merge(oscars_groupby_by_film, left_on=[\"Title_lower\", \"Year\"],\n",
    "                                                                                  right_on=[\"Film_lower\", \"Year\"], how=\"left\")[[\"Title\", \"Year\", \"Director\", \"Film\", \"Nominations\", \"Winner\"]])\n",
    "film_data_oscars = film_data_oscars.with_columns(\n",
    "    pl.col(\"Year\").cast(pl.Int64)  # or pl.Int64 if needed\n",
    ")\n",
    "directors_yrly_data = directors_yrly.join(film_data_oscars, left_on=[\"year\", \"director\"], right_on=[\n",
    "    \"Year\", \"Director\"], how=\"left\")\n",
    "\n",
    "\n",
    "directors_yrly_data = directors_yrly_data.group_by([\"director\", \"year\"]).agg(pl.col(\n",
    "    \"Nominations\").sum(), pl.col(\"Winner\").sum(), pl.col(\"Film\").count()).sort(\"year\")\n",
    "\n",
    "dirs_min_max_year = pl.from_pandas(film_data.groupby(\"Director\").agg(\n",
    "    {\"Year\": [\"max\", \"min\"]}).reset_index()).with_columns(\n",
    "    pl.col(\"('Year', 'max')\").cast(pl.Int64),\n",
    "    pl.col(\"('Year', 'min')\").cast(pl.Int64)\n",
    ").rename({\n",
    "    \"('Director', '')\": \"Director\",\n",
    "    \"('Year', 'max')\": \"Max Year\",\n",
    "    \"('Year', 'min')\": \"Min Year\"\n",
    "})\n",
    "directors_yrly_data = directors_yrly_data.join(\n",
    "    dirs_min_max_year, left_on=\"director\", right_on=\"Director\").filter(pl.col(\"year\").is_between(\n",
    "        pl.col(\"Min Year\"), pl.col(\"Max Year\"))).to_pandas().dropna().reset_index(drop=True)"
   ]
  },
  {
   "cell_type": "code",
   "execution_count": 200,
   "metadata": {},
   "outputs": [
    {
     "data": {
      "text/html": [
       "<div>\n",
       "<style scoped>\n",
       "    .dataframe tbody tr th:only-of-type {\n",
       "        vertical-align: middle;\n",
       "    }\n",
       "\n",
       "    .dataframe tbody tr th {\n",
       "        vertical-align: top;\n",
       "    }\n",
       "\n",
       "    .dataframe thead th {\n",
       "        text-align: right;\n",
       "    }\n",
       "</style>\n",
       "<table border=\"1\" class=\"dataframe\">\n",
       "  <thead>\n",
       "    <tr style=\"text-align: right;\">\n",
       "      <th></th>\n",
       "      <th>year</th>\n",
       "      <th>Nominations</th>\n",
       "      <th>Winner</th>\n",
       "      <th>Film</th>\n",
       "      <th>Max Year</th>\n",
       "      <th>Min Year</th>\n",
       "    </tr>\n",
       "  </thead>\n",
       "  <tbody>\n",
       "    <tr>\n",
       "      <th>count</th>\n",
       "      <td>666.000000</td>\n",
       "      <td>666.000000</td>\n",
       "      <td>666.000000</td>\n",
       "      <td>666.000000</td>\n",
       "      <td>666.000000</td>\n",
       "      <td>666.000000</td>\n",
       "    </tr>\n",
       "    <tr>\n",
       "      <th>mean</th>\n",
       "      <td>1994.825826</td>\n",
       "      <td>1.262763</td>\n",
       "      <td>0.390390</td>\n",
       "      <td>0.285285</td>\n",
       "      <td>2015.707207</td>\n",
       "      <td>1973.944444</td>\n",
       "    </tr>\n",
       "    <tr>\n",
       "      <th>std</th>\n",
       "      <td>17.796502</td>\n",
       "      <td>3.180064</td>\n",
       "      <td>1.617804</td>\n",
       "      <td>0.545378</td>\n",
       "      <td>12.976549</td>\n",
       "      <td>14.401490</td>\n",
       "    </tr>\n",
       "    <tr>\n",
       "      <th>min</th>\n",
       "      <td>1951.000000</td>\n",
       "      <td>0.000000</td>\n",
       "      <td>0.000000</td>\n",
       "      <td>0.000000</td>\n",
       "      <td>1981.000000</td>\n",
       "      <td>1951.000000</td>\n",
       "    </tr>\n",
       "    <tr>\n",
       "      <th>25%</th>\n",
       "      <td>1982.000000</td>\n",
       "      <td>0.000000</td>\n",
       "      <td>0.000000</td>\n",
       "      <td>0.000000</td>\n",
       "      <td>2014.000000</td>\n",
       "      <td>1964.000000</td>\n",
       "    </tr>\n",
       "    <tr>\n",
       "      <th>50%</th>\n",
       "      <td>1997.000000</td>\n",
       "      <td>0.000000</td>\n",
       "      <td>0.000000</td>\n",
       "      <td>0.000000</td>\n",
       "      <td>2022.000000</td>\n",
       "      <td>1971.000000</td>\n",
       "    </tr>\n",
       "    <tr>\n",
       "      <th>75%</th>\n",
       "      <td>2009.000000</td>\n",
       "      <td>0.000000</td>\n",
       "      <td>0.000000</td>\n",
       "      <td>0.000000</td>\n",
       "      <td>2023.000000</td>\n",
       "      <td>1985.000000</td>\n",
       "    </tr>\n",
       "    <tr>\n",
       "      <th>max</th>\n",
       "      <td>2024.000000</td>\n",
       "      <td>26.000000</td>\n",
       "      <td>22.000000</td>\n",
       "      <td>2.000000</td>\n",
       "      <td>2024.000000</td>\n",
       "      <td>2001.000000</td>\n",
       "    </tr>\n",
       "  </tbody>\n",
       "</table>\n",
       "</div>"
      ],
      "text/plain": [
       "              year  Nominations      Winner        Film     Max Year  \\\n",
       "count   666.000000   666.000000  666.000000  666.000000   666.000000   \n",
       "mean   1994.825826     1.262763    0.390390    0.285285  2015.707207   \n",
       "std      17.796502     3.180064    1.617804    0.545378    12.976549   \n",
       "min    1951.000000     0.000000    0.000000    0.000000  1981.000000   \n",
       "25%    1982.000000     0.000000    0.000000    0.000000  2014.000000   \n",
       "50%    1997.000000     0.000000    0.000000    0.000000  2022.000000   \n",
       "75%    2009.000000     0.000000    0.000000    0.000000  2023.000000   \n",
       "max    2024.000000    26.000000   22.000000    2.000000  2024.000000   \n",
       "\n",
       "          Min Year  \n",
       "count   666.000000  \n",
       "mean   1973.944444  \n",
       "std      14.401490  \n",
       "min    1951.000000  \n",
       "25%    1964.000000  \n",
       "50%    1971.000000  \n",
       "75%    1985.000000  \n",
       "max    2001.000000  "
      ]
     },
     "execution_count": 200,
     "metadata": {},
     "output_type": "execute_result"
    }
   ],
   "source": [
    "directors_yrly_data.describe()"
   ]
  },
  {
   "cell_type": "code",
   "execution_count": 248,
   "metadata": {},
   "outputs": [
    {
     "name": "stderr",
     "output_type": "stream",
     "text": [
      "/opt/anaconda3/envs/data_science/lib/python3.11/site-packages/numpy/core/fromnumeric.py:3504: RuntimeWarning:\n",
      "\n",
      "Mean of empty slice.\n",
      "\n",
      "/opt/anaconda3/envs/data_science/lib/python3.11/site-packages/numpy/core/_methods.py:129: RuntimeWarning:\n",
      "\n",
      "invalid value encountered in scalar divide\n",
      "\n"
     ]
    }
   ],
   "source": [
    "from hmac import new\n",
    "\n",
    "\n",
    "def update_elo_with_decay(person_id, nominations, wins, current_elo, competitors, last_active_year, current_year):\n",
    "    if current_elo > 2000:\n",
    "        k_factor = 2\n",
    "    else:\n",
    "        k_factor = 16  # Adjust impact size of changes\n",
    "\n",
    "    # Adjust for nominations (small boost)\n",
    "    nomination_bonus = 1 * nominations\n",
    "\n",
    "    # Adjust for wins (bigger boost)\n",
    "    win_bonus = 5 * wins\n",
    "\n",
    "    # Adjust based on competition strength (ELO difference matters)\n",
    "    avg_competitor_elo = np.mean(\n",
    "        [competitors.get(cid, 1500) for cid in competitors if cid != person_id])\n",
    "    # print(avg_competitor_elo)\n",
    "    expected_score = 1 / \\\n",
    "        (1 + (10 ** ((avg_competitor_elo - current_elo) / 200)))\n",
    "\n",
    "    # Time decay: Penalize inactivity over years\n",
    "    years_inactive = max(0, current_year - last_active_year)\n",
    "    decay_factor = 0.98 ** years_inactive  # 2% decay per inactive year\n",
    "\n",
    "    # Final ELO adjustment\n",
    "    new_elo = current_elo + k_factor * \\\n",
    "        (win_bonus + nomination_bonus - expected_score * k_factor)\n",
    "\n",
    "    # Apply decay factor\n",
    "    new_elo *= decay_factor\n",
    "\n",
    "    return round(new_elo, 2)\n",
    "\n",
    "\n",
    "directors_yrly_data['elo'] = 1500\n",
    "\n",
    "years = sorted(directors_yrly_data['year'].unique())\n",
    "# simulate ELO adjustments over an award season\n",
    "\n",
    "for year in years:\n",
    "    year_ = directors_yrly_data[directors_yrly_data['year'] == year]\n",
    "    # competitor_elos\n",
    "    previous_year = directors_yrly_data[directors_yrly_data['year'] == year - 1]\n",
    "    competitor_elos = {\n",
    "        row.director: row.elo for row in year_.itertuples()}\n",
    "\n",
    "    for row in year_.itertuples():\n",
    "        person_id = row.director\n",
    "        nominations = row.Nominations\n",
    "        wins = row.Winner\n",
    "        if len(directors_yrly_data[(directors_yrly_data['director'] == person_id) & (\n",
    "                directors_yrly_data['year'] == year-1)]) == 0:\n",
    "            current_elo = 1500\n",
    "        else:\n",
    "            current_elo = directors_yrly_data[(directors_yrly_data['director'] == person_id) & (\n",
    "                directors_yrly_data['year'] == year-1)]['elo'].values[0]\n",
    "        last_active = directors_yrly_data[(directors_yrly_data['director'] == person_id) & (\n",
    "            directors_yrly_data['year'] <= year) & (directors_yrly_data['Film'] > 0)]['year'].max()\n",
    "\n",
    "    # Update ELO\n",
    "        new_elo = update_elo_with_decay(person_id, nominations, wins,\n",
    "                                        current_elo, competitor_elos, last_active, year)\n",
    "        directors_yrly_data.at[row.Index, 'elo'] = new_elo"
   ]
  },
  {
   "cell_type": "code",
   "execution_count": null,
   "metadata": {},
   "outputs": [
    {
     "data": {
      "text/plain": [
       "1084.0"
      ]
     },
     "execution_count": 225,
     "metadata": {},
     "output_type": "execute_result"
    }
   ],
   "source": []
  },
  {
   "cell_type": "code",
   "execution_count": 249,
   "metadata": {},
   "outputs": [
    {
     "data": {
      "application/vnd.plotly.v1+json": {
       "config": {
        "plotlyServerURL": "https://plot.ly"
       },
       "data": [
        {
         "hoverinfo": "x+y+name",
         "hovertemplate": "director=Billy Wilder<br>year=%{x}<br>elo=%{y}<extra></extra>",
         "legendgroup": "Billy Wilder",
         "line": {
          "color": "#636efa",
          "dash": "solid"
         },
         "marker": {
          "symbol": "circle"
         },
         "mode": "lines+markers",
         "name": "Billy Wilder",
         "orientation": "v",
         "showlegend": true,
         "type": "scatter",
         "x": [
          1951,
          1952,
          1953,
          1954,
          1955,
          1956,
          1957,
          1958,
          1959,
          1960,
          1961,
          1962,
          1963,
          1964,
          1965,
          1966,
          1967,
          1968,
          1969,
          1970,
          1971,
          1972,
          1973,
          1974,
          1975,
          1976,
          1977,
          1978,
          1979,
          1980,
          1981
         ],
         "xaxis": "x",
         "y": [
          null,
          null,
          null,
          null,
          null,
          null,
          null,
          null,
          null,
          null,
          null,
          null,
          null,
          null,
          null,
          null,
          null,
          null,
          null,
          null,
          null,
          null,
          null,
          null,
          null,
          null,
          null,
          null,
          null,
          null,
          null
         ],
         "yaxis": "y"
        },
        {
         "hoverinfo": "x+y+name",
         "hovertemplate": "director=David Lean<br>year=%{x}<br>elo=%{y}<extra></extra>",
         "legendgroup": "David Lean",
         "line": {
          "color": "#EF553B",
          "dash": "solid"
         },
         "marker": {
          "symbol": "circle"
         },
         "mode": "lines+markers",
         "name": "David Lean",
         "orientation": "v",
         "showlegend": true,
         "type": "scatter",
         "x": [
          1952,
          1953,
          1954,
          1955,
          1956,
          1957,
          1958,
          1959,
          1960,
          1961,
          1962,
          1963,
          1964,
          1965,
          1966,
          1967,
          1968,
          1969,
          1970,
          1971,
          1972,
          1973,
          1974,
          1975,
          1976,
          1977,
          1978,
          1979,
          1980,
          1981,
          1982,
          1983,
          1984
         ],
         "xaxis": "x",
         "y": [
          1372,
          1324.28,
          1294.38,
          1336.44,
          1276.59,
          2634.43,
          2577.82,
          2471.9,
          2322.77,
          2138.76,
          2314.76,
          2264.55,
          2171.03,
          2307.03,
          2256.97,
          2163.75,
          2032.74,
          1871.25,
          2066.77,
          2021.52,
          1937.64,
          1584.3,
          1290.06,
          1147.16,
          1012.37,
          878.06,
          746.85,
          622.65,
          508.74,
          407.36,
          319.66,
          245.83,
          917.83
         ],
         "yaxis": "y"
        },
        {
         "hoverinfo": "x+y+name",
         "hovertemplate": "director=Stanley Kubrick<br>year=%{x}<br>elo=%{y}<extra></extra>",
         "legendgroup": "Stanley Kubrick",
         "line": {
          "color": "#00cc96",
          "dash": "solid"
         },
         "marker": {
          "symbol": "circle"
         },
         "mode": "lines+markers",
         "name": "Stanley Kubrick",
         "orientation": "v",
         "showlegend": true,
         "type": "scatter",
         "x": [
          1952,
          1953,
          1954,
          1955,
          1956,
          1957,
          1958,
          1959,
          1960,
          1961,
          1962,
          1963,
          1964,
          1965,
          1966,
          1967,
          1968,
          1969,
          1970,
          1971,
          1972,
          1973,
          1974,
          1975,
          1976,
          1977,
          1978,
          1979,
          1980,
          1981,
          1982,
          1983,
          1984,
          1985,
          1986,
          1987,
          1988,
          1989,
          1990,
          1991,
          1992,
          1993,
          1994,
          1995,
          1996,
          1997,
          1998,
          1999
         ],
         "xaxis": "x",
         "y": [
          1372,
          1324.28,
          1294.38,
          1272.44,
          1255.07,
          1240.67,
          1228.36,
          1217.61,
          1208.06,
          1199.48,
          1207.68,
          1175.15,
          1233.21,
          1197.43,
          1142.69,
          1071.62,
          1213.79,
          1180.55,
          1127.74,
          1188.26,
          1157.75,
          1107.21,
          1039.51,
          1470.24,
          1336.68,
          1251.21,
          1164.63,
          1069.35,
          964.99,
          854.35,
          741.55,
          630.85,
          525.96,
          429.74,
          344.11,
          360.11,
          352.91,
          338.93,
          319,
          294.24,
          265.97,
          235.61,
          204.54,
          174.01,
          145.08,
          118.54,
          94.92,
          74.49
         ],
         "yaxis": "y"
        },
        {
         "hoverinfo": "x+y+name",
         "hovertemplate": "director=Steven Spielberg<br>year=%{x}<br>elo=%{y}<extra></extra>",
         "legendgroup": "Steven Spielberg",
         "line": {
          "color": "#ab63fa",
          "dash": "solid"
         },
         "marker": {
          "symbol": "circle"
         },
         "mode": "lines+markers",
         "name": "Steven Spielberg",
         "orientation": "v",
         "showlegend": true,
         "type": "scatter",
         "x": [
          1964,
          1965,
          1966,
          1967,
          1968,
          1969,
          1970,
          1971,
          1972,
          1973,
          1974,
          1975,
          1976,
          1977,
          1978,
          1979,
          1980,
          1981,
          1982,
          1983,
          1984,
          1985,
          1986,
          1987,
          1988,
          1989,
          1990,
          1991,
          1992,
          1993,
          1994,
          1995,
          1996,
          1997,
          1998,
          1999,
          2000,
          2001,
          2002,
          2003,
          2004,
          2005,
          2006,
          2007,
          2008,
          2009,
          2010,
          2011,
          2012,
          2013,
          2014,
          2015,
          2016,
          2017,
          2018,
          2019,
          2020,
          2021,
          2022
         ],
         "xaxis": "x",
         "y": [
          1372,
          1324.28,
          1294.38,
          1272.44,
          1255.07,
          1240.67,
          1228.36,
          1217.61,
          1208.06,
          1199.48,
          1191.68,
          1488.53,
          1341.59,
          1610.01,
          1382.09,
          1377.7,
          1300.84,
          1821.36,
          2035.54,
          1990.92,
          1847.82,
          1772.4,
          1496.52,
          1467.08,
          1335.79,
          1430.21,
          1324.01,
          1374.19,
          1298.98,
          2315.95,
          2265.71,
          2172.15,
          2040.65,
          2046.66,
          2114.67,
          2068.46,
          1982.71,
          1759.69,
          1563.95,
          1363.03,
          1266.95,
          1378.57,
          1301.29,
          1227.1,
          1144.96,
          1052.18,
          949.76,
          1061.31,
          1411.68,
          1316.8,
          1238.05,
          1402.09,
          1312.66,
          1318.11,
          1306.03,
          1255.62,
          1191.98,
          1376.81,
          1438.91
         ],
         "yaxis": "y"
        },
        {
         "hoverinfo": "x+y+name",
         "hovertemplate": "director=Martin Scorsese<br>year=%{x}<br>elo=%{y}<extra></extra>",
         "legendgroup": "Martin Scorsese",
         "line": {
          "color": "#FFA15A",
          "dash": "solid"
         },
         "marker": {
          "symbol": "circle"
         },
         "mode": "lines+markers",
         "name": "Martin Scorsese",
         "orientation": "v",
         "showlegend": true,
         "type": "scatter",
         "x": [
          1966,
          1967,
          1968,
          1969,
          1970,
          1971,
          1972,
          1973,
          1974,
          1975,
          1976,
          1977,
          1978,
          1979,
          1980,
          1981,
          1982,
          1983,
          1984,
          1985,
          1986,
          1987,
          1988,
          1989,
          1990,
          1991,
          1992,
          1993,
          1994,
          1995,
          1996,
          1997,
          1998,
          1999,
          2000,
          2001,
          2002,
          2003,
          2004,
          2005,
          2006,
          2007,
          2008,
          2009,
          2010,
          2011,
          2012,
          2013,
          2014,
          2015,
          2016,
          2017,
          2018,
          2019,
          2020,
          2021,
          2022,
          2023
         ],
         "xaxis": "x",
         "y": [
          1372,
          1324.28,
          1294.38,
          1272.44,
          1255.07,
          1240.67,
          1228.36,
          1217.61,
          1336.06,
          1276.34,
          1322.22,
          1267.08,
          1201.15,
          1123.03,
          1407.74,
          1315.14,
          1236.91,
          1153.05,
          1059.27,
          956.06,
          1099.57,
          1075.11,
          1089.2,
          1065.22,
          1239.52,
          1259.37,
          1219.39,
          1369.65,
          1296.52,
          1290.08,
          1243.73,
          1295,
          1247.46,
          1185.33,
          1109.36,
          1020.64,
          1179.62,
          1149.91,
          1721.44,
          1454.31,
          1759.22,
          1485.23,
          1313.91,
          1211.33,
          1109.08,
          1682.27,
          1425.15,
          1429.12,
          1323.62,
          1242.68,
          1246.1,
          1208.38,
          1152.25,
          1307.66,
          1256.8,
          1192.94,
          1115.96,
          1272.92
         ],
         "yaxis": "y"
        },
        {
         "hoverinfo": "x+y+name",
         "hovertemplate": "director=Woody Allen<br>year=%{x}<br>elo=%{y}<extra></extra>",
         "legendgroup": "Woody Allen",
         "line": {
          "color": "#19d3f3",
          "dash": "solid"
         },
         "marker": {
          "symbol": "circle"
         },
         "mode": "lines+markers",
         "name": "Woody Allen",
         "orientation": "v",
         "showlegend": true,
         "type": "scatter",
         "x": [
          1969,
          1970,
          1971,
          1972,
          1973,
          1974,
          1975,
          1976,
          1977,
          1978,
          1979,
          1980,
          1981,
          1982,
          1983,
          1984,
          1985,
          1986,
          1987,
          1988,
          1989,
          1990,
          1991,
          1992,
          1993,
          1994,
          1995,
          1996,
          1997,
          1998,
          1999,
          2000,
          2001,
          2002,
          2003,
          2004,
          2005,
          2006,
          2007,
          2008,
          2009,
          2010,
          2011,
          2012,
          2013,
          2014,
          2015,
          2016,
          2017,
          2018,
          2019,
          2020,
          2021,
          2022,
          2023
         ],
         "xaxis": "x",
         "y": [
          1372,
          1324.28,
          1294.38,
          1272.44,
          1255.07,
          1240.67,
          1228.36,
          1217.61,
          1608.06,
          1489.33,
          1401.18,
          1312.26,
          1234.9,
          1151.4,
          1178.86,
          1204.67,
          1212.4,
          1555.39,
          1419.91,
          1320.13,
          1339.47,
          1320.63,
          1265.98,
          1281.77,
          1237.32,
          1417.46,
          1458.08,
          1333.17,
          1316.46,
          1263.08,
          1279.37,
          1235.44,
          1175.36,
          1100.64,
          1012.84,
          914.68,
          930.38,
          911.42,
          875.05,
          970.86,
          950.88,
          912.78,
          1056.48,
          1033.84,
          1160.65,
          1132.49,
          1084.12,
          1018.37,
          938.39,
          847.87,
          750.95,
          651.88,
          554.58,
          462.38,
          377.8
         ],
         "yaxis": "y"
        },
        {
         "hoverinfo": "x+y+name",
         "hovertemplate": "director=Clint Eastwood<br>year=%{x}<br>elo=%{y}<extra></extra>",
         "legendgroup": "Clint Eastwood",
         "line": {
          "color": "#FF6692",
          "dash": "solid"
         },
         "marker": {
          "symbol": "circle"
         },
         "mode": "lines+markers",
         "name": "Clint Eastwood",
         "orientation": "v",
         "showlegend": true,
         "type": "scatter",
         "x": [
          1971,
          1972,
          1973,
          1974,
          1975,
          1976,
          1977,
          1978,
          1979,
          1980,
          1981,
          1982,
          1983,
          1984,
          1985,
          1986,
          1987,
          1988,
          1989,
          1990,
          1991,
          1992,
          1993,
          1994,
          1995,
          1996,
          1997,
          1998,
          1999,
          2000,
          2001,
          2002,
          2003,
          2004,
          2005,
          2006,
          2007,
          2008,
          2009,
          2010,
          2011,
          2012,
          2013,
          2014,
          2015,
          2016,
          2017,
          2018,
          2019,
          2020,
          2021,
          2022,
          2023,
          2024
         ],
         "xaxis": "x",
         "y": [
          1372,
          1324.28,
          1294.38,
          1272.44,
          1255.07,
          1256.67,
          1217.17,
          1159.85,
          1086.94,
          1000.54,
          903.67,
          800.27,
          694.66,
          590.97,
          492.71,
          508.71,
          498.53,
          594.53,
          582.63,
          559.55,
          526.64,
          990.64,
          970.12,
          931.15,
          946.78,
          927.42,
          890.36,
          837.78,
          772.63,
          788.57,
          772.73,
          742.07,
          998.03,
          1429.24,
          1323.66,
          1469.95,
          1336.6,
          1350.74,
          1343.81,
          1323.44,
          1267.92,
          1201.82,
          1123.61,
          1296.29,
          1248.43,
          1251.03,
          1212.5,
          1155.82,
          1167.04,
          1138.39,
          1089.54,
          1023.35,
          942.93,
          851.96
         ],
         "yaxis": "y"
        },
        {
         "hoverinfo": "x+y+name",
         "hovertemplate": "director=George Lucas<br>year=%{x}<br>elo=%{y}<extra></extra>",
         "legendgroup": "George Lucas",
         "line": {
          "color": "#B6E880",
          "dash": "solid"
         },
         "marker": {
          "symbol": "circle"
         },
         "mode": "lines+markers",
         "name": "George Lucas",
         "orientation": "v",
         "showlegend": true,
         "type": "scatter",
         "x": [
          1971,
          1972,
          1973,
          1974,
          1975,
          1976,
          1977,
          1978,
          1979,
          1980,
          1981,
          1982,
          1983,
          1984,
          1985,
          1986,
          1987,
          1988,
          1989,
          1990,
          1991,
          1992,
          1993,
          1994,
          1995,
          1996,
          1997,
          1998,
          1999,
          2000,
          2001,
          2002,
          2003,
          2004,
          2005
         ],
         "xaxis": "x",
         "y": [
          1372,
          1324.28,
          1374.38,
          1299.08,
          1225.5,
          1143.63,
          1051.01,
          948.72,
          840.02,
          729.13,
          620.29,
          517.16,
          422.55,
          338.35,
          265.51,
          204.18,
          153.88,
          113.65,
          82.26,
          58.35,
          40.56,
          27.63,
          18.45,
          12.07,
          7.74,
          4.86,
          2.99,
          1.8,
          1.06,
          0.61,
          0.35,
          0.19,
          0.1,
          0.05,
          0.03
         ],
         "yaxis": "y"
        },
        {
         "hoverinfo": "x+y+name",
         "hovertemplate": "director=Ridley Scott<br>year=%{x}<br>elo=%{y}<extra></extra>",
         "legendgroup": "Ridley Scott",
         "line": {
          "color": "#FF97FF",
          "dash": "solid"
         },
         "marker": {
          "symbol": "circle"
         },
         "mode": "lines+markers",
         "name": "Ridley Scott",
         "orientation": "v",
         "showlegend": true,
         "type": "scatter",
         "x": [
          1977,
          1978,
          1979,
          1980,
          1981,
          1982,
          1983,
          1984,
          1985,
          1986,
          1987,
          1988,
          1989,
          1990,
          1991,
          1992,
          1993,
          1994,
          1995,
          1996,
          1997,
          1998,
          1999,
          2000,
          2001,
          2002,
          2003,
          2004,
          2005,
          2006,
          2007,
          2008,
          2009,
          2010,
          2011,
          2012,
          2013,
          2014,
          2015,
          2016,
          2017,
          2018,
          2019,
          2020,
          2021,
          2022,
          2023,
          2024
         ],
         "xaxis": "x",
         "y": [
          1372,
          1324.28,
          1406.38,
          1314.55,
          1236.5,
          1256.74,
          1217.23,
          1159.9,
          1086.98,
          1000.58,
          903.71,
          800.31,
          832.23,
          815.47,
          991.37,
          970.83,
          931.83,
          876.68,
          808.44,
          730.69,
          647.24,
          561.87,
          478.01,
          1070.01,
          1292.21,
          1245.35,
          1183.59,
          1107.84,
          1019.28,
          920.44,
          952.12,
          932.62,
          895.33,
          842.45,
          776.93,
          792.87,
          776.94,
          746.11,
          858.07,
          840.75,
          856.62,
          839.34,
          805.98,
          758.5,
          774.45,
          758.9,
          806.85,
          790.63
         ],
         "yaxis": "y"
        },
        {
         "hoverinfo": "x+y+name",
         "hovertemplate": "director=James Cameron<br>year=%{x}<br>elo=%{y}<extra></extra>",
         "legendgroup": "James Cameron",
         "line": {
          "color": "#FECB52",
          "dash": "solid"
         },
         "marker": {
          "symbol": "circle"
         },
         "mode": "lines+markers",
         "name": "James Cameron",
         "orientation": "v",
         "showlegend": true,
         "type": "scatter",
         "x": [
          1984,
          1985,
          1986,
          1987,
          1988,
          1989,
          1990,
          1991,
          1992,
          1993,
          1994,
          1995,
          1996,
          1997,
          1998,
          1999,
          2000,
          2001,
          2002,
          2003,
          2004,
          2005,
          2006,
          2007,
          2008,
          2009,
          2010,
          2011,
          2012,
          2013,
          2014,
          2015,
          2016,
          2017,
          2018,
          2019,
          2020,
          2021,
          2022
         ],
         "xaxis": "x",
         "y": [
          1372,
          1324.28,
          1566.38,
          1363.88,
          1267.43,
          1394.97,
          1309.41,
          1699.74,
          1437.73,
          1300.13,
          1292.83,
          1245.82,
          1183.98,
          2281.42,
          2231.87,
          2139.65,
          2010.06,
          1850.34,
          1445.18,
          1201.45,
          1036.09,
          880.43,
          733.89,
          599.61,
          480.12,
          864.12,
          846.67,
          813.01,
          765.11,
          705.66,
          637.84,
          565.01,
          490.49,
          417.29,
          347.91,
          284.27,
          227.62,
          178.62,
          322.62
         ],
         "yaxis": "y"
        },
        {
         "hoverinfo": "x+y+name",
         "hovertemplate": "director=Tim Burton<br>year=%{x}<br>elo=%{y}<extra></extra>",
         "legendgroup": "Tim Burton",
         "line": {
          "color": "#636efa",
          "dash": "solid"
         },
         "marker": {
          "symbol": "circle"
         },
         "mode": "lines+markers",
         "name": "Tim Burton",
         "orientation": "v",
         "showlegend": true,
         "type": "scatter",
         "x": [
          1985,
          1986,
          1987,
          1988,
          1989,
          1990,
          1991,
          1992,
          1993,
          1994,
          1995,
          1996,
          1997,
          1998,
          1999,
          2000,
          2001,
          2002,
          2003,
          2004,
          2005,
          2006,
          2007,
          2008,
          2009,
          2010,
          2011,
          2012,
          2013,
          2014,
          2015,
          2016,
          2017,
          2018,
          2019,
          2020,
          2021,
          2022,
          2023,
          2024
         ],
         "xaxis": "x",
         "y": [
          1372,
          1324.28,
          1294.38,
          1464.44,
          1554.28,
          1419.54,
          1319.98,
          1355.36,
          1288.35,
          1651.76,
          1405.08,
          1287.71,
          1192.74,
          1093.47,
          1347.12,
          1283.35,
          1213.78,
          1133.79,
          1162.07,
          1133.8,
          1162.08,
          1133.81,
          1085.34,
          1019.5,
          939.42,
          1355.02,
          1288.15,
          1299.61,
          1250.9,
          1188.15,
          1111.81,
          1022.82,
          923.6,
          817.87,
          709.93,
          603.96,
          503.54,
          411.43,
          329.44,
          258.52
         ],
         "yaxis": "y"
        },
        {
         "hoverinfo": "x+y+name",
         "hovertemplate": "director=Peter Jackson<br>year=%{x}<br>elo=%{y}<extra></extra>",
         "legendgroup": "Peter Jackson",
         "line": {
          "color": "#EF553B",
          "dash": "solid"
         },
         "marker": {
          "symbol": "circle"
         },
         "mode": "lines+markers",
         "name": "Peter Jackson",
         "orientation": "v",
         "showlegend": true,
         "type": "scatter",
         "x": [
          1987,
          1988,
          1989,
          1990,
          1991,
          1992,
          1993,
          1994,
          1995,
          1996,
          1997,
          1998,
          1999,
          2000,
          2001,
          2002,
          2003,
          2004,
          2005,
          2006,
          2007,
          2008,
          2009,
          2010,
          2011,
          2012,
          2013,
          2014
         ],
         "xaxis": "x",
         "y": [
          1372,
          1324.28,
          1294.38,
          1272.44,
          1255.07,
          1240.67,
          1228.36,
          1249.61,
          1211.32,
          1154.8,
          1082.44,
          996.49,
          900.05,
          797.08,
          1853,
          2113.32,
          2373.32,
          2321.93,
          2393.93,
          2342.13,
          2245.54,
          2109.72,
          2109.72,
          2063.61,
          1978.06,
          1819.1,
          1665.44,
          1474.61
         ],
         "yaxis": "y"
        },
        {
         "hoverinfo": "x+y+name",
         "hovertemplate": "director=Quentin Tarantino<br>year=%{x}<br>elo=%{y}<extra></extra>",
         "legendgroup": "Quentin Tarantino",
         "line": {
          "color": "#00cc96",
          "dash": "solid"
         },
         "marker": {
          "symbol": "circle"
         },
         "mode": "lines+markers",
         "name": "Quentin Tarantino",
         "orientation": "v",
         "showlegend": true,
         "type": "scatter",
         "x": [
          1987,
          1988,
          1989,
          1990,
          1991,
          1992,
          1993,
          1994,
          1995,
          1996,
          1997,
          1998,
          1999,
          2000,
          2001,
          2002,
          2003,
          2004,
          2005,
          2006,
          2007,
          2008,
          2009,
          2010,
          2011,
          2012,
          2013,
          2014,
          2015,
          2016,
          2017,
          2018,
          2019
         ],
         "xaxis": "x",
         "y": [
          1372,
          1324.28,
          1294.38,
          1272.44,
          1255.07,
          1240.67,
          1228.36,
          1409.61,
          1315.93,
          1237.45,
          1241.57,
          1204.56,
          1148.93,
          1077.2,
          991.77,
          895.82,
          793.34,
          688.65,
          585.86,
          488.45,
          399.1,
          319.57,
          527.57,
          517.02,
          496.54,
          736.54,
          721.77,
          693.16,
          821.14,
          804.62,
          772.68,
          727.18,
          1047.14
         ],
         "yaxis": "y"
        },
        {
         "hoverinfo": "x+y+name",
         "hovertemplate": "director=David Fincher<br>year=%{x}<br>elo=%{y}<extra></extra>",
         "legendgroup": "David Fincher",
         "line": {
          "color": "#ab63fa",
          "dash": "solid"
         },
         "marker": {
          "symbol": "circle"
         },
         "mode": "lines+markers",
         "name": "David Fincher",
         "orientation": "v",
         "showlegend": true,
         "type": "scatter",
         "x": [
          1992,
          1993,
          1994,
          1995,
          1996,
          1997,
          1998,
          1999,
          2000,
          2001,
          2002,
          2003,
          2004,
          2005,
          2006,
          2007,
          2008,
          2009,
          2010,
          2011,
          2012,
          2013,
          2014,
          2015,
          2016,
          2017,
          2018,
          2019,
          2020,
          2021,
          2022,
          2023
         ],
         "xaxis": "x",
         "y": [
          1372,
          1324.28,
          1294.38,
          1272.44,
          1255.07,
          1240.67,
          1228.36,
          1233.61,
          1197.78,
          1143,
          1071.89,
          986.98,
          891.52,
          789.54,
          685.36,
          583.06,
          1031.05,
          1009.3,
          1376.4,
          1486.69,
          1341.11,
          1253.99,
          1255.76,
          1216.42,
          1159.2,
          1086.36,
          1000.02,
          903.21,
          1222.94,
          1188.56,
          1134.86,
          1064.57
         ],
         "yaxis": "y"
        },
        {
         "hoverinfo": "x+y+name",
         "hovertemplate": "director=Danny Boyle<br>year=%{x}<br>elo=%{y}<extra></extra>",
         "legendgroup": "Danny Boyle",
         "line": {
          "color": "#FFA15A",
          "dash": "solid"
         },
         "marker": {
          "symbol": "circle"
         },
         "mode": "lines+markers",
         "name": "Danny Boyle",
         "orientation": "v",
         "showlegend": true,
         "type": "scatter",
         "x": [
          1994,
          1995,
          1996,
          1997,
          1998,
          1999,
          2000,
          2001,
          2002,
          2003,
          2004,
          2005,
          2006,
          2007,
          2008,
          2009,
          2010,
          2011,
          2012,
          2013,
          2014,
          2015,
          2016,
          2017,
          2018,
          2019
         ],
         "xaxis": "x",
         "y": [
          1372,
          1324.28,
          1310.38,
          1258.76,
          1194.52,
          1117.33,
          1027.74,
          927.99,
          821.74,
          713.28,
          606.81,
          505.92,
          413.37,
          331,
          259.74,
          199.75,
          295.75,
          289.83,
          278.35,
          261.98,
          241.64,
          273.64,
          268.17,
          257.55,
          242.4,
          223.58
         ],
         "yaxis": "y"
        },
        {
         "hoverinfo": "x+y+name",
         "hovertemplate": "director=Christopher Nolan<br>year=%{x}<br>elo=%{y}<extra></extra>",
         "legendgroup": "Christopher Nolan",
         "line": {
          "color": "#19d3f3",
          "dash": "solid"
         },
         "marker": {
          "symbol": "circle"
         },
         "mode": "lines+markers",
         "name": "Christopher Nolan",
         "orientation": "v",
         "showlegend": true,
         "type": "scatter",
         "x": [
          1998,
          1999,
          2000,
          2001,
          2002,
          2003,
          2004,
          2005,
          2006,
          2007,
          2008,
          2009,
          2010,
          2011,
          2012,
          2013,
          2014,
          2015,
          2016,
          2017,
          2018,
          2019,
          2020,
          2021,
          2022,
          2023
         ],
         "xaxis": "x",
         "y": [
          1372,
          1324.28,
          1294.38,
          1272.44,
          1255.07,
          1240.67,
          1228.36,
          1233.61,
          1254.22,
          1215.15,
          1493.86,
          1342.97,
          1754.9,
          1481.58,
          1312.96,
          1210.69,
          1361.85,
          1292.14,
          1220.39,
          1578.55,
          1368.39,
          1269.91,
          1365,
          1293.93,
          1221.72,
          1979.73
         ],
         "yaxis": "y"
        },
        {
         "hoverinfo": "x+y+name",
         "hovertemplate": "director=Joel Coen<br>year=%{x}<br>elo=%{y}<extra></extra>",
         "legendgroup": "Joel Coen",
         "line": {
          "color": "#FF6692",
          "dash": "solid"
         },
         "marker": {
          "symbol": "circle"
         },
         "mode": "lines+markers",
         "name": "Joel Coen",
         "orientation": "v",
         "showlegend": true,
         "type": "scatter",
         "x": [
          2001,
          2002,
          2003,
          2004,
          2005,
          2006,
          2007,
          2008,
          2009,
          2010,
          2011,
          2012,
          2013,
          2014,
          2015,
          2016,
          2017,
          2018,
          2019,
          2020,
          2021
         ],
         "xaxis": "x",
         "y": [
          1388,
          1306.06,
          1230.53,
          1147.8,
          1054.67,
          951.97,
          842.88,
          731.61,
          622.4,
          518.92,
          423.99,
          339.5,
          266.41,
          204.88,
          154.41,
          114.04,
          82.54,
          58.55,
          40.7,
          27.73,
          75.73
         ],
         "yaxis": "y"
        }
       ],
       "layout": {
        "height": 600,
        "hovermode": "x unified",
        "legend": {
         "itemsizing": "constant",
         "title": {
          "text": "Select Director"
         },
         "tracegroupgap": 0
        },
        "template": {
         "data": {
          "bar": [
           {
            "error_x": {
             "color": "#2a3f5f"
            },
            "error_y": {
             "color": "#2a3f5f"
            },
            "marker": {
             "line": {
              "color": "#E5ECF6",
              "width": 0.5
             },
             "pattern": {
              "fillmode": "overlay",
              "size": 10,
              "solidity": 0.2
             }
            },
            "type": "bar"
           }
          ],
          "barpolar": [
           {
            "marker": {
             "line": {
              "color": "#E5ECF6",
              "width": 0.5
             },
             "pattern": {
              "fillmode": "overlay",
              "size": 10,
              "solidity": 0.2
             }
            },
            "type": "barpolar"
           }
          ],
          "carpet": [
           {
            "aaxis": {
             "endlinecolor": "#2a3f5f",
             "gridcolor": "white",
             "linecolor": "white",
             "minorgridcolor": "white",
             "startlinecolor": "#2a3f5f"
            },
            "baxis": {
             "endlinecolor": "#2a3f5f",
             "gridcolor": "white",
             "linecolor": "white",
             "minorgridcolor": "white",
             "startlinecolor": "#2a3f5f"
            },
            "type": "carpet"
           }
          ],
          "choropleth": [
           {
            "colorbar": {
             "outlinewidth": 0,
             "ticks": ""
            },
            "type": "choropleth"
           }
          ],
          "contour": [
           {
            "colorbar": {
             "outlinewidth": 0,
             "ticks": ""
            },
            "colorscale": [
             [
              0,
              "#0d0887"
             ],
             [
              0.1111111111111111,
              "#46039f"
             ],
             [
              0.2222222222222222,
              "#7201a8"
             ],
             [
              0.3333333333333333,
              "#9c179e"
             ],
             [
              0.4444444444444444,
              "#bd3786"
             ],
             [
              0.5555555555555556,
              "#d8576b"
             ],
             [
              0.6666666666666666,
              "#ed7953"
             ],
             [
              0.7777777777777778,
              "#fb9f3a"
             ],
             [
              0.8888888888888888,
              "#fdca26"
             ],
             [
              1,
              "#f0f921"
             ]
            ],
            "type": "contour"
           }
          ],
          "contourcarpet": [
           {
            "colorbar": {
             "outlinewidth": 0,
             "ticks": ""
            },
            "type": "contourcarpet"
           }
          ],
          "heatmap": [
           {
            "colorbar": {
             "outlinewidth": 0,
             "ticks": ""
            },
            "colorscale": [
             [
              0,
              "#0d0887"
             ],
             [
              0.1111111111111111,
              "#46039f"
             ],
             [
              0.2222222222222222,
              "#7201a8"
             ],
             [
              0.3333333333333333,
              "#9c179e"
             ],
             [
              0.4444444444444444,
              "#bd3786"
             ],
             [
              0.5555555555555556,
              "#d8576b"
             ],
             [
              0.6666666666666666,
              "#ed7953"
             ],
             [
              0.7777777777777778,
              "#fb9f3a"
             ],
             [
              0.8888888888888888,
              "#fdca26"
             ],
             [
              1,
              "#f0f921"
             ]
            ],
            "type": "heatmap"
           }
          ],
          "heatmapgl": [
           {
            "colorbar": {
             "outlinewidth": 0,
             "ticks": ""
            },
            "colorscale": [
             [
              0,
              "#0d0887"
             ],
             [
              0.1111111111111111,
              "#46039f"
             ],
             [
              0.2222222222222222,
              "#7201a8"
             ],
             [
              0.3333333333333333,
              "#9c179e"
             ],
             [
              0.4444444444444444,
              "#bd3786"
             ],
             [
              0.5555555555555556,
              "#d8576b"
             ],
             [
              0.6666666666666666,
              "#ed7953"
             ],
             [
              0.7777777777777778,
              "#fb9f3a"
             ],
             [
              0.8888888888888888,
              "#fdca26"
             ],
             [
              1,
              "#f0f921"
             ]
            ],
            "type": "heatmapgl"
           }
          ],
          "histogram": [
           {
            "marker": {
             "pattern": {
              "fillmode": "overlay",
              "size": 10,
              "solidity": 0.2
             }
            },
            "type": "histogram"
           }
          ],
          "histogram2d": [
           {
            "colorbar": {
             "outlinewidth": 0,
             "ticks": ""
            },
            "colorscale": [
             [
              0,
              "#0d0887"
             ],
             [
              0.1111111111111111,
              "#46039f"
             ],
             [
              0.2222222222222222,
              "#7201a8"
             ],
             [
              0.3333333333333333,
              "#9c179e"
             ],
             [
              0.4444444444444444,
              "#bd3786"
             ],
             [
              0.5555555555555556,
              "#d8576b"
             ],
             [
              0.6666666666666666,
              "#ed7953"
             ],
             [
              0.7777777777777778,
              "#fb9f3a"
             ],
             [
              0.8888888888888888,
              "#fdca26"
             ],
             [
              1,
              "#f0f921"
             ]
            ],
            "type": "histogram2d"
           }
          ],
          "histogram2dcontour": [
           {
            "colorbar": {
             "outlinewidth": 0,
             "ticks": ""
            },
            "colorscale": [
             [
              0,
              "#0d0887"
             ],
             [
              0.1111111111111111,
              "#46039f"
             ],
             [
              0.2222222222222222,
              "#7201a8"
             ],
             [
              0.3333333333333333,
              "#9c179e"
             ],
             [
              0.4444444444444444,
              "#bd3786"
             ],
             [
              0.5555555555555556,
              "#d8576b"
             ],
             [
              0.6666666666666666,
              "#ed7953"
             ],
             [
              0.7777777777777778,
              "#fb9f3a"
             ],
             [
              0.8888888888888888,
              "#fdca26"
             ],
             [
              1,
              "#f0f921"
             ]
            ],
            "type": "histogram2dcontour"
           }
          ],
          "mesh3d": [
           {
            "colorbar": {
             "outlinewidth": 0,
             "ticks": ""
            },
            "type": "mesh3d"
           }
          ],
          "parcoords": [
           {
            "line": {
             "colorbar": {
              "outlinewidth": 0,
              "ticks": ""
             }
            },
            "type": "parcoords"
           }
          ],
          "pie": [
           {
            "automargin": true,
            "type": "pie"
           }
          ],
          "scatter": [
           {
            "fillpattern": {
             "fillmode": "overlay",
             "size": 10,
             "solidity": 0.2
            },
            "type": "scatter"
           }
          ],
          "scatter3d": [
           {
            "line": {
             "colorbar": {
              "outlinewidth": 0,
              "ticks": ""
             }
            },
            "marker": {
             "colorbar": {
              "outlinewidth": 0,
              "ticks": ""
             }
            },
            "type": "scatter3d"
           }
          ],
          "scattercarpet": [
           {
            "marker": {
             "colorbar": {
              "outlinewidth": 0,
              "ticks": ""
             }
            },
            "type": "scattercarpet"
           }
          ],
          "scattergeo": [
           {
            "marker": {
             "colorbar": {
              "outlinewidth": 0,
              "ticks": ""
             }
            },
            "type": "scattergeo"
           }
          ],
          "scattergl": [
           {
            "marker": {
             "colorbar": {
              "outlinewidth": 0,
              "ticks": ""
             }
            },
            "type": "scattergl"
           }
          ],
          "scattermapbox": [
           {
            "marker": {
             "colorbar": {
              "outlinewidth": 0,
              "ticks": ""
             }
            },
            "type": "scattermapbox"
           }
          ],
          "scatterpolar": [
           {
            "marker": {
             "colorbar": {
              "outlinewidth": 0,
              "ticks": ""
             }
            },
            "type": "scatterpolar"
           }
          ],
          "scatterpolargl": [
           {
            "marker": {
             "colorbar": {
              "outlinewidth": 0,
              "ticks": ""
             }
            },
            "type": "scatterpolargl"
           }
          ],
          "scatterternary": [
           {
            "marker": {
             "colorbar": {
              "outlinewidth": 0,
              "ticks": ""
             }
            },
            "type": "scatterternary"
           }
          ],
          "surface": [
           {
            "colorbar": {
             "outlinewidth": 0,
             "ticks": ""
            },
            "colorscale": [
             [
              0,
              "#0d0887"
             ],
             [
              0.1111111111111111,
              "#46039f"
             ],
             [
              0.2222222222222222,
              "#7201a8"
             ],
             [
              0.3333333333333333,
              "#9c179e"
             ],
             [
              0.4444444444444444,
              "#bd3786"
             ],
             [
              0.5555555555555556,
              "#d8576b"
             ],
             [
              0.6666666666666666,
              "#ed7953"
             ],
             [
              0.7777777777777778,
              "#fb9f3a"
             ],
             [
              0.8888888888888888,
              "#fdca26"
             ],
             [
              1,
              "#f0f921"
             ]
            ],
            "type": "surface"
           }
          ],
          "table": [
           {
            "cells": {
             "fill": {
              "color": "#EBF0F8"
             },
             "line": {
              "color": "white"
             }
            },
            "header": {
             "fill": {
              "color": "#C8D4E3"
             },
             "line": {
              "color": "white"
             }
            },
            "type": "table"
           }
          ]
         },
         "layout": {
          "annotationdefaults": {
           "arrowcolor": "#2a3f5f",
           "arrowhead": 0,
           "arrowwidth": 1
          },
          "autotypenumbers": "strict",
          "coloraxis": {
           "colorbar": {
            "outlinewidth": 0,
            "ticks": ""
           }
          },
          "colorscale": {
           "diverging": [
            [
             0,
             "#8e0152"
            ],
            [
             0.1,
             "#c51b7d"
            ],
            [
             0.2,
             "#de77ae"
            ],
            [
             0.3,
             "#f1b6da"
            ],
            [
             0.4,
             "#fde0ef"
            ],
            [
             0.5,
             "#f7f7f7"
            ],
            [
             0.6,
             "#e6f5d0"
            ],
            [
             0.7,
             "#b8e186"
            ],
            [
             0.8,
             "#7fbc41"
            ],
            [
             0.9,
             "#4d9221"
            ],
            [
             1,
             "#276419"
            ]
           ],
           "sequential": [
            [
             0,
             "#0d0887"
            ],
            [
             0.1111111111111111,
             "#46039f"
            ],
            [
             0.2222222222222222,
             "#7201a8"
            ],
            [
             0.3333333333333333,
             "#9c179e"
            ],
            [
             0.4444444444444444,
             "#bd3786"
            ],
            [
             0.5555555555555556,
             "#d8576b"
            ],
            [
             0.6666666666666666,
             "#ed7953"
            ],
            [
             0.7777777777777778,
             "#fb9f3a"
            ],
            [
             0.8888888888888888,
             "#fdca26"
            ],
            [
             1,
             "#f0f921"
            ]
           ],
           "sequentialminus": [
            [
             0,
             "#0d0887"
            ],
            [
             0.1111111111111111,
             "#46039f"
            ],
            [
             0.2222222222222222,
             "#7201a8"
            ],
            [
             0.3333333333333333,
             "#9c179e"
            ],
            [
             0.4444444444444444,
             "#bd3786"
            ],
            [
             0.5555555555555556,
             "#d8576b"
            ],
            [
             0.6666666666666666,
             "#ed7953"
            ],
            [
             0.7777777777777778,
             "#fb9f3a"
            ],
            [
             0.8888888888888888,
             "#fdca26"
            ],
            [
             1,
             "#f0f921"
            ]
           ]
          },
          "colorway": [
           "#636efa",
           "#EF553B",
           "#00cc96",
           "#ab63fa",
           "#FFA15A",
           "#19d3f3",
           "#FF6692",
           "#B6E880",
           "#FF97FF",
           "#FECB52"
          ],
          "font": {
           "color": "#2a3f5f"
          },
          "geo": {
           "bgcolor": "white",
           "lakecolor": "white",
           "landcolor": "#E5ECF6",
           "showlakes": true,
           "showland": true,
           "subunitcolor": "white"
          },
          "hoverlabel": {
           "align": "left"
          },
          "hovermode": "closest",
          "mapbox": {
           "style": "light"
          },
          "paper_bgcolor": "white",
          "plot_bgcolor": "#E5ECF6",
          "polar": {
           "angularaxis": {
            "gridcolor": "white",
            "linecolor": "white",
            "ticks": ""
           },
           "bgcolor": "#E5ECF6",
           "radialaxis": {
            "gridcolor": "white",
            "linecolor": "white",
            "ticks": ""
           }
          },
          "scene": {
           "xaxis": {
            "backgroundcolor": "#E5ECF6",
            "gridcolor": "white",
            "gridwidth": 2,
            "linecolor": "white",
            "showbackground": true,
            "ticks": "",
            "zerolinecolor": "white"
           },
           "yaxis": {
            "backgroundcolor": "#E5ECF6",
            "gridcolor": "white",
            "gridwidth": 2,
            "linecolor": "white",
            "showbackground": true,
            "ticks": "",
            "zerolinecolor": "white"
           },
           "zaxis": {
            "backgroundcolor": "#E5ECF6",
            "gridcolor": "white",
            "gridwidth": 2,
            "linecolor": "white",
            "showbackground": true,
            "ticks": "",
            "zerolinecolor": "white"
           }
          },
          "shapedefaults": {
           "line": {
            "color": "#2a3f5f"
           }
          },
          "ternary": {
           "aaxis": {
            "gridcolor": "white",
            "linecolor": "white",
            "ticks": ""
           },
           "baxis": {
            "gridcolor": "white",
            "linecolor": "white",
            "ticks": ""
           },
           "bgcolor": "#E5ECF6",
           "caxis": {
            "gridcolor": "white",
            "linecolor": "white",
            "ticks": ""
           }
          },
          "title": {
           "x": 0.05
          },
          "xaxis": {
           "automargin": true,
           "gridcolor": "white",
           "linecolor": "white",
           "ticks": "",
           "title": {
            "standoff": 15
           },
           "zerolinecolor": "white",
           "zerolinewidth": 2
          },
          "yaxis": {
           "automargin": true,
           "gridcolor": "white",
           "linecolor": "white",
           "ticks": "",
           "title": {
            "standoff": 15
           },
           "zerolinecolor": "white",
           "zerolinewidth": 2
          }
         }
        },
        "title": {
         "text": "Director's Metacritic Scores Over Time",
         "x": 0.5
        },
        "xaxis": {
         "anchor": "y",
         "domain": [
          0,
          1
         ],
         "title": {
          "text": "year"
         }
        },
        "yaxis": {
         "anchor": "x",
         "domain": [
          0,
          1
         ],
         "title": {
          "text": "elo"
         }
        }
       }
      }
     },
     "metadata": {},
     "output_type": "display_data"
    }
   ],
   "source": [
    "fig = px.line(directors_yrly_data,\n",
    "              x=\"year\",\n",
    "              y=\"elo\",\n",
    "              color=\"director\",\n",
    "              title=\"Director's Metacritic Scores Over Time\",\n",
    "              labels={\"Metacritic\": \"Metacritic Score\",\n",
    "                      \"ReleasedYear\": \"Release Year\"}\n",
    "              )\n",
    "\n",
    "# Add interactive hover and selection\n",
    "fig.update_traces(hoverinfo=\"x+y+name\", mode=\"lines+markers\")\n",
    "# fig.update_layout(\n",
    "#     width=900,  # Set width (in pixels)\n",
    "#     height=600  # Set height (in pixels)\n",
    "# )\n",
    "# Set layout to highlight selection\n",
    "fig.update_layout(\n",
    "    legend_title=\"Directors\",\n",
    "    hovermode=\"x unified\",\n",
    "    title_x=0.5,\n",
    "    height=600,\n",
    "    legend=dict(\n",
    "        title=\"Select Director\",\n",
    "        itemsizing=\"constant\"\n",
    "    )\n",
    ")\n",
    "\n",
    "# Show the plot\n",
    "fig.show()"
   ]
  }
 ],
 "metadata": {
  "kernelspec": {
   "display_name": "data_science",
   "language": "python",
   "name": "python3"
  },
  "language_info": {
   "codemirror_mode": {
    "name": "ipython",
    "version": 3
   },
   "file_extension": ".py",
   "mimetype": "text/x-python",
   "name": "python",
   "nbconvert_exporter": "python",
   "pygments_lexer": "ipython3",
   "version": "3.11.8"
  }
 },
 "nbformat": 4,
 "nbformat_minor": 2
}
