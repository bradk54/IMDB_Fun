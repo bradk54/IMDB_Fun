{
 "cells": [
  {
   "cell_type": "markdown",
   "metadata": {},
   "source": [
    "# Exploratory Data Analysis with a small subset of data\n",
    "- Use a subset of major directors -> around 20\n",
    "- subset those directors to their films\n",
    "- subset ratings and etc\n",
    "- need to explor incorporting OMDB to get the ratings and view various ranking systems on good films\n"
   ]
  },
  {
   "cell_type": "markdown",
   "metadata": {},
   "source": [
    "#### Load Packages"
   ]
  },
  {
   "cell_type": "code",
   "execution_count": 1,
   "metadata": {},
   "outputs": [],
   "source": [
    "import pandas as pd\n",
    "import polars as pl\n",
    "import numpy as np\n",
    "import gzip\n",
    "import pyarrow\n",
    "import sys\n",
    "from pathlib import Path\n",
    "from tqdm import tqdm\n",
    "import os\n",
    "\n",
    "\n",
    "import matplotlib.pyplot as plt\n",
    "import seaborn as sns\n",
    "import sys\n",
    "from pathlib import Path\n",
    "\n",
    "sns.set_theme(style=\"darkgrid\")\n",
    "\n",
    "# Add the `src` folder to Python's search path\n",
    "src_path = \"/Users/bradkittrell/Projects/imdb/IMDB_Fun/src\"\n",
    "sys.path.append(src_path)"
   ]
  },
  {
   "cell_type": "code",
   "execution_count": 2,
   "metadata": {},
   "outputs": [],
   "source": [
    "from data import generate_dataset\n",
    "from features import build_features\n",
    "import json\n",
    "\n",
    "# Load the JSON file\n",
    "with open(\"/Users/bradkittrell/Projects/imdb/IMDB_Fun/src/data/api_keys.json\", \"r\") as json_file:\n",
    "    config = json.load(json_file)\n",
    "\n",
    "omdb_key = config['OMDB_API_KEY']"
   ]
  },
  {
   "cell_type": "markdown",
   "metadata": {},
   "source": [
    "## Load Data and merge"
   ]
  },
  {
   "cell_type": "code",
   "execution_count": 3,
   "metadata": {},
   "outputs": [
    {
     "name": "stderr",
     "output_type": "stream",
     "text": [
      "INFO:root:No path provided. Using default path: /Users/bradkittrell/Projects/imdb/IMDB_Fun/Data/processed/name.parquet\n",
      "INFO:root:Successfully loaded data from /Users/bradkittrell/Projects/imdb/IMDB_Fun/Data/processed/name.parquet\n",
      "INFO:root:Filtered names data to include only rows where birthYear > 1899\n",
      "INFO:root:Dropped __index_level_0__ column\n",
      "INFO:root:No path provided. Using default path: /Users/bradkittrell/Projects/imdb/IMDB_Fun/Data/processed/title_crew.parquet\n",
      "INFO:root:Successfully loaded data from /Users/bradkittrell/Projects/imdb/IMDB_Fun/Data/processed/title_crew.parquet\n",
      "INFO:root:No path provided. Using default path: /Users/bradkittrell/Projects/imdb/IMDB_Fun/Data/processed/title_basics_movies.parquet\n",
      "INFO:root:Successfully loaded data from /Users/bradkittrell/Projects/imdb/IMDB_Fun/Data/processed/title_basics_movies.parquet\n",
      "INFO:root:Dropped __index_level_0__ column\n"
     ]
    }
   ],
   "source": [
    "# going to use imdbs list of top 25 directors of all time\n",
    "\n",
    "names = generate_dataset.load_names(None)\n",
    "film_crew = generate_dataset.load_crew(None)\n",
    "films = generate_dataset.load_title_basics(None)"
   ]
  },
  {
   "cell_type": "code",
   "execution_count": 4,
   "metadata": {},
   "outputs": [
    {
     "data": {
      "text/html": [
       "<div><style>\n",
       ".dataframe > thead > tr,\n",
       ".dataframe > tbody > tr {\n",
       "  text-align: right;\n",
       "  white-space: pre-wrap;\n",
       "}\n",
       "</style>\n",
       "<small>shape: (5, 9)</small><table border=\"1\" class=\"dataframe\"><thead><tr><th>tconst</th><th>titleType</th><th>primaryTitle</th><th>originalTitle</th><th>isAdult</th><th>startYear</th><th>endYear</th><th>runtimeMinutes</th><th>genres</th></tr><tr><td>str</td><td>str</td><td>str</td><td>str</td><td>i64</td><td>i64</td><td>i64</td><td>i64</td><td>str</td></tr></thead><tbody><tr><td>&quot;tt0011801&quot;</td><td>&quot;movie&quot;</td><td>&quot;Tötet nicht mehr&quot;</td><td>&quot;Tötet nicht mehr&quot;</td><td>0</td><td>2019</td><td>0</td><td>0</td><td>&quot;Action,Crime&quot;</td></tr><tr><td>&quot;tt0013274&quot;</td><td>&quot;movie&quot;</td><td>&quot;Istoriya grazhdanskoy voyny&quot;</td><td>&quot;Istoriya grazhdanskoy voyny&quot;</td><td>0</td><td>2021</td><td>0</td><td>94</td><td>&quot;Documentary&quot;</td></tr><tr><td>&quot;tt0015414&quot;</td><td>&quot;movie&quot;</td><td>&quot;La tierra de los toros&quot;</td><td>&quot;La tierra de los toros&quot;</td><td>0</td><td>2000</td><td>0</td><td>60</td><td>&quot;\\N&quot;</td></tr><tr><td>&quot;tt0015724&quot;</td><td>&quot;movie&quot;</td><td>&quot;Dama de noche&quot;</td><td>&quot;Dama de noche&quot;</td><td>0</td><td>1993</td><td>0</td><td>102</td><td>&quot;Drama,Mystery,Romance&quot;</td></tr><tr><td>&quot;tt0022064&quot;</td><td>&quot;movie&quot;</td><td>&quot;Lebbra bianca&quot;</td><td>&quot;Lebbra bianca&quot;</td><td>0</td><td>1951</td><td>0</td><td>80</td><td>&quot;Drama&quot;</td></tr></tbody></table></div>"
      ],
      "text/plain": [
       "shape: (5, 9)\n",
       "┌───────────┬───────────┬────────────┬───────────┬───┬───────────┬─────────┬───────────┬───────────┐\n",
       "│ tconst    ┆ titleType ┆ primaryTit ┆ originalT ┆ … ┆ startYear ┆ endYear ┆ runtimeMi ┆ genres    │\n",
       "│ ---       ┆ ---       ┆ le         ┆ itle      ┆   ┆ ---       ┆ ---     ┆ nutes     ┆ ---       │\n",
       "│ str       ┆ str       ┆ ---        ┆ ---       ┆   ┆ i64       ┆ i64     ┆ ---       ┆ str       │\n",
       "│           ┆           ┆ str        ┆ str       ┆   ┆           ┆         ┆ i64       ┆           │\n",
       "╞═══════════╪═══════════╪════════════╪═══════════╪═══╪═══════════╪═════════╪═══════════╪═══════════╡\n",
       "│ tt0011801 ┆ movie     ┆ Tötet      ┆ Tötet     ┆ … ┆ 2019      ┆ 0       ┆ 0         ┆ Action,Cr │\n",
       "│           ┆           ┆ nicht mehr ┆ nicht     ┆   ┆           ┆         ┆           ┆ ime       │\n",
       "│           ┆           ┆            ┆ mehr      ┆   ┆           ┆         ┆           ┆           │\n",
       "│ tt0013274 ┆ movie     ┆ Istoriya   ┆ Istoriya  ┆ … ┆ 2021      ┆ 0       ┆ 94        ┆ Documenta │\n",
       "│           ┆           ┆ grazhdansk ┆ grazhdans ┆   ┆           ┆         ┆           ┆ ry        │\n",
       "│           ┆           ┆ oy voyny   ┆ koy voyny ┆   ┆           ┆         ┆           ┆           │\n",
       "│ tt0015414 ┆ movie     ┆ La tierra  ┆ La tierra ┆ … ┆ 2000      ┆ 0       ┆ 60        ┆ \\N        │\n",
       "│           ┆           ┆ de los     ┆ de los    ┆   ┆           ┆         ┆           ┆           │\n",
       "│           ┆           ┆ toros      ┆ toros     ┆   ┆           ┆         ┆           ┆           │\n",
       "│ tt0015724 ┆ movie     ┆ Dama de    ┆ Dama de   ┆ … ┆ 1993      ┆ 0       ┆ 102       ┆ Drama,Mys │\n",
       "│           ┆           ┆ noche      ┆ noche     ┆   ┆           ┆         ┆           ┆ tery,Roma │\n",
       "│           ┆           ┆            ┆           ┆   ┆           ┆         ┆           ┆ nce       │\n",
       "│ tt0022064 ┆ movie     ┆ Lebbra     ┆ Lebbra    ┆ … ┆ 1951      ┆ 0       ┆ 80        ┆ Drama     │\n",
       "│           ┆           ┆ bianca     ┆ bianca    ┆   ┆           ┆         ┆           ┆           │\n",
       "└───────────┴───────────┴────────────┴───────────┴───┴───────────┴─────────┴───────────┴───────────┘"
      ]
     },
     "execution_count": 4,
     "metadata": {},
     "output_type": "execute_result"
    }
   ],
   "source": [
    "films.head()"
   ]
  },
  {
   "cell_type": "code",
   "execution_count": 13,
   "metadata": {},
   "outputs": [
    {
     "data": {
      "text/html": [
       "<div><style>\n",
       ".dataframe > thead > tr,\n",
       ".dataframe > tbody > tr {\n",
       "  text-align: right;\n",
       "  white-space: pre-wrap;\n",
       "}\n",
       "</style>\n",
       "<small>shape: (2_586, 5)</small><table border=\"1\" class=\"dataframe\"><thead><tr><th>num_films</th><th>primaryName</th><th>birthYear</th><th>deathYear</th><th>nconst</th></tr><tr><td>u32</td><td>str</td><td>i64</td><td>i64</td><td>str</td></tr></thead><tbody><tr><td>31</td><td>&quot;Ingmar Bergman&quot;</td><td>1918</td><td>2007</td><td>&quot;nm0000005&quot;</td></tr><tr><td>18</td><td>&quot;Federico Fellini&quot;</td><td>1920</td><td>1993</td><td>&quot;nm0000019&quot;</td></tr><tr><td>12</td><td>&quot;Stanley Kubrick&quot;</td><td>1928</td><td>1999</td><td>&quot;nm0000040&quot;</td></tr><tr><td>17</td><td>&quot;Akira Kurosawa&quot;</td><td>1910</td><td>1998</td><td>&quot;nm0000041&quot;</td></tr><tr><td>21</td><td>&quot;François Truffaut&quot;</td><td>1932</td><td>1984</td><td>&quot;nm0000076&quot;</td></tr><tr><td>&hellip;</td><td>&hellip;</td><td>&hellip;</td><td>&hellip;</td><td>&hellip;</td></tr><tr><td>11</td><td>&quot;Hirobumi Watanabe&quot;</td><td>1982</td><td>0</td><td>&quot;nm6128510&quot;</td></tr><tr><td>12</td><td>&quot;Brando Improta&quot;</td><td>1990</td><td>0</td><td>&quot;nm6199897&quot;</td></tr><tr><td>14</td><td>&quot;Özgür Bakar&quot;</td><td>1982</td><td>0</td><td>&quot;nm6356309&quot;</td></tr><tr><td>11</td><td>&quot;Matías Szulanski&quot;</td><td>1991</td><td>0</td><td>&quot;nm6914507&quot;</td></tr><tr><td>14</td><td>&quot;Marco Romano&quot;</td><td>1994</td><td>0</td><td>&quot;nm7702935&quot;</td></tr></tbody></table></div>"
      ],
      "text/plain": [
       "shape: (2_586, 5)\n",
       "┌───────────┬───────────────────┬───────────┬───────────┬───────────┐\n",
       "│ num_films ┆ primaryName       ┆ birthYear ┆ deathYear ┆ nconst    │\n",
       "│ ---       ┆ ---               ┆ ---       ┆ ---       ┆ ---       │\n",
       "│ u32       ┆ str               ┆ i64       ┆ i64       ┆ str       │\n",
       "╞═══════════╪═══════════════════╪═══════════╪═══════════╪═══════════╡\n",
       "│ 31        ┆ Ingmar Bergman    ┆ 1918      ┆ 2007      ┆ nm0000005 │\n",
       "│ 18        ┆ Federico Fellini  ┆ 1920      ┆ 1993      ┆ nm0000019 │\n",
       "│ 12        ┆ Stanley Kubrick   ┆ 1928      ┆ 1999      ┆ nm0000040 │\n",
       "│ 17        ┆ Akira Kurosawa    ┆ 1910      ┆ 1998      ┆ nm0000041 │\n",
       "│ 21        ┆ François Truffaut ┆ 1932      ┆ 1984      ┆ nm0000076 │\n",
       "│ …         ┆ …                 ┆ …         ┆ …         ┆ …         │\n",
       "│ 11        ┆ Hirobumi Watanabe ┆ 1982      ┆ 0         ┆ nm6128510 │\n",
       "│ 12        ┆ Brando Improta    ┆ 1990      ┆ 0         ┆ nm6199897 │\n",
       "│ 14        ┆ Özgür Bakar       ┆ 1982      ┆ 0         ┆ nm6356309 │\n",
       "│ 11        ┆ Matías Szulanski  ┆ 1991      ┆ 0         ┆ nm6914507 │\n",
       "│ 14        ┆ Marco Romano      ┆ 1994      ┆ 0         ┆ nm7702935 │\n",
       "└───────────┴───────────────────┴───────────┴───────────┴───────────┘"
      ]
     },
     "execution_count": 13,
     "metadata": {},
     "output_type": "execute_result"
    }
   ],
   "source": [
    "# # count director based on film appearance. This should help get a clean list of directors\n",
    "import fileinput\n",
    "\n",
    "\n",
    "dir_counts = films.join(film_crew, on=\"tconst\").filter(\n",
    "    (pl.col(\"runtimeMinutes\") > 60) & (pl.col(\"runtimeMinutes\") < 60*5)).group_by(\"directors\").agg(pl.col('directors').count().alias('num_films'))\n",
    "dir_counts = dir_counts.join(names, left_on=\"directors\", right_on=\"nconst\")\n",
    "\n",
    "dir_counts = dir_counts.filter(pl.col(\"num_films\") > 10)\n",
    "\n",
    "films_with_dirs = films.join(film_crew, on=\"tconst\").filter(\n",
    "    (pl.col(\"runtimeMinutes\") > 60) & (pl.col(\"runtimeMinutes\") < 60*5)).filter(\n",
    "    pl.col(\"directors\").is_in(dir_counts['directors'].to_list()))\n",
    "films_with_dirs = films_with_dirs.join(\n",
    "    dir_counts, left_on=\"directors\", right_on=\"directors\")\n",
    "\n",
    "films_with_dirs\n",
    "\n",
    "dir_counts.select(\n",
    "    [\"directors\", \"num_films\", \"primaryName\", \"birthYear\", \"deathYear\"]).filter(pl.col(\"num_films\") > 10).with_columns(pl.col(\"directors\").alias(\"nconst\")).drop(\"directors\")"
   ]
  },
  {
   "cell_type": "code",
   "execution_count": 182,
   "metadata": {},
   "outputs": [
    {
     "data": {
      "text/html": [
       "<div><style>\n",
       ".dataframe > thead > tr,\n",
       ".dataframe > tbody > tr {\n",
       "  text-align: right;\n",
       "  white-space: pre-wrap;\n",
       "}\n",
       "</style>\n",
       "<small>shape: (5, 11)</small><table border=\"1\" class=\"dataframe\"><thead><tr><th>tconst</th><th>titleType</th><th>primaryTitle</th><th>originalTitle</th><th>isAdult</th><th>startYear</th><th>endYear</th><th>runtimeMinutes</th><th>genres</th><th>directors</th><th>writers</th></tr><tr><td>str</td><td>str</td><td>str</td><td>str</td><td>i64</td><td>i64</td><td>i64</td><td>i64</td><td>str</td><td>str</td><td>str</td></tr></thead><tbody><tr><td>&quot;tt0015724&quot;</td><td>&quot;movie&quot;</td><td>&quot;Dama de noche&quot;</td><td>&quot;Dama de noche&quot;</td><td>0</td><td>1993</td><td>0</td><td>102</td><td>&quot;Drama,Mystery,Romance&quot;</td><td>&quot;nm0529960&quot;</td><td>&quot;nm0529960,nm1597742&quot;</td></tr><tr><td>&quot;tt0022064&quot;</td><td>&quot;movie&quot;</td><td>&quot;Lebbra bianca&quot;</td><td>&quot;Lebbra bianca&quot;</td><td>0</td><td>1951</td><td>0</td><td>80</td><td>&quot;Drama&quot;</td><td>&quot;nm0871077&quot;</td><td>&quot;nm0871077,nm0872689&quot;</td></tr><tr><td>&quot;tt0025557&quot;</td><td>&quot;movie&quot;</td><td>&quot;El negro que tenía el alma bla…</td><td>&quot;El negro que tenía el alma bla…</td><td>0</td><td>1951</td><td>0</td><td>87</td><td>&quot;Drama,Musical&quot;</td><td>&quot;nm0140459&quot;</td><td>&quot;nm0017046,nm0273236,nm0409404,…</td></tr><tr><td>&quot;tt0030998&quot;</td><td>&quot;movie&quot;</td><td>&quot;You&#x27;re Only Young Twice&quot;</td><td>&quot;You&#x27;re Only Young Twice&quot;</td><td>0</td><td>1952</td><td>0</td><td>81</td><td>&quot;Comedy&quot;</td><td>&quot;nm0084204&quot;</td><td>&quot;nm0108833,nm0303194,nm0065888,…</td></tr><tr><td>&quot;tt0031603&quot;</td><td>&quot;movie&quot;</td><td>&quot;Made in Germany - Die dramatis…</td><td>&quot;Made in Germany&quot;</td><td>0</td><td>1957</td><td>0</td><td>97</td><td>&quot;Biography,Drama&quot;</td><td>&quot;nm0772191&quot;</td><td>&quot;nm0530752,nm0726114&quot;</td></tr></tbody></table></div>"
      ],
      "text/plain": [
       "shape: (5, 11)\n",
       "┌───────────┬───────────┬───────────┬───────────┬───┬───────────┬───────────┬───────────┬──────────┐\n",
       "│ tconst    ┆ titleType ┆ primaryTi ┆ originalT ┆ … ┆ runtimeMi ┆ genres    ┆ directors ┆ writers  │\n",
       "│ ---       ┆ ---       ┆ tle       ┆ itle      ┆   ┆ nutes     ┆ ---       ┆ ---       ┆ ---      │\n",
       "│ str       ┆ str       ┆ ---       ┆ ---       ┆   ┆ ---       ┆ str       ┆ str       ┆ str      │\n",
       "│           ┆           ┆ str       ┆ str       ┆   ┆ i64       ┆           ┆           ┆          │\n",
       "╞═══════════╪═══════════╪═══════════╪═══════════╪═══╪═══════════╪═══════════╪═══════════╪══════════╡\n",
       "│ tt0015724 ┆ movie     ┆ Dama de   ┆ Dama de   ┆ … ┆ 102       ┆ Drama,Mys ┆ nm0529960 ┆ nm052996 │\n",
       "│           ┆           ┆ noche     ┆ noche     ┆   ┆           ┆ tery,Roma ┆           ┆ 0,nm1597 │\n",
       "│           ┆           ┆           ┆           ┆   ┆           ┆ nce       ┆           ┆ 742      │\n",
       "│ tt0022064 ┆ movie     ┆ Lebbra    ┆ Lebbra    ┆ … ┆ 80        ┆ Drama     ┆ nm0871077 ┆ nm087107 │\n",
       "│           ┆           ┆ bianca    ┆ bianca    ┆   ┆           ┆           ┆           ┆ 7,nm0872 │\n",
       "│           ┆           ┆           ┆           ┆   ┆           ┆           ┆           ┆ 689      │\n",
       "│ tt0025557 ┆ movie     ┆ El negro  ┆ El negro  ┆ … ┆ 87        ┆ Drama,Mus ┆ nm0140459 ┆ nm001704 │\n",
       "│           ┆           ┆ que tenía ┆ que tenía ┆   ┆           ┆ ical      ┆           ┆ 6,nm0273 │\n",
       "│           ┆           ┆ el alma   ┆ el alma   ┆   ┆           ┆           ┆           ┆ 236,nm04 │\n",
       "│           ┆           ┆ bla…      ┆ bla…      ┆   ┆           ┆           ┆           ┆ 09404,…  │\n",
       "│ tt0030998 ┆ movie     ┆ You're    ┆ You're    ┆ … ┆ 81        ┆ Comedy    ┆ nm0084204 ┆ nm010883 │\n",
       "│           ┆           ┆ Only      ┆ Only      ┆   ┆           ┆           ┆           ┆ 3,nm0303 │\n",
       "│           ┆           ┆ Young     ┆ Young     ┆   ┆           ┆           ┆           ┆ 194,nm00 │\n",
       "│           ┆           ┆ Twice     ┆ Twice     ┆   ┆           ┆           ┆           ┆ 65888,…  │\n",
       "│ tt0031603 ┆ movie     ┆ Made in   ┆ Made in   ┆ … ┆ 97        ┆ Biography ┆ nm0772191 ┆ nm053075 │\n",
       "│           ┆           ┆ Germany - ┆ Germany   ┆   ┆           ┆ ,Drama    ┆           ┆ 2,nm0726 │\n",
       "│           ┆           ┆ Die       ┆           ┆   ┆           ┆           ┆           ┆ 114      │\n",
       "│           ┆           ┆ dramatis… ┆           ┆   ┆           ┆           ┆           ┆          │\n",
       "└───────────┴───────────┴───────────┴───────────┴───┴───────────┴───────────┴───────────┴──────────┘"
      ]
     },
     "execution_count": 182,
     "metadata": {},
     "output_type": "execute_result"
    }
   ],
   "source": [
    "films.join(film_crew, on=\"tconst\").filter(\n",
    "    (pl.col(\"runtimeMinutes\") > 60) & (pl.col(\"runtimeMinutes\") < 60*5)).head()"
   ]
  },
  {
   "cell_type": "code",
   "execution_count": 6,
   "metadata": {},
   "outputs": [],
   "source": [
    "\n",
    "top_n_directors = [\"Steven Spielberg\", \"Martin Scorsese\", \"Alfred Hitchcock\", \"Roman Polanksi\",\n",
    "                   \"John Ford\", \"Billy Wilder\", \"James Cameron\", \"Tim Burton\", \"Ridley Scott\", \"Joel Coen\", \"David Fincher\",\n",
    "                   \"Christopher Nolan\", \"Clint Eastwood\", \"David Lean\", \"Woody Allen\", \"Stanley Kubrick\", \"Danny Boyle\", \"George Lucas\", \"Peter Jackson\", \"Quentin Tarantino\",\n",
    "                   \"Fancis Ford Coppola\"]\n",
    "# lots of duplicate names or same names rather\n",
    "top_n_directors_names = names.filter((pl.col(\"primaryName\").is_in(\n",
    "    top_n_directors)) & (pl.col(\"nconst\") != \"nm13407303\") & (pl.col(\"nconst\") != \"nm0131607\") & (pl.col(\"nconst\") != \"nm0131609\") & (pl.col(\"nconst\") != \"nm7812401\"))[[\"nconst\", \"primaryName\"]]\n",
    "\n",
    "top_n_directors_names\n",
    "\n",
    "\n",
    "film_crew = film_crew.filter(\n",
    "    pl.col(\"directors\").is_in(top_n_directors_names[\"nconst\"]))\n",
    "\n",
    "top_n_directors_names_films = film_crew.join(top_n_directors_names, left_on=\"directors\",\n",
    "                                             right_on=\"nconst\", how=\"inner\")[[\"tconst\", \"primaryName\"]]\n",
    "\n",
    "top_n_directors_names_films = top_n_directors_names_films.join(\n",
    "    films, on=\"tconst\")"
   ]
  },
  {
   "cell_type": "code",
   "execution_count": 35,
   "metadata": {},
   "outputs": [],
   "source": [
    "test = generate_dataset.fetch_movie_data(\"tt0025557\",   api_key=\"95497563\")"
   ]
  },
  {
   "cell_type": "code",
   "execution_count": 178,
   "metadata": {},
   "outputs": [
    {
     "data": {
      "text/plain": [
       "['tt0025557',\n",
       " 'tt0030998',\n",
       " 'tt0031603',\n",
       " 'tt0032787',\n",
       " 'tt0034683',\n",
       " 'tt0035423',\n",
       " 'tt0036247',\n",
       " 'tt0036606',\n",
       " 'tt0038020',\n",
       " 'tt0038240',\n",
       " 'tt0039442',\n",
       " 'tt0039965',\n",
       " 'tt0040258',\n",
       " 'tt0040559',\n",
       " 'tt0041357',\n",
       " 'tt0041596',\n",
       " 'tt0041688',\n",
       " 'tt0041979',\n",
       " 'tt0042215',\n",
       " 'tt0042222',\n",
       " 'tt0042227',\n",
       " 'tt0042246',\n",
       " 'tt0042254',\n",
       " 'tt0042257',\n",
       " 'tt0042269',\n",
       " 'tt0042297',\n",
       " 'tt0042305',\n",
       " 'tt0042308',\n",
       " 'tt0042309',\n",
       " 'tt0042316',\n",
       " 'tt0042346',\n",
       " 'tt0042347',\n",
       " 'tt0042386',\n",
       " 'tt0042388',\n",
       " 'tt0042407',\n",
       " 'tt0042411',\n",
       " 'tt0042413',\n",
       " 'tt0042429',\n",
       " 'tt0042434',\n",
       " 'tt0042446',\n",
       " 'tt0042454',\n",
       " 'tt0042462',\n",
       " 'tt0042465',\n",
       " 'tt0042478',\n",
       " 'tt0042479',\n",
       " 'tt0042499',\n",
       " 'tt0042503',\n",
       " 'tt0042516',\n",
       " 'tt0042558',\n",
       " 'tt0042566',\n",
       " 'tt0042571',\n",
       " 'tt0042590',\n",
       " 'tt0042601',\n",
       " 'tt0042605',\n",
       " 'tt0042619',\n",
       " 'tt0042621',\n",
       " 'tt0042626',\n",
       " 'tt0042649',\n",
       " 'tt0042660',\n",
       " 'tt0042672',\n",
       " 'tt0042675',\n",
       " 'tt0042704',\n",
       " 'tt0042717',\n",
       " 'tt0042737',\n",
       " 'tt0042756',\n",
       " 'tt0042760',\n",
       " 'tt0042781',\n",
       " 'tt0042803',\n",
       " 'tt0042839',\n",
       " 'tt0042842',\n",
       " 'tt0042851',\n",
       " 'tt0042870',\n",
       " 'tt0042909',\n",
       " 'tt0042910',\n",
       " 'tt0042923',\n",
       " 'tt0042930',\n",
       " 'tt0042933',\n",
       " 'tt0042962',\n",
       " 'tt0042965',\n",
       " 'tt0043011',\n",
       " 'tt0043018',\n",
       " 'tt0043020',\n",
       " 'tt0043034',\n",
       " 'tt0043051',\n",
       " 'tt0043066',\n",
       " 'tt0043086',\n",
       " 'tt0043099',\n",
       " 'tt0043115',\n",
       " 'tt0043159',\n",
       " 'tt0043250',\n",
       " 'tt0043251',\n",
       " 'tt0043252',\n",
       " 'tt0043253',\n",
       " 'tt0043254',\n",
       " 'tt0043258',\n",
       " 'tt0043261',\n",
       " 'tt0043263',\n",
       " 'tt0043265',\n",
       " 'tt0043266',\n",
       " 'tt0043267',\n",
       " 'tt0043268',\n",
       " 'tt0043269',\n",
       " 'tt0043270',\n",
       " 'tt0043271',\n",
       " 'tt0043272',\n",
       " 'tt0043273',\n",
       " 'tt0043277',\n",
       " 'tt0043278',\n",
       " 'tt0043280',\n",
       " 'tt0043281',\n",
       " 'tt0043283',\n",
       " 'tt0043287',\n",
       " 'tt0043288',\n",
       " 'tt0043290',\n",
       " 'tt0043291',\n",
       " 'tt0043293',\n",
       " 'tt0043299',\n",
       " 'tt0043300',\n",
       " 'tt0043301',\n",
       " 'tt0043303',\n",
       " 'tt0043304',\n",
       " 'tt0043305',\n",
       " 'tt0043306',\n",
       " 'tt0043307',\n",
       " 'tt0043310',\n",
       " 'tt0043312',\n",
       " 'tt0043313',\n",
       " 'tt0043317',\n",
       " 'tt0043318',\n",
       " 'tt0043320',\n",
       " 'tt0043323',\n",
       " 'tt0043325',\n",
       " 'tt0043332',\n",
       " 'tt0043336',\n",
       " 'tt0043337',\n",
       " 'tt0043338',\n",
       " 'tt0043339',\n",
       " 'tt0043340',\n",
       " 'tt0043343',\n",
       " 'tt0043344',\n",
       " 'tt0043347',\n",
       " 'tt0043349',\n",
       " 'tt0043351',\n",
       " 'tt0043355',\n",
       " 'tt0043357',\n",
       " 'tt0043359',\n",
       " 'tt0043361',\n",
       " 'tt0043362',\n",
       " 'tt0043363',\n",
       " 'tt0043366',\n",
       " 'tt0043368',\n",
       " 'tt0043373',\n",
       " 'tt0043378',\n",
       " 'tt0043383',\n",
       " 'tt0043385',\n",
       " 'tt0043386',\n",
       " 'tt0043388',\n",
       " 'tt0043389',\n",
       " 'tt0043391',\n",
       " 'tt0043392',\n",
       " 'tt0043393',\n",
       " 'tt0043403',\n",
       " 'tt0043406',\n",
       " 'tt0043407',\n",
       " 'tt0043408',\n",
       " 'tt0043409',\n",
       " 'tt0043411',\n",
       " 'tt0043412',\n",
       " 'tt0043415',\n",
       " 'tt0043418',\n",
       " 'tt0043424',\n",
       " 'tt0043427',\n",
       " 'tt0043433',\n",
       " 'tt0043444',\n",
       " 'tt0043451',\n",
       " 'tt0043452',\n",
       " 'tt0043456',\n",
       " 'tt0043458',\n",
       " 'tt0043459',\n",
       " 'tt0043460',\n",
       " 'tt0043464',\n",
       " 'tt0043465',\n",
       " 'tt0043467',\n",
       " 'tt0043471',\n",
       " 'tt0043474',\n",
       " 'tt0043477',\n",
       " 'tt0043485',\n",
       " 'tt0043487',\n",
       " 'tt0043489',\n",
       " 'tt0043491',\n",
       " 'tt0043494',\n",
       " 'tt0043499',\n",
       " 'tt0043501',\n",
       " 'tt0043502',\n",
       " 'tt0043504',\n",
       " 'tt0043505',\n",
       " 'tt0043509',\n",
       " 'tt0043511',\n",
       " 'tt0043512',\n",
       " 'tt0043513',\n",
       " 'tt0043515',\n",
       " 'tt0043516',\n",
       " 'tt0043519',\n",
       " 'tt0043520',\n",
       " 'tt0043521',\n",
       " 'tt0043522',\n",
       " 'tt0043523',\n",
       " 'tt0043526',\n",
       " 'tt0043528',\n",
       " 'tt0043529',\n",
       " 'tt0043532',\n",
       " 'tt0043533',\n",
       " 'tt0043534',\n",
       " 'tt0043539',\n",
       " 'tt0043540',\n",
       " 'tt0043543',\n",
       " 'tt0043545',\n",
       " 'tt0043547',\n",
       " 'tt0043549',\n",
       " 'tt0043552',\n",
       " 'tt0043567',\n",
       " 'tt0043569',\n",
       " 'tt0043570',\n",
       " 'tt0043572',\n",
       " 'tt0043573',\n",
       " 'tt0043577',\n",
       " 'tt0043578',\n",
       " 'tt0043579',\n",
       " 'tt0043580',\n",
       " 'tt0043587',\n",
       " 'tt0043588',\n",
       " 'tt0043590',\n",
       " 'tt0043593',\n",
       " 'tt0043595',\n",
       " 'tt0043596',\n",
       " 'tt0043597',\n",
       " 'tt0043600',\n",
       " 'tt0043608',\n",
       " 'tt0043609',\n",
       " 'tt0043614',\n",
       " 'tt0043615',\n",
       " 'tt0043616',\n",
       " 'tt0043618',\n",
       " 'tt0043624',\n",
       " 'tt0043625',\n",
       " 'tt0043626',\n",
       " 'tt0043627',\n",
       " 'tt0043628',\n",
       " 'tt0043629',\n",
       " 'tt0043632',\n",
       " 'tt0043635',\n",
       " 'tt0043637',\n",
       " 'tt0043638',\n",
       " 'tt0043639',\n",
       " 'tt0043641',\n",
       " 'tt0043645',\n",
       " 'tt0043646',\n",
       " 'tt0043650',\n",
       " 'tt0043652',\n",
       " 'tt0043653',\n",
       " 'tt0043655',\n",
       " 'tt0043656',\n",
       " 'tt0043658',\n",
       " 'tt0043660',\n",
       " 'tt0043662',\n",
       " 'tt0043663',\n",
       " 'tt0043664',\n",
       " 'tt0043665',\n",
       " 'tt0043666',\n",
       " 'tt0043668',\n",
       " 'tt0043670',\n",
       " 'tt0043671',\n",
       " 'tt0043673',\n",
       " 'tt0043674',\n",
       " 'tt0043675',\n",
       " 'tt0043676',\n",
       " 'tt0043678',\n",
       " 'tt0043679',\n",
       " 'tt0043681',\n",
       " 'tt0043686',\n",
       " 'tt0043690',\n",
       " 'tt0043694',\n",
       " 'tt0043697',\n",
       " 'tt0043699',\n",
       " 'tt0043701',\n",
       " 'tt0043703',\n",
       " 'tt0043704',\n",
       " 'tt0043705',\n",
       " 'tt0043706',\n",
       " 'tt0043707',\n",
       " 'tt0043709',\n",
       " 'tt0043713',\n",
       " 'tt0043715',\n",
       " 'tt0043716',\n",
       " 'tt0043718',\n",
       " 'tt0043719',\n",
       " 'tt0043723',\n",
       " 'tt0043727',\n",
       " 'tt0043731',\n",
       " 'tt0043736',\n",
       " 'tt0043737',\n",
       " 'tt0043739',\n",
       " 'tt0043740',\n",
       " 'tt0043743',\n",
       " 'tt0043747',\n",
       " 'tt0043748',\n",
       " 'tt0043750',\n",
       " 'tt0043751',\n",
       " 'tt0043756',\n",
       " 'tt0043758',\n",
       " 'tt0043759',\n",
       " 'tt0043763',\n",
       " 'tt0043766',\n",
       " 'tt0043769',\n",
       " 'tt0043770',\n",
       " 'tt0043774',\n",
       " 'tt0043778',\n",
       " 'tt0043780',\n",
       " 'tt0043781',\n",
       " 'tt0043784',\n",
       " 'tt0043786',\n",
       " 'tt0043787',\n",
       " 'tt0043790',\n",
       " 'tt0043795',\n",
       " 'tt0043797',\n",
       " 'tt0043799',\n",
       " 'tt0043801',\n",
       " 'tt0043803',\n",
       " 'tt0043804',\n",
       " 'tt0043809',\n",
       " 'tt0043811',\n",
       " 'tt0043812',\n",
       " 'tt0043816',\n",
       " 'tt0043820',\n",
       " 'tt0043821',\n",
       " 'tt0043824',\n",
       " 'tt0043826',\n",
       " 'tt0043828',\n",
       " 'tt0043832',\n",
       " 'tt0043833',\n",
       " 'tt0043834',\n",
       " 'tt0043835',\n",
       " 'tt0043837',\n",
       " 'tt0043843',\n",
       " 'tt0043844',\n",
       " 'tt0043851',\n",
       " 'tt0043854',\n",
       " 'tt0043856',\n",
       " 'tt0043858',\n",
       " 'tt0043859',\n",
       " 'tt0043865',\n",
       " 'tt0043869',\n",
       " 'tt0043870',\n",
       " 'tt0043877',\n",
       " 'tt0043878',\n",
       " 'tt0043884',\n",
       " 'tt0043885',\n",
       " 'tt0043886',\n",
       " 'tt0043888',\n",
       " 'tt0043898',\n",
       " 'tt0043902',\n",
       " 'tt0043904',\n",
       " 'tt0043907',\n",
       " 'tt0043908',\n",
       " 'tt0043913',\n",
       " 'tt0043914',\n",
       " 'tt0043915',\n",
       " 'tt0043919',\n",
       " 'tt0043921',\n",
       " 'tt0043924',\n",
       " 'tt0043928',\n",
       " 'tt0043934',\n",
       " 'tt0043938',\n",
       " 'tt0043939',\n",
       " 'tt0043942',\n",
       " 'tt0043948',\n",
       " 'tt0043950',\n",
       " 'tt0043956',\n",
       " 'tt0043957',\n",
       " 'tt0043961',\n",
       " 'tt0043965',\n",
       " 'tt0043966',\n",
       " 'tt0043971',\n",
       " 'tt0043973',\n",
       " 'tt0043978',\n",
       " 'tt0043983',\n",
       " 'tt0043994',\n",
       " 'tt0043996',\n",
       " 'tt0043999',\n",
       " 'tt0044000',\n",
       " 'tt0044002',\n",
       " 'tt0044003',\n",
       " 'tt0044006',\n",
       " 'tt0044009',\n",
       " 'tt0044015',\n",
       " 'tt0044018',\n",
       " 'tt0044021',\n",
       " 'tt0044026',\n",
       " 'tt0044027',\n",
       " 'tt0044029',\n",
       " 'tt0044030',\n",
       " 'tt0044034',\n",
       " 'tt0044035',\n",
       " 'tt0044037',\n",
       " 'tt0044041',\n",
       " 'tt0044050',\n",
       " 'tt0044060',\n",
       " 'tt0044061',\n",
       " 'tt0044062',\n",
       " 'tt0044063',\n",
       " 'tt0044064',\n",
       " 'tt0044065',\n",
       " 'tt0044066',\n",
       " 'tt0044067',\n",
       " 'tt0044072',\n",
       " 'tt0044078',\n",
       " 'tt0044081',\n",
       " 'tt0044084',\n",
       " 'tt0044085',\n",
       " 'tt0044090',\n",
       " 'tt0044092',\n",
       " 'tt0044098',\n",
       " 'tt0044099',\n",
       " 'tt0044100',\n",
       " 'tt0044105',\n",
       " 'tt0044108',\n",
       " 'tt0044111',\n",
       " 'tt0044112',\n",
       " 'tt0044117',\n",
       " 'tt0044118',\n",
       " 'tt0044120',\n",
       " 'tt0044125',\n",
       " 'tt0044127',\n",
       " 'tt0044134',\n",
       " 'tt0044135',\n",
       " 'tt0044136',\n",
       " 'tt0044144',\n",
       " 'tt0044145',\n",
       " 'tt0044146',\n",
       " 'tt0044149',\n",
       " 'tt0044151',\n",
       " 'tt0044152',\n",
       " 'tt0044159',\n",
       " 'tt0044160',\n",
       " 'tt0044162',\n",
       " 'tt0044163',\n",
       " 'tt0044165',\n",
       " 'tt0044168',\n",
       " 'tt0044170',\n",
       " 'tt0044172',\n",
       " 'tt0044174',\n",
       " 'tt0044176',\n",
       " 'tt0044177',\n",
       " 'tt0044178',\n",
       " 'tt0044179',\n",
       " 'tt0044181',\n",
       " 'tt0044182',\n",
       " 'tt0044183',\n",
       " 'tt0044184',\n",
       " 'tt0044190',\n",
       " 'tt0044191',\n",
       " 'tt0044193',\n",
       " 'tt0044195',\n",
       " 'tt0044197',\n",
       " 'tt0044201',\n",
       " 'tt0044208',\n",
       " 'tt0044210',\n",
       " 'tt0044211',\n",
       " 'tt0044212',\n",
       " 'tt0044214',\n",
       " 'tt0044215',\n",
       " 'tt0044217',\n",
       " 'tt0044220',\n",
       " 'tt0044225',\n",
       " 'tt0044226',\n",
       " 'tt0044228',\n",
       " 'tt0044312',\n",
       " 'tt0044314',\n",
       " 'tt0044315',\n",
       " 'tt0044322',\n",
       " 'tt0044328',\n",
       " 'tt0044329',\n",
       " 'tt0044331',\n",
       " 'tt0044335',\n",
       " 'tt0044336',\n",
       " 'tt0044337',\n",
       " 'tt0044340',\n",
       " 'tt0044342',\n",
       " 'tt0044343',\n",
       " 'tt0044344',\n",
       " 'tt0044345',\n",
       " 'tt0044346',\n",
       " 'tt0044347',\n",
       " 'tt0044348',\n",
       " 'tt0044351',\n",
       " 'tt0044352',\n",
       " 'tt0044356',\n",
       " 'tt0044357',\n",
       " 'tt0044360',\n",
       " 'tt0044363',\n",
       " 'tt0044365',\n",
       " 'tt0044366',\n",
       " 'tt0044368',\n",
       " 'tt0044371',\n",
       " 'tt0044373',\n",
       " 'tt0044376',\n",
       " 'tt0044377',\n",
       " 'tt0044378',\n",
       " 'tt0044380',\n",
       " 'tt0044382',\n",
       " 'tt0044383',\n",
       " 'tt0044384',\n",
       " 'tt0044385',\n",
       " 'tt0044386',\n",
       " 'tt0044388',\n",
       " 'tt0044389',\n",
       " 'tt0044390',\n",
       " 'tt0044391',\n",
       " 'tt0044392',\n",
       " 'tt0044395',\n",
       " 'tt0044398',\n",
       " 'tt0044399',\n",
       " 'tt0044400',\n",
       " 'tt0044403',\n",
       " 'tt0044408',\n",
       " 'tt0044410',\n",
       " 'tt0044412',\n",
       " 'tt0044413',\n",
       " 'tt0044416',\n",
       " 'tt0044417',\n",
       " 'tt0044420',\n",
       " 'tt0044423',\n",
       " 'tt0044429',\n",
       " 'tt0044430',\n",
       " 'tt0044431',\n",
       " 'tt0044433',\n",
       " 'tt0044436',\n",
       " 'tt0044439',\n",
       " 'tt0044441',\n",
       " 'tt0044443',\n",
       " 'tt0044446',\n",
       " 'tt0044449',\n",
       " 'tt0044450',\n",
       " 'tt0044451',\n",
       " 'tt0044452',\n",
       " 'tt0044453',\n",
       " 'tt0044456',\n",
       " 'tt0044458',\n",
       " 'tt0044460',\n",
       " 'tt0044465',\n",
       " 'tt0044466',\n",
       " 'tt0044469',\n",
       " 'tt0044472',\n",
       " 'tt0044474',\n",
       " 'tt0044476',\n",
       " 'tt0044483',\n",
       " 'tt0044485',\n",
       " 'tt0044486',\n",
       " 'tt0044488',\n",
       " 'tt0044489',\n",
       " 'tt0044491',\n",
       " 'tt0044495',\n",
       " 'tt0044497',\n",
       " 'tt0044498',\n",
       " 'tt0044501',\n",
       " 'tt0044504',\n",
       " 'tt0044505',\n",
       " 'tt0044506',\n",
       " 'tt0044509',\n",
       " 'tt0044510',\n",
       " 'tt0044512',\n",
       " 'tt0044513',\n",
       " 'tt0044515',\n",
       " 'tt0044517',\n",
       " 'tt0044519',\n",
       " 'tt0044521',\n",
       " 'tt0044524',\n",
       " 'tt0044527',\n",
       " 'tt0044530',\n",
       " 'tt0044531',\n",
       " 'tt0044533',\n",
       " 'tt0044535',\n",
       " 'tt0044540',\n",
       " 'tt0044541',\n",
       " 'tt0044543',\n",
       " 'tt0044547',\n",
       " 'tt0044551',\n",
       " 'tt0044557',\n",
       " 'tt0044560',\n",
       " 'tt0044562',\n",
       " 'tt0044564',\n",
       " 'tt0044568',\n",
       " 'tt0044570',\n",
       " 'tt0044572',\n",
       " 'tt0044573',\n",
       " 'tt0044579',\n",
       " 'tt0044580',\n",
       " 'tt0044581',\n",
       " 'tt0044582',\n",
       " 'tt0044583',\n",
       " 'tt0044584',\n",
       " 'tt0044585',\n",
       " 'tt0044587',\n",
       " 'tt0044589',\n",
       " 'tt0044595',\n",
       " 'tt0044597',\n",
       " 'tt0044598',\n",
       " 'tt0044600',\n",
       " 'tt0044602',\n",
       " 'tt0044605',\n",
       " 'tt0044608',\n",
       " 'tt0044613',\n",
       " 'tt0044616',\n",
       " 'tt0044617',\n",
       " 'tt0044619',\n",
       " 'tt0044621',\n",
       " 'tt0044622',\n",
       " 'tt0044623',\n",
       " 'tt0044624',\n",
       " 'tt0044626',\n",
       " 'tt0044628',\n",
       " 'tt0044630',\n",
       " 'tt0044635',\n",
       " 'tt0044637',\n",
       " 'tt0044640',\n",
       " 'tt0044644',\n",
       " 'tt0044646',\n",
       " 'tt0044647',\n",
       " 'tt0044651',\n",
       " 'tt0044652',\n",
       " 'tt0044653',\n",
       " 'tt0044654',\n",
       " 'tt0044656',\n",
       " 'tt0044658',\n",
       " 'tt0044663',\n",
       " 'tt0044664',\n",
       " 'tt0044666',\n",
       " 'tt0044670',\n",
       " 'tt0044674',\n",
       " 'tt0044675',\n",
       " 'tt0044676',\n",
       " 'tt0044685',\n",
       " 'tt0044686',\n",
       " 'tt0044687',\n",
       " 'tt0044689',\n",
       " 'tt0044696',\n",
       " 'tt0044697',\n",
       " 'tt0044698',\n",
       " 'tt0044701',\n",
       " 'tt0044702',\n",
       " 'tt0044704',\n",
       " 'tt0044705',\n",
       " 'tt0044706',\n",
       " 'tt0044708',\n",
       " 'tt0044709',\n",
       " 'tt0044711',\n",
       " 'tt0044712',\n",
       " 'tt0044715',\n",
       " 'tt0044716',\n",
       " 'tt0044719',\n",
       " 'tt0044722',\n",
       " 'tt0044725',\n",
       " 'tt0044728',\n",
       " 'tt0044729',\n",
       " 'tt0044730',\n",
       " 'tt0044731',\n",
       " 'tt0044732',\n",
       " 'tt0044738',\n",
       " 'tt0044740',\n",
       " 'tt0044741',\n",
       " 'tt0044742',\n",
       " 'tt0044743',\n",
       " 'tt0044744',\n",
       " 'tt0044745',\n",
       " 'tt0044746',\n",
       " 'tt0044749',\n",
       " 'tt0044751',\n",
       " 'tt0044752',\n",
       " 'tt0044753',\n",
       " 'tt0044759',\n",
       " 'tt0044761',\n",
       " 'tt0044762',\n",
       " 'tt0044768',\n",
       " 'tt0044770',\n",
       " 'tt0044772',\n",
       " 'tt0044777',\n",
       " 'tt0044778',\n",
       " 'tt0044779',\n",
       " 'tt0044780',\n",
       " 'tt0044781',\n",
       " 'tt0044784',\n",
       " 'tt0044789',\n",
       " 'tt0044793',\n",
       " 'tt0044796',\n",
       " 'tt0044802',\n",
       " 'tt0044806',\n",
       " 'tt0044809',\n",
       " 'tt0044810',\n",
       " 'tt0044811',\n",
       " 'tt0044812',\n",
       " 'tt0044819',\n",
       " 'tt0044820',\n",
       " 'tt0044825',\n",
       " 'tt0044826',\n",
       " 'tt0044827',\n",
       " 'tt0044828',\n",
       " 'tt0044829',\n",
       " 'tt0044832',\n",
       " 'tt0044833',\n",
       " 'tt0044845',\n",
       " 'tt0044847',\n",
       " 'tt0044848',\n",
       " 'tt0044849',\n",
       " 'tt0044850',\n",
       " 'tt0044851',\n",
       " 'tt0044852',\n",
       " 'tt0044854',\n",
       " 'tt0044855',\n",
       " 'tt0044857',\n",
       " 'tt0044858',\n",
       " 'tt0044859',\n",
       " 'tt0044861',\n",
       " 'tt0044862',\n",
       " 'tt0044864',\n",
       " 'tt0044866',\n",
       " 'tt0044871',\n",
       " 'tt0044872',\n",
       " 'tt0044874',\n",
       " 'tt0044876',\n",
       " 'tt0044881',\n",
       " 'tt0044882',\n",
       " 'tt0044884',\n",
       " 'tt0044887',\n",
       " 'tt0044889',\n",
       " 'tt0044890',\n",
       " 'tt0044892',\n",
       " 'tt0044893',\n",
       " 'tt0044896',\n",
       " 'tt0044897',\n",
       " 'tt0044899',\n",
       " 'tt0044902',\n",
       " 'tt0044903',\n",
       " 'tt0044908',\n",
       " 'tt0044911',\n",
       " 'tt0044912',\n",
       " 'tt0044914',\n",
       " 'tt0044915',\n",
       " 'tt0044921',\n",
       " 'tt0044922',\n",
       " 'tt0044925',\n",
       " 'tt0044926',\n",
       " 'tt0044928',\n",
       " 'tt0044931',\n",
       " 'tt0044932',\n",
       " 'tt0044933',\n",
       " 'tt0044935',\n",
       " 'tt0044936',\n",
       " 'tt0044937',\n",
       " 'tt0044939',\n",
       " 'tt0044940',\n",
       " 'tt0044942',\n",
       " 'tt0044944',\n",
       " 'tt0044945',\n",
       " 'tt0044947',\n",
       " 'tt0044950',\n",
       " 'tt0044951',\n",
       " 'tt0044952',\n",
       " 'tt0044953',\n",
       " 'tt0044955',\n",
       " 'tt0044957',\n",
       " 'tt0044959',\n",
       " 'tt0044960',\n",
       " 'tt0044961',\n",
       " 'tt0044967',\n",
       " 'tt0044971',\n",
       " 'tt0044972',\n",
       " 'tt0044974',\n",
       " 'tt0044976',\n",
       " 'tt0044977',\n",
       " 'tt0044980',\n",
       " 'tt0044982',\n",
       " 'tt0044985',\n",
       " 'tt0044986',\n",
       " 'tt0044988',\n",
       " 'tt0044989',\n",
       " 'tt0044992',\n",
       " 'tt0044994',\n",
       " 'tt0045001',\n",
       " 'tt0045002',\n",
       " 'tt0045003',\n",
       " 'tt0045005',\n",
       " 'tt0045007',\n",
       " 'tt0045009',\n",
       " 'tt0045010',\n",
       " 'tt0045011',\n",
       " 'tt0045013',\n",
       " 'tt0045020',\n",
       " 'tt0045022',\n",
       " 'tt0045023',\n",
       " 'tt0045024',\n",
       " 'tt0045026',\n",
       " 'tt0045029',\n",
       " 'tt0045032',\n",
       " 'tt0045040',\n",
       " 'tt0045041',\n",
       " 'tt0045042',\n",
       " 'tt0045043',\n",
       " 'tt0045047',\n",
       " 'tt0045048',\n",
       " 'tt0045049',\n",
       " 'tt0045051',\n",
       " 'tt0045052',\n",
       " 'tt0045054',\n",
       " 'tt0045056',\n",
       " 'tt0045058',\n",
       " 'tt0045064',\n",
       " 'tt0045065',\n",
       " 'tt0045066',\n",
       " 'tt0045067',\n",
       " 'tt0045068',\n",
       " 'tt0045069',\n",
       " 'tt0045071',\n",
       " 'tt0045072',\n",
       " 'tt0045073',\n",
       " 'tt0045074',\n",
       " 'tt0045077',\n",
       " 'tt0045078',\n",
       " 'tt0045079',\n",
       " 'tt0045080',\n",
       " 'tt0045082',\n",
       " 'tt0045083',\n",
       " 'tt0045090',\n",
       " 'tt0045091',\n",
       " 'tt0045092',\n",
       " 'tt0045098',\n",
       " 'tt0045099',\n",
       " 'tt0045101',\n",
       " 'tt0045106',\n",
       " 'tt0045110',\n",
       " 'tt0045116',\n",
       " 'tt0045119',\n",
       " 'tt0045122',\n",
       " 'tt0045124',\n",
       " 'tt0045125',\n",
       " 'tt0045126',\n",
       " 'tt0045133',\n",
       " 'tt0045135',\n",
       " 'tt0045136',\n",
       " 'tt0045137',\n",
       " 'tt0045141',\n",
       " 'tt0045142',\n",
       " 'tt0045144',\n",
       " 'tt0045146',\n",
       " 'tt0045151',\n",
       " 'tt0045154',\n",
       " 'tt0045156',\n",
       " 'tt0045161',\n",
       " 'tt0045163',\n",
       " 'tt0045168',\n",
       " 'tt0045169',\n",
       " 'tt0045172',\n",
       " 'tt0045173',\n",
       " 'tt0045174',\n",
       " 'tt0045175',\n",
       " 'tt0045177',\n",
       " 'tt0045178',\n",
       " 'tt0045180',\n",
       " 'tt0045181',\n",
       " 'tt0045183',\n",
       " 'tt0045184',\n",
       " 'tt0045185',\n",
       " 'tt0045187',\n",
       " 'tt0045188',\n",
       " 'tt0045189',\n",
       " 'tt0045190',\n",
       " 'tt0045191',\n",
       " 'tt0045194',\n",
       " 'tt0045196',\n",
       " 'tt0045197',\n",
       " 'tt0045199',\n",
       " 'tt0045201',\n",
       " 'tt0045202',\n",
       " 'tt0045204',\n",
       " 'tt0045205',\n",
       " 'tt0045206',\n",
       " 'tt0045207',\n",
       " 'tt0045212',\n",
       " 'tt0045213',\n",
       " 'tt0045215',\n",
       " 'tt0045217',\n",
       " 'tt0045219',\n",
       " 'tt0045220',\n",
       " 'tt0045224',\n",
       " 'tt0045230',\n",
       " 'tt0045232',\n",
       " 'tt0045237',\n",
       " 'tt0045239',\n",
       " 'tt0045242',\n",
       " 'tt0045244',\n",
       " 'tt0045247',\n",
       " 'tt0045249',\n",
       " 'tt0045250',\n",
       " 'tt0045251',\n",
       " 'tt0045255',\n",
       " 'tt0045256',\n",
       " 'tt0045257',\n",
       " 'tt0045260',\n",
       " 'tt0045263',\n",
       " 'tt0045265',\n",
       " 'tt0045272',\n",
       " 'tt0045274',\n",
       " 'tt0045275',\n",
       " 'tt0045281',\n",
       " 'tt0045283',\n",
       " 'tt0045285',\n",
       " 'tt0045288',\n",
       " 'tt0045290',\n",
       " 'tt0045294',\n",
       " 'tt0045295',\n",
       " 'tt0045296',\n",
       " 'tt0045303',\n",
       " 'tt0045311',\n",
       " 'tt0045312',\n",
       " 'tt0045316',\n",
       " 'tt0045327',\n",
       " 'tt0045329',\n",
       " 'tt0045331',\n",
       " 'tt0045334',\n",
       " 'tt0045335',\n",
       " 'tt0045343',\n",
       " 'tt0045345',\n",
       " 'tt0045348',\n",
       " 'tt0045352',\n",
       " 'tt0045353',\n",
       " 'tt0045354',\n",
       " 'tt0045355',\n",
       " 'tt0045357',\n",
       " 'tt0045358',\n",
       " 'tt0045359',\n",
       " 'tt0045361',\n",
       " 'tt0045362',\n",
       " 'tt0045363',\n",
       " 'tt0045364',\n",
       " 'tt0045462',\n",
       " 'tt0045463',\n",
       " 'tt0045464',\n",
       " 'tt0045465',\n",
       " 'tt0045467',\n",
       " 'tt0045470',\n",
       " 'tt0045472',\n",
       " 'tt0045473',\n",
       " 'tt0045475',\n",
       " 'tt0045477',\n",
       " 'tt0045479',\n",
       " 'tt0045481',\n",
       " 'tt0045482',\n",
       " 'tt0045486',\n",
       " 'tt0045487',\n",
       " 'tt0045489',\n",
       " 'tt0045490',\n",
       " 'tt0045491',\n",
       " 'tt0045493',\n",
       " 'tt0045495',\n",
       " 'tt0045496',\n",
       " 'tt0045501',\n",
       " 'tt0045502',\n",
       " 'tt0045507',\n",
       " 'tt0045509',\n",
       " 'tt0045510',\n",
       " 'tt0045512',\n",
       " 'tt0045513',\n",
       " 'tt0045515',\n",
       " 'tt0045518',\n",
       " 'tt0045520',\n",
       " 'tt0045521',\n",
       " 'tt0045525',\n",
       " 'tt0045527',\n",
       " 'tt0045529',\n",
       " 'tt0045531',\n",
       " 'tt0045532',\n",
       " 'tt0045533',\n",
       " 'tt0045537',\n",
       " 'tt0045539',\n",
       " 'tt0045541',\n",
       " 'tt0045544',\n",
       " 'tt0045547',\n",
       " 'tt0045548',\n",
       " 'tt0045551',\n",
       " 'tt0045554',\n",
       " 'tt0045556',\n",
       " 'tt0045558',\n",
       " 'tt0045562',\n",
       " 'tt0045563',\n",
       " 'tt0045565',\n",
       " 'tt0045566',\n",
       " 'tt0045567',\n",
       " 'tt0045568',\n",
       " 'tt0045569',\n",
       " 'tt0045574',\n",
       " 'tt0045578',\n",
       " ...]"
      ]
     },
     "execution_count": 178,
     "metadata": {},
     "output_type": "execute_result"
    }
   ],
   "source": [
    "films_with_dirs['tconst'].to_list()"
   ]
  },
  {
   "cell_type": "code",
   "execution_count": 14,
   "metadata": {},
   "outputs": [
    {
     "name": "stderr",
     "output_type": "stream",
     "text": [
      "INFO:root:No path provided. Using default path: /Users/bradkittrell/Projects/imdb/IMDB_Fun/Data/external/omdb.csv\n",
      "INFO:root:No path provided. Using default path: /Users/bradkittrell/Projects/imdb/IMDB_Fun/Data/external/omdb.csv\n"
     ]
    },
    {
     "name": "stdout",
     "output_type": "stream",
     "text": [
      "Updated cache with 10 new entries.\n",
      "Updated cache with 20 new entries.\n",
      "Updated cache with 30 new entries.\n",
      "Updated cache with 40 new entries.\n",
      "Updated cache with 50 new entries.\n",
      "Updated cache with 60 new entries.\n",
      "Updated cache with 70 new entries.\n",
      "Updated cache with 80 new entries.\n",
      "Updated cache with 90 new entries.\n",
      "Updated cache with 100 new entries.\n",
      "Updated cache with 110 new entries.\n",
      "Updated cache with 120 new entries.\n",
      "Updated cache with 130 new entries.\n",
      "Updated cache with 140 new entries.\n",
      "Updated cache with 150 new entries.\n",
      "Updated cache with 160 new entries.\n",
      "Updated cache with 170 new entries.\n",
      "Updated cache with 180 new entries.\n",
      "Updated cache with 190 new entries.\n",
      "Updated cache with 200 new entries.\n",
      "Updated cache with 210 new entries.\n",
      "Updated cache with 220 new entries.\n",
      "Updated cache with 230 new entries.\n",
      "Updated cache with 240 new entries.\n",
      "Updated cache with 250 new entries.\n",
      "Updated cache with 260 new entries.\n",
      "Updated cache with 270 new entries.\n",
      "Updated cache with 280 new entries.\n",
      "Updated cache with 290 new entries.\n",
      "Updated cache with 300 new entries.\n",
      "Updated cache with 310 new entries.\n",
      "Updated cache with 320 new entries.\n",
      "Updated cache with 330 new entries.\n",
      "Updated cache with 340 new entries.\n",
      "Updated cache with 350 new entries.\n",
      "Updated cache with 360 new entries.\n",
      "Updated cache with 370 new entries.\n",
      "Updated cache with 380 new entries.\n",
      "Updated cache with 390 new entries.\n",
      "Updated cache with 400 new entries.\n",
      "Updated cache with 410 new entries.\n",
      "Updated cache with 420 new entries.\n",
      "Updated cache with 430 new entries.\n",
      "Updated cache with 440 new entries.\n",
      "Updated cache with 450 new entries.\n",
      "Updated cache with 460 new entries.\n",
      "Updated cache with 470 new entries.\n",
      "Updated cache with 480 new entries.\n",
      "Updated cache with 490 new entries.\n",
      "Updated cache with 500 new entries.\n",
      "Updated cache with 510 new entries.\n",
      "Updated cache with 520 new entries.\n",
      "Updated cache with 530 new entries.\n",
      "Updated cache with 540 new entries.\n",
      "Updated cache with 550 new entries.\n",
      "Updated cache with 560 new entries.\n",
      "Updated cache with 570 new entries.\n",
      "Updated cache with 580 new entries.\n",
      "Updated cache with 590 new entries.\n",
      "Updated cache with 600 new entries.\n",
      "Updated cache with 610 new entries.\n",
      "Updated cache with 620 new entries.\n",
      "Updated cache with 630 new entries.\n",
      "Updated cache with 640 new entries.\n",
      "Updated cache with 650 new entries.\n",
      "Updated cache with 660 new entries.\n",
      "Updated cache with 670 new entries.\n",
      "Updated cache with 680 new entries.\n",
      "Updated cache with 690 new entries.\n",
      "Updated cache with 700 new entries.\n",
      "Updated cache with 710 new entries.\n",
      "Updated cache with 720 new entries.\n",
      "Updated cache with 730 new entries.\n",
      "Updated cache with 740 new entries.\n",
      "Updated cache with 750 new entries.\n",
      "Updated cache with 760 new entries.\n",
      "Updated cache with 770 new entries.\n",
      "Updated cache with 780 new entries.\n",
      "Updated cache with 790 new entries.\n",
      "Updated cache with 800 new entries.\n",
      "Updated cache with 810 new entries.\n",
      "Updated cache with 820 new entries.\n",
      "Updated cache with 830 new entries.\n",
      "Updated cache with 840 new entries.\n",
      "Updated cache with 850 new entries.\n",
      "Updated cache with 860 new entries.\n",
      "Updated cache with 870 new entries.\n",
      "Updated cache with 880 new entries.\n",
      "Updated cache with 890 new entries.\n",
      "Updated cache with 900 new entries.\n",
      "Updated cache with 910 new entries.\n",
      "Updated cache with 920 new entries.\n",
      "Updated cache with 930 new entries.\n",
      "Updated cache with 940 new entries.\n",
      "Updated cache with 950 new entries.\n",
      "Updated cache with 960 new entries.\n",
      "Updated cache with 970 new entries.\n",
      "Updated cache with 980 new entries.\n",
      "Updated cache with 990 new entries.\n",
      "Updated cache with 1000 new entries.\n",
      "Updated cache with 1010 new entries.\n",
      "Updated cache with 1020 new entries.\n",
      "Updated cache with 1030 new entries.\n",
      "Updated cache with 1040 new entries.\n",
      "Updated cache with 1050 new entries.\n",
      "Updated cache with 1060 new entries.\n",
      "Updated cache with 1070 new entries.\n"
     ]
    },
    {
     "name": "stderr",
     "output_type": "stream",
     "text": [
      "ERROR:root:Failed to fetch data for tt0052906\n",
      "ERROR:root:Failed to fetch data for tt0052910\n",
      "ERROR:root:Failed to fetch data for tt0052912\n",
      "ERROR:root:Failed to fetch data for tt0052913\n",
      "ERROR:root:Failed to fetch data for tt0052914\n",
      "ERROR:root:Failed to fetch data for tt0052915\n",
      "ERROR:root:Failed to fetch data for tt0052920\n",
      "ERROR:root:Failed to fetch data for tt0052921\n",
      "ERROR:root:Failed to fetch data for tt0052922\n",
      "ERROR:root:Failed to fetch data for tt0052923\n",
      "ERROR:root:Failed to fetch data for tt0052925\n",
      "ERROR:root:Failed to fetch data for tt0052926\n",
      "ERROR:root:Failed to fetch data for tt0052928\n",
      "ERROR:root:Failed to fetch data for tt0052933\n",
      "ERROR:root:Failed to fetch data for tt0052938\n",
      "ERROR:root:Failed to fetch data for tt0052944\n",
      "ERROR:root:Failed to fetch data for tt0052948\n",
      "ERROR:root:Failed to fetch data for tt0052951\n",
      "ERROR:root:Failed to fetch data for tt0052953\n",
      "ERROR:root:Failed to fetch data for tt0052955\n",
      "ERROR:root:Failed to fetch data for tt0052957\n",
      "ERROR:root:Failed to fetch data for tt0052958\n",
      "ERROR:root:Failed to fetch data for tt0052964\n",
      "ERROR:root:Failed to fetch data for tt0052966\n",
      "ERROR:root:Failed to fetch data for tt0052971\n",
      "ERROR:root:Failed to fetch data for tt0052976\n",
      "ERROR:root:Failed to fetch data for tt0052978\n",
      "ERROR:root:Failed to fetch data for tt0052980\n",
      "ERROR:root:Failed to fetch data for tt0052981\n",
      "ERROR:root:Failed to fetch data for tt0052984\n",
      "ERROR:root:Failed to fetch data for tt0052985\n",
      "ERROR:root:Failed to fetch data for tt0052990\n",
      "ERROR:root:Failed to fetch data for tt0052992\n",
      "ERROR:root:Failed to fetch data for tt0052993\n",
      "ERROR:root:Failed to fetch data for tt0052994\n",
      "ERROR:root:Failed to fetch data for tt0052995\n",
      "ERROR:root:Failed to fetch data for tt0052996\n",
      "ERROR:root:Failed to fetch data for tt0052997\n",
      "ERROR:root:Failed to fetch data for tt0052998\n",
      "ERROR:root:Failed to fetch data for tt0052999\n",
      "ERROR:root:Failed to fetch data for tt0053002\n",
      "ERROR:root:Failed to fetch data for tt0053003\n",
      "ERROR:root:Failed to fetch data for tt0053004\n",
      "ERROR:root:Failed to fetch data for tt0053005\n",
      "ERROR:root:Failed to fetch data for tt0053009\n",
      "ERROR:root:Failed to fetch data for tt0053011\n",
      "ERROR:root:Failed to fetch data for tt0053013\n",
      "ERROR:root:Failed to fetch data for tt0053016\n",
      "ERROR:root:Failed to fetch data for tt0053018\n",
      "ERROR:root:Failed to fetch data for tt0053019\n",
      "ERROR:root:Failed to fetch data for tt0053024\n",
      "ERROR:root:Failed to fetch data for tt0053025\n",
      "ERROR:root:Failed to fetch data for tt0053027\n",
      "ERROR:root:Failed to fetch data for tt0053028\n",
      "ERROR:root:Failed to fetch data for tt0053031\n",
      "ERROR:root:Failed to fetch data for tt0053032\n",
      "ERROR:root:Failed to fetch data for tt0053033\n",
      "ERROR:root:Failed to fetch data for tt0053038\n",
      "ERROR:root:Failed to fetch data for tt0053039\n",
      "ERROR:root:Failed to fetch data for tt0053041\n",
      "ERROR:root:Failed to fetch data for tt0053047\n",
      "ERROR:root:Failed to fetch data for tt0053048\n",
      "ERROR:root:Failed to fetch data for tt0053051\n",
      "ERROR:root:Failed to fetch data for tt0053057\n",
      "ERROR:root:Failed to fetch data for tt0053061\n",
      "ERROR:root:Failed to fetch data for tt0053063\n",
      "ERROR:root:Failed to fetch data for tt0053065\n",
      "ERROR:root:Failed to fetch data for tt0053067\n",
      "ERROR:root:Failed to fetch data for tt0053068\n",
      "ERROR:root:Failed to fetch data for tt0053071\n",
      "ERROR:root:Failed to fetch data for tt0053075\n",
      "ERROR:root:Failed to fetch data for tt0053077\n",
      "ERROR:root:Failed to fetch data for tt0053078\n",
      "ERROR:root:Failed to fetch data for tt0053081\n",
      "ERROR:root:Failed to fetch data for tt0053084\n",
      "ERROR:root:Failed to fetch data for tt0053085\n",
      "ERROR:root:Failed to fetch data for tt0053086\n",
      "ERROR:root:Failed to fetch data for tt0053087\n",
      "ERROR:root:Failed to fetch data for tt0053102\n",
      "ERROR:root:Failed to fetch data for tt0053104\n",
      "ERROR:root:Failed to fetch data for tt0053105\n",
      "ERROR:root:Failed to fetch data for tt0053108\n",
      "ERROR:root:Failed to fetch data for tt0053110\n",
      "ERROR:root:Failed to fetch data for tt0053111\n",
      "ERROR:root:Failed to fetch data for tt0053113\n",
      "ERROR:root:Failed to fetch data for tt0053114\n",
      "ERROR:root:Failed to fetch data for tt0053115\n",
      "ERROR:root:Failed to fetch data for tt0053116\n",
      "ERROR:root:Failed to fetch data for tt0053117\n",
      "ERROR:root:Failed to fetch data for tt0053121\n",
      "ERROR:root:Failed to fetch data for tt0053123\n",
      "ERROR:root:Failed to fetch data for tt0053126\n",
      "ERROR:root:Failed to fetch data for tt0053128\n",
      "ERROR:root:Failed to fetch data for tt0053130\n",
      "ERROR:root:Failed to fetch data for tt0053131\n",
      "ERROR:root:Failed to fetch data for tt0053133\n",
      "ERROR:root:Failed to fetch data for tt0053134\n",
      "ERROR:root:Failed to fetch data for tt0053137\n",
      "ERROR:root:Failed to fetch data for tt0053138\n",
      "ERROR:root:Failed to fetch data for tt0053143\n",
      "ERROR:root:Failed to fetch data for tt0053150\n",
      "ERROR:root:Null counter exceeded limit for tt0053150. Stopping fetch.\n"
     ]
    },
    {
     "data": {
      "text/html": [
       "<div>\n",
       "<style scoped>\n",
       "    .dataframe tbody tr th:only-of-type {\n",
       "        vertical-align: middle;\n",
       "    }\n",
       "\n",
       "    .dataframe tbody tr th {\n",
       "        vertical-align: top;\n",
       "    }\n",
       "\n",
       "    .dataframe thead th {\n",
       "        text-align: right;\n",
       "    }\n",
       "</style>\n",
       "<table border=\"1\" class=\"dataframe\">\n",
       "  <thead>\n",
       "    <tr style=\"text-align: right;\">\n",
       "      <th></th>\n",
       "      <th>Title</th>\n",
       "      <th>Year</th>\n",
       "      <th>Rated</th>\n",
       "      <th>Released</th>\n",
       "      <th>Runtime</th>\n",
       "      <th>Genre</th>\n",
       "      <th>Director</th>\n",
       "      <th>Writer</th>\n",
       "      <th>Actors</th>\n",
       "      <th>Plot</th>\n",
       "      <th>...</th>\n",
       "      <th>imdbVotes</th>\n",
       "      <th>imdbID</th>\n",
       "      <th>Type</th>\n",
       "      <th>DVD</th>\n",
       "      <th>BoxOffice</th>\n",
       "      <th>Production</th>\n",
       "      <th>Website</th>\n",
       "      <th>Response</th>\n",
       "      <th>RatingSource</th>\n",
       "      <th>RatingValue</th>\n",
       "    </tr>\n",
       "  </thead>\n",
       "  <tbody>\n",
       "    <tr>\n",
       "      <th>0</th>\n",
       "      <td>Once Upon a Time... in Hollywood</td>\n",
       "      <td>2019</td>\n",
       "      <td>R</td>\n",
       "      <td>26 Jul 2019</td>\n",
       "      <td>161 min</td>\n",
       "      <td>Comedy, Drama</td>\n",
       "      <td>Quentin Tarantino</td>\n",
       "      <td>Quentin Tarantino</td>\n",
       "      <td>Leonardo DiCaprio, Brad Pitt, Margot Robbie</td>\n",
       "      <td>Quentin Tarantino's Once Upon a Time... in Hol...</td>\n",
       "      <td>...</td>\n",
       "      <td>882,682</td>\n",
       "      <td>tt7131622</td>\n",
       "      <td>movie</td>\n",
       "      <td>NaN</td>\n",
       "      <td>$142,502,728</td>\n",
       "      <td>NaN</td>\n",
       "      <td>NaN</td>\n",
       "      <td>True</td>\n",
       "      <td>Internet Movie Database</td>\n",
       "      <td>7.6/10</td>\n",
       "    </tr>\n",
       "    <tr>\n",
       "      <th>1</th>\n",
       "      <td>Once Upon a Time... in Hollywood</td>\n",
       "      <td>2019</td>\n",
       "      <td>R</td>\n",
       "      <td>26 Jul 2019</td>\n",
       "      <td>161 min</td>\n",
       "      <td>Comedy, Drama</td>\n",
       "      <td>Quentin Tarantino</td>\n",
       "      <td>Quentin Tarantino</td>\n",
       "      <td>Leonardo DiCaprio, Brad Pitt, Margot Robbie</td>\n",
       "      <td>Quentin Tarantino's Once Upon a Time... in Hol...</td>\n",
       "      <td>...</td>\n",
       "      <td>882,682</td>\n",
       "      <td>tt7131622</td>\n",
       "      <td>movie</td>\n",
       "      <td>NaN</td>\n",
       "      <td>$142,502,728</td>\n",
       "      <td>NaN</td>\n",
       "      <td>NaN</td>\n",
       "      <td>True</td>\n",
       "      <td>Rotten Tomatoes</td>\n",
       "      <td>86%</td>\n",
       "    </tr>\n",
       "    <tr>\n",
       "      <th>2</th>\n",
       "      <td>Once Upon a Time... in Hollywood</td>\n",
       "      <td>2019</td>\n",
       "      <td>R</td>\n",
       "      <td>26 Jul 2019</td>\n",
       "      <td>161 min</td>\n",
       "      <td>Comedy, Drama</td>\n",
       "      <td>Quentin Tarantino</td>\n",
       "      <td>Quentin Tarantino</td>\n",
       "      <td>Leonardo DiCaprio, Brad Pitt, Margot Robbie</td>\n",
       "      <td>Quentin Tarantino's Once Upon a Time... in Hol...</td>\n",
       "      <td>...</td>\n",
       "      <td>882,682</td>\n",
       "      <td>tt7131622</td>\n",
       "      <td>movie</td>\n",
       "      <td>NaN</td>\n",
       "      <td>$142,502,728</td>\n",
       "      <td>NaN</td>\n",
       "      <td>NaN</td>\n",
       "      <td>True</td>\n",
       "      <td>Metacritic</td>\n",
       "      <td>84/100</td>\n",
       "    </tr>\n",
       "    <tr>\n",
       "      <th>3</th>\n",
       "      <td>Ace in the Hole</td>\n",
       "      <td>1951</td>\n",
       "      <td>Approved</td>\n",
       "      <td>04 Jul 1951</td>\n",
       "      <td>111 min</td>\n",
       "      <td>Drama, Film-Noir</td>\n",
       "      <td>Billy Wilder</td>\n",
       "      <td>Billy Wilder, Lesser Samuels, Walter Newman</td>\n",
       "      <td>Kirk Douglas, Jan Sterling, Robert Arthur</td>\n",
       "      <td>Charles Tatum, a down-on-his-luck reporter, ta...</td>\n",
       "      <td>...</td>\n",
       "      <td>40,295</td>\n",
       "      <td>tt0043338</td>\n",
       "      <td>movie</td>\n",
       "      <td>NaN</td>\n",
       "      <td>NaN</td>\n",
       "      <td>NaN</td>\n",
       "      <td>NaN</td>\n",
       "      <td>True</td>\n",
       "      <td>Internet Movie Database</td>\n",
       "      <td>8.1/10</td>\n",
       "    </tr>\n",
       "    <tr>\n",
       "      <th>4</th>\n",
       "      <td>Ace in the Hole</td>\n",
       "      <td>1951</td>\n",
       "      <td>Approved</td>\n",
       "      <td>04 Jul 1951</td>\n",
       "      <td>111 min</td>\n",
       "      <td>Drama, Film-Noir</td>\n",
       "      <td>Billy Wilder</td>\n",
       "      <td>Billy Wilder, Lesser Samuels, Walter Newman</td>\n",
       "      <td>Kirk Douglas, Jan Sterling, Robert Arthur</td>\n",
       "      <td>Charles Tatum, a down-on-his-luck reporter, ta...</td>\n",
       "      <td>...</td>\n",
       "      <td>40,295</td>\n",
       "      <td>tt0043338</td>\n",
       "      <td>movie</td>\n",
       "      <td>NaN</td>\n",
       "      <td>NaN</td>\n",
       "      <td>NaN</td>\n",
       "      <td>NaN</td>\n",
       "      <td>True</td>\n",
       "      <td>Rotten Tomatoes</td>\n",
       "      <td>90%</td>\n",
       "    </tr>\n",
       "    <tr>\n",
       "      <th>...</th>\n",
       "      <td>...</td>\n",
       "      <td>...</td>\n",
       "      <td>...</td>\n",
       "      <td>...</td>\n",
       "      <td>...</td>\n",
       "      <td>...</td>\n",
       "      <td>...</td>\n",
       "      <td>...</td>\n",
       "      <td>...</td>\n",
       "      <td>...</td>\n",
       "      <td>...</td>\n",
       "      <td>...</td>\n",
       "      <td>...</td>\n",
       "      <td>...</td>\n",
       "      <td>...</td>\n",
       "      <td>...</td>\n",
       "      <td>...</td>\n",
       "      <td>...</td>\n",
       "      <td>...</td>\n",
       "      <td>...</td>\n",
       "      <td>...</td>\n",
       "    </tr>\n",
       "    <tr>\n",
       "      <th>5146</th>\n",
       "      <td>Gundown at Sandoval</td>\n",
       "      <td>1961</td>\n",
       "      <td>N/A</td>\n",
       "      <td>26 Mar 1961</td>\n",
       "      <td>72 min</td>\n",
       "      <td>Western</td>\n",
       "      <td>Harry Keller</td>\n",
       "      <td>Frank D. Gilroy, Maurice Tombragel</td>\n",
       "      <td>Tom Tryon, John Alderson, Lyle Bettger</td>\n",
       "      <td>N/A</td>\n",
       "      <td>...</td>\n",
       "      <td>28</td>\n",
       "      <td>tt0052868</td>\n",
       "      <td>movie</td>\n",
       "      <td>N/A</td>\n",
       "      <td>N/A</td>\n",
       "      <td>N/A</td>\n",
       "      <td>N/A</td>\n",
       "      <td>True</td>\n",
       "      <td>Internet Movie Database</td>\n",
       "      <td>6.9/10</td>\n",
       "    </tr>\n",
       "    <tr>\n",
       "      <th>5147</th>\n",
       "      <td>Habanera</td>\n",
       "      <td>1961</td>\n",
       "      <td>N/A</td>\n",
       "      <td>N/A</td>\n",
       "      <td>90 min</td>\n",
       "      <td>Comedy, Drama, Musical</td>\n",
       "      <td>José María Elorrieta</td>\n",
       "      <td>José María Elorrieta, Manuel Sebares</td>\n",
       "      <td>Lolita Sevilla, Virgilio Teixeira, Antonio Casas</td>\n",
       "      <td>Rosa María, whose father lives in Cuba, was se...</td>\n",
       "      <td>...</td>\n",
       "      <td>14</td>\n",
       "      <td>tt0052872</td>\n",
       "      <td>movie</td>\n",
       "      <td>N/A</td>\n",
       "      <td>N/A</td>\n",
       "      <td>N/A</td>\n",
       "      <td>N/A</td>\n",
       "      <td>True</td>\n",
       "      <td>Internet Movie Database</td>\n",
       "      <td>5.8/10</td>\n",
       "    </tr>\n",
       "    <tr>\n",
       "      <th>5148</th>\n",
       "      <td>Happy Anniversary</td>\n",
       "      <td>1959</td>\n",
       "      <td>Not Rated</td>\n",
       "      <td>24 Mar 1960</td>\n",
       "      <td>83 min</td>\n",
       "      <td>Comedy</td>\n",
       "      <td>David Miller</td>\n",
       "      <td>Joseph Fields, Jerome Chodorov</td>\n",
       "      <td>David Niven, Mitzi Gaynor, Carl Reiner</td>\n",
       "      <td>Living in the Gramercy Park neighborhood of Ne...</td>\n",
       "      <td>...</td>\n",
       "      <td>306</td>\n",
       "      <td>tt0052878</td>\n",
       "      <td>movie</td>\n",
       "      <td>N/A</td>\n",
       "      <td>N/A</td>\n",
       "      <td>N/A</td>\n",
       "      <td>N/A</td>\n",
       "      <td>True</td>\n",
       "      <td>Internet Movie Database</td>\n",
       "      <td>5.8/10</td>\n",
       "    </tr>\n",
       "    <tr>\n",
       "      <th>5149</th>\n",
       "      <td>Have Rocket -- Will Travel</td>\n",
       "      <td>1959</td>\n",
       "      <td>N/A</td>\n",
       "      <td>01 Aug 1959</td>\n",
       "      <td>76 min</td>\n",
       "      <td>Comedy, Family, Sci-Fi</td>\n",
       "      <td>David Lowell Rich</td>\n",
       "      <td>Raphael Hayes</td>\n",
       "      <td>Moe Howard, Larry Fine, Joe DeRita</td>\n",
       "      <td>The 3 Stooges are cleaners at a spaceport when...</td>\n",
       "      <td>...</td>\n",
       "      <td>1,022</td>\n",
       "      <td>tt0052880</td>\n",
       "      <td>movie</td>\n",
       "      <td>N/A</td>\n",
       "      <td>N/A</td>\n",
       "      <td>N/A</td>\n",
       "      <td>N/A</td>\n",
       "      <td>True</td>\n",
       "      <td>Internet Movie Database</td>\n",
       "      <td>5.6/10</td>\n",
       "    </tr>\n",
       "    <tr>\n",
       "      <th>5150</th>\n",
       "      <td>Heimat, deine Lieder</td>\n",
       "      <td>1959</td>\n",
       "      <td>N/A</td>\n",
       "      <td>30 Oct 1959</td>\n",
       "      <td>88 min</td>\n",
       "      <td>Romance</td>\n",
       "      <td>Paul May</td>\n",
       "      <td>Kurt Wilhelm</td>\n",
       "      <td>Sabine Bethmann, Rudolf Lenz, Ingeborg Schöner</td>\n",
       "      <td>N/A</td>\n",
       "      <td>...</td>\n",
       "      <td>29</td>\n",
       "      <td>tt0052883</td>\n",
       "      <td>movie</td>\n",
       "      <td>N/A</td>\n",
       "      <td>N/A</td>\n",
       "      <td>N/A</td>\n",
       "      <td>N/A</td>\n",
       "      <td>True</td>\n",
       "      <td>Internet Movie Database</td>\n",
       "      <td>5.1/10</td>\n",
       "    </tr>\n",
       "  </tbody>\n",
       "</table>\n",
       "<p>5151 rows × 27 columns</p>\n",
       "</div>"
      ],
      "text/plain": [
       "                                 Title  Year      Rated     Released  Runtime  \\\n",
       "0     Once Upon a Time... in Hollywood  2019          R  26 Jul 2019  161 min   \n",
       "1     Once Upon a Time... in Hollywood  2019          R  26 Jul 2019  161 min   \n",
       "2     Once Upon a Time... in Hollywood  2019          R  26 Jul 2019  161 min   \n",
       "3                      Ace in the Hole  1951   Approved  04 Jul 1951  111 min   \n",
       "4                      Ace in the Hole  1951   Approved  04 Jul 1951  111 min   \n",
       "...                                ...   ...        ...          ...      ...   \n",
       "5146               Gundown at Sandoval  1961        N/A  26 Mar 1961   72 min   \n",
       "5147                          Habanera  1961        N/A          N/A   90 min   \n",
       "5148                 Happy Anniversary  1959  Not Rated  24 Mar 1960   83 min   \n",
       "5149        Have Rocket -- Will Travel  1959        N/A  01 Aug 1959   76 min   \n",
       "5150              Heimat, deine Lieder  1959        N/A  30 Oct 1959   88 min   \n",
       "\n",
       "                       Genre              Director  \\\n",
       "0              Comedy, Drama     Quentin Tarantino   \n",
       "1              Comedy, Drama     Quentin Tarantino   \n",
       "2              Comedy, Drama     Quentin Tarantino   \n",
       "3           Drama, Film-Noir          Billy Wilder   \n",
       "4           Drama, Film-Noir          Billy Wilder   \n",
       "...                      ...                   ...   \n",
       "5146                 Western          Harry Keller   \n",
       "5147  Comedy, Drama, Musical  José María Elorrieta   \n",
       "5148                  Comedy          David Miller   \n",
       "5149  Comedy, Family, Sci-Fi     David Lowell Rich   \n",
       "5150                 Romance              Paul May   \n",
       "\n",
       "                                           Writer  \\\n",
       "0                               Quentin Tarantino   \n",
       "1                               Quentin Tarantino   \n",
       "2                               Quentin Tarantino   \n",
       "3     Billy Wilder, Lesser Samuels, Walter Newman   \n",
       "4     Billy Wilder, Lesser Samuels, Walter Newman   \n",
       "...                                           ...   \n",
       "5146           Frank D. Gilroy, Maurice Tombragel   \n",
       "5147         José María Elorrieta, Manuel Sebares   \n",
       "5148               Joseph Fields, Jerome Chodorov   \n",
       "5149                                Raphael Hayes   \n",
       "5150                                 Kurt Wilhelm   \n",
       "\n",
       "                                                Actors  \\\n",
       "0          Leonardo DiCaprio, Brad Pitt, Margot Robbie   \n",
       "1          Leonardo DiCaprio, Brad Pitt, Margot Robbie   \n",
       "2          Leonardo DiCaprio, Brad Pitt, Margot Robbie   \n",
       "3            Kirk Douglas, Jan Sterling, Robert Arthur   \n",
       "4            Kirk Douglas, Jan Sterling, Robert Arthur   \n",
       "...                                                ...   \n",
       "5146            Tom Tryon, John Alderson, Lyle Bettger   \n",
       "5147  Lolita Sevilla, Virgilio Teixeira, Antonio Casas   \n",
       "5148            David Niven, Mitzi Gaynor, Carl Reiner   \n",
       "5149                Moe Howard, Larry Fine, Joe DeRita   \n",
       "5150    Sabine Bethmann, Rudolf Lenz, Ingeborg Schöner   \n",
       "\n",
       "                                                   Plot  ... imdbVotes  \\\n",
       "0     Quentin Tarantino's Once Upon a Time... in Hol...  ...   882,682   \n",
       "1     Quentin Tarantino's Once Upon a Time... in Hol...  ...   882,682   \n",
       "2     Quentin Tarantino's Once Upon a Time... in Hol...  ...   882,682   \n",
       "3     Charles Tatum, a down-on-his-luck reporter, ta...  ...    40,295   \n",
       "4     Charles Tatum, a down-on-his-luck reporter, ta...  ...    40,295   \n",
       "...                                                 ...  ...       ...   \n",
       "5146                                                N/A  ...        28   \n",
       "5147  Rosa María, whose father lives in Cuba, was se...  ...        14   \n",
       "5148  Living in the Gramercy Park neighborhood of Ne...  ...       306   \n",
       "5149  The 3 Stooges are cleaners at a spaceport when...  ...     1,022   \n",
       "5150                                                N/A  ...        29   \n",
       "\n",
       "         imdbID   Type  DVD     BoxOffice Production Website Response  \\\n",
       "0     tt7131622  movie  NaN  $142,502,728        NaN     NaN     True   \n",
       "1     tt7131622  movie  NaN  $142,502,728        NaN     NaN     True   \n",
       "2     tt7131622  movie  NaN  $142,502,728        NaN     NaN     True   \n",
       "3     tt0043338  movie  NaN           NaN        NaN     NaN     True   \n",
       "4     tt0043338  movie  NaN           NaN        NaN     NaN     True   \n",
       "...         ...    ...  ...           ...        ...     ...      ...   \n",
       "5146  tt0052868  movie  N/A           N/A        N/A     N/A     True   \n",
       "5147  tt0052872  movie  N/A           N/A        N/A     N/A     True   \n",
       "5148  tt0052878  movie  N/A           N/A        N/A     N/A     True   \n",
       "5149  tt0052880  movie  N/A           N/A        N/A     N/A     True   \n",
       "5150  tt0052883  movie  N/A           N/A        N/A     N/A     True   \n",
       "\n",
       "                 RatingSource RatingValue  \n",
       "0     Internet Movie Database      7.6/10  \n",
       "1             Rotten Tomatoes         86%  \n",
       "2                  Metacritic      84/100  \n",
       "3     Internet Movie Database      8.1/10  \n",
       "4             Rotten Tomatoes         90%  \n",
       "...                       ...         ...  \n",
       "5146  Internet Movie Database      6.9/10  \n",
       "5147  Internet Movie Database      5.8/10  \n",
       "5148  Internet Movie Database      5.8/10  \n",
       "5149  Internet Movie Database      5.6/10  \n",
       "5150  Internet Movie Database      5.1/10  \n",
       "\n",
       "[5151 rows x 27 columns]"
      ]
     },
     "execution_count": 14,
     "metadata": {},
     "output_type": "execute_result"
    }
   ],
   "source": [
    "import re\n",
    "from sys import api_version\n",
    "import requests\n",
    "\n",
    "# top5 = top_n_directors_names_films['tconst'].to_list()\n",
    "\n",
    "\n",
    "# generate_dataset.fetch_movie_data(imdb_film_id=top5[0], api_key=\"95497563\")\n",
    "generate_dataset.process_omdb_ids(\n",
    "    api_key=omdb_key, imdb_ids=films_with_dirs['tconst'].to_list())\n",
    "\n",
    "# url = f\"http://www.omdbapi.com/?i=tt0025557&plot=full&apikey=95497563\"\n",
    "# response = requests.get(url)\n",
    "\n",
    "# response"
   ]
  },
  {
   "cell_type": "code",
   "execution_count": 12,
   "metadata": {},
   "outputs": [
    {
     "name": "stderr",
     "output_type": "stream",
     "text": [
      "INFO:root:No path provided. Using default path: /Users/bradkittrell/Projects/imdb/IMDB_Fun/Data/external/omdb.csv\n"
     ]
    },
    {
     "name": "stdout",
     "output_type": "stream",
     "text": [
      "Ratings Sources: \n",
      "RatingSource\n",
      "Internet Movie Database    3247\n",
      "Rotten Tomatoes             614\n",
      "Metacritic                  361\n",
      "Name: count, dtype: int64\n"
     ]
    },
    {
     "data": {
      "image/png": "[encoded data removed]",
      "text/plain": [
       "<Figure size 721x500 with 1 Axes>"
      ]
     },
     "metadata": {},
     "output_type": "display_data"
    },
    {
     "data": {
      "text/plain": [
       "<Axes: xlabel='RatingSource', ylabel='RatingSource'>"
      ]
     },
     "execution_count": 12,
     "metadata": {},
     "output_type": "execute_result"
    },
    {
     "data": {
      "image/png": "[encoded data removed]",
      "text/plain": [
       "<Figure size 640x480 with 2 Axes>"
      ]
     },
     "metadata": {},
     "output_type": "display_data"
    }
   ],
   "source": [
    "film_data = generate_dataset.load_cached_omdb_data(None)\n",
    "# one question I have is on ratings lets get them all on the same scale\n",
    "print(f\"Ratings Sources: \\n{film_data['RatingSource'].value_counts()}\")\n",
    "\n",
    "\n",
    "def convert_rating(rating, source):\n",
    "    \"\"\"_summary_\n",
    "    Converts ratings from various sources to a common scale. used in a lambda function\n",
    "    Args:\n",
    "        rating (_type_): _description_\n",
    "        source (_type_): _description_\n",
    "\n",
    "    Returns:\n",
    "        _type_: _description_\n",
    "    \"\"\"\n",
    "    if source == \"Internet Movie Database\":\n",
    "        return float(rating.split(\"/\")[0])*10\n",
    "    elif source == \"Rotten Tomatoes\":\n",
    "        return float(rating.replace(\"%\", \"\"))\n",
    "    elif source == \"Metacritic\":\n",
    "        return float(rating.split(\"/\")[0])\n",
    "    else:\n",
    "        return float(rating)\n",
    "\n",
    "\n",
    "film_data['RatingValueNumeric'] = film_data.apply(lambda x: convert_rating(\n",
    "    x[\"RatingValue\"], x[\"RatingSource\"]), axis=1)\n",
    "\n",
    "ratings_wide = film_data[['RatingValueNumeric', 'RatingSource', 'imdbID']].pivot(\n",
    "    columns='RatingSource', values='RatingValueNumeric', index='imdbID')\n",
    "\n",
    "sns.displot(ratings_wide, kind=\"kde\")\n",
    "plt.show()\n",
    "\n",
    "sns.heatmap(ratings_wide.corr(), annot=True)"
   ]
  },
  {
   "cell_type": "code",
   "execution_count": 7,
   "metadata": {},
   "outputs": [
    {
     "ename": "NameError",
     "evalue": "name 'top_n_directors_names_films' is not defined",
     "output_type": "error",
     "traceback": [
      "\u001b[0;31m---------------------------------------------------------------------------\u001b[0m",
      "\u001b[0;31mNameError\u001b[0m                                 Traceback (most recent call last)",
      "Cell \u001b[0;32mIn[7], line 1\u001b[0m\n\u001b[0;32m----> 1\u001b[0m top_n_directors_names_ratings \u001b[38;5;241m=\u001b[39m \u001b[43mtop_n_directors_names_films\u001b[49m\u001b[38;5;241m.\u001b[39mjoin(pl\u001b[38;5;241m.\u001b[39mfrom_pandas(\n\u001b[1;32m      2\u001b[0m     ratings_wide\u001b[38;5;241m.\u001b[39mreset_index()), left_on\u001b[38;5;241m=\u001b[39m\u001b[38;5;124m\"\u001b[39m\u001b[38;5;124mtconst\u001b[39m\u001b[38;5;124m\"\u001b[39m, right_on\u001b[38;5;241m=\u001b[39m\u001b[38;5;124m\"\u001b[39m\u001b[38;5;124mimdbID\u001b[39m\u001b[38;5;124m\"\u001b[39m, how\u001b[38;5;241m=\u001b[39m\u001b[38;5;124m\"\u001b[39m\u001b[38;5;124minner\u001b[39m\u001b[38;5;124m\"\u001b[39m)\n\u001b[1;32m      4\u001b[0m top_n_directors_names_ratings \u001b[38;5;241m=\u001b[39m top_n_directors_names_ratings\u001b[38;5;241m.\u001b[39mjoin(pl\u001b[38;5;241m.\u001b[39mfrom_pandas(\n\u001b[1;32m      5\u001b[0m     film_data[[\u001b[38;5;124m'\u001b[39m\u001b[38;5;124mimdbID\u001b[39m\u001b[38;5;124m'\u001b[39m, \u001b[38;5;124m'\u001b[39m\u001b[38;5;124mBoxOffice\u001b[39m\u001b[38;5;124m'\u001b[39m, \u001b[38;5;124m'\u001b[39m\u001b[38;5;124mReleased\u001b[39m\u001b[38;5;124m'\u001b[39m]]\u001b[38;5;241m.\u001b[39mdrop_duplicates()), left_on\u001b[38;5;241m=\u001b[39m\u001b[38;5;124m\"\u001b[39m\u001b[38;5;124mtconst\u001b[39m\u001b[38;5;124m\"\u001b[39m, right_on\u001b[38;5;241m=\u001b[39m\u001b[38;5;124m\"\u001b[39m\u001b[38;5;124mimdbID\u001b[39m\u001b[38;5;124m\"\u001b[39m, how\u001b[38;5;241m=\u001b[39m\u001b[38;5;124m\"\u001b[39m\u001b[38;5;124minner\u001b[39m\u001b[38;5;124m\"\u001b[39m)\n\u001b[1;32m      7\u001b[0m mean_director_metacritic \u001b[38;5;241m=\u001b[39m top_n_directors_names_ratings\u001b[38;5;241m.\u001b[39mgroup_by(\n\u001b[1;32m      8\u001b[0m     \u001b[38;5;124m\"\u001b[39m\u001b[38;5;124mprimaryName\u001b[39m\u001b[38;5;124m\"\u001b[39m)\u001b[38;5;241m.\u001b[39magg(pl\u001b[38;5;241m.\u001b[39mcol(\u001b[38;5;124m\"\u001b[39m\u001b[38;5;124mMetacritic\u001b[39m\u001b[38;5;124m\"\u001b[39m)\u001b[38;5;241m.\u001b[39mmean())\n",
      "\u001b[0;31mNameError\u001b[0m: name 'top_n_directors_names_films' is not defined"
     ]
    }
   ],
   "source": [
    "top_n_directors_names_ratings = top_n_directors_names_films.join(pl.from_pandas(\n",
    "    ratings_wide.reset_index()), left_on=\"tconst\", right_on=\"imdbID\", how=\"inner\")\n",
    "\n",
    "top_n_directors_names_ratings = top_n_directors_names_ratings.join(pl.from_pandas(\n",
    "    film_data[['imdbID', 'BoxOffice', 'Released']].drop_duplicates()), left_on=\"tconst\", right_on=\"imdbID\", how=\"inner\")\n",
    "\n",
    "mean_director_metacritic = top_n_directors_names_ratings.group_by(\n",
    "    \"primaryName\").agg(pl.col(\"Metacritic\").mean())\n",
    "\n",
    "top_n_directors_names_ratings = top_n_directors_names_ratings.with_columns(\n",
    "    pl.col(\"Released\").str.to_datetime(\"%d %b %Y\").alias(\"Released\")).drop_nulls()\n",
    "sns.barplot(mean_director_metacritic.sort(\"Metacritic\", descending=True), y=\"primaryName\",\n",
    "            x=\"Metacritic\", orient=\"h\")\n",
    "plt.show()"
   ]
  },
  {
   "cell_type": "code",
   "execution_count": 11,
   "metadata": {},
   "outputs": [
    {
     "data": {
      "application/vnd.plotly.v1+json": {
       "config": {
        "plotlyServerURL": "https://plot.ly"
       },
       "data": [
        {
         "hoverinfo": "x+y+name",
         "hovertemplate": "primaryName=David Lean<br>Release Year=%{x}<br>Metacritic Score=%{y}<extra></extra>",
         "legendgroup": "David Lean",
         "line": {
          "color": "#636efa",
          "dash": "solid"
         },
         "marker": {
          "symbol": "circle"
         },
         "mode": "lines+markers",
         "name": "David Lean",
         "orientation": "v",
         "showlegend": true,
         "type": "scatter",
         "x": [
          1957,
          1965,
          1985,
          2013
         ],
         "xaxis": "x",
         "y": [
          88,
          69,
          78,
          100
         ],
         "yaxis": "y"
        },
        {
         "hoverinfo": "x+y+name",
         "hovertemplate": "primaryName=Billy Wilder<br>Release Year=%{x}<br>Metacritic Score=%{y}<extra></extra>",
         "legendgroup": "Billy Wilder",
         "line": {
          "color": "#EF553B",
          "dash": "solid"
         },
         "marker": {
          "symbol": "circle"
         },
         "mode": "lines+markers",
         "name": "Billy Wilder",
         "orientation": "v",
         "showlegend": true,
         "type": "scatter",
         "x": [
          1960
         ],
         "xaxis": "x",
         "y": [
          94
         ],
         "yaxis": "y"
        },
        {
         "hoverinfo": "x+y+name",
         "hovertemplate": "primaryName=Stanley Kubrick<br>Release Year=%{x}<br>Metacritic Score=%{y}<extra></extra>",
         "legendgroup": "Stanley Kubrick",
         "line": {
          "color": "#00cc96",
          "dash": "solid"
         },
         "marker": {
          "symbol": "circle"
         },
         "mode": "lines+markers",
         "name": "Stanley Kubrick",
         "orientation": "v",
         "showlegend": true,
         "type": "scatter",
         "x": [
          1964,
          1968,
          1972,
          1980,
          1987,
          1999
         ],
         "xaxis": "x",
         "y": [
          97,
          84,
          77,
          68,
          78,
          69
         ],
         "yaxis": "y"
        },
        {
         "hoverinfo": "x+y+name",
         "hovertemplate": "primaryName=George Lucas<br>Release Year=%{x}<br>Metacritic Score=%{y}<extra></extra>",
         "legendgroup": "George Lucas",
         "line": {
          "color": "#ab63fa",
          "dash": "solid"
         },
         "marker": {
          "symbol": "circle"
         },
         "mode": "lines+markers",
         "name": "George Lucas",
         "orientation": "v",
         "showlegend": true,
         "type": "scatter",
         "x": [
          1971,
          1973,
          1977,
          1999,
          2002,
          2005
         ],
         "xaxis": "x",
         "y": [
          75,
          97,
          90,
          51,
          54,
          68
         ],
         "yaxis": "y"
        },
        {
         "hoverinfo": "x+y+name",
         "hovertemplate": "primaryName=Clint Eastwood<br>Release Year=%{x}<br>Metacritic Score=%{y}<extra></extra>",
         "legendgroup": "Clint Eastwood",
         "line": {
          "color": "#FFA15A",
          "dash": "solid"
         },
         "marker": {
          "symbol": "circle"
         },
         "mode": "lines+markers",
         "name": "Clint Eastwood",
         "orientation": "v",
         "showlegend": true,
         "type": "scatter",
         "x": [
          1971,
          1973,
          1975,
          1976,
          1977,
          1980,
          1982,
          1983,
          1985,
          1986,
          1988,
          1990,
          1992,
          1993,
          1995,
          1997,
          1999,
          2000,
          2002,
          2003,
          2005,
          2006,
          2007,
          2008,
          2009,
          2010,
          2011,
          2014,
          2015,
          2016,
          2018,
          2019,
          2021
         ],
         "xaxis": "x",
         "y": [
          78,
          69,
          61,
          69,
          59,
          66,
          47,
          52,
          61,
          53,
          78,
          53.5,
          85,
          71,
          69,
          54.5,
          65,
          73,
          64,
          84,
          86,
          79,
          89,
          63,
          73,
          56,
          59,
          54,
          73,
          74,
          51.5,
          68,
          58
         ],
         "yaxis": "y"
        },
        {
         "hoverinfo": "x+y+name",
         "hovertemplate": "primaryName=Woody Allen<br>Release Year=%{x}<br>Metacritic Score=%{y}<extra></extra>",
         "legendgroup": "Woody Allen",
         "line": {
          "color": "#19d3f3",
          "dash": "solid"
         },
         "marker": {
          "symbol": "circle"
         },
         "mode": "lines+markers",
         "name": "Woody Allen",
         "orientation": "v",
         "showlegend": true,
         "type": "scatter",
         "x": [
          1972,
          1973,
          1975,
          1977,
          1978,
          1979,
          1982,
          1984,
          1985,
          1986,
          1987,
          1989,
          1991,
          1992,
          1993,
          1995,
          1998,
          2000,
          2001,
          2002,
          2003,
          2005,
          2006,
          2008,
          2009,
          2010,
          2011,
          2012,
          2013,
          2014,
          2015,
          2016,
          2017
         ],
         "xaxis": "x",
         "y": [
          66,
          77,
          89,
          92,
          67,
          83,
          51,
          82,
          75,
          90,
          74,
          77,
          67,
          84,
          71,
          59,
          51.5,
          69.5,
          52,
          46,
          43,
          54,
          60,
          59.5,
          45,
          51,
          81,
          54,
          78,
          54,
          53,
          64,
          46
         ],
         "yaxis": "y"
        },
        {
         "hoverinfo": "x+y+name",
         "hovertemplate": "primaryName=Martin Scorsese<br>Release Year=%{x}<br>Metacritic Score=%{y}<extra></extra>",
         "legendgroup": "Martin Scorsese",
         "line": {
          "color": "#FF6692",
          "dash": "solid"
         },
         "marker": {
          "symbol": "circle"
         },
         "mode": "lines+markers",
         "name": "Martin Scorsese",
         "orientation": "v",
         "showlegend": true,
         "type": "scatter",
         "x": [
          1973,
          1975,
          1976,
          1977,
          1978,
          1980,
          1982,
          1985,
          1986,
          1988,
          1990,
          1991,
          1993,
          1995,
          1998,
          1999,
          2002,
          2004,
          2006,
          2010,
          2011,
          2013,
          2017,
          2023
         ],
         "xaxis": "x",
         "y": [
          96,
          78,
          94,
          64,
          84,
          90,
          73,
          89,
          77,
          80,
          92,
          73,
          90,
          73,
          74,
          72,
          81,
          77,
          85,
          63,
          83,
          75,
          79,
          89
         ],
         "yaxis": "y"
        },
        {
         "hoverinfo": "x+y+name",
         "hovertemplate": "primaryName=Steven Spielberg<br>Release Year=%{x}<br>Metacritic Score=%{y}<extra></extra>",
         "legendgroup": "Steven Spielberg",
         "line": {
          "color": "#B6E880",
          "dash": "solid"
         },
         "marker": {
          "symbol": "circle"
         },
         "mode": "lines+markers",
         "name": "Steven Spielberg",
         "orientation": "v",
         "showlegend": true,
         "type": "scatter",
         "x": [
          1974,
          1975,
          1977,
          1979,
          1981,
          1982,
          1984,
          1986,
          1987,
          1989,
          1991,
          1993,
          1994,
          1997,
          1998,
          2001,
          2002,
          2004,
          2005,
          2006,
          2008,
          2011,
          2012,
          2015,
          2016,
          2018,
          2021,
          2022
         ],
         "xaxis": "x",
         "y": [
          65,
          87,
          90,
          34,
          86,
          92,
          57,
          78,
          62,
          57.5,
          52,
          68,
          95,
          61,
          91,
          65,
          77.5,
          55,
          73,
          74,
          65,
          70,
          87,
          81,
          66,
          73.5,
          85,
          85
         ],
         "yaxis": "y"
        },
        {
         "hoverinfo": "x+y+name",
         "hovertemplate": "primaryName=Ridley Scott<br>Release Year=%{x}<br>Metacritic Score=%{y}<extra></extra>",
         "legendgroup": "Ridley Scott",
         "line": {
          "color": "#FF97FF",
          "dash": "solid"
         },
         "marker": {
          "symbol": "circle"
         },
         "mode": "lines+markers",
         "name": "Ridley Scott",
         "orientation": "v",
         "showlegend": true,
         "type": "scatter",
         "x": [
          1979,
          1982,
          1986,
          1987,
          1989,
          1991,
          1992,
          1996,
          1997,
          2000,
          2001,
          2002,
          2003,
          2005,
          2006,
          2007,
          2008,
          2010,
          2012,
          2013,
          2014,
          2015,
          2017,
          2021,
          2023,
          2024
         ],
         "xaxis": "x",
         "y": [
          89,
          84,
          30,
          55,
          56,
          89,
          47,
          53,
          62,
          67,
          57,
          74,
          61,
          63,
          47,
          76,
          57,
          53,
          64,
          48,
          52,
          80,
          68.5,
          63,
          64,
          64
         ],
         "yaxis": "y"
        },
        {
         "hoverinfo": "x+y+name",
         "hovertemplate": "primaryName=James Cameron<br>Release Year=%{x}<br>Metacritic Score=%{y}<extra></extra>",
         "legendgroup": "James Cameron",
         "line": {
          "color": "#FECB52",
          "dash": "solid"
         },
         "marker": {
          "symbol": "circle"
         },
         "mode": "lines+markers",
         "name": "James Cameron",
         "orientation": "v",
         "showlegend": true,
         "type": "scatter",
         "x": [
          1984,
          1986,
          1989,
          1991,
          1994,
          1997,
          2009,
          2022
         ],
         "xaxis": "x",
         "y": [
          84,
          84,
          62,
          75,
          63,
          75,
          83,
          67
         ],
         "yaxis": "y"
        },
        {
         "hoverinfo": "x+y+name",
         "hovertemplate": "primaryName=Tim Burton<br>Release Year=%{x}<br>Metacritic Score=%{y}<extra></extra>",
         "legendgroup": "Tim Burton",
         "line": {
          "color": "#636efa",
          "dash": "solid"
         },
         "marker": {
          "symbol": "circle"
         },
         "mode": "lines+markers",
         "name": "Tim Burton",
         "orientation": "v",
         "showlegend": true,
         "type": "scatter",
         "x": [
          1985,
          1988,
          1989,
          1990,
          1992,
          1994,
          1996,
          1999,
          2001,
          2004,
          2005,
          2007,
          2010,
          2012,
          2014,
          2016,
          2019,
          2024
         ],
         "xaxis": "x",
         "y": [
          47,
          71,
          69,
          74,
          68,
          71,
          52,
          65,
          50,
          58,
          72,
          83,
          53,
          64.5,
          62,
          57,
          51,
          62
         ],
         "yaxis": "y"
        },
        {
         "hoverinfo": "x+y+name",
         "hovertemplate": "primaryName=David Fincher<br>Release Year=%{x}<br>Metacritic Score=%{y}<extra></extra>",
         "legendgroup": "David Fincher",
         "line": {
          "color": "#EF553B",
          "dash": "solid"
         },
         "marker": {
          "symbol": "circle"
         },
         "mode": "lines+markers",
         "name": "David Fincher",
         "orientation": "v",
         "showlegend": true,
         "type": "scatter",
         "x": [
          1992,
          1995,
          1997,
          1999,
          2002,
          2007,
          2008,
          2010,
          2011,
          2014
         ],
         "xaxis": "x",
         "y": [
          59,
          65,
          63,
          67,
          65,
          79,
          70,
          95,
          71,
          79
         ],
         "yaxis": "y"
        },
        {
         "hoverinfo": "x+y+name",
         "hovertemplate": "primaryName=Quentin Tarantino<br>Release Year=%{x}<br>Metacritic Score=%{y}<extra></extra>",
         "legendgroup": "Quentin Tarantino",
         "line": {
          "color": "#00cc96",
          "dash": "solid"
         },
         "marker": {
          "symbol": "circle"
         },
         "mode": "lines+markers",
         "name": "Quentin Tarantino",
         "orientation": "v",
         "showlegend": true,
         "type": "scatter",
         "x": [
          1992,
          1994,
          1997,
          2003,
          2004,
          2009,
          2012,
          2015,
          2019
         ],
         "xaxis": "x",
         "y": [
          81,
          95,
          62,
          69,
          83,
          69,
          81,
          68,
          84
         ],
         "yaxis": "y"
        },
        {
         "hoverinfo": "x+y+name",
         "hovertemplate": "primaryName=Peter Jackson<br>Release Year=%{x}<br>Metacritic Score=%{y}<extra></extra>",
         "legendgroup": "Peter Jackson",
         "line": {
          "color": "#ab63fa",
          "dash": "solid"
         },
         "marker": {
          "symbol": "circle"
         },
         "mode": "lines+markers",
         "name": "Peter Jackson",
         "orientation": "v",
         "showlegend": true,
         "type": "scatter",
         "x": [
          1993,
          1994,
          1996,
          2001,
          2002,
          2003,
          2005,
          2010,
          2012,
          2013,
          2014
         ],
         "xaxis": "x",
         "y": [
          54,
          86,
          52,
          92,
          87,
          94,
          81,
          42,
          58,
          66,
          59
         ],
         "yaxis": "y"
        },
        {
         "hoverinfo": "x+y+name",
         "hovertemplate": "primaryName=Danny Boyle<br>Release Year=%{x}<br>Metacritic Score=%{y}<extra></extra>",
         "legendgroup": "Danny Boyle",
         "line": {
          "color": "#FFA15A",
          "dash": "solid"
         },
         "marker": {
          "symbol": "circle"
         },
         "mode": "lines+markers",
         "name": "Danny Boyle",
         "orientation": "v",
         "showlegend": true,
         "type": "scatter",
         "x": [
          1995,
          1996,
          1997,
          2000,
          2003,
          2005,
          2007,
          2011,
          2013,
          2015,
          2017,
          2019
         ],
         "xaxis": "x",
         "y": [
          69,
          83,
          37,
          43,
          73,
          74,
          64,
          82,
          61,
          82,
          67,
          55
         ],
         "yaxis": "y"
        },
        {
         "hoverinfo": "x+y+name",
         "hovertemplate": "primaryName=Christopher Nolan<br>Release Year=%{x}<br>Metacritic Score=%{y}<extra></extra>",
         "legendgroup": "Christopher Nolan",
         "line": {
          "color": "#19d3f3",
          "dash": "solid"
         },
         "marker": {
          "symbol": "circle"
         },
         "mode": "lines+markers",
         "name": "Christopher Nolan",
         "orientation": "v",
         "showlegend": true,
         "type": "scatter",
         "x": [
          1999,
          2001,
          2002,
          2005,
          2006,
          2008,
          2010,
          2012,
          2014,
          2017,
          2020,
          2023
         ],
         "xaxis": "x",
         "y": [
          60,
          83,
          78,
          70,
          66,
          84,
          74,
          78,
          74,
          94,
          69,
          90
         ],
         "yaxis": "y"
        },
        {
         "hoverinfo": "x+y+name",
         "hovertemplate": "primaryName=Joel Coen<br>Release Year=%{x}<br>Metacritic Score=%{y}<extra></extra>",
         "legendgroup": "Joel Coen",
         "line": {
          "color": "#FF6692",
          "dash": "solid"
         },
         "marker": {
          "symbol": "circle"
         },
         "mode": "lines+markers",
         "name": "Joel Coen",
         "orientation": "v",
         "showlegend": true,
         "type": "scatter",
         "x": [
          2001
         ],
         "xaxis": "x",
         "y": [
          73
         ],
         "yaxis": "y"
        }
       ],
       "layout": {
        "height": 600,
        "hovermode": "x unified",
        "legend": {
         "itemsizing": "constant",
         "title": {
          "text": "Select Director"
         },
         "tracegroupgap": 0
        },
        "template": {
         "data": {
          "bar": [
           {
            "error_x": {
             "color": "#2a3f5f"
            },
            "error_y": {
             "color": "#2a3f5f"
            },
            "marker": {
             "line": {
              "color": "#E5ECF6",
              "width": 0.5
             },
             "pattern": {
              "fillmode": "overlay",
              "size": 10,
              "solidity": 0.2
             }
            },
            "type": "bar"
           }
          ],
          "barpolar": [
           {
            "marker": {
             "line": {
              "color": "#E5ECF6",
              "width": 0.5
             },
             "pattern": {
              "fillmode": "overlay",
              "size": 10,
              "solidity": 0.2
             }
            },
            "type": "barpolar"
           }
          ],
          "carpet": [
           {
            "aaxis": {
             "endlinecolor": "#2a3f5f",
             "gridcolor": "white",
             "linecolor": "white",
             "minorgridcolor": "white",
             "startlinecolor": "#2a3f5f"
            },
            "baxis": {
             "endlinecolor": "#2a3f5f",
             "gridcolor": "white",
             "linecolor": "white",
             "minorgridcolor": "white",
             "startlinecolor": "#2a3f5f"
            },
            "type": "carpet"
           }
          ],
          "choropleth": [
           {
            "colorbar": {
             "outlinewidth": 0,
             "ticks": ""
            },
            "type": "choropleth"
           }
          ],
          "contour": [
           {
            "colorbar": {
             "outlinewidth": 0,
             "ticks": ""
            },
            "colorscale": [
             [
              0,
              "#0d0887"
             ],
             [
              0.1111111111111111,
              "#46039f"
             ],
             [
              0.2222222222222222,
              "#7201a8"
             ],
             [
              0.3333333333333333,
              "#9c179e"
             ],
             [
              0.4444444444444444,
              "#bd3786"
             ],
             [
              0.5555555555555556,
              "#d8576b"
             ],
             [
              0.6666666666666666,
              "#ed7953"
             ],
             [
              0.7777777777777778,
              "#fb9f3a"
             ],
             [
              0.8888888888888888,
              "#fdca26"
             ],
             [
              1,
              "#f0f921"
             ]
            ],
            "type": "contour"
           }
          ],
          "contourcarpet": [
           {
            "colorbar": {
             "outlinewidth": 0,
             "ticks": ""
            },
            "type": "contourcarpet"
           }
          ],
          "heatmap": [
           {
            "colorbar": {
             "outlinewidth": 0,
             "ticks": ""
            },
            "colorscale": [
             [
              0,
              "#0d0887"
             ],
             [
              0.1111111111111111,
              "#46039f"
             ],
             [
              0.2222222222222222,
              "#7201a8"
             ],
             [
              0.3333333333333333,
              "#9c179e"
             ],
             [
              0.4444444444444444,
              "#bd3786"
             ],
             [
              0.5555555555555556,
              "#d8576b"
             ],
             [
              0.6666666666666666,
              "#ed7953"
             ],
             [
              0.7777777777777778,
              "#fb9f3a"
             ],
             [
              0.8888888888888888,
              "#fdca26"
             ],
             [
              1,
              "#f0f921"
             ]
            ],
            "type": "heatmap"
           }
          ],
          "heatmapgl": [
           {
            "colorbar": {
             "outlinewidth": 0,
             "ticks": ""
            },
            "colorscale": [
             [
              0,
              "#0d0887"
             ],
             [
              0.1111111111111111,
              "#46039f"
             ],
             [
              0.2222222222222222,
              "#7201a8"
             ],
             [
              0.3333333333333333,
              "#9c179e"
             ],
             [
              0.4444444444444444,
              "#bd3786"
             ],
             [
              0.5555555555555556,
              "#d8576b"
             ],
             [
              0.6666666666666666,
              "#ed7953"
             ],
             [
              0.7777777777777778,
              "#fb9f3a"
             ],
             [
              0.8888888888888888,
              "#fdca26"
             ],
             [
              1,
              "#f0f921"
             ]
            ],
            "type": "heatmapgl"
           }
          ],
          "histogram": [
           {
            "marker": {
             "pattern": {
              "fillmode": "overlay",
              "size": 10,
              "solidity": 0.2
             }
            },
            "type": "histogram"
           }
          ],
          "histogram2d": [
           {
            "colorbar": {
             "outlinewidth": 0,
             "ticks": ""
            },
            "colorscale": [
             [
              0,
              "#0d0887"
             ],
             [
              0.1111111111111111,
              "#46039f"
             ],
             [
              0.2222222222222222,
              "#7201a8"
             ],
             [
              0.3333333333333333,
              "#9c179e"
             ],
             [
              0.4444444444444444,
              "#bd3786"
             ],
             [
              0.5555555555555556,
              "#d8576b"
             ],
             [
              0.6666666666666666,
              "#ed7953"
             ],
             [
              0.7777777777777778,
              "#fb9f3a"
             ],
             [
              0.8888888888888888,
              "#fdca26"
             ],
             [
              1,
              "#f0f921"
             ]
            ],
            "type": "histogram2d"
           }
          ],
          "histogram2dcontour": [
           {
            "colorbar": {
             "outlinewidth": 0,
             "ticks": ""
            },
            "colorscale": [
             [
              0,
              "#0d0887"
             ],
             [
              0.1111111111111111,
              "#46039f"
             ],
             [
              0.2222222222222222,
              "#7201a8"
             ],
             [
              0.3333333333333333,
              "#9c179e"
             ],
             [
              0.4444444444444444,
              "#bd3786"
             ],
             [
              0.5555555555555556,
              "#d8576b"
             ],
             [
              0.6666666666666666,
              "#ed7953"
             ],
             [
              0.7777777777777778,
              "#fb9f3a"
             ],
             [
              0.8888888888888888,
              "#fdca26"
             ],
             [
              1,
              "#f0f921"
             ]
            ],
            "type": "histogram2dcontour"
           }
          ],
          "mesh3d": [
           {
            "colorbar": {
             "outlinewidth": 0,
             "ticks": ""
            },
            "type": "mesh3d"
           }
          ],
          "parcoords": [
           {
            "line": {
             "colorbar": {
              "outlinewidth": 0,
              "ticks": ""
             }
            },
            "type": "parcoords"
           }
          ],
          "pie": [
           {
            "automargin": true,
            "type": "pie"
           }
          ],
          "scatter": [
           {
            "fillpattern": {
             "fillmode": "overlay",
             "size": 10,
             "solidity": 0.2
            },
            "type": "scatter"
           }
          ],
          "scatter3d": [
           {
            "line": {
             "colorbar": {
              "outlinewidth": 0,
              "ticks": ""
             }
            },
            "marker": {
             "colorbar": {
              "outlinewidth": 0,
              "ticks": ""
             }
            },
            "type": "scatter3d"
           }
          ],
          "scattercarpet": [
           {
            "marker": {
             "colorbar": {
              "outlinewidth": 0,
              "ticks": ""
             }
            },
            "type": "scattercarpet"
           }
          ],
          "scattergeo": [
           {
            "marker": {
             "colorbar": {
              "outlinewidth": 0,
              "ticks": ""
             }
            },
            "type": "scattergeo"
           }
          ],
          "scattergl": [
           {
            "marker": {
             "colorbar": {
              "outlinewidth": 0,
              "ticks": ""
             }
            },
            "type": "scattergl"
           }
          ],
          "scattermapbox": [
           {
            "marker": {
             "colorbar": {
              "outlinewidth": 0,
              "ticks": ""
             }
            },
            "type": "scattermapbox"
           }
          ],
          "scatterpolar": [
           {
            "marker": {
             "colorbar": {
              "outlinewidth": 0,
              "ticks": ""
             }
            },
            "type": "scatterpolar"
           }
          ],
          "scatterpolargl": [
           {
            "marker": {
             "colorbar": {
              "outlinewidth": 0,
              "ticks": ""
             }
            },
            "type": "scatterpolargl"
           }
          ],
          "scatterternary": [
           {
            "marker": {
             "colorbar": {
              "outlinewidth": 0,
              "ticks": ""
             }
            },
            "type": "scatterternary"
           }
          ],
          "surface": [
           {
            "colorbar": {
             "outlinewidth": 0,
             "ticks": ""
            },
            "colorscale": [
             [
              0,
              "#0d0887"
             ],
             [
              0.1111111111111111,
              "#46039f"
             ],
             [
              0.2222222222222222,
              "#7201a8"
             ],
             [
              0.3333333333333333,
              "#9c179e"
             ],
             [
              0.4444444444444444,
              "#bd3786"
             ],
             [
              0.5555555555555556,
              "#d8576b"
             ],
             [
              0.6666666666666666,
              "#ed7953"
             ],
             [
              0.7777777777777778,
              "#fb9f3a"
             ],
             [
              0.8888888888888888,
              "#fdca26"
             ],
             [
              1,
              "#f0f921"
             ]
            ],
            "type": "surface"
           }
          ],
          "table": [
           {
            "cells": {
             "fill": {
              "color": "#EBF0F8"
             },
             "line": {
              "color": "white"
             }
            },
            "header": {
             "fill": {
              "color": "#C8D4E3"
             },
             "line": {
              "color": "white"
             }
            },
            "type": "table"
           }
          ]
         },
         "layout": {
          "annotationdefaults": {
           "arrowcolor": "#2a3f5f",
           "arrowhead": 0,
           "arrowwidth": 1
          },
          "autotypenumbers": "strict",
          "coloraxis": {
           "colorbar": {
            "outlinewidth": 0,
            "ticks": ""
           }
          },
          "colorscale": {
           "diverging": [
            [
             0,
             "#8e0152"
            ],
            [
             0.1,
             "#c51b7d"
            ],
            [
             0.2,
             "#de77ae"
            ],
            [
             0.3,
             "#f1b6da"
            ],
            [
             0.4,
             "#fde0ef"
            ],
            [
             0.5,
             "#f7f7f7"
            ],
            [
             0.6,
             "#e6f5d0"
            ],
            [
             0.7,
             "#b8e186"
            ],
            [
             0.8,
             "#7fbc41"
            ],
            [
             0.9,
             "#4d9221"
            ],
            [
             1,
             "#276419"
            ]
           ],
           "sequential": [
            [
             0,
             "#0d0887"
            ],
            [
             0.1111111111111111,
             "#46039f"
            ],
            [
             0.2222222222222222,
             "#7201a8"
            ],
            [
             0.3333333333333333,
             "#9c179e"
            ],
            [
             0.4444444444444444,
             "#bd3786"
            ],
            [
             0.5555555555555556,
             "#d8576b"
            ],
            [
             0.6666666666666666,
             "#ed7953"
            ],
            [
             0.7777777777777778,
             "#fb9f3a"
            ],
            [
             0.8888888888888888,
             "#fdca26"
            ],
            [
             1,
             "#f0f921"
            ]
           ],
           "sequentialminus": [
            [
             0,
             "#0d0887"
            ],
            [
             0.1111111111111111,
             "#46039f"
            ],
            [
             0.2222222222222222,
             "#7201a8"
            ],
            [
             0.3333333333333333,
             "#9c179e"
            ],
            [
             0.4444444444444444,
             "#bd3786"
            ],
            [
             0.5555555555555556,
             "#d8576b"
            ],
            [
             0.6666666666666666,
             "#ed7953"
            ],
            [
             0.7777777777777778,
             "#fb9f3a"
            ],
            [
             0.8888888888888888,
             "#fdca26"
            ],
            [
             1,
             "#f0f921"
            ]
           ]
          },
          "colorway": [
           "#636efa",
           "#EF553B",
           "#00cc96",
           "#ab63fa",
           "#FFA15A",
           "#19d3f3",
           "#FF6692",
           "#B6E880",
           "#FF97FF",
           "#FECB52"
          ],
          "font": {
           "color": "#2a3f5f"
          },
          "geo": {
           "bgcolor": "white",
           "lakecolor": "white",
           "landcolor": "#E5ECF6",
           "showlakes": true,
           "showland": true,
           "subunitcolor": "white"
          },
          "hoverlabel": {
           "align": "left"
          },
          "hovermode": "closest",
          "mapbox": {
           "style": "light"
          },
          "paper_bgcolor": "white",
          "plot_bgcolor": "#E5ECF6",
          "polar": {
           "angularaxis": {
            "gridcolor": "white",
            "linecolor": "white",
            "ticks": ""
           },
           "bgcolor": "#E5ECF6",
           "radialaxis": {
            "gridcolor": "white",
            "linecolor": "white",
            "ticks": ""
           }
          },
          "scene": {
           "xaxis": {
            "backgroundcolor": "#E5ECF6",
            "gridcolor": "white",
            "gridwidth": 2,
            "linecolor": "white",
            "showbackground": true,
            "ticks": "",
            "zerolinecolor": "white"
           },
           "yaxis": {
            "backgroundcolor": "#E5ECF6",
            "gridcolor": "white",
            "gridwidth": 2,
            "linecolor": "white",
            "showbackground": true,
            "ticks": "",
            "zerolinecolor": "white"
           },
           "zaxis": {
            "backgroundcolor": "#E5ECF6",
            "gridcolor": "white",
            "gridwidth": 2,
            "linecolor": "white",
            "showbackground": true,
            "ticks": "",
            "zerolinecolor": "white"
           }
          },
          "shapedefaults": {
           "line": {
            "color": "#2a3f5f"
           }
          },
          "ternary": {
           "aaxis": {
            "gridcolor": "white",
            "linecolor": "white",
            "ticks": ""
           },
           "baxis": {
            "gridcolor": "white",
            "linecolor": "white",
            "ticks": ""
           },
           "bgcolor": "#E5ECF6",
           "caxis": {
            "gridcolor": "white",
            "linecolor": "white",
            "ticks": ""
           }
          },
          "title": {
           "x": 0.05
          },
          "xaxis": {
           "automargin": true,
           "gridcolor": "white",
           "linecolor": "white",
           "ticks": "",
           "title": {
            "standoff": 15
           },
           "zerolinecolor": "white",
           "zerolinewidth": 2
          },
          "yaxis": {
           "automargin": true,
           "gridcolor": "white",
           "linecolor": "white",
           "ticks": "",
           "title": {
            "standoff": 15
           },
           "zerolinecolor": "white",
           "zerolinewidth": 2
          }
         }
        },
        "title": {
         "text": "Director's Metacritic Scores Over Time",
         "x": 0.5
        },
        "xaxis": {
         "anchor": "y",
         "domain": [
          0,
          1
         ],
         "title": {
          "text": "Release Year"
         }
        },
        "yaxis": {
         "anchor": "x",
         "domain": [
          0,
          1
         ],
         "title": {
          "text": "Metacritic Score"
         }
        }
       }
      }
     },
     "metadata": {},
     "output_type": "display_data"
    }
   ],
   "source": [
    "\n",
    "from plotly import express as px\n",
    "\n",
    "top_n_directors_names_ratings = top_n_directors_names_ratings.with_columns(\n",
    "    pl.col(\"Released\").dt.year().alias(\"ReleasedYear\"))\n",
    "\n",
    "top_n_directors_names_ratings_time = top_n_directors_names_ratings.group_by(\"ReleasedYear\", \"primaryName\").agg(\n",
    "    pl.col(\"Metacritic\").mean()).sort(\"ReleasedYear\")\n",
    "\n",
    "\n",
    "fig = px.line(top_n_directors_names_ratings_time.to_pandas(),\n",
    "              x=\"ReleasedYear\",\n",
    "              y=\"Metacritic\",\n",
    "              color=\"primaryName\",\n",
    "              title=\"Director's Metacritic Scores Over Time\",\n",
    "              labels={\"Metacritic\": \"Metacritic Score\",\n",
    "                      \"ReleasedYear\": \"Release Year\"}\n",
    "              )\n",
    "\n",
    "# Add interactive hover and selection\n",
    "fig.update_traces(hoverinfo=\"x+y+name\", mode=\"lines+markers\")\n",
    "# fig.update_layout(\n",
    "#     width=900,  # Set width (in pixels)\n",
    "#     height=600  # Set height (in pixels)\n",
    "# )\n",
    "# Set layout to highlight selection\n",
    "fig.update_layout(\n",
    "    legend_title=\"Directors\",\n",
    "    hovermode=\"x unified\",\n",
    "    title_x=0.5,\n",
    "    height=600,\n",
    "    legend=dict(\n",
    "        title=\"Select Director\",\n",
    "        itemsizing=\"constant\"\n",
    "    )\n",
    ")\n",
    "\n",
    "# Show the plot\n",
    "fig.show()"
   ]
  },
  {
   "cell_type": "code",
   "execution_count": 12,
   "metadata": {},
   "outputs": [
    {
     "data": {
      "text/html": [
       "<div><style>\n",
       ".dataframe > thead > tr,\n",
       ".dataframe > tbody > tr {\n",
       "  text-align: right;\n",
       "  white-space: pre-wrap;\n",
       "}\n",
       "</style>\n",
       "<small>shape: (5, 2)</small><table border=\"1\" class=\"dataframe\"><thead><tr><th>observation_date</th><th>CPILFENS</th></tr><tr><td>date</td><td>f64</td></tr></thead><tbody><tr><td>1957-01-01</td><td>28.5</td></tr><tr><td>1957-02-01</td><td>28.5</td></tr><tr><td>1957-03-01</td><td>28.7</td></tr><tr><td>1957-04-01</td><td>28.8</td></tr><tr><td>1957-05-01</td><td>28.8</td></tr></tbody></table></div>"
      ],
      "text/plain": [
       "shape: (5, 2)\n",
       "┌──────────────────┬──────────┐\n",
       "│ observation_date ┆ CPILFENS │\n",
       "│ ---              ┆ ---      │\n",
       "│ date             ┆ f64      │\n",
       "╞══════════════════╪══════════╡\n",
       "│ 1957-01-01       ┆ 28.5     │\n",
       "│ 1957-02-01       ┆ 28.5     │\n",
       "│ 1957-03-01       ┆ 28.7     │\n",
       "│ 1957-04-01       ┆ 28.8     │\n",
       "│ 1957-05-01       ┆ 28.8     │\n",
       "└──────────────────┴──────────┘"
      ]
     },
     "execution_count": 12,
     "metadata": {},
     "output_type": "execute_result"
    }
   ],
   "source": [
    "cpi_data = pl.read_csv(\n",
    "    \"/Users/bradkittrell/Projects/imdb/IMDB_Fun/Data/external/CPILFENS.csv\")\n",
    "cpi_data = cpi_data.with_columns(\n",
    "    pl.col(\"observation_date\").str.strptime(pl.Date, \"%Y-%m-%d\"))\n",
    "\n",
    "cpi_data.head()"
   ]
  },
  {
   "cell_type": "code",
   "execution_count": 13,
   "metadata": {},
   "outputs": [
    {
     "data": {
      "text/plain": [
       "'1951'"
      ]
     },
     "execution_count": 13,
     "metadata": {},
     "output_type": "execute_result"
    }
   ],
   "source": [
    "film_data[\"Year\"].min()"
   ]
  },
  {
   "cell_type": "code",
   "execution_count": 19,
   "metadata": {},
   "outputs": [
    {
     "data": {
      "text/html": [
       "<div>\n",
       "<style scoped>\n",
       "    .dataframe tbody tr th:only-of-type {\n",
       "        vertical-align: middle;\n",
       "    }\n",
       "\n",
       "    .dataframe tbody tr th {\n",
       "        vertical-align: top;\n",
       "    }\n",
       "\n",
       "    .dataframe thead th {\n",
       "        text-align: right;\n",
       "    }\n",
       "</style>\n",
       "<table border=\"1\" class=\"dataframe\">\n",
       "  <thead>\n",
       "    <tr style=\"text-align: right;\">\n",
       "      <th></th>\n",
       "      <th>Film</th>\n",
       "      <th>Year</th>\n",
       "      <th>Nominations</th>\n",
       "      <th>Winner</th>\n",
       "    </tr>\n",
       "  </thead>\n",
       "  <tbody>\n",
       "    <tr>\n",
       "      <th>0</th>\n",
       "      <td>'38'</td>\n",
       "      <td>1986</td>\n",
       "      <td>1</td>\n",
       "      <td>0</td>\n",
       "    </tr>\n",
       "    <tr>\n",
       "      <th>1</th>\n",
       "      <td>'Crocodile' Dundee</td>\n",
       "      <td>1986</td>\n",
       "      <td>1</td>\n",
       "      <td>0</td>\n",
       "    </tr>\n",
       "    <tr>\n",
       "      <th>2</th>\n",
       "      <td>'Round Midnight</td>\n",
       "      <td>1986</td>\n",
       "      <td>2</td>\n",
       "      <td>1</td>\n",
       "    </tr>\n",
       "    <tr>\n",
       "      <th>3</th>\n",
       "      <td>(A) Torzija [(A) Torsion]</td>\n",
       "      <td>2003</td>\n",
       "      <td>1</td>\n",
       "      <td>0</td>\n",
       "    </tr>\n",
       "    <tr>\n",
       "      <th>4</th>\n",
       "      <td>...And Justice for All</td>\n",
       "      <td>1979</td>\n",
       "      <td>2</td>\n",
       "      <td>0</td>\n",
       "    </tr>\n",
       "    <tr>\n",
       "      <th>...</th>\n",
       "      <td>...</td>\n",
       "      <td>...</td>\n",
       "      <td>...</td>\n",
       "      <td>...</td>\n",
       "    </tr>\n",
       "    <tr>\n",
       "      <th>3881</th>\n",
       "      <td>the accountant</td>\n",
       "      <td>2001</td>\n",
       "      <td>1</td>\n",
       "      <td>1</td>\n",
       "    </tr>\n",
       "    <tr>\n",
       "      <th>3882</th>\n",
       "      <td>the end</td>\n",
       "      <td>1995</td>\n",
       "      <td>1</td>\n",
       "      <td>0</td>\n",
       "    </tr>\n",
       "    <tr>\n",
       "      <th>3883</th>\n",
       "      <td>tick, tick...BOOM!</td>\n",
       "      <td>2021</td>\n",
       "      <td>2</td>\n",
       "      <td>0</td>\n",
       "    </tr>\n",
       "    <tr>\n",
       "      <th>3884</th>\n",
       "      <td>Ådalen '31</td>\n",
       "      <td>1969</td>\n",
       "      <td>1</td>\n",
       "      <td>0</td>\n",
       "    </tr>\n",
       "    <tr>\n",
       "      <th>3885</th>\n",
       "      <td>Éramos Pocos (One Too Many)</td>\n",
       "      <td>2006</td>\n",
       "      <td>1</td>\n",
       "      <td>0</td>\n",
       "    </tr>\n",
       "  </tbody>\n",
       "</table>\n",
       "<p>3886 rows × 4 columns</p>\n",
       "</div>"
      ],
      "text/plain": [
       "                             Film  Year  Nominations  Winner\n",
       "0                            '38'  1986            1       0\n",
       "1              'Crocodile' Dundee  1986            1       0\n",
       "2                 'Round Midnight  1986            2       1\n",
       "3       (A) Torzija [(A) Torsion]  2003            1       0\n",
       "4          ...And Justice for All  1979            2       0\n",
       "...                           ...   ...          ...     ...\n",
       "3881               the accountant  2001            1       1\n",
       "3882                      the end  1995            1       0\n",
       "3883           tick, tick...BOOM!  2021            2       0\n",
       "3884                   Ådalen '31  1969            1       0\n",
       "3885  Éramos Pocos (One Too Many)  2006            1       0\n",
       "\n",
       "[3886 rows x 4 columns]"
      ]
     },
     "execution_count": 19,
     "metadata": {},
     "output_type": "execute_result"
    }
   ],
   "source": [
    "from polars import col\n",
    "\n",
    "\n",
    "oscars = pd.read_csv(\n",
    "    \"/Users/bradkittrell/Projects/imdb/IMDB_Fun/Data/external/oscars.csv\", delimiter='\\t', engine=\"python\")\n",
    "\n",
    "\n",
    "oscars_groupby_by_film = oscars[oscars['Ceremony'] > 23].groupby([\"Film\", \"Year\"]).agg({\"Class\": \"count\",\n",
    "                                                                                        \"Winner\": \"sum\"}).reset_index()\n",
    "oscars_groupby_by_film.rename(\n",
    "    columns={\"Class\": \"Nominations\"}, inplace=True)\n",
    "oscars_groupby_by_film['Winner'] = oscars_groupby_by_film['Winner'].fillna(\n",
    "    0).astype(int)\n",
    "oscars_groupby_by_film.head()\n",
    "oscars_groupby_by_film"
   ]
  },
  {
   "cell_type": "code",
   "execution_count": 12,
   "metadata": {},
   "outputs": [
    {
     "ename": "NameError",
     "evalue": "name 'elo_dataset' is not defined",
     "output_type": "error",
     "traceback": [
      "\u001b[0;31m---------------------------------------------------------------------------\u001b[0m",
      "\u001b[0;31mNameError\u001b[0m                                 Traceback (most recent call last)",
      "Cell \u001b[0;32mIn[12], line 1\u001b[0m\n\u001b[0;32m----> 1\u001b[0m \u001b[43melo_dataset\u001b[49m\u001b[38;5;241m.\u001b[39mat[row\u001b[38;5;241m.\u001b[39mIndex, \u001b[38;5;124m'\u001b[39m\u001b[38;5;124melo\u001b[39m\u001b[38;5;124m'\u001b[39m]\n",
      "\u001b[0;31mNameError\u001b[0m: name 'elo_dataset' is not defined"
     ]
    }
   ],
   "source": [
    "elo_dataset.at[row.Index, 'elo']"
   ]
  },
  {
   "cell_type": "markdown",
   "metadata": {},
   "source": [
    "# ELO Directors"
   ]
  },
  {
   "cell_type": "code",
   "execution_count": 14,
   "metadata": {},
   "outputs": [],
   "source": [
    "elo_dataset = film_data[[\"Title\", \"Year\", \"Director\"]].drop_duplicates().merge(oscars_groupby_by_film,\n",
    "                                                                               left_on=[\n",
    "                                                                                   \"Title\", \"Year\"],\n",
    "                                                                               right_on=[\"Film\", \"Year\"])\n",
    "\n",
    "elo_dataset['elo'] = 1500\n",
    "\n",
    "# Function to calculate ELO adjustments based on awards\n",
    "\n",
    "\n",
    "def update_elo(person_id, nominations, wins, current_elo, competitors):\n",
    "    k_factor = 32  # Adjust impact size of changes\n",
    "\n",
    "    # Adjust for nominations (small boost)\n",
    "    nomination_bonus = 10 * nominations  # Each nomination gives a small boost\n",
    "\n",
    "    # Adjust for wins (bigger boost)\n",
    "    win_bonus = 50 * wins  # Winning an award carries more weight\n",
    "\n",
    "    # Adjust based on competition strength (ELO difference matters)\n",
    "    avg_competitor_elo = np.mean(\n",
    "        [competitors.get(cid, 1500) for cid in competitors])\n",
    "    expected_score = 1 / (1 + 10 ** ((avg_competitor_elo - current_elo) / 400))\n",
    "\n",
    "    # Final ELO adjustment\n",
    "    new_elo = current_elo + k_factor * \\\n",
    "        (win_bonus + nomination_bonus - expected_score * k_factor)\n",
    "    return round(new_elo, 2)\n",
    "\n",
    "\n",
    "# Simulate ELO adjustments over an award season\n",
    "competitor_elos = {row.Director: row.elo for row in elo_dataset.itertuples()}\n",
    "\n",
    "for row in elo_dataset.itertuples():\n",
    "    person_id = row.Director\n",
    "    nominations = row.Nominations\n",
    "    wins = row.Winner\n",
    "    current_elo = row.elo\n",
    "\n",
    "    # Update ELO\n",
    "    new_elo = update_elo(person_id, nominations, wins,\n",
    "                         current_elo, competitor_elos)\n",
    "    elo_dataset.at[row.Index, 'elo'] = new_elo\n",
    "\n",
    "# # Display updated ELO scores\n",
    "# import ace_tools as tools\n",
    "# tools.display_dataframe_to_user(name=\"Updated ELO Rankings\", dataframe=people_data)"
   ]
  },
  {
   "cell_type": "markdown",
   "metadata": {},
   "source": [
    "### Better ELO dataset\n",
    "- need to have a way to normalize data year to year\n",
    "- include start year for director and last film date for director to have a decay effect\n",
    "- count of films directed for that year"
   ]
  },
  {
   "cell_type": "code",
   "execution_count": null,
   "metadata": {},
   "outputs": [
    {
     "name": "stderr",
     "output_type": "stream",
     "text": [
      "INFO:root:No path provided. Using default path: /Users/bradkittrell/Projects/imdb/IMDB_Fun/Data/processed/name.parquet\n",
      "INFO:root:Successfully loaded data from /Users/bradkittrell/Projects/imdb/IMDB_Fun/Data/processed/name.parquet\n",
      "INFO:root:Filtered names data to include only rows where birthYear > 1899\n",
      "INFO:root:Dropped __index_level_0__ column\n"
     ]
    },
    {
     "data": {
      "text/plain": [
       "<Axes: xlabel='year'>"
      ]
     },
     "execution_count": 140,
     "metadata": {},
     "output_type": "execute_result"
    },
    {
     "data": {
      "image/png": "[encoded data removed]",
      "text/plain": [
       "<Figure size 640x480 with 1 Axes>"
      ]
     },
     "metadata": {},
     "output_type": "display_data"
    }
   ],
   "source": [
    "directors_yrly = build_features.normalized_yearly_directors(start_year=1950,\n",
    "                                                            end_year=2024,\n",
    "\n",
    "                                                            director_ids=dir_counts['directors'].to_list())\n",
    "\n",
    "# films_with_dirs = films_with_dirs.to_pandas()\n",
    "films_with_dirs['Title_lower'] = films_with_dirs['originalTitle'].str.lower(\n",
    ").str.replace(\" \", \"\")\n",
    "films_with_dirs['startYear'] = films_with_dirs['startYear'].astype(str)\n",
    "oscars_groupby_by_film['Film_lower'] = oscars_groupby_by_film['Film'].str.lower(\n",
    ").str.replace(\" \", \"\")\n",
    "\n",
    "film_data_oscars = films_with_dirs.merge(oscars_groupby_by_film, left_on=[\"Title_lower\", \"startYear\"],\n",
    "                                         right_on=[\"Film_lower\", \"Year\"], how=\"left\")[[\"originalTitle\", \"startYear\", \"directors\", \"Film\", \"Nominations\", \"Winner\"]].reset_index(drop=True)\n",
    "film_data_oscars['startYear'] = film_data_oscars['startYear'].astype(int)\n",
    "\n",
    "directors_yrly_data = directors_yrly.to_pandas().merge(film_data_oscars, left_on=[\"year\", \"nconst\"], right_on=[\n",
    "    \"startYear\", \"directors\"], how=\"left\")\n",
    "\n",
    "dirs_min_max_year = directors_yrly_data.groupby(\n",
    "    \"directors\").agg({\"year\": [\"min\", \"max\"]}).reset_index()\n",
    "\n",
    "directors_yrly_data = directors_yrly_data.groupby([\"director\", \"nconst\", \"year\"]).agg(\n",
    "    {\"Film\": \"count\", \"Nominations\": \"sum\", \"Winner\": \"sum\"}).reset_index()\n",
    "\n",
    "dirs_min_max_year.columns = ['_'.join(col).strip()\n",
    "                             for col in dirs_min_max_year.columns.values]\n",
    "directors_yrly_data = directors_yrly_data.merge(\n",
    "    dirs_min_max_year, left_on=\"nconst\", right_on=\"directors_\", how=\"left\")\n",
    "directors_yrly_data = directors_yrly_data[(directors_yrly_data['year'] >= directors_yrly_data['year_min']) & (\n",
    "    directors_yrly_data['year'] <= directors_yrly_data['year_max'])]"
   ]
  },
  {
   "cell_type": "code",
   "execution_count": 122,
   "metadata": {},
   "outputs": [
    {
     "data": {
      "text/html": [
       "<div>\n",
       "<style scoped>\n",
       "    .dataframe tbody tr th:only-of-type {\n",
       "        vertical-align: middle;\n",
       "    }\n",
       "\n",
       "    .dataframe tbody tr th {\n",
       "        vertical-align: top;\n",
       "    }\n",
       "\n",
       "    .dataframe thead th {\n",
       "        text-align: right;\n",
       "    }\n",
       "</style>\n",
       "<table border=\"1\" class=\"dataframe\">\n",
       "  <thead>\n",
       "    <tr style=\"text-align: right;\">\n",
       "      <th></th>\n",
       "      <th>director</th>\n",
       "      <th>nconst</th>\n",
       "      <th>deathYear</th>\n",
       "      <th>birthYear</th>\n",
       "      <th>year</th>\n",
       "      <th>originalTitle</th>\n",
       "      <th>startYear</th>\n",
       "      <th>directors</th>\n",
       "      <th>Film</th>\n",
       "      <th>Nominations</th>\n",
       "      <th>Winner</th>\n",
       "      <th>directors_</th>\n",
       "      <th>year_min</th>\n",
       "      <th>year_max</th>\n",
       "      <th>elo</th>\n",
       "    </tr>\n",
       "  </thead>\n",
       "  <tbody>\n",
       "    <tr>\n",
       "      <th>1</th>\n",
       "      <td>Ingmar Bergman</td>\n",
       "      <td>nm0000005</td>\n",
       "      <td>2007</td>\n",
       "      <td>1918</td>\n",
       "      <td>1951</td>\n",
       "      <td>Sommarlek</td>\n",
       "      <td>1951.0</td>\n",
       "      <td>nm0000005</td>\n",
       "      <td>NaN</td>\n",
       "      <td>NaN</td>\n",
       "      <td>NaN</td>\n",
       "      <td>nm0000005</td>\n",
       "      <td>1951.0</td>\n",
       "      <td>2003.0</td>\n",
       "      <td>1500</td>\n",
       "    </tr>\n",
       "    <tr>\n",
       "      <th>2</th>\n",
       "      <td>Ingmar Bergman</td>\n",
       "      <td>nm0000005</td>\n",
       "      <td>2007</td>\n",
       "      <td>1918</td>\n",
       "      <td>1952</td>\n",
       "      <td>Kvinnors väntan</td>\n",
       "      <td>1952.0</td>\n",
       "      <td>nm0000005</td>\n",
       "      <td>NaN</td>\n",
       "      <td>NaN</td>\n",
       "      <td>NaN</td>\n",
       "      <td>nm0000005</td>\n",
       "      <td>1951.0</td>\n",
       "      <td>2003.0</td>\n",
       "      <td>1500</td>\n",
       "    </tr>\n",
       "    <tr>\n",
       "      <th>3</th>\n",
       "      <td>Ingmar Bergman</td>\n",
       "      <td>nm0000005</td>\n",
       "      <td>2007</td>\n",
       "      <td>1918</td>\n",
       "      <td>1953</td>\n",
       "      <td>Gycklarnas afton</td>\n",
       "      <td>1953.0</td>\n",
       "      <td>nm0000005</td>\n",
       "      <td>NaN</td>\n",
       "      <td>NaN</td>\n",
       "      <td>NaN</td>\n",
       "      <td>nm0000005</td>\n",
       "      <td>1951.0</td>\n",
       "      <td>2003.0</td>\n",
       "      <td>1500</td>\n",
       "    </tr>\n",
       "    <tr>\n",
       "      <th>4</th>\n",
       "      <td>Ingmar Bergman</td>\n",
       "      <td>nm0000005</td>\n",
       "      <td>2007</td>\n",
       "      <td>1918</td>\n",
       "      <td>1953</td>\n",
       "      <td>Sommaren med Monika</td>\n",
       "      <td>1953.0</td>\n",
       "      <td>nm0000005</td>\n",
       "      <td>NaN</td>\n",
       "      <td>NaN</td>\n",
       "      <td>NaN</td>\n",
       "      <td>nm0000005</td>\n",
       "      <td>1951.0</td>\n",
       "      <td>2003.0</td>\n",
       "      <td>1500</td>\n",
       "    </tr>\n",
       "    <tr>\n",
       "      <th>5</th>\n",
       "      <td>Ingmar Bergman</td>\n",
       "      <td>nm0000005</td>\n",
       "      <td>2007</td>\n",
       "      <td>1918</td>\n",
       "      <td>1954</td>\n",
       "      <td>En lektion i kärlek</td>\n",
       "      <td>1954.0</td>\n",
       "      <td>nm0000005</td>\n",
       "      <td>NaN</td>\n",
       "      <td>NaN</td>\n",
       "      <td>NaN</td>\n",
       "      <td>nm0000005</td>\n",
       "      <td>1951.0</td>\n",
       "      <td>2003.0</td>\n",
       "      <td>1500</td>\n",
       "    </tr>\n",
       "  </tbody>\n",
       "</table>\n",
       "</div>"
      ],
      "text/plain": [
       "         director     nconst  deathYear  birthYear  year        originalTitle  \\\n",
       "1  Ingmar Bergman  nm0000005       2007       1918  1951            Sommarlek   \n",
       "2  Ingmar Bergman  nm0000005       2007       1918  1952      Kvinnors väntan   \n",
       "3  Ingmar Bergman  nm0000005       2007       1918  1953     Gycklarnas afton   \n",
       "4  Ingmar Bergman  nm0000005       2007       1918  1953  Sommaren med Monika   \n",
       "5  Ingmar Bergman  nm0000005       2007       1918  1954  En lektion i kärlek   \n",
       "\n",
       "   startYear  directors Film  Nominations  Winner directors_  year_min  \\\n",
       "1     1951.0  nm0000005  NaN          NaN     NaN  nm0000005    1951.0   \n",
       "2     1952.0  nm0000005  NaN          NaN     NaN  nm0000005    1951.0   \n",
       "3     1953.0  nm0000005  NaN          NaN     NaN  nm0000005    1951.0   \n",
       "4     1953.0  nm0000005  NaN          NaN     NaN  nm0000005    1951.0   \n",
       "5     1954.0  nm0000005  NaN          NaN     NaN  nm0000005    1951.0   \n",
       "\n",
       "   year_max   elo  \n",
       "1    2003.0  1500  \n",
       "2    2003.0  1500  \n",
       "3    2003.0  1500  \n",
       "4    2003.0  1500  \n",
       "5    2003.0  1500  "
      ]
     },
     "execution_count": 122,
     "metadata": {},
     "output_type": "execute_result"
    }
   ],
   "source": [
    "from hmac import new\n",
    "\n",
    "\n",
    "def update_elo_with_decay(person_id, nominations, wins, current_elo, competitors, last_active_year, current_year):\n",
    "    if current_elo > 2000:\n",
    "        k_factor = 2\n",
    "    else:\n",
    "        k_factor = 16  # Adjust impact size of changes\n",
    "\n",
    "    # Adjust for nominations (small boost)\n",
    "    nomination_bonus = 1 * nominations\n",
    "\n",
    "    # Adjust for wins (bigger boost)\n",
    "    win_bonus = 5 * wins\n",
    "\n",
    "    # Adjust based on competition strength (ELO difference matters)\n",
    "    avg_competitor_elo = np.mean(\n",
    "        [competitors.get(cid, 1500) for cid in competitors if cid != person_id])\n",
    "    # print(avg_competitor_elo)\n",
    "    expected_score = 1 / \\\n",
    "        (1 + (10 ** ((avg_competitor_elo - current_elo) / 200)))\n",
    "\n",
    "    # Time decay: Penalize inactivity over years\n",
    "    years_inactive = max(0, current_year - last_active_year)\n",
    "    decay_factor = 0.98 ** years_inactive  # 2% decay per inactive year\n",
    "\n",
    "    # Final ELO adjustment\n",
    "    new_elo = current_elo + k_factor * \\\n",
    "        (win_bonus + nomination_bonus - expected_score * k_factor)\n",
    "\n",
    "    # Apply decay factor\n",
    "    new_elo *= decay_factor\n",
    "\n",
    "    return round(new_elo, 2)\n",
    "\n",
    "\n",
    "directors_yrly_data['elo'] = 1500\n",
    "\n",
    "years = sorted(directors_yrly_data['year'].unique())\n",
    "# simulate ELO adjustments over an award season\n",
    "\n",
    "# for year in years:\n",
    "#     year_ = directors_yrly_data[directors_yrly_data['year'] == year]\n",
    "#     # competitor_elos\n",
    "#     previous_year = directors_yrly_data[directors_yrly_data['year'] == year - 1]\n",
    "#     competitor_elos = {\n",
    "#         row.director: row.elo for row in year_.itertuples()}\n",
    "\n",
    "#     for row in year_.itertuples():\n",
    "#         person_id = row.director\n",
    "#         nominations = row.Nominations\n",
    "#         wins = row.Winner\n",
    "#         if len(directors_yrly_data[(directors_yrly_data['director'] == person_id) & (\n",
    "#                 directors_yrly_data['year'] == year-1)]) == 0:\n",
    "#             current_elo = 1500\n",
    "#         else:\n",
    "#             current_elo = directors_yrly_data[(directors_yrly_data['director'] == person_id) & (\n",
    "#                 directors_yrly_data['year'] == year-1)]['elo'].values[0]\n",
    "#         last_active = directors_yrly_data[(directors_yrly_data['director'] == person_id) & (\n",
    "#             directors_yrly_data['year'] <= year) & (directors_yrly_data['Film'] > 0)]['year'].max()\n",
    "\n",
    "#     # Update ELO\n",
    "#         new_elo = update_elo_with_decay(person_id, nominations, wins,\n",
    "#                                         current_elo, competitor_elos, last_active, year)\n",
    "#         directors_yrly_data.at[row.Index, 'elo'] = new_elo\n",
    "\n",
    "directors_yrly_data.head()"
   ]
  },
  {
   "cell_type": "code",
   "execution_count": null,
   "metadata": {},
   "outputs": [
    {
     "name": "stderr",
     "output_type": "stream",
     "text": [
      "INFO:root:No path provided. Using default path: /Users/bradkittrell/Projects/imdb/IMDB_Fun/Data/processed/name.parquet\n",
      "INFO:root:Successfully loaded data from /Users/bradkittrell/Projects/imdb/IMDB_Fun/Data/processed/name.parquet\n",
      "INFO:root:Filtered names data to include only rows where birthYear > 1899\n",
      "INFO:root:Dropped __index_level_0__ column\n"
     ]
    },
    {
     "ename": "NameError",
     "evalue": "name 'film_data' is not defined",
     "output_type": "error",
     "traceback": [
      "\u001b[0;31m---------------------------------------------------------------------------\u001b[0m",
      "\u001b[0;31mNameError\u001b[0m                                 Traceback (most recent call last)",
      "Cell \u001b[0;32mIn[23], line 11\u001b[0m\n\u001b[1;32m      1\u001b[0m directors_yrly \u001b[38;5;241m=\u001b[39m build_features\u001b[38;5;241m.\u001b[39mnormalized_yearly_directors(start_year\u001b[38;5;241m=\u001b[39m\u001b[38;5;241m1950\u001b[39m,\n\u001b[1;32m      2\u001b[0m                                                             end_year\u001b[38;5;241m=\u001b[39m\u001b[38;5;241m2024\u001b[39m,\n\u001b[1;32m      3\u001b[0m \n\u001b[1;32m      4\u001b[0m                                                             director_ids\u001b[38;5;241m=\u001b[39mdir_counts[\u001b[38;5;124m'\u001b[39m\u001b[38;5;124mdirectors\u001b[39m\u001b[38;5;124m'\u001b[39m]\u001b[38;5;241m.\u001b[39mto_list())\n\u001b[1;32m      6\u001b[0m \u001b[38;5;66;03m# film_d.merge(oscars_groupby_by_film, left_on=\"Title\",\u001b[39;00m\n\u001b[1;32m      7\u001b[0m \u001b[38;5;66;03m#                 right_on=\"Film\", how=\"left\")\u001b[39;00m\n\u001b[1;32m      8\u001b[0m \n\u001b[1;32m      9\u001b[0m \u001b[38;5;66;03m# connect oscar data to film data\u001b[39;00m\n\u001b[1;32m     10\u001b[0m \u001b[38;5;66;03m# TODO I need ot verify how many of the films i'm dropping\u001b[39;00m\n\u001b[0;32m---> 11\u001b[0m film_data[\u001b[38;5;124m'\u001b[39m\u001b[38;5;124mTitle_lower\u001b[39m\u001b[38;5;124m'\u001b[39m] \u001b[38;5;241m=\u001b[39m \u001b[43mfilm_data\u001b[49m[\u001b[38;5;124m'\u001b[39m\u001b[38;5;124mTitle\u001b[39m\u001b[38;5;124m'\u001b[39m]\u001b[38;5;241m.\u001b[39mstr\u001b[38;5;241m.\u001b[39mlower()\u001b[38;5;241m.\u001b[39mstr\u001b[38;5;241m.\u001b[39mreplace(\u001b[38;5;124m\"\u001b[39m\u001b[38;5;124m \u001b[39m\u001b[38;5;124m\"\u001b[39m, \u001b[38;5;124m\"\u001b[39m\u001b[38;5;124m\"\u001b[39m)\n\u001b[1;32m     12\u001b[0m oscars_groupby_by_film[\u001b[38;5;124m'\u001b[39m\u001b[38;5;124mFilm_lower\u001b[39m\u001b[38;5;124m'\u001b[39m] \u001b[38;5;241m=\u001b[39m oscars_groupby_by_film[\u001b[38;5;124m'\u001b[39m\u001b[38;5;124mFilm\u001b[39m\u001b[38;5;124m'\u001b[39m]\u001b[38;5;241m.\u001b[39mstr\u001b[38;5;241m.\u001b[39mlower(\n\u001b[1;32m     13\u001b[0m )\u001b[38;5;241m.\u001b[39mstr\u001b[38;5;241m.\u001b[39mreplace(\u001b[38;5;124m\"\u001b[39m\u001b[38;5;124m \u001b[39m\u001b[38;5;124m\"\u001b[39m, \u001b[38;5;124m\"\u001b[39m\u001b[38;5;124m\"\u001b[39m)\n\u001b[1;32m     16\u001b[0m film_data_oscars \u001b[38;5;241m=\u001b[39m pl\u001b[38;5;241m.\u001b[39mfrom_pandas(film_data\u001b[38;5;241m.\u001b[39mdrop_duplicates(subset\u001b[38;5;241m=\u001b[39m\u001b[38;5;124m\"\u001b[39m\u001b[38;5;124mTitle\u001b[39m\u001b[38;5;124m\"\u001b[39m)\u001b[38;5;241m.\u001b[39mmerge(oscars_groupby_by_film, left_on\u001b[38;5;241m=\u001b[39m[\u001b[38;5;124m\"\u001b[39m\u001b[38;5;124mTitle_lower\u001b[39m\u001b[38;5;124m\"\u001b[39m, \u001b[38;5;124m\"\u001b[39m\u001b[38;5;124mYear\u001b[39m\u001b[38;5;124m\"\u001b[39m],\n\u001b[1;32m     17\u001b[0m                                                                                   right_on\u001b[38;5;241m=\u001b[39m[\u001b[38;5;124m\"\u001b[39m\u001b[38;5;124mFilm_lower\u001b[39m\u001b[38;5;124m\"\u001b[39m, \u001b[38;5;124m\"\u001b[39m\u001b[38;5;124mYear\u001b[39m\u001b[38;5;124m\"\u001b[39m], how\u001b[38;5;241m=\u001b[39m\u001b[38;5;124m\"\u001b[39m\u001b[38;5;124mleft\u001b[39m\u001b[38;5;124m\"\u001b[39m)[[\u001b[38;5;124m\"\u001b[39m\u001b[38;5;124mTitle\u001b[39m\u001b[38;5;124m\"\u001b[39m, \u001b[38;5;124m\"\u001b[39m\u001b[38;5;124mYear\u001b[39m\u001b[38;5;124m\"\u001b[39m, \u001b[38;5;124m\"\u001b[39m\u001b[38;5;124mDirector\u001b[39m\u001b[38;5;124m\"\u001b[39m, \u001b[38;5;124m\"\u001b[39m\u001b[38;5;124mFilm\u001b[39m\u001b[38;5;124m\"\u001b[39m, \u001b[38;5;124m\"\u001b[39m\u001b[38;5;124mNominations\u001b[39m\u001b[38;5;124m\"\u001b[39m, \u001b[38;5;124m\"\u001b[39m\u001b[38;5;124mWinner\u001b[39m\u001b[38;5;124m\"\u001b[39m]])\n",
      "\u001b[0;31mNameError\u001b[0m: name 'film_data' is not defined"
     ]
    }
   ],
   "source": [
    "\n",
    "\n",
    "# film_d.merge(oscars_groupby_by_film, left_on=\"Title\",\n",
    "#                 right_on=\"Film\", how=\"left\")\n",
    "\n",
    "# connect oscar data to film data\n",
    "# TODO I need ot verify how many of the films i'm dropping\n",
    "film_data['Title_lower'] = film_data['Title'].str.lower().str.replace(\" \", \"\")\n",
    "oscars_groupby_by_film['Film_lower'] = oscars_groupby_by_film['Film'].str.lower(\n",
    ").str.replace(\" \", \"\")\n",
    "\n",
    "\n",
    "film_data_oscars = pl.from_pandas(film_data.drop_duplicates(subset=\"Title\").merge(oscars_groupby_by_film, left_on=[\"Title_lower\", \"Year\"],\n",
    "                                                                                  right_on=[\"Film_lower\", \"Year\"], how=\"left\")[[\"Title\", \"Year\", \"Director\", \"Film\", \"Nominations\", \"Winner\"]])\n",
    "film_data_oscars = film_data_oscars.with_columns(\n",
    "    pl.col(\"Year\").cast(pl.Int64)  # or pl.Int64 if needed\n",
    ")\n",
    "directors_yrly_data = directors_yrly.join(film_data_oscars, left_on=[\"year\", \"director\"], right_on=[\n",
    "    \"Year\", \"Director\"], how=\"left\")\n",
    "\n",
    "\n",
    "directors_yrly_data = directors_yrly_data.group_by([\"director\", \"year\"]).agg(pl.col(\n",
    "    \"Nominations\").sum(), pl.col(\"Winner\").sum(), pl.col(\"Film\").count()).sort(\"year\")\n",
    "\n",
    "dirs_min_max_year = pl.from_pandas(film_data.groupby(\"Director\").agg(\n",
    "    {\"Year\": [\"max\", \"min\"]}).reset_index()).with_columns(\n",
    "    pl.col(\"('Year', 'max')\").cast(pl.Int64),\n",
    "    pl.col(\"('Year', 'min')\").cast(pl.Int64)\n",
    ").rename({\n",
    "    \"('Director', '')\": \"Director\",\n",
    "    \"('Year', 'max')\": \"Max Year\",\n",
    "    \"('Year', 'min')\": \"Min Year\"\n",
    "})\n",
    "directors_yrly_data = directors_yrly_data.join(\n",
    "    dirs_min_max_year, left_on=\"director\", right_on=\"Director\").filter(pl.col(\"year\").is_between(\n",
    "        pl.col(\"Min Year\"), pl.col(\"Max Year\"))).to_pandas().dropna().reset_index(drop=True)"
   ]
  },
  {
   "cell_type": "code",
   "execution_count": 200,
   "metadata": {},
   "outputs": [
    {
     "data": {
      "text/html": [
       "<div>\n",
       "<style scoped>\n",
       "    .dataframe tbody tr th:only-of-type {\n",
       "        vertical-align: middle;\n",
       "    }\n",
       "\n",
       "    .dataframe tbody tr th {\n",
       "        vertical-align: top;\n",
       "    }\n",
       "\n",
       "    .dataframe thead th {\n",
       "        text-align: right;\n",
       "    }\n",
       "</style>\n",
       "<table border=\"1\" class=\"dataframe\">\n",
       "  <thead>\n",
       "    <tr style=\"text-align: right;\">\n",
       "      <th></th>\n",
       "      <th>year</th>\n",
       "      <th>Nominations</th>\n",
       "      <th>Winner</th>\n",
       "      <th>Film</th>\n",
       "      <th>Max Year</th>\n",
       "      <th>Min Year</th>\n",
       "    </tr>\n",
       "  </thead>\n",
       "  <tbody>\n",
       "    <tr>\n",
       "      <th>count</th>\n",
       "      <td>666.000000</td>\n",
       "      <td>666.000000</td>\n",
       "      <td>666.000000</td>\n",
       "      <td>666.000000</td>\n",
       "      <td>666.000000</td>\n",
       "      <td>666.000000</td>\n",
       "    </tr>\n",
       "    <tr>\n",
       "      <th>mean</th>\n",
       "      <td>1994.825826</td>\n",
       "      <td>1.262763</td>\n",
       "      <td>0.390390</td>\n",
       "      <td>0.285285</td>\n",
       "      <td>2015.707207</td>\n",
       "      <td>1973.944444</td>\n",
       "    </tr>\n",
       "    <tr>\n",
       "      <th>std</th>\n",
       "      <td>17.796502</td>\n",
       "      <td>3.180064</td>\n",
       "      <td>1.617804</td>\n",
       "      <td>0.545378</td>\n",
       "      <td>12.976549</td>\n",
       "      <td>14.401490</td>\n",
       "    </tr>\n",
       "    <tr>\n",
       "      <th>min</th>\n",
       "      <td>1951.000000</td>\n",
       "      <td>0.000000</td>\n",
       "      <td>0.000000</td>\n",
       "      <td>0.000000</td>\n",
       "      <td>1981.000000</td>\n",
       "      <td>1951.000000</td>\n",
       "    </tr>\n",
       "    <tr>\n",
       "      <th>25%</th>\n",
       "      <td>1982.000000</td>\n",
       "      <td>0.000000</td>\n",
       "      <td>0.000000</td>\n",
       "      <td>0.000000</td>\n",
       "      <td>2014.000000</td>\n",
       "      <td>1964.000000</td>\n",
       "    </tr>\n",
       "    <tr>\n",
       "      <th>50%</th>\n",
       "      <td>1997.000000</td>\n",
       "      <td>0.000000</td>\n",
       "      <td>0.000000</td>\n",
       "      <td>0.000000</td>\n",
       "      <td>2022.000000</td>\n",
       "      <td>1971.000000</td>\n",
       "    </tr>\n",
       "    <tr>\n",
       "      <th>75%</th>\n",
       "      <td>2009.000000</td>\n",
       "      <td>0.000000</td>\n",
       "      <td>0.000000</td>\n",
       "      <td>0.000000</td>\n",
       "      <td>2023.000000</td>\n",
       "      <td>1985.000000</td>\n",
       "    </tr>\n",
       "    <tr>\n",
       "      <th>max</th>\n",
       "      <td>2024.000000</td>\n",
       "      <td>26.000000</td>\n",
       "      <td>22.000000</td>\n",
       "      <td>2.000000</td>\n",
       "      <td>2024.000000</td>\n",
       "      <td>2001.000000</td>\n",
       "    </tr>\n",
       "  </tbody>\n",
       "</table>\n",
       "</div>"
      ],
      "text/plain": [
       "              year  Nominations      Winner        Film     Max Year  \\\n",
       "count   666.000000   666.000000  666.000000  666.000000   666.000000   \n",
       "mean   1994.825826     1.262763    0.390390    0.285285  2015.707207   \n",
       "std      17.796502     3.180064    1.617804    0.545378    12.976549   \n",
       "min    1951.000000     0.000000    0.000000    0.000000  1981.000000   \n",
       "25%    1982.000000     0.000000    0.000000    0.000000  2014.000000   \n",
       "50%    1997.000000     0.000000    0.000000    0.000000  2022.000000   \n",
       "75%    2009.000000     0.000000    0.000000    0.000000  2023.000000   \n",
       "max    2024.000000    26.000000   22.000000    2.000000  2024.000000   \n",
       "\n",
       "          Min Year  \n",
       "count   666.000000  \n",
       "mean   1973.944444  \n",
       "std      14.401490  \n",
       "min    1951.000000  \n",
       "25%    1964.000000  \n",
       "50%    1971.000000  \n",
       "75%    1985.000000  \n",
       "max    2001.000000  "
      ]
     },
     "execution_count": 200,
     "metadata": {},
     "output_type": "execute_result"
    }
   ],
   "source": [
    "directors_yrly_data.describe()"
   ]
  },
  {
   "cell_type": "code",
   "execution_count": 248,
   "metadata": {},
   "outputs": [
    {
     "name": "stderr",
     "output_type": "stream",
     "text": [
      "/opt/anaconda3/envs/data_science/lib/python3.11/site-packages/numpy/core/fromnumeric.py:3504: RuntimeWarning:\n",
      "\n",
      "Mean of empty slice.\n",
      "\n",
      "/opt/anaconda3/envs/data_science/lib/python3.11/site-packages/numpy/core/_methods.py:129: RuntimeWarning:\n",
      "\n",
      "invalid value encountered in scalar divide\n",
      "\n"
     ]
    }
   ],
   "source": [
    "from hmac import new\n",
    "\n",
    "\n",
    "def update_elo_with_decay(person_id, nominations, wins, current_elo, competitors, last_active_year, current_year):\n",
    "    if current_elo > 2000:\n",
    "        k_factor = 2\n",
    "    else:\n",
    "        k_factor = 16  # Adjust impact size of changes\n",
    "\n",
    "    # Adjust for nominations (small boost)\n",
    "    nomination_bonus = 1 * nominations\n",
    "\n",
    "    # Adjust for wins (bigger boost)\n",
    "    win_bonus = 5 * wins\n",
    "\n",
    "    # Adjust based on competition strength (ELO difference matters)\n",
    "    avg_competitor_elo = np.mean(\n",
    "        [competitors.get(cid, 1500) for cid in competitors if cid != person_id])\n",
    "    # print(avg_competitor_elo)\n",
    "    expected_score = 1 / \\\n",
    "        (1 + (10 ** ((avg_competitor_elo - current_elo) / 200)))\n",
    "\n",
    "    # Time decay: Penalize inactivity over years\n",
    "    years_inactive = max(0, current_year - last_active_year)\n",
    "    decay_factor = 0.98 ** years_inactive  # 2% decay per inactive year\n",
    "\n",
    "    # Final ELO adjustment\n",
    "    new_elo = current_elo + k_factor * \\\n",
    "        (win_bonus + nomination_bonus - expected_score * k_factor)\n",
    "\n",
    "    # Apply decay factor\n",
    "    new_elo *= decay_factor\n",
    "\n",
    "    return round(new_elo, 2)\n",
    "\n",
    "\n",
    "directors_yrly_data['elo'] = 1500\n",
    "\n",
    "years = sorted(directors_yrly_data['year'].unique())\n",
    "# simulate ELO adjustments over an award season\n",
    "\n",
    "for year in years:\n",
    "    year_ = directors_yrly_data[directors_yrly_data['year'] == year]\n",
    "    # competitor_elos\n",
    "    previous_year = directors_yrly_data[directors_yrly_data['year'] == year - 1]\n",
    "    competitor_elos = {\n",
    "        row.director: row.elo for row in year_.itertuples()}\n",
    "\n",
    "    for row in year_.itertuples():\n",
    "        person_id = row.director\n",
    "        nominations = row.Nominations\n",
    "        wins = row.Winner\n",
    "        if len(directors_yrly_data[(directors_yrly_data['director'] == person_id) & (\n",
    "                directors_yrly_data['year'] == year-1)]) == 0:\n",
    "            current_elo = 1500\n",
    "        else:\n",
    "            current_elo = directors_yrly_data[(directors_yrly_data['director'] == person_id) & (\n",
    "                directors_yrly_data['year'] == year-1)]['elo'].values[0]\n",
    "        last_active = directors_yrly_data[(directors_yrly_data['director'] == person_id) & (\n",
    "            directors_yrly_data['year'] <= year) & (directors_yrly_data['Film'] > 0)]['year'].max()\n",
    "\n",
    "    # Update ELO\n",
    "        new_elo = update_elo_with_decay(person_id, nominations, wins,\n",
    "                                        current_elo, competitor_elos, last_active, year)\n",
    "        directors_yrly_data.at[row.Index, 'elo'] = new_elo"
   ]
  },
  {
   "cell_type": "code",
   "execution_count": null,
   "metadata": {},
   "outputs": [
    {
     "data": {
      "text/plain": [
       "1084.0"
      ]
     },
     "execution_count": 225,
     "metadata": {},
     "output_type": "execute_result"
    }
   ],
   "source": []
  },
  {
   "cell_type": "code",
   "execution_count": 249,
   "metadata": {},
   "outputs": [
    {
     "data": {
      "application/vnd.plotly.v1+json": {
       "config": {
        "plotlyServerURL": "https://plot.ly"
       },
       "data": [
        {
         "hoverinfo": "x+y+name",
         "hovertemplate": "director=Billy Wilder<br>year=%{x}<br>elo=%{y}<extra></extra>",
         "legendgroup": "Billy Wilder",
         "line": {
          "color": "#636efa",
          "dash": "solid"
         },
         "marker": {
          "symbol": "circle"
         },
         "mode": "lines+markers",
         "name": "Billy Wilder",
         "orientation": "v",
         "showlegend": true,
         "type": "scatter",
         "x": [
          1951,
          1952,
          1953,
          1954,
          1955,
          1956,
          1957,
          1958,
          1959,
          1960,
          1961,
          1962,
          1963,
          1964,
          1965,
          1966,
          1967,
          1968,
          1969,
          1970,
          1971,
          1972,
          1973,
          1974,
          1975,
          1976,
          1977,
          1978,
          1979,
          1980,
          1981
         ],
         "xaxis": "x",
         "y": [
          null,
          null,
          null,
          null,
          null,
          null,
          null,
          null,
          null,
          null,
          null,
          null,
          null,
          null,
          null,
          null,
          null,
          null,
          null,
          null,
          null,
          null,
          null,
          null,
          null,
          null,
          null,
          null,
          null,
          null,
          null
         ],
         "yaxis": "y"
        },
        {
         "hoverinfo": "x+y+name",
         "hovertemplate": "director=David Lean<br>year=%{x}<br>elo=%{y}<extra></extra>",
         "legendgroup": "David Lean",
         "line": {
          "color": "#EF553B",
          "dash": "solid"
         },
         "marker": {
          "symbol": "circle"
         },
         "mode": "lines+markers",
         "name": "David Lean",
         "orientation": "v",
         "showlegend": true,
         "type": "scatter",
         "x": [
          1952,
          1953,
          1954,
          1955,
          1956,
          1957,
          1958,
          1959,
          1960,
          1961,
          1962,
          1963,
          1964,
          1965,
          1966,
          1967,
          1968,
          1969,
          1970,
          1971,
          1972,
          1973,
          1974,
          1975,
          1976,
          1977,
          1978,
          1979,
          1980,
          1981,
          1982,
          1983,
          1984
         ],
         "xaxis": "x",
         "y": [
          1372,
          1324.28,
          1294.38,
          1336.44,
          1276.59,
          2634.43,
          2577.82,
          2471.9,
          2322.77,
          2138.76,
          2314.76,
          2264.55,
          2171.03,
          2307.03,
          2256.97,
          2163.75,
          2032.74,
          1871.25,
          2066.77,
          2021.52,
          1937.64,
          1584.3,
          1290.06,
          1147.16,
          1012.37,
          878.06,
          746.85,
          622.65,
          508.74,
          407.36,
          319.66,
          245.83,
          917.83
         ],
         "yaxis": "y"
        },
        {
         "hoverinfo": "x+y+name",
         "hovertemplate": "director=Stanley Kubrick<br>year=%{x}<br>elo=%{y}<extra></extra>",
         "legendgroup": "Stanley Kubrick",
         "line": {
          "color": "#00cc96",
          "dash": "solid"
         },
         "marker": {
          "symbol": "circle"
         },
         "mode": "lines+markers",
         "name": "Stanley Kubrick",
         "orientation": "v",
         "showlegend": true,
         "type": "scatter",
         "x": [
          1952,
          1953,
          1954,
          1955,
          1956,
          1957,
          1958,
          1959,
          1960,
          1961,
          1962,
          1963,
          1964,
          1965,
          1966,
          1967,
          1968,
          1969,
          1970,
          1971,
          1972,
          1973,
          1974,
          1975,
          1976,
          1977,
          1978,
          1979,
          1980,
          1981,
          1982,
          1983,
          1984,
          1985,
          1986,
          1987,
          1988,
          1989,
          1990,
          1991,
          1992,
          1993,
          1994,
          1995,
          1996,
          1997,
          1998,
          1999
         ],
         "xaxis": "x",
         "y": [
          1372,
          1324.28,
          1294.38,
          1272.44,
          1255.07,
          1240.67,
          1228.36,
          1217.61,
          1208.06,
          1199.48,
          1207.68,
          1175.15,
          1233.21,
          1197.43,
          1142.69,
          1071.62,
          1213.79,
          1180.55,
          1127.74,
          1188.26,
          1157.75,
          1107.21,
          1039.51,
          1470.24,
          1336.68,
          1251.21,
          1164.63,
          1069.35,
          964.99,
          854.35,
          741.55,
          630.85,
          525.96,
          429.74,
          344.11,
          360.11,
          352.91,
          338.93,
          319,
          294.24,
          265.97,
          235.61,
          204.54,
          174.01,
          145.08,
          118.54,
          94.92,
          74.49
         ],
         "yaxis": "y"
        },
        {
         "hoverinfo": "x+y+name",
         "hovertemplate": "director=Steven Spielberg<br>year=%{x}<br>elo=%{y}<extra></extra>",
         "legendgroup": "Steven Spielberg",
         "line": {
          "color": "#ab63fa",
          "dash": "solid"
         },
         "marker": {
          "symbol": "circle"
         },
         "mode": "lines+markers",
         "name": "Steven Spielberg",
         "orientation": "v",
         "showlegend": true,
         "type": "scatter",
         "x": [
          1964,
          1965,
          1966,
          1967,
          1968,
          1969,
          1970,
          1971,
          1972,
          1973,
          1974,
          1975,
          1976,
          1977,
          1978,
          1979,
          1980,
          1981,
          1982,
          1983,
          1984,
          1985,
          1986,
          1987,
          1988,
          1989,
          1990,
          1991,
          1992,
          1993,
          1994,
          1995,
          1996,
          1997,
          1998,
          1999,
          2000,
          2001,
          2002,
          2003,
          2004,
          2005,
          2006,
          2007,
          2008,
          2009,
          2010,
          2011,
          2012,
          2013,
          2014,
          2015,
          2016,
          2017,
          2018,
          2019,
          2020,
          2021,
          2022
         ],
         "xaxis": "x",
         "y": [
          1372,
          1324.28,
          1294.38,
          1272.44,
          1255.07,
          1240.67,
          1228.36,
          1217.61,
          1208.06,
          1199.48,
          1191.68,
          1488.53,
          1341.59,
          1610.01,
          1382.09,
          1377.7,
          1300.84,
          1821.36,
          2035.54,
          1990.92,
          1847.82,
          1772.4,
          1496.52,
          1467.08,
          1335.79,
          1430.21,
          1324.01,
          1374.19,
          1298.98,
          2315.95,
          2265.71,
          2172.15,
          2040.65,
          2046.66,
          2114.67,
          2068.46,
          1982.71,
          1759.69,
          1563.95,
          1363.03,
          1266.95,
          1378.57,
          1301.29,
          1227.1,
          1144.96,
          1052.18,
          949.76,
          1061.31,
          1411.68,
          1316.8,
          1238.05,
          1402.09,
          1312.66,
          1318.11,
          1306.03,
          1255.62,
          1191.98,
          1376.81,
          1438.91
         ],
         "yaxis": "y"
        },
        {
         "hoverinfo": "x+y+name",
         "hovertemplate": "director=Martin Scorsese<br>year=%{x}<br>elo=%{y}<extra></extra>",
         "legendgroup": "Martin Scorsese",
         "line": {
          "color": "#FFA15A",
          "dash": "solid"
         },
         "marker": {
          "symbol": "circle"
         },
         "mode": "lines+markers",
         "name": "Martin Scorsese",
         "orientation": "v",
         "showlegend": true,
         "type": "scatter",
         "x": [
          1966,
          1967,
          1968,
          1969,
          1970,
          1971,
          1972,
          1973,
          1974,
          1975,
          1976,
          1977,
          1978,
          1979,
          1980,
          1981,
          1982,
          1983,
          1984,
          1985,
          1986,
          1987,
          1988,
          1989,
          1990,
          1991,
          1992,
          1993,
          1994,
          1995,
          1996,
          1997,
          1998,
          1999,
          2000,
          2001,
          2002,
          2003,
          2004,
          2005,
          2006,
          2007,
          2008,
          2009,
          2010,
          2011,
          2012,
          2013,
          2014,
          2015,
          2016,
          2017,
          2018,
          2019,
          2020,
          2021,
          2022,
          2023
         ],
         "xaxis": "x",
         "y": [
          1372,
          1324.28,
          1294.38,
          1272.44,
          1255.07,
          1240.67,
          1228.36,
          1217.61,
          1336.06,
          1276.34,
          1322.22,
          1267.08,
          1201.15,
          1123.03,
          1407.74,
          1315.14,
          1236.91,
          1153.05,
          1059.27,
          956.06,
          1099.57,
          1075.11,
          1089.2,
          1065.22,
          1239.52,
          1259.37,
          1219.39,
          1369.65,
          1296.52,
          1290.08,
          1243.73,
          1295,
          1247.46,
          1185.33,
          1109.36,
          1020.64,
          1179.62,
          1149.91,
          1721.44,
          1454.31,
          1759.22,
          1485.23,
          1313.91,
          1211.33,
          1109.08,
          1682.27,
          1425.15,
          1429.12,
          1323.62,
          1242.68,
          1246.1,
          1208.38,
          1152.25,
          1307.66,
          1256.8,
          1192.94,
          1115.96,
          1272.92
         ],
         "yaxis": "y"
        },
        {
         "hoverinfo": "x+y+name",
         "hovertemplate": "director=Woody Allen<br>year=%{x}<br>elo=%{y}<extra></extra>",
         "legendgroup": "Woody Allen",
         "line": {
          "color": "#19d3f3",
          "dash": "solid"
         },
         "marker": {
          "symbol": "circle"
         },
         "mode": "lines+markers",
         "name": "Woody Allen",
         "orientation": "v",
         "showlegend": true,
         "type": "scatter",
         "x": [
          1969,
          1970,
          1971,
          1972,
          1973,
          1974,
          1975,
          1976,
          1977,
          1978,
          1979,
          1980,
          1981,
          1982,
          1983,
          1984,
          1985,
          1986,
          1987,
          1988,
          1989,
          1990,
          1991,
          1992,
          1993,
          1994,
          1995,
          1996,
          1997,
          1998,
          1999,
          2000,
          2001,
          2002,
          2003,
          2004,
          2005,
          2006,
          2007,
          2008,
          2009,
          2010,
          2011,
          2012,
          2013,
          2014,
          2015,
          2016,
          2017,
          2018,
          2019,
          2020,
          2021,
          2022,
          2023
         ],
         "xaxis": "x",
         "y": [
          1372,
          1324.28,
          1294.38,
          1272.44,
          1255.07,
          1240.67,
          1228.36,
          1217.61,
          1608.06,
          1489.33,
          1401.18,
          1312.26,
          1234.9,
          1151.4,
          1178.86,
          1204.67,
          1212.4,
          1555.39,
          1419.91,
          1320.13,
          1339.47,
          1320.63,
          1265.98,
          1281.77,
          1237.32,
          1417.46,
          1458.08,
          1333.17,
          1316.46,
          1263.08,
          1279.37,
          1235.44,
          1175.36,
          1100.64,
          1012.84,
          914.68,
          930.38,
          911.42,
          875.05,
          970.86,
          950.88,
          912.78,
          1056.48,
          1033.84,
          1160.65,
          1132.49,
          1084.12,
          1018.37,
          938.39,
          847.87,
          750.95,
          651.88,
          554.58,
          462.38,
          377.8
         ],
         "yaxis": "y"
        },
        {
         "hoverinfo": "x+y+name",
         "hovertemplate": "director=Clint Eastwood<br>year=%{x}<br>elo=%{y}<extra></extra>",
         "legendgroup": "Clint Eastwood",
         "line": {
          "color": "#FF6692",
          "dash": "solid"
         },
         "marker": {
          "symbol": "circle"
         },
         "mode": "lines+markers",
         "name": "Clint Eastwood",
         "orientation": "v",
         "showlegend": true,
         "type": "scatter",
         "x": [
          1971,
          1972,
          1973,
          1974,
          1975,
          1976,
          1977,
          1978,
          1979,
          1980,
          1981,
          1982,
          1983,
          1984,
          1985,
          1986,
          1987,
          1988,
          1989,
          1990,
          1991,
          1992,
          1993,
          1994,
          1995,
          1996,
          1997,
          1998,
          1999,
          2000,
          2001,
          2002,
          2003,
          2004,
          2005,
          2006,
          2007,
          2008,
          2009,
          2010,
          2011,
          2012,
          2013,
          2014,
          2015,
          2016,
          2017,
          2018,
          2019,
          2020,
          2021,
          2022,
          2023,
          2024
         ],
         "xaxis": "x",
         "y": [
          1372,
          1324.28,
          1294.38,
          1272.44,
          1255.07,
          1256.67,
          1217.17,
          1159.85,
          1086.94,
          1000.54,
          903.67,
          800.27,
          694.66,
          590.97,
          492.71,
          508.71,
          498.53,
          594.53,
          582.63,
          559.55,
          526.64,
          990.64,
          970.12,
          931.15,
          946.78,
          927.42,
          890.36,
          837.78,
          772.63,
          788.57,
          772.73,
          742.07,
          998.03,
          1429.24,
          1323.66,
          1469.95,
          1336.6,
          1350.74,
          1343.81,
          1323.44,
          1267.92,
          1201.82,
          1123.61,
          1296.29,
          1248.43,
          1251.03,
          1212.5,
          1155.82,
          1167.04,
          1138.39,
          1089.54,
          1023.35,
          942.93,
          851.96
         ],
         "yaxis": "y"
        },
        {
         "hoverinfo": "x+y+name",
         "hovertemplate": "director=George Lucas<br>year=%{x}<br>elo=%{y}<extra></extra>",
         "legendgroup": "George Lucas",
         "line": {
          "color": "#B6E880",
          "dash": "solid"
         },
         "marker": {
          "symbol": "circle"
         },
         "mode": "lines+markers",
         "name": "George Lucas",
         "orientation": "v",
         "showlegend": true,
         "type": "scatter",
         "x": [
          1971,
          1972,
          1973,
          1974,
          1975,
          1976,
          1977,
          1978,
          1979,
          1980,
          1981,
          1982,
          1983,
          1984,
          1985,
          1986,
          1987,
          1988,
          1989,
          1990,
          1991,
          1992,
          1993,
          1994,
          1995,
          1996,
          1997,
          1998,
          1999,
          2000,
          2001,
          2002,
          2003,
          2004,
          2005
         ],
         "xaxis": "x",
         "y": [
          1372,
          1324.28,
          1374.38,
          1299.08,
          1225.5,
          1143.63,
          1051.01,
          948.72,
          840.02,
          729.13,
          620.29,
          517.16,
          422.55,
          338.35,
          265.51,
          204.18,
          153.88,
          113.65,
          82.26,
          58.35,
          40.56,
          27.63,
          18.45,
          12.07,
          7.74,
          4.86,
          2.99,
          1.8,
          1.06,
          0.61,
          0.35,
          0.19,
          0.1,
          0.05,
          0.03
         ],
         "yaxis": "y"
        },
        {
         "hoverinfo": "x+y+name",
         "hovertemplate": "director=Ridley Scott<br>year=%{x}<br>elo=%{y}<extra></extra>",
         "legendgroup": "Ridley Scott",
         "line": {
          "color": "#FF97FF",
          "dash": "solid"
         },
         "marker": {
          "symbol": "circle"
         },
         "mode": "lines+markers",
         "name": "Ridley Scott",
         "orientation": "v",
         "showlegend": true,
         "type": "scatter",
         "x": [
          1977,
          1978,
          1979,
          1980,
          1981,
          1982,
          1983,
          1984,
          1985,
          1986,
          1987,
          1988,
          1989,
          1990,
          1991,
          1992,
          1993,
          1994,
          1995,
          1996,
          1997,
          1998,
          1999,
          2000,
          2001,
          2002,
          2003,
          2004,
          2005,
          2006,
          2007,
          2008,
          2009,
          2010,
          2011,
          2012,
          2013,
          2014,
          2015,
          2016,
          2017,
          2018,
          2019,
          2020,
          2021,
          2022,
          2023,
          2024
         ],
         "xaxis": "x",
         "y": [
          1372,
          1324.28,
          1406.38,
          1314.55,
          1236.5,
          1256.74,
          1217.23,
          1159.9,
          1086.98,
          1000.58,
          903.71,
          800.31,
          832.23,
          815.47,
          991.37,
          970.83,
          931.83,
          876.68,
          808.44,
          730.69,
          647.24,
          561.87,
          478.01,
          1070.01,
          1292.21,
          1245.35,
          1183.59,
          1107.84,
          1019.28,
          920.44,
          952.12,
          932.62,
          895.33,
          842.45,
          776.93,
          792.87,
          776.94,
          746.11,
          858.07,
          840.75,
          856.62,
          839.34,
          805.98,
          758.5,
          774.45,
          758.9,
          806.85,
          790.63
         ],
         "yaxis": "y"
        },
        {
         "hoverinfo": "x+y+name",
         "hovertemplate": "director=James Cameron<br>year=%{x}<br>elo=%{y}<extra></extra>",
         "legendgroup": "James Cameron",
         "line": {
          "color": "#FECB52",
          "dash": "solid"
         },
         "marker": {
          "symbol": "circle"
         },
         "mode": "lines+markers",
         "name": "James Cameron",
         "orientation": "v",
         "showlegend": true,
         "type": "scatter",
         "x": [
          1984,
          1985,
          1986,
          1987,
          1988,
          1989,
          1990,
          1991,
          1992,
          1993,
          1994,
          1995,
          1996,
          1997,
          1998,
          1999,
          2000,
          2001,
          2002,
          2003,
          2004,
          2005,
          2006,
          2007,
          2008,
          2009,
          2010,
          2011,
          2012,
          2013,
          2014,
          2015,
          2016,
          2017,
          2018,
          2019,
          2020,
          2021,
          2022
         ],
         "xaxis": "x",
         "y": [
          1372,
          1324.28,
          1566.38,
          1363.88,
          1267.43,
          1394.97,
          1309.41,
          1699.74,
          1437.73,
          1300.13,
          1292.83,
          1245.82,
          1183.98,
          2281.42,
          2231.87,
          2139.65,
          2010.06,
          1850.34,
          1445.18,
          1201.45,
          1036.09,
          880.43,
          733.89,
          599.61,
          480.12,
          864.12,
          846.67,
          813.01,
          765.11,
          705.66,
          637.84,
          565.01,
          490.49,
          417.29,
          347.91,
          284.27,
          227.62,
          178.62,
          322.62
         ],
         "yaxis": "y"
        },
        {
         "hoverinfo": "x+y+name",
         "hovertemplate": "director=Tim Burton<br>year=%{x}<br>elo=%{y}<extra></extra>",
         "legendgroup": "Tim Burton",
         "line": {
          "color": "#636efa",
          "dash": "solid"
         },
         "marker": {
          "symbol": "circle"
         },
         "mode": "lines+markers",
         "name": "Tim Burton",
         "orientation": "v",
         "showlegend": true,
         "type": "scatter",
         "x": [
          1985,
          1986,
          1987,
          1988,
          1989,
          1990,
          1991,
          1992,
          1993,
          1994,
          1995,
          1996,
          1997,
          1998,
          1999,
          2000,
          2001,
          2002,
          2003,
          2004,
          2005,
          2006,
          2007,
          2008,
          2009,
          2010,
          2011,
          2012,
          2013,
          2014,
          2015,
          2016,
          2017,
          2018,
          2019,
          2020,
          2021,
          2022,
          2023,
          2024
         ],
         "xaxis": "x",
         "y": [
          1372,
          1324.28,
          1294.38,
          1464.44,
          1554.28,
          1419.54,
          1319.98,
          1355.36,
          1288.35,
          1651.76,
          1405.08,
          1287.71,
          1192.74,
          1093.47,
          1347.12,
          1283.35,
          1213.78,
          1133.79,
          1162.07,
          1133.8,
          1162.08,
          1133.81,
          1085.34,
          1019.5,
          939.42,
          1355.02,
          1288.15,
          1299.61,
          1250.9,
          1188.15,
          1111.81,
          1022.82,
          923.6,
          817.87,
          709.93,
          603.96,
          503.54,
          411.43,
          329.44,
          258.52
         ],
         "yaxis": "y"
        },
        {
         "hoverinfo": "x+y+name",
         "hovertemplate": "director=Peter Jackson<br>year=%{x}<br>elo=%{y}<extra></extra>",
         "legendgroup": "Peter Jackson",
         "line": {
          "color": "#EF553B",
          "dash": "solid"
         },
         "marker": {
          "symbol": "circle"
         },
         "mode": "lines+markers",
         "name": "Peter Jackson",
         "orientation": "v",
         "showlegend": true,
         "type": "scatter",
         "x": [
          1987,
          1988,
          1989,
          1990,
          1991,
          1992,
          1993,
          1994,
          1995,
          1996,
          1997,
          1998,
          1999,
          2000,
          2001,
          2002,
          2003,
          2004,
          2005,
          2006,
          2007,
          2008,
          2009,
          2010,
          2011,
          2012,
          2013,
          2014
         ],
         "xaxis": "x",
         "y": [
          1372,
          1324.28,
          1294.38,
          1272.44,
          1255.07,
          1240.67,
          1228.36,
          1249.61,
          1211.32,
          1154.8,
          1082.44,
          996.49,
          900.05,
          797.08,
          1853,
          2113.32,
          2373.32,
          2321.93,
          2393.93,
          2342.13,
          2245.54,
          2109.72,
          2109.72,
          2063.61,
          1978.06,
          1819.1,
          1665.44,
          1474.61
         ],
         "yaxis": "y"
        },
        {
         "hoverinfo": "x+y+name",
         "hovertemplate": "director=Quentin Tarantino<br>year=%{x}<br>elo=%{y}<extra></extra>",
         "legendgroup": "Quentin Tarantino",
         "line": {
          "color": "#00cc96",
          "dash": "solid"
         },
         "marker": {
          "symbol": "circle"
         },
         "mode": "lines+markers",
         "name": "Quentin Tarantino",
         "orientation": "v",
         "showlegend": true,
         "type": "scatter",
         "x": [
          1987,
          1988,
          1989,
          1990,
          1991,
          1992,
          1993,
          1994,
          1995,
          1996,
          1997,
          1998,
          1999,
          2000,
          2001,
          2002,
          2003,
          2004,
          2005,
          2006,
          2007,
          2008,
          2009,
          2010,
          2011,
          2012,
          2013,
          2014,
          2015,
          2016,
          2017,
          2018,
          2019
         ],
         "xaxis": "x",
         "y": [
          1372,
          1324.28,
          1294.38,
          1272.44,
          1255.07,
          1240.67,
          1228.36,
          1409.61,
          1315.93,
          1237.45,
          1241.57,
          1204.56,
          1148.93,
          1077.2,
          991.77,
          895.82,
          793.34,
          688.65,
          585.86,
          488.45,
          399.1,
          319.57,
          527.57,
          517.02,
          496.54,
          736.54,
          721.77,
          693.16,
          821.14,
          804.62,
          772.68,
          727.18,
          1047.14
         ],
         "yaxis": "y"
        },
        {
         "hoverinfo": "x+y+name",
         "hovertemplate": "director=David Fincher<br>year=%{x}<br>elo=%{y}<extra></extra>",
         "legendgroup": "David Fincher",
         "line": {
          "color": "#ab63fa",
          "dash": "solid"
         },
         "marker": {
          "symbol": "circle"
         },
         "mode": "lines+markers",
         "name": "David Fincher",
         "orientation": "v",
         "showlegend": true,
         "type": "scatter",
         "x": [
          1992,
          1993,
          1994,
          1995,
          1996,
          1997,
          1998,
          1999,
          2000,
          2001,
          2002,
          2003,
          2004,
          2005,
          2006,
          2007,
          2008,
          2009,
          2010,
          2011,
          2012,
          2013,
          2014,
          2015,
          2016,
          2017,
          2018,
          2019,
          2020,
          2021,
          2022,
          2023
         ],
         "xaxis": "x",
         "y": [
          1372,
          1324.28,
          1294.38,
          1272.44,
          1255.07,
          1240.67,
          1228.36,
          1233.61,
          1197.78,
          1143,
          1071.89,
          986.98,
          891.52,
          789.54,
          685.36,
          583.06,
          1031.05,
          1009.3,
          1376.4,
          1486.69,
          1341.11,
          1253.99,
          1255.76,
          1216.42,
          1159.2,
          1086.36,
          1000.02,
          903.21,
          1222.94,
          1188.56,
          1134.86,
          1064.57
         ],
         "yaxis": "y"
        },
        {
         "hoverinfo": "x+y+name",
         "hovertemplate": "director=Danny Boyle<br>year=%{x}<br>elo=%{y}<extra></extra>",
         "legendgroup": "Danny Boyle",
         "line": {
          "color": "#FFA15A",
          "dash": "solid"
         },
         "marker": {
          "symbol": "circle"
         },
         "mode": "lines+markers",
         "name": "Danny Boyle",
         "orientation": "v",
         "showlegend": true,
         "type": "scatter",
         "x": [
          1994,
          1995,
          1996,
          1997,
          1998,
          1999,
          2000,
          2001,
          2002,
          2003,
          2004,
          2005,
          2006,
          2007,
          2008,
          2009,
          2010,
          2011,
          2012,
          2013,
          2014,
          2015,
          2016,
          2017,
          2018,
          2019
         ],
         "xaxis": "x",
         "y": [
          1372,
          1324.28,
          1310.38,
          1258.76,
          1194.52,
          1117.33,
          1027.74,
          927.99,
          821.74,
          713.28,
          606.81,
          505.92,
          413.37,
          331,
          259.74,
          199.75,
          295.75,
          289.83,
          278.35,
          261.98,
          241.64,
          273.64,
          268.17,
          257.55,
          242.4,
          223.58
         ],
         "yaxis": "y"
        },
        {
         "hoverinfo": "x+y+name",
         "hovertemplate": "director=Christopher Nolan<br>year=%{x}<br>elo=%{y}<extra></extra>",
         "legendgroup": "Christopher Nolan",
         "line": {
          "color": "#19d3f3",
          "dash": "solid"
         },
         "marker": {
          "symbol": "circle"
         },
         "mode": "lines+markers",
         "name": "Christopher Nolan",
         "orientation": "v",
         "showlegend": true,
         "type": "scatter",
         "x": [
          1998,
          1999,
          2000,
          2001,
          2002,
          2003,
          2004,
          2005,
          2006,
          2007,
          2008,
          2009,
          2010,
          2011,
          2012,
          2013,
          2014,
          2015,
          2016,
          2017,
          2018,
          2019,
          2020,
          2021,
          2022,
          2023
         ],
         "xaxis": "x",
         "y": [
          1372,
          1324.28,
          1294.38,
          1272.44,
          1255.07,
          1240.67,
          1228.36,
          1233.61,
          1254.22,
          1215.15,
          1493.86,
          1342.97,
          1754.9,
          1481.58,
          1312.96,
          1210.69,
          1361.85,
          1292.14,
          1220.39,
          1578.55,
          1368.39,
          1269.91,
          1365,
          1293.93,
          1221.72,
          1979.73
         ],
         "yaxis": "y"
        },
        {
         "hoverinfo": "x+y+name",
         "hovertemplate": "director=Joel Coen<br>year=%{x}<br>elo=%{y}<extra></extra>",
         "legendgroup": "Joel Coen",
         "line": {
          "color": "#FF6692",
          "dash": "solid"
         },
         "marker": {
          "symbol": "circle"
         },
         "mode": "lines+markers",
         "name": "Joel Coen",
         "orientation": "v",
         "showlegend": true,
         "type": "scatter",
         "x": [
          2001,
          2002,
          2003,
          2004,
          2005,
          2006,
          2007,
          2008,
          2009,
          2010,
          2011,
          2012,
          2013,
          2014,
          2015,
          2016,
          2017,
          2018,
          2019,
          2020,
          2021
         ],
         "xaxis": "x",
         "y": [
          1388,
          1306.06,
          1230.53,
          1147.8,
          1054.67,
          951.97,
          842.88,
          731.61,
          622.4,
          518.92,
          423.99,
          339.5,
          266.41,
          204.88,
          154.41,
          114.04,
          82.54,
          58.55,
          40.7,
          27.73,
          75.73
         ],
         "yaxis": "y"
        }
       ],
       "layout": {
        "height": 600,
        "hovermode": "x unified",
        "legend": {
         "itemsizing": "constant",
         "title": {
          "text": "Select Director"
         },
         "tracegroupgap": 0
        },
        "template": {
         "data": {
          "bar": [
           {
            "error_x": {
             "color": "#2a3f5f"
            },
            "error_y": {
             "color": "#2a3f5f"
            },
            "marker": {
             "line": {
              "color": "#E5ECF6",
              "width": 0.5
             },
             "pattern": {
              "fillmode": "overlay",
              "size": 10,
              "solidity": 0.2
             }
            },
            "type": "bar"
           }
          ],
          "barpolar": [
           {
            "marker": {
             "line": {
              "color": "#E5ECF6",
              "width": 0.5
             },
             "pattern": {
              "fillmode": "overlay",
              "size": 10,
              "solidity": 0.2
             }
            },
            "type": "barpolar"
           }
          ],
          "carpet": [
           {
            "aaxis": {
             "endlinecolor": "#2a3f5f",
             "gridcolor": "white",
             "linecolor": "white",
             "minorgridcolor": "white",
             "startlinecolor": "#2a3f5f"
            },
            "baxis": {
             "endlinecolor": "#2a3f5f",
             "gridcolor": "white",
             "linecolor": "white",
             "minorgridcolor": "white",
             "startlinecolor": "#2a3f5f"
            },
            "type": "carpet"
           }
          ],
          "choropleth": [
           {
            "colorbar": {
             "outlinewidth": 0,
             "ticks": ""
            },
            "type": "choropleth"
           }
          ],
          "contour": [
           {
            "colorbar": {
             "outlinewidth": 0,
             "ticks": ""
            },
            "colorscale": [
             [
              0,
              "#0d0887"
             ],
             [
              0.1111111111111111,
              "#46039f"
             ],
             [
              0.2222222222222222,
              "#7201a8"
             ],
             [
              0.3333333333333333,
              "#9c179e"
             ],
             [
              0.4444444444444444,
              "#bd3786"
             ],
             [
              0.5555555555555556,
              "#d8576b"
             ],
             [
              0.6666666666666666,
              "#ed7953"
             ],
             [
              0.7777777777777778,
              "#fb9f3a"
             ],
             [
              0.8888888888888888,
              "#fdca26"
             ],
             [
              1,
              "#f0f921"
             ]
            ],
            "type": "contour"
           }
          ],
          "contourcarpet": [
           {
            "colorbar": {
             "outlinewidth": 0,
             "ticks": ""
            },
            "type": "contourcarpet"
           }
          ],
          "heatmap": [
           {
            "colorbar": {
             "outlinewidth": 0,
             "ticks": ""
            },
            "colorscale": [
             [
              0,
              "#0d0887"
             ],
             [
              0.1111111111111111,
              "#46039f"
             ],
             [
              0.2222222222222222,
              "#7201a8"
             ],
             [
              0.3333333333333333,
              "#9c179e"
             ],
             [
              0.4444444444444444,
              "#bd3786"
             ],
             [
              0.5555555555555556,
              "#d8576b"
             ],
             [
              0.6666666666666666,
              "#ed7953"
             ],
             [
              0.7777777777777778,
              "#fb9f3a"
             ],
             [
              0.8888888888888888,
              "#fdca26"
             ],
             [
              1,
              "#f0f921"
             ]
            ],
            "type": "heatmap"
           }
          ],
          "heatmapgl": [
           {
            "colorbar": {
             "outlinewidth": 0,
             "ticks": ""
            },
            "colorscale": [
             [
              0,
              "#0d0887"
             ],
             [
              0.1111111111111111,
              "#46039f"
             ],
             [
              0.2222222222222222,
              "#7201a8"
             ],
             [
              0.3333333333333333,
              "#9c179e"
             ],
             [
              0.4444444444444444,
              "#bd3786"
             ],
             [
              0.5555555555555556,
              "#d8576b"
             ],
             [
              0.6666666666666666,
              "#ed7953"
             ],
             [
              0.7777777777777778,
              "#fb9f3a"
             ],
             [
              0.8888888888888888,
              "#fdca26"
             ],
             [
              1,
              "#f0f921"
             ]
            ],
            "type": "heatmapgl"
           }
          ],
          "histogram": [
           {
            "marker": {
             "pattern": {
              "fillmode": "overlay",
              "size": 10,
              "solidity": 0.2
             }
            },
            "type": "histogram"
           }
          ],
          "histogram2d": [
           {
            "colorbar": {
             "outlinewidth": 0,
             "ticks": ""
            },
            "colorscale": [
             [
              0,
              "#0d0887"
             ],
             [
              0.1111111111111111,
              "#46039f"
             ],
             [
              0.2222222222222222,
              "#7201a8"
             ],
             [
              0.3333333333333333,
              "#9c179e"
             ],
             [
              0.4444444444444444,
              "#bd3786"
             ],
             [
              0.5555555555555556,
              "#d8576b"
             ],
             [
              0.6666666666666666,
              "#ed7953"
             ],
             [
              0.7777777777777778,
              "#fb9f3a"
             ],
             [
              0.8888888888888888,
              "#fdca26"
             ],
             [
              1,
              "#f0f921"
             ]
            ],
            "type": "histogram2d"
           }
          ],
          "histogram2dcontour": [
           {
            "colorbar": {
             "outlinewidth": 0,
             "ticks": ""
            },
            "colorscale": [
             [
              0,
              "#0d0887"
             ],
             [
              0.1111111111111111,
              "#46039f"
             ],
             [
              0.2222222222222222,
              "#7201a8"
             ],
             [
              0.3333333333333333,
              "#9c179e"
             ],
             [
              0.4444444444444444,
              "#bd3786"
             ],
             [
              0.5555555555555556,
              "#d8576b"
             ],
             [
              0.6666666666666666,
              "#ed7953"
             ],
             [
              0.7777777777777778,
              "#fb9f3a"
             ],
             [
              0.8888888888888888,
              "#fdca26"
             ],
             [
              1,
              "#f0f921"
             ]
            ],
            "type": "histogram2dcontour"
           }
          ],
          "mesh3d": [
           {
            "colorbar": {
             "outlinewidth": 0,
             "ticks": ""
            },
            "type": "mesh3d"
           }
          ],
          "parcoords": [
           {
            "line": {
             "colorbar": {
              "outlinewidth": 0,
              "ticks": ""
             }
            },
            "type": "parcoords"
           }
          ],
          "pie": [
           {
            "automargin": true,
            "type": "pie"
           }
          ],
          "scatter": [
           {
            "fillpattern": {
             "fillmode": "overlay",
             "size": 10,
             "solidity": 0.2
            },
            "type": "scatter"
           }
          ],
          "scatter3d": [
           {
            "line": {
             "colorbar": {
              "outlinewidth": 0,
              "ticks": ""
             }
            },
            "marker": {
             "colorbar": {
              "outlinewidth": 0,
              "ticks": ""
             }
            },
            "type": "scatter3d"
           }
          ],
          "scattercarpet": [
           {
            "marker": {
             "colorbar": {
              "outlinewidth": 0,
              "ticks": ""
             }
            },
            "type": "scattercarpet"
           }
          ],
          "scattergeo": [
           {
            "marker": {
             "colorbar": {
              "outlinewidth": 0,
              "ticks": ""
             }
            },
            "type": "scattergeo"
           }
          ],
          "scattergl": [
           {
            "marker": {
             "colorbar": {
              "outlinewidth": 0,
              "ticks": ""
             }
            },
            "type": "scattergl"
           }
          ],
          "scattermapbox": [
           {
            "marker": {
             "colorbar": {
              "outlinewidth": 0,
              "ticks": ""
             }
            },
            "type": "scattermapbox"
           }
          ],
          "scatterpolar": [
           {
            "marker": {
             "colorbar": {
              "outlinewidth": 0,
              "ticks": ""
             }
            },
            "type": "scatterpolar"
           }
          ],
          "scatterpolargl": [
           {
            "marker": {
             "colorbar": {
              "outlinewidth": 0,
              "ticks": ""
             }
            },
            "type": "scatterpolargl"
           }
          ],
          "scatterternary": [
           {
            "marker": {
             "colorbar": {
              "outlinewidth": 0,
              "ticks": ""
             }
            },
            "type": "scatterternary"
           }
          ],
          "surface": [
           {
            "colorbar": {
             "outlinewidth": 0,
             "ticks": ""
            },
            "colorscale": [
             [
              0,
              "#0d0887"
             ],
             [
              0.1111111111111111,
              "#46039f"
             ],
             [
              0.2222222222222222,
              "#7201a8"
             ],
             [
              0.3333333333333333,
              "#9c179e"
             ],
             [
              0.4444444444444444,
              "#bd3786"
             ],
             [
              0.5555555555555556,
              "#d8576b"
             ],
             [
              0.6666666666666666,
              "#ed7953"
             ],
             [
              0.7777777777777778,
              "#fb9f3a"
             ],
             [
              0.8888888888888888,
              "#fdca26"
             ],
             [
              1,
              "#f0f921"
             ]
            ],
            "type": "surface"
           }
          ],
          "table": [
           {
            "cells": {
             "fill": {
              "color": "#EBF0F8"
             },
             "line": {
              "color": "white"
             }
            },
            "header": {
             "fill": {
              "color": "#C8D4E3"
             },
             "line": {
              "color": "white"
             }
            },
            "type": "table"
           }
          ]
         },
         "layout": {
          "annotationdefaults": {
           "arrowcolor": "#2a3f5f",
           "arrowhead": 0,
           "arrowwidth": 1
          },
          "autotypenumbers": "strict",
          "coloraxis": {
           "colorbar": {
            "outlinewidth": 0,
            "ticks": ""
           }
          },
          "colorscale": {
           "diverging": [
            [
             0,
             "#8e0152"
            ],
            [
             0.1,
             "#c51b7d"
            ],
            [
             0.2,
             "#de77ae"
            ],
            [
             0.3,
             "#f1b6da"
            ],
            [
             0.4,
             "#fde0ef"
            ],
            [
             0.5,
             "#f7f7f7"
            ],
            [
             0.6,
             "#e6f5d0"
            ],
            [
             0.7,
             "#b8e186"
            ],
            [
             0.8,
             "#7fbc41"
            ],
            [
             0.9,
             "#4d9221"
            ],
            [
             1,
             "#276419"
            ]
           ],
           "sequential": [
            [
             0,
             "#0d0887"
            ],
            [
             0.1111111111111111,
             "#46039f"
            ],
            [
             0.2222222222222222,
             "#7201a8"
            ],
            [
             0.3333333333333333,
             "#9c179e"
            ],
            [
             0.4444444444444444,
             "#bd3786"
            ],
            [
             0.5555555555555556,
             "#d8576b"
            ],
            [
             0.6666666666666666,
             "#ed7953"
            ],
            [
             0.7777777777777778,
             "#fb9f3a"
            ],
            [
             0.8888888888888888,
             "#fdca26"
            ],
            [
             1,
             "#f0f921"
            ]
           ],
           "sequentialminus": [
            [
             0,
             "#0d0887"
            ],
            [
             0.1111111111111111,
             "#46039f"
            ],
            [
             0.2222222222222222,
             "#7201a8"
            ],
            [
             0.3333333333333333,
             "#9c179e"
            ],
            [
             0.4444444444444444,
             "#bd3786"
            ],
            [
             0.5555555555555556,
             "#d8576b"
            ],
            [
             0.6666666666666666,
             "#ed7953"
            ],
            [
             0.7777777777777778,
             "#fb9f3a"
            ],
            [
             0.8888888888888888,
             "#fdca26"
            ],
            [
             1,
             "#f0f921"
            ]
           ]
          },
          "colorway": [
           "#636efa",
           "#EF553B",
           "#00cc96",
           "#ab63fa",
           "#FFA15A",
           "#19d3f3",
           "#FF6692",
           "#B6E880",
           "#FF97FF",
           "#FECB52"
          ],
          "font": {
           "color": "#2a3f5f"
          },
          "geo": {
           "bgcolor": "white",
           "lakecolor": "white",
           "landcolor": "#E5ECF6",
           "showlakes": true,
           "showland": true,
           "subunitcolor": "white"
          },
          "hoverlabel": {
           "align": "left"
          },
          "hovermode": "closest",
          "mapbox": {
           "style": "light"
          },
          "paper_bgcolor": "white",
          "plot_bgcolor": "#E5ECF6",
          "polar": {
           "angularaxis": {
            "gridcolor": "white",
            "linecolor": "white",
            "ticks": ""
           },
           "bgcolor": "#E5ECF6",
           "radialaxis": {
            "gridcolor": "white",
            "linecolor": "white",
            "ticks": ""
           }
          },
          "scene": {
           "xaxis": {
            "backgroundcolor": "#E5ECF6",
            "gridcolor": "white",
            "gridwidth": 2,
            "linecolor": "white",
            "showbackground": true,
            "ticks": "",
            "zerolinecolor": "white"
           },
           "yaxis": {
            "backgroundcolor": "#E5ECF6",
            "gridcolor": "white",
            "gridwidth": 2,
            "linecolor": "white",
            "showbackground": true,
            "ticks": "",
            "zerolinecolor": "white"
           },
           "zaxis": {
            "backgroundcolor": "#E5ECF6",
            "gridcolor": "white",
            "gridwidth": 2,
            "linecolor": "white",
            "showbackground": true,
            "ticks": "",
            "zerolinecolor": "white"
           }
          },
          "shapedefaults": {
           "line": {
            "color": "#2a3f5f"
           }
          },
          "ternary": {
           "aaxis": {
            "gridcolor": "white",
            "linecolor": "white",
            "ticks": ""
           },
           "baxis": {
            "gridcolor": "white",
            "linecolor": "white",
            "ticks": ""
           },
           "bgcolor": "#E5ECF6",
           "caxis": {
            "gridcolor": "white",
            "linecolor": "white",
            "ticks": ""
           }
          },
          "title": {
           "x": 0.05
          },
          "xaxis": {
           "automargin": true,
           "gridcolor": "white",
           "linecolor": "white",
           "ticks": "",
           "title": {
            "standoff": 15
           },
           "zerolinecolor": "white",
           "zerolinewidth": 2
          },
          "yaxis": {
           "automargin": true,
           "gridcolor": "white",
           "linecolor": "white",
           "ticks": "",
           "title": {
            "standoff": 15
           },
           "zerolinecolor": "white",
           "zerolinewidth": 2
          }
         }
        },
        "title": {
         "text": "Director's Metacritic Scores Over Time",
         "x": 0.5
        },
        "xaxis": {
         "anchor": "y",
         "domain": [
          0,
          1
         ],
         "title": {
          "text": "year"
         }
        },
        "yaxis": {
         "anchor": "x",
         "domain": [
          0,
          1
         ],
         "title": {
          "text": "elo"
         }
        }
       }
      }
     },
     "metadata": {},
     "output_type": "display_data"
    }
   ],
   "source": [
    "fig = px.line(directors_yrly_data,\n",
    "              x=\"year\",\n",
    "              y=\"elo\",\n",
    "              color=\"director\",\n",
    "              title=\"Director's Metacritic Scores Over Time\",\n",
    "              labels={\"Metacritic\": \"Metacritic Score\",\n",
    "                      \"ReleasedYear\": \"Release Year\"}\n",
    "              )\n",
    "\n",
    "# Add interactive hover and selection\n",
    "fig.update_traces(hoverinfo=\"x+y+name\", mode=\"lines+markers\")\n",
    "# fig.update_layout(\n",
    "#     width=900,  # Set width (in pixels)\n",
    "#     height=600  # Set height (in pixels)\n",
    "# )\n",
    "# Set layout to highlight selection\n",
    "fig.update_layout(\n",
    "    legend_title=\"Directors\",\n",
    "    hovermode=\"x unified\",\n",
    "    title_x=0.5,\n",
    "    height=600,\n",
    "    legend=dict(\n",
    "        title=\"Select Director\",\n",
    "        itemsizing=\"constant\"\n",
    "    )\n",
    ")\n",
    "\n",
    "# Show the plot\n",
    "fig.show()"
   ]
  },
  {
   "cell_type": "code",
   "execution_count": null,
   "metadata": {},
   "outputs": [],
   "source": [
    "\n",
    "\n"
   ]
  }
 ],
 "metadata": {
  "kernelspec": {
   "display_name": "data_science",
   "language": "python",
   "name": "python3"
  },
  "language_info": {
   "codemirror_mode": {
    "name": "ipython",
    "version": 3
   },
   "file_extension": ".py",
   "mimetype": "text/x-python",
   "name": "python",
   "nbconvert_exporter": "python",
   "pygments_lexer": "ipython3",
   "version": "3.11.8"
  }
 },
 "nbformat": 4,
 "nbformat_minor": 2
}
