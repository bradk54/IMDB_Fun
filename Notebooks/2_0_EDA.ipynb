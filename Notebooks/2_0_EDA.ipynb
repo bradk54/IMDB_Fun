{
 "cells": [
  {
   "cell_type": "markdown",
   "metadata": {},
   "source": [
    "# Exploratory Data Analysis with a small subset of data\n",
    "- Use a subset of major directors -> around 20\n",
    "- subset those directors to their films\n",
    "- subset ratings and etc\n",
    "- need to explor incorporting OMDB to get the ratings and view various ranking systems on good films\n"
   ]
  },
  {
   "cell_type": "markdown",
   "metadata": {},
   "source": [
    "#### Load Packages"
   ]
  },
  {
   "cell_type": "code",
   "execution_count": 3,
   "metadata": {},
   "outputs": [],
   "source": [
    "import pandas as pd\n",
    "import polars as pl\n",
    "import gzip\n",
    "import pyarrow\n",
    "import sys\n",
    "from pathlib import Path\n",
    "from tqdm import tqdm\n",
    "import os\n",
    "\n",
    "\n",
    "import matplotlib.pyplot as plt\n",
    "import seaborn as sns\n",
    "import sys\n",
    "from pathlib import Path\n",
    "\n",
    "# Add the `src` folder to Python's search path\n",
    "src_path = \"/Users/bradkittrell/Projects/imdb/IMDB_Fun/src\"\n",
    "sys.path.append(src_path)"
   ]
  },
  {
   "cell_type": "code",
   "execution_count": 4,
   "metadata": {},
   "outputs": [],
   "source": [
    "from data import generate_dataset"
   ]
  },
  {
   "cell_type": "markdown",
   "metadata": {},
   "source": [
    "## Load Data and merge"
   ]
  },
  {
   "cell_type": "code",
   "execution_count": 83,
   "metadata": {},
   "outputs": [
    {
     "name": "stderr",
     "output_type": "stream",
     "text": [
      "INFO:root:No path provided. Using default path: /Users/bradkittrell/Projects/imdb/IMDB_Fun/Data/processed/name.parquet\n",
      "INFO:root:Successfully loaded data from /Users/bradkittrell/Projects/imdb/IMDB_Fun/Data/processed/name.parquet\n",
      "INFO:root:Filtered names data to include only rows where birthYear > 1899\n",
      "INFO:root:Dropped __index_level_0__ column\n",
      "INFO:root:No path provided. Using default path: /Users/bradkittrell/Projects/imdb/IMDB_Fun/Data/processed/title_crew.parquet\n",
      "INFO:root:Successfully loaded data from /Users/bradkittrell/Projects/imdb/IMDB_Fun/Data/processed/title_crew.parquet\n",
      "INFO:root:No path provided. Using default path: /Users/bradkittrell/Projects/imdb/IMDB_Fun/Data/processed/title_basics_movies.parquet\n",
      "INFO:root:Successfully loaded data from /Users/bradkittrell/Projects/imdb/IMDB_Fun/Data/processed/title_basics_movies.parquet\n",
      "INFO:root:Dropped __index_level_0__ column\n"
     ]
    }
   ],
   "source": [
    "# going to use imdbs list of top 25 directors of all time\n",
    "\n",
    "names = generate_dataset.load_names(None)\n",
    "film_crew = generate_dataset.load_crew(None)\n",
    "films = generate_dataset.load_title_basics(None)"
   ]
  },
  {
   "cell_type": "code",
   "execution_count": 84,
   "metadata": {},
   "outputs": [],
   "source": [
    "\n",
    "top_n_directors = [\"Steven Spielberg\", \"Martin Scorsese\", \"Alfred Hitchcock\", \"Roman Polanksi\",\n",
    "                   \"John Ford\", \"Billy Wilder\", \"James Cameron\", \"Tim Burton\", \"Ridley Scott\", \"Joel Coen\", \"David Fincher\",\n",
    "                   \"Christopher Nolan\", \"Clint Eastwood\", \"David Lean\", \"Woody Allen\", \"Stanley Kubrick\", \"Danny Boyle\", \"George Lucas\", \"Peter Jackson\", \"Quentin Tarantino\",\n",
    "                   \"Fancis Ford Coppola\"]\n",
    "# lots of duplicate names or same names rather\n",
    "top_n_directors_names = names.filter((pl.col(\"primaryName\").is_in(\n",
    "    top_n_directors)) & (pl.col(\"nconst\") != \"nm13407303\") & (pl.col(\"nconst\") != \"nm0131607\") & (pl.col(\"nconst\") != \"nm0131609\") & (pl.col(\"nconst\") != \"nm7812401\"))[[\"nconst\", \"primaryName\"]]\n",
    "\n",
    "top_n_directors_names\n",
    "\n",
    "\n",
    "film_crew = film_crew.filter(\n",
    "    pl.col(\"directors\").is_in(top_n_directors_names[\"nconst\"]))\n",
    "\n",
    "top_n_directors_names_films = film_crew.join(top_n_directors_names, left_on=\"directors\",\n",
    "                                             right_on=\"nconst\", how=\"inner\")[[\"tconst\", \"primaryName\"]]\n",
    "\n",
    "top_n_directors_names_films = top_n_directors_names_films.join(\n",
    "    films, on=\"tconst\")"
   ]
  },
  {
   "cell_type": "code",
   "execution_count": null,
   "metadata": {},
   "outputs": [
    {
     "name": "stdout",
     "output_type": "stream",
     "text": [
      "http://www.omdbapi.com/?i=tt7131622&plot=full&apikey=95497563\n"
     ]
    }
   ],
   "source": [
    "import requests\n",
    "\n",
    "#  http://www.omdbapi.com/?i=tt3896198&apikey=95497563\n",
    "\n",
    "\n",
    "def fetch_movie_data(title, api_key):\n",
    "\n",
    "    url = f\"http://www.omdbapi.com/?i={title}&plot=full&apikey={api_key}\"\n",
    "    response = requests.get(url)\n",
    "    if response.status_code == 200:\n",
    "        return response.json()\n",
    "    else:\n",
    "        return None\n",
    "\n",
    "\n",
    "movie_data = fetch_movie_data('tt7131622', '95497563')\n",
    "# print(movie_data)"
   ]
  },
  {
   "cell_type": "code",
   "execution_count": 114,
   "metadata": {},
   "outputs": [],
   "source": [
    "from urllib import response\n",
    "\n",
    "\n",
    "test_df = pd.DataFrame(movie_data)\n",
    "\n",
    "\n",
    "def response_to_df(response):\n",
    "\n",
    "    _ = pd.DataFrame(response)\n",
    "    _['RatingSource'] = _[\"Ratings\"].apply(lambda x: x.get('Source'))\n",
    "    _['RatingValue'] = _[\"Ratings\"].apply(lambda x: x.get('Value'))\n",
    "\n",
    "    return _\n",
    "\n",
    "\n",
    "response_to_df(movie_data).to_csv(\n",
    "    \"/Users/bradkittrell/Projects/imdb/IMDB_Fun/Data/external/omdb.csv\", index=False)"
   ]
  },
  {
   "cell_type": "code",
   "execution_count": 90,
   "metadata": {},
   "outputs": [
    {
     "data": {
      "text/html": [
       "<div><style>\n",
       ".dataframe > thead > tr,\n",
       ".dataframe > tbody > tr {\n",
       "  text-align: right;\n",
       "  white-space: pre-wrap;\n",
       "}\n",
       "</style>\n",
       "<small>shape: (10, 10)</small><table border=\"1\" class=\"dataframe\"><thead><tr><th>tconst</th><th>primaryName</th><th>titleType</th><th>primaryTitle</th><th>originalTitle</th><th>isAdult</th><th>startYear</th><th>endYear</th><th>runtimeMinutes</th><th>genres</th></tr><tr><td>str</td><td>str</td><td>str</td><td>str</td><td>str</td><td>i64</td><td>i64</td><td>i64</td><td>i64</td><td>str</td></tr></thead><tbody><tr><td>&quot;tt6019206&quot;</td><td>&quot;Quentin Tarantino&quot;</td><td>&quot;movie&quot;</td><td>&quot;Kill Bill: The Whole Bloody Af…</td><td>&quot;Kill Bill: The Whole Bloody Af…</td><td>0</td><td>2006</td><td>0</td><td>247</td><td>&quot;Action,Crime,Thriller&quot;</td></tr><tr><td>&quot;tt6294822&quot;</td><td>&quot;Steven Spielberg&quot;</td><td>&quot;movie&quot;</td><td>&quot;The Post&quot;</td><td>&quot;The Post&quot;</td><td>0</td><td>2017</td><td>0</td><td>116</td><td>&quot;Biography,Drama,History&quot;</td></tr><tr><td>&quot;tt6723592&quot;</td><td>&quot;Christopher Nolan&quot;</td><td>&quot;movie&quot;</td><td>&quot;Tenet&quot;</td><td>&quot;Tenet&quot;</td><td>0</td><td>2020</td><td>0</td><td>150</td><td>&quot;Action,Sci-Fi,Thriller&quot;</td></tr><tr><td>&quot;tt6802308&quot;</td><td>&quot;Clint Eastwood&quot;</td><td>&quot;movie&quot;</td><td>&quot;The 15:17 to Paris&quot;</td><td>&quot;The 15:17 to Paris&quot;</td><td>0</td><td>2018</td><td>0</td><td>94</td><td>&quot;Biography,Drama,Thriller&quot;</td></tr><tr><td>&quot;tt7131622&quot;</td><td>&quot;Quentin Tarantino&quot;</td><td>&quot;movie&quot;</td><td>&quot;Once Upon a Time... in Hollywo…</td><td>&quot;Once Upon a Time in... Hollywo…</td><td>0</td><td>2019</td><td>0</td><td>161</td><td>&quot;Comedy,Drama&quot;</td></tr><tr><td>&quot;tt7139936&quot;</td><td>&quot;Woody Allen&quot;</td><td>&quot;movie&quot;</td><td>&quot;A Rainy Day in New York&quot;</td><td>&quot;A Rainy Day in New York&quot;</td><td>0</td><td>2019</td><td>0</td><td>92</td><td>&quot;Comedy,Romance&quot;</td></tr><tr><td>&quot;tt7959026&quot;</td><td>&quot;Clint Eastwood&quot;</td><td>&quot;movie&quot;</td><td>&quot;The Mule&quot;</td><td>&quot;The Mule&quot;</td><td>0</td><td>2018</td><td>0</td><td>116</td><td>&quot;Crime,Drama,Thriller&quot;</td></tr><tr><td>&quot;tt8079248&quot;</td><td>&quot;Danny Boyle&quot;</td><td>&quot;movie&quot;</td><td>&quot;Yesterday&quot;</td><td>&quot;Yesterday&quot;</td><td>0</td><td>2019</td><td>0</td><td>116</td><td>&quot;Comedy,Fantasy,Music&quot;</td></tr><tr><td>&quot;tt8593904&quot;</td><td>&quot;Woody Allen&quot;</td><td>&quot;movie&quot;</td><td>&quot;Rifkin&#x27;s Festival&quot;</td><td>&quot;Rifkin&#x27;s Festival&quot;</td><td>0</td><td>2020</td><td>0</td><td>88</td><td>&quot;Comedy,Romance&quot;</td></tr><tr><td>&quot;tt9218128&quot;</td><td>&quot;Ridley Scott&quot;</td><td>&quot;movie&quot;</td><td>&quot;Gladiator II&quot;</td><td>&quot;Gladiator II&quot;</td><td>0</td><td>2024</td><td>0</td><td>0</td><td>&quot;Action,Adventure,Drama&quot;</td></tr></tbody></table></div>"
      ],
      "text/plain": [
       "shape: (10, 10)\n",
       "┌───────────┬────────────┬───────────┬───────────┬───┬───────────┬─────────┬───────────┬───────────┐\n",
       "│ tconst    ┆ primaryNam ┆ titleType ┆ primaryTi ┆ … ┆ startYear ┆ endYear ┆ runtimeMi ┆ genres    │\n",
       "│ ---       ┆ e          ┆ ---       ┆ tle       ┆   ┆ ---       ┆ ---     ┆ nutes     ┆ ---       │\n",
       "│ str       ┆ ---        ┆ str       ┆ ---       ┆   ┆ i64       ┆ i64     ┆ ---       ┆ str       │\n",
       "│           ┆ str        ┆           ┆ str       ┆   ┆           ┆         ┆ i64       ┆           │\n",
       "╞═══════════╪════════════╪═══════════╪═══════════╪═══╪═══════════╪═════════╪═══════════╪═══════════╡\n",
       "│ tt6019206 ┆ Quentin    ┆ movie     ┆ Kill      ┆ … ┆ 2006      ┆ 0       ┆ 247       ┆ Action,Cr │\n",
       "│           ┆ Tarantino  ┆           ┆ Bill: The ┆   ┆           ┆         ┆           ┆ ime,Thril │\n",
       "│           ┆            ┆           ┆ Whole     ┆   ┆           ┆         ┆           ┆ ler       │\n",
       "│           ┆            ┆           ┆ Bloody    ┆   ┆           ┆         ┆           ┆           │\n",
       "│           ┆            ┆           ┆ Af…       ┆   ┆           ┆         ┆           ┆           │\n",
       "│ tt6294822 ┆ Steven     ┆ movie     ┆ The Post  ┆ … ┆ 2017      ┆ 0       ┆ 116       ┆ Biography │\n",
       "│           ┆ Spielberg  ┆           ┆           ┆   ┆           ┆         ┆           ┆ ,Drama,Hi │\n",
       "│           ┆            ┆           ┆           ┆   ┆           ┆         ┆           ┆ story     │\n",
       "│ tt6723592 ┆ Christophe ┆ movie     ┆ Tenet     ┆ … ┆ 2020      ┆ 0       ┆ 150       ┆ Action,Sc │\n",
       "│           ┆ r Nolan    ┆           ┆           ┆   ┆           ┆         ┆           ┆ i-Fi,Thri │\n",
       "│           ┆            ┆           ┆           ┆   ┆           ┆         ┆           ┆ ller      │\n",
       "│ tt6802308 ┆ Clint      ┆ movie     ┆ The 15:17 ┆ … ┆ 2018      ┆ 0       ┆ 94        ┆ Biography │\n",
       "│           ┆ Eastwood   ┆           ┆ to Paris  ┆   ┆           ┆         ┆           ┆ ,Drama,Th │\n",
       "│           ┆            ┆           ┆           ┆   ┆           ┆         ┆           ┆ riller    │\n",
       "│ tt7131622 ┆ Quentin    ┆ movie     ┆ Once Upon ┆ … ┆ 2019      ┆ 0       ┆ 161       ┆ Comedy,Dr │\n",
       "│           ┆ Tarantino  ┆           ┆ a Time... ┆   ┆           ┆         ┆           ┆ ama       │\n",
       "│           ┆            ┆           ┆ in        ┆   ┆           ┆         ┆           ┆           │\n",
       "│           ┆            ┆           ┆ Hollywo…  ┆   ┆           ┆         ┆           ┆           │\n",
       "│ tt7139936 ┆ Woody      ┆ movie     ┆ A Rainy   ┆ … ┆ 2019      ┆ 0       ┆ 92        ┆ Comedy,Ro │\n",
       "│           ┆ Allen      ┆           ┆ Day in    ┆   ┆           ┆         ┆           ┆ mance     │\n",
       "│           ┆            ┆           ┆ New York  ┆   ┆           ┆         ┆           ┆           │\n",
       "│ tt7959026 ┆ Clint      ┆ movie     ┆ The Mule  ┆ … ┆ 2018      ┆ 0       ┆ 116       ┆ Crime,Dra │\n",
       "│           ┆ Eastwood   ┆           ┆           ┆   ┆           ┆         ┆           ┆ ma,Thrill │\n",
       "│           ┆            ┆           ┆           ┆   ┆           ┆         ┆           ┆ er        │\n",
       "│ tt8079248 ┆ Danny      ┆ movie     ┆ Yesterday ┆ … ┆ 2019      ┆ 0       ┆ 116       ┆ Comedy,Fa │\n",
       "│           ┆ Boyle      ┆           ┆           ┆   ┆           ┆         ┆           ┆ ntasy,Mus │\n",
       "│           ┆            ┆           ┆           ┆   ┆           ┆         ┆           ┆ ic        │\n",
       "│ tt8593904 ┆ Woody      ┆ movie     ┆ Rifkin's  ┆ … ┆ 2020      ┆ 0       ┆ 88        ┆ Comedy,Ro │\n",
       "│           ┆ Allen      ┆           ┆ Festival  ┆   ┆           ┆         ┆           ┆ mance     │\n",
       "│ tt9218128 ┆ Ridley     ┆ movie     ┆ Gladiator ┆ … ┆ 2024      ┆ 0       ┆ 0         ┆ Action,Ad │\n",
       "│           ┆ Scott      ┆           ┆ II        ┆   ┆           ┆         ┆           ┆ venture,D │\n",
       "│           ┆            ┆           ┆           ┆   ┆           ┆         ┆           ┆ rama      │\n",
       "└───────────┴────────────┴───────────┴───────────┴───┴───────────┴─────────┴───────────┴───────────┘"
      ]
     },
     "execution_count": 90,
     "metadata": {},
     "output_type": "execute_result"
    }
   ],
   "source": [
    "top_n_directors_names_films.tail(10)"
   ]
  }
 ],
 "metadata": {
  "kernelspec": {
   "display_name": "data_science",
   "language": "python",
   "name": "python3"
  },
  "language_info": {
   "codemirror_mode": {
    "name": "ipython",
    "version": 3
   },
   "file_extension": ".py",
   "mimetype": "text/x-python",
   "name": "python",
   "nbconvert_exporter": "python",
   "pygments_lexer": "ipython3",
   "version": "3.11.8"
  }
 },
 "nbformat": 4,
 "nbformat_minor": 2
}
